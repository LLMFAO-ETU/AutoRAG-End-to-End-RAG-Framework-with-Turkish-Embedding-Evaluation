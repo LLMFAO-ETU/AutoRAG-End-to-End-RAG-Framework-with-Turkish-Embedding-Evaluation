{
  "cells": [
    {
      "cell_type": "code",
      "execution_count": 1,
      "id": "458f5a39",
      "metadata": {},
      "outputs": [
        {
          "name": "stdout",
          "output_type": "stream",
          "text": [
            "Requirement already satisfied: torch>=2.0.0 in c:\\users\\memo_\\appdata\\local\\programs\\python\\python310\\lib\\site-packages (from -r C:\\Users\\memo_\\Desktop\\Projeler\\AutoRAG-End-to-End-RAG-Framework-with-Turkish-Embedding-Evaluation\\requirements.txt (line 1)) (2.7.1)\n",
            "Requirement already satisfied: transformers>=4.38.0 in c:\\users\\memo_\\appdata\\local\\programs\\python\\python310\\lib\\site-packages (from -r C:\\Users\\memo_\\Desktop\\Projeler\\AutoRAG-End-to-End-RAG-Framework-with-Turkish-Embedding-Evaluation\\requirements.txt (line 2)) (4.53.2)\n",
            "Requirement already satisfied: accelerate>=0.26.0 in c:\\users\\memo_\\appdata\\local\\programs\\python\\python310\\lib\\site-packages (from -r C:\\Users\\memo_\\Desktop\\Projeler\\AutoRAG-End-to-End-RAG-Framework-with-Turkish-Embedding-Evaluation\\requirements.txt (line 3)) (0.32.1)\n",
            "Requirement already satisfied: bitsandbytes>=0.41.0 in c:\\users\\memo_\\appdata\\local\\programs\\python\\python310\\lib\\site-packages (from -r C:\\Users\\memo_\\Desktop\\Projeler\\AutoRAG-End-to-End-RAG-Framework-with-Turkish-Embedding-Evaluation\\requirements.txt (line 4)) (0.46.1)\n",
            "Requirement already satisfied: sentence-transformers>=2.2.2 in c:\\users\\memo_\\appdata\\local\\programs\\python\\python310\\lib\\site-packages (from -r C:\\Users\\memo_\\Desktop\\Projeler\\AutoRAG-End-to-End-RAG-Framework-with-Turkish-Embedding-Evaluation\\requirements.txt (line 5)) (5.0.0)\n",
            "Requirement already satisfied: qdrant-client>=1.6.0 in c:\\users\\memo_\\appdata\\local\\programs\\python\\python310\\lib\\site-packages (from -r C:\\Users\\memo_\\Desktop\\Projeler\\AutoRAG-End-to-End-RAG-Framework-with-Turkish-Embedding-Evaluation\\requirements.txt (line 6)) (1.14.3)\n",
            "Requirement already satisfied: pypdf>=3.0.0 in c:\\users\\memo_\\appdata\\local\\programs\\python\\python310\\lib\\site-packages (from -r C:\\Users\\memo_\\Desktop\\Projeler\\AutoRAG-End-to-End-RAG-Framework-with-Turkish-Embedding-Evaluation\\requirements.txt (line 7)) (5.8.0)\n",
            "Requirement already satisfied: python-docx>=0.8.11 in c:\\users\\memo_\\appdata\\local\\programs\\python\\python310\\lib\\site-packages (from -r C:\\Users\\memo_\\Desktop\\Projeler\\AutoRAG-End-to-End-RAG-Framework-with-Turkish-Embedding-Evaluation\\requirements.txt (line 8)) (1.2.0)\n",
            "Requirement already satisfied: nltk>=3.8.1 in c:\\users\\memo_\\appdata\\local\\programs\\python\\python310\\lib\\site-packages (from -r C:\\Users\\memo_\\Desktop\\Projeler\\AutoRAG-End-to-End-RAG-Framework-with-Turkish-Embedding-Evaluation\\requirements.txt (line 9)) (3.9.1)\n",
            "Requirement already satisfied: huggingface-hub in c:\\users\\memo_\\appdata\\local\\programs\\python\\python310\\lib\\site-packages (from -r C:\\Users\\memo_\\Desktop\\Projeler\\AutoRAG-End-to-End-RAG-Framework-with-Turkish-Embedding-Evaluation\\requirements.txt (line 10)) (0.33.4)\n",
            "Requirement already satisfied: spacy>=3.8.0 in c:\\users\\memo_\\appdata\\local\\programs\\python\\python310\\lib\\site-packages (from -r C:\\Users\\memo_\\Desktop\\Projeler\\AutoRAG-End-to-End-RAG-Framework-with-Turkish-Embedding-Evaluation\\requirements.txt (line 12)) (3.8.7)\n",
            "Requirement already satisfied: stanza in c:\\users\\memo_\\appdata\\local\\programs\\python\\python310\\lib\\site-packages (from -r C:\\Users\\memo_\\Desktop\\Projeler\\AutoRAG-End-to-End-RAG-Framework-with-Turkish-Embedding-Evaluation\\requirements.txt (line 13)) (1.10.1)\n",
            "Requirement already satisfied: tqdm in c:\\users\\memo_\\appdata\\local\\programs\\python\\python310\\lib\\site-packages (from -r C:\\Users\\memo_\\Desktop\\Projeler\\AutoRAG-End-to-End-RAG-Framework-with-Turkish-Embedding-Evaluation\\requirements.txt (line 14)) (4.67.1)\n",
            "Requirement already satisfied: unstructured[all-docs] in c:\\users\\memo_\\appdata\\local\\programs\\python\\python310\\lib\\site-packages (from -r C:\\Users\\memo_\\Desktop\\Projeler\\AutoRAG-End-to-End-RAG-Framework-with-Turkish-Embedding-Evaluation\\requirements.txt (line 11)) (0.18.7)\n",
            "Requirement already satisfied: filelock in c:\\users\\memo_\\appdata\\local\\programs\\python\\python310\\lib\\site-packages (from torch>=2.0.0->-r C:\\Users\\memo_\\Desktop\\Projeler\\AutoRAG-End-to-End-RAG-Framework-with-Turkish-Embedding-Evaluation\\requirements.txt (line 1)) (3.14.0)\n",
            "Requirement already satisfied: typing-extensions>=4.10.0 in c:\\users\\memo_\\appdata\\local\\programs\\python\\python310\\lib\\site-packages (from torch>=2.0.0->-r C:\\Users\\memo_\\Desktop\\Projeler\\AutoRAG-End-to-End-RAG-Framework-with-Turkish-Embedding-Evaluation\\requirements.txt (line 1)) (4.14.1)\n",
            "Requirement already satisfied: sympy>=1.13.3 in c:\\users\\memo_\\appdata\\local\\programs\\python\\python310\\lib\\site-packages (from torch>=2.0.0->-r C:\\Users\\memo_\\Desktop\\Projeler\\AutoRAG-End-to-End-RAG-Framework-with-Turkish-Embedding-Evaluation\\requirements.txt (line 1)) (1.14.0)\n",
            "Requirement already satisfied: networkx in c:\\users\\memo_\\appdata\\local\\programs\\python\\python310\\lib\\site-packages (from torch>=2.0.0->-r C:\\Users\\memo_\\Desktop\\Projeler\\AutoRAG-End-to-End-RAG-Framework-with-Turkish-Embedding-Evaluation\\requirements.txt (line 1)) (3.4.2)\n",
            "Requirement already satisfied: jinja2 in c:\\users\\memo_\\appdata\\local\\programs\\python\\python310\\lib\\site-packages (from torch>=2.0.0->-r C:\\Users\\memo_\\Desktop\\Projeler\\AutoRAG-End-to-End-RAG-Framework-with-Turkish-Embedding-Evaluation\\requirements.txt (line 1)) (3.1.6)\n",
            "Requirement already satisfied: fsspec in c:\\users\\memo_\\appdata\\local\\programs\\python\\python310\\lib\\site-packages (from torch>=2.0.0->-r C:\\Users\\memo_\\Desktop\\Projeler\\AutoRAG-End-to-End-RAG-Framework-with-Turkish-Embedding-Evaluation\\requirements.txt (line 1)) (2024.10.0)\n",
            "Requirement already satisfied: numpy>=1.17 in c:\\users\\memo_\\appdata\\local\\programs\\python\\python310\\lib\\site-packages (from transformers>=4.38.0->-r C:\\Users\\memo_\\Desktop\\Projeler\\AutoRAG-End-to-End-RAG-Framework-with-Turkish-Embedding-Evaluation\\requirements.txt (line 2)) (1.26.4)\n",
            "Requirement already satisfied: packaging>=20.0 in c:\\users\\memo_\\appdata\\local\\programs\\python\\python310\\lib\\site-packages (from transformers>=4.38.0->-r C:\\Users\\memo_\\Desktop\\Projeler\\AutoRAG-End-to-End-RAG-Framework-with-Turkish-Embedding-Evaluation\\requirements.txt (line 2)) (23.2)\n",
            "Requirement already satisfied: pyyaml>=5.1 in c:\\users\\memo_\\appdata\\local\\programs\\python\\python310\\lib\\site-packages (from transformers>=4.38.0->-r C:\\Users\\memo_\\Desktop\\Projeler\\AutoRAG-End-to-End-RAG-Framework-with-Turkish-Embedding-Evaluation\\requirements.txt (line 2)) (6.0.1)\n",
            "Requirement already satisfied: regex!=2019.12.17 in c:\\users\\memo_\\appdata\\local\\programs\\python\\python310\\lib\\site-packages (from transformers>=4.38.0->-r C:\\Users\\memo_\\Desktop\\Projeler\\AutoRAG-End-to-End-RAG-Framework-with-Turkish-Embedding-Evaluation\\requirements.txt (line 2)) (2023.12.25)\n",
            "Requirement already satisfied: requests in c:\\users\\memo_\\appdata\\local\\programs\\python\\python310\\lib\\site-packages (from transformers>=4.38.0->-r C:\\Users\\memo_\\Desktop\\Projeler\\AutoRAG-End-to-End-RAG-Framework-with-Turkish-Embedding-Evaluation\\requirements.txt (line 2)) (2.31.0)\n",
            "Requirement already satisfied: tokenizers<0.22,>=0.21 in c:\\users\\memo_\\appdata\\local\\programs\\python\\python310\\lib\\site-packages (from transformers>=4.38.0->-r C:\\Users\\memo_\\Desktop\\Projeler\\AutoRAG-End-to-End-RAG-Framework-with-Turkish-Embedding-Evaluation\\requirements.txt (line 2)) (0.21.2)\n",
            "Requirement already satisfied: safetensors>=0.4.3 in c:\\users\\memo_\\appdata\\local\\programs\\python\\python310\\lib\\site-packages (from transformers>=4.38.0->-r C:\\Users\\memo_\\Desktop\\Projeler\\AutoRAG-End-to-End-RAG-Framework-with-Turkish-Embedding-Evaluation\\requirements.txt (line 2)) (0.5.2)\n",
            "Requirement already satisfied: psutil in c:\\users\\memo_\\appdata\\local\\programs\\python\\python310\\lib\\site-packages (from accelerate>=0.26.0->-r C:\\Users\\memo_\\Desktop\\Projeler\\AutoRAG-End-to-End-RAG-Framework-with-Turkish-Embedding-Evaluation\\requirements.txt (line 3)) (5.9.8)\n",
            "Requirement already satisfied: scikit-learn in c:\\users\\memo_\\appdata\\local\\programs\\python\\python310\\lib\\site-packages (from sentence-transformers>=2.2.2->-r C:\\Users\\memo_\\Desktop\\Projeler\\AutoRAG-End-to-End-RAG-Framework-with-Turkish-Embedding-Evaluation\\requirements.txt (line 5)) (1.4.2)\n",
            "Requirement already satisfied: scipy in c:\\users\\memo_\\appdata\\local\\programs\\python\\python310\\lib\\site-packages (from sentence-transformers>=2.2.2->-r C:\\Users\\memo_\\Desktop\\Projeler\\AutoRAG-End-to-End-RAG-Framework-with-Turkish-Embedding-Evaluation\\requirements.txt (line 5)) (1.15.3)\n",
            "Requirement already satisfied: Pillow in c:\\users\\memo_\\appdata\\local\\programs\\python\\python310\\lib\\site-packages (from sentence-transformers>=2.2.2->-r C:\\Users\\memo_\\Desktop\\Projeler\\AutoRAG-End-to-End-RAG-Framework-with-Turkish-Embedding-Evaluation\\requirements.txt (line 5)) (11.1.0)\n",
            "Requirement already satisfied: grpcio>=1.41.0 in c:\\users\\memo_\\appdata\\local\\programs\\python\\python310\\lib\\site-packages (from qdrant-client>=1.6.0->-r C:\\Users\\memo_\\Desktop\\Projeler\\AutoRAG-End-to-End-RAG-Framework-with-Turkish-Embedding-Evaluation\\requirements.txt (line 6)) (1.72.1)\n",
            "Requirement already satisfied: httpx>=0.20.0 in c:\\users\\memo_\\appdata\\local\\programs\\python\\python310\\lib\\site-packages (from httpx[http2]>=0.20.0->qdrant-client>=1.6.0->-r C:\\Users\\memo_\\Desktop\\Projeler\\AutoRAG-End-to-End-RAG-Framework-with-Turkish-Embedding-Evaluation\\requirements.txt (line 6)) (0.28.1)\n",
            "Requirement already satisfied: portalocker<3.0.0,>=2.7.0 in c:\\users\\memo_\\appdata\\local\\programs\\python\\python310\\lib\\site-packages (from qdrant-client>=1.6.0->-r C:\\Users\\memo_\\Desktop\\Projeler\\AutoRAG-End-to-End-RAG-Framework-with-Turkish-Embedding-Evaluation\\requirements.txt (line 6)) (2.10.1)\n",
            "Requirement already satisfied: protobuf>=3.20.0 in c:\\users\\memo_\\appdata\\local\\programs\\python\\python310\\lib\\site-packages (from qdrant-client>=1.6.0->-r C:\\Users\\memo_\\Desktop\\Projeler\\AutoRAG-End-to-End-RAG-Framework-with-Turkish-Embedding-Evaluation\\requirements.txt (line 6)) (5.29.3)\n",
            "Requirement already satisfied: pydantic!=2.0.*,!=2.1.*,!=2.2.0,>=1.10.8 in c:\\users\\memo_\\appdata\\local\\programs\\python\\python310\\lib\\site-packages (from qdrant-client>=1.6.0->-r C:\\Users\\memo_\\Desktop\\Projeler\\AutoRAG-End-to-End-RAG-Framework-with-Turkish-Embedding-Evaluation\\requirements.txt (line 6)) (2.9.2)\n",
            "Requirement already satisfied: urllib3<3,>=1.26.14 in c:\\users\\memo_\\appdata\\local\\programs\\python\\python310\\lib\\site-packages (from qdrant-client>=1.6.0->-r C:\\Users\\memo_\\Desktop\\Projeler\\AutoRAG-End-to-End-RAG-Framework-with-Turkish-Embedding-Evaluation\\requirements.txt (line 6)) (1.26.18)\n",
            "Requirement already satisfied: lxml>=3.1.0 in c:\\users\\memo_\\appdata\\local\\programs\\python\\python310\\lib\\site-packages (from python-docx>=0.8.11->-r C:\\Users\\memo_\\Desktop\\Projeler\\AutoRAG-End-to-End-RAG-Framework-with-Turkish-Embedding-Evaluation\\requirements.txt (line 8)) (5.1.0)\n",
            "Requirement already satisfied: click in c:\\users\\memo_\\appdata\\local\\programs\\python\\python310\\lib\\site-packages (from nltk>=3.8.1->-r C:\\Users\\memo_\\Desktop\\Projeler\\AutoRAG-End-to-End-RAG-Framework-with-Turkish-Embedding-Evaluation\\requirements.txt (line 9)) (8.1.7)\n",
            "Requirement already satisfied: joblib in c:\\users\\memo_\\appdata\\local\\programs\\python\\python310\\lib\\site-packages (from nltk>=3.8.1->-r C:\\Users\\memo_\\Desktop\\Projeler\\AutoRAG-End-to-End-RAG-Framework-with-Turkish-Embedding-Evaluation\\requirements.txt (line 9)) (1.3.2)\n",
            "Requirement already satisfied: chardet in c:\\users\\memo_\\appdata\\local\\programs\\python\\python310\\lib\\site-packages (from unstructured[all-docs]->-r C:\\Users\\memo_\\Desktop\\Projeler\\AutoRAG-End-to-End-RAG-Framework-with-Turkish-Embedding-Evaluation\\requirements.txt (line 11)) (5.2.0)\n",
            "Requirement already satisfied: filetype in c:\\users\\memo_\\appdata\\local\\programs\\python\\python310\\lib\\site-packages (from unstructured[all-docs]->-r C:\\Users\\memo_\\Desktop\\Projeler\\AutoRAG-End-to-End-RAG-Framework-with-Turkish-Embedding-Evaluation\\requirements.txt (line 11)) (1.2.0)\n",
            "Requirement already satisfied: python-magic in c:\\users\\memo_\\appdata\\local\\programs\\python\\python310\\lib\\site-packages (from unstructured[all-docs]->-r C:\\Users\\memo_\\Desktop\\Projeler\\AutoRAG-End-to-End-RAG-Framework-with-Turkish-Embedding-Evaluation\\requirements.txt (line 11)) (0.4.27)\n",
            "Requirement already satisfied: beautifulsoup4 in c:\\users\\memo_\\appdata\\local\\programs\\python\\python310\\lib\\site-packages (from unstructured[all-docs]->-r C:\\Users\\memo_\\Desktop\\Projeler\\AutoRAG-End-to-End-RAG-Framework-with-Turkish-Embedding-Evaluation\\requirements.txt (line 11)) (4.12.3)\n",
            "Requirement already satisfied: emoji in c:\\users\\memo_\\appdata\\local\\programs\\python\\python310\\lib\\site-packages (from unstructured[all-docs]->-r C:\\Users\\memo_\\Desktop\\Projeler\\AutoRAG-End-to-End-RAG-Framework-with-Turkish-Embedding-Evaluation\\requirements.txt (line 11)) (2.10.1)\n",
            "Requirement already satisfied: dataclasses-json in c:\\users\\memo_\\appdata\\local\\programs\\python\\python310\\lib\\site-packages (from unstructured[all-docs]->-r C:\\Users\\memo_\\Desktop\\Projeler\\AutoRAG-End-to-End-RAG-Framework-with-Turkish-Embedding-Evaluation\\requirements.txt (line 11)) (0.6.4)\n",
            "Requirement already satisfied: python-iso639 in c:\\users\\memo_\\appdata\\local\\programs\\python\\python310\\lib\\site-packages (from unstructured[all-docs]->-r C:\\Users\\memo_\\Desktop\\Projeler\\AutoRAG-End-to-End-RAG-Framework-with-Turkish-Embedding-Evaluation\\requirements.txt (line 11)) (2024.2.7)\n",
            "Requirement already satisfied: langdetect in c:\\users\\memo_\\appdata\\local\\programs\\python\\python310\\lib\\site-packages (from unstructured[all-docs]->-r C:\\Users\\memo_\\Desktop\\Projeler\\AutoRAG-End-to-End-RAG-Framework-with-Turkish-Embedding-Evaluation\\requirements.txt (line 11)) (1.0.9)\n",
            "Requirement already satisfied: rapidfuzz in c:\\users\\memo_\\appdata\\local\\programs\\python\\python310\\lib\\site-packages (from unstructured[all-docs]->-r C:\\Users\\memo_\\Desktop\\Projeler\\AutoRAG-End-to-End-RAG-Framework-with-Turkish-Embedding-Evaluation\\requirements.txt (line 11)) (3.6.1)\n",
            "Requirement already satisfied: backoff in c:\\users\\memo_\\appdata\\local\\programs\\python\\python310\\lib\\site-packages (from unstructured[all-docs]->-r C:\\Users\\memo_\\Desktop\\Projeler\\AutoRAG-End-to-End-RAG-Framework-with-Turkish-Embedding-Evaluation\\requirements.txt (line 11)) (2.2.1)\n",
            "Requirement already satisfied: unstructured-client in c:\\users\\memo_\\appdata\\local\\programs\\python\\python310\\lib\\site-packages (from unstructured[all-docs]->-r C:\\Users\\memo_\\Desktop\\Projeler\\AutoRAG-End-to-End-RAG-Framework-with-Turkish-Embedding-Evaluation\\requirements.txt (line 11)) (0.18.0)\n",
            "Requirement already satisfied: wrapt in c:\\users\\memo_\\appdata\\local\\programs\\python\\python310\\lib\\site-packages (from unstructured[all-docs]->-r C:\\Users\\memo_\\Desktop\\Projeler\\AutoRAG-End-to-End-RAG-Framework-with-Turkish-Embedding-Evaluation\\requirements.txt (line 11)) (1.16.0)\n",
            "Requirement already satisfied: python-oxmsg in c:\\users\\memo_\\appdata\\local\\programs\\python\\python310\\lib\\site-packages (from unstructured[all-docs]->-r C:\\Users\\memo_\\Desktop\\Projeler\\AutoRAG-End-to-End-RAG-Framework-with-Turkish-Embedding-Evaluation\\requirements.txt (line 11)) (0.0.2)\n",
            "Requirement already satisfied: html5lib in c:\\users\\memo_\\appdata\\local\\programs\\python\\python310\\lib\\site-packages (from unstructured[all-docs]->-r C:\\Users\\memo_\\Desktop\\Projeler\\AutoRAG-End-to-End-RAG-Framework-with-Turkish-Embedding-Evaluation\\requirements.txt (line 11)) (1.1)\n",
            "Requirement already satisfied: onnxruntime>=1.19.0 in c:\\users\\memo_\\appdata\\local\\programs\\python\\python310\\lib\\site-packages (from unstructured[all-docs]->-r C:\\Users\\memo_\\Desktop\\Projeler\\AutoRAG-End-to-End-RAG-Framework-with-Turkish-Embedding-Evaluation\\requirements.txt (line 11)) (1.20.1)\n",
            "Requirement already satisfied: python-pptx>=1.0.1 in c:\\users\\memo_\\appdata\\local\\programs\\python\\python310\\lib\\site-packages (from unstructured[all-docs]->-r C:\\Users\\memo_\\Desktop\\Projeler\\AutoRAG-End-to-End-RAG-Framework-with-Turkish-Embedding-Evaluation\\requirements.txt (line 11)) (1.0.2)\n",
            "Requirement already satisfied: effdet in c:\\users\\memo_\\appdata\\local\\programs\\python\\python310\\lib\\site-packages (from unstructured[all-docs]->-r C:\\Users\\memo_\\Desktop\\Projeler\\AutoRAG-End-to-End-RAG-Framework-with-Turkish-Embedding-Evaluation\\requirements.txt (line 11)) (0.4.1)\n",
            "Requirement already satisfied: xlrd in c:\\users\\memo_\\appdata\\local\\programs\\python\\python310\\lib\\site-packages (from unstructured[all-docs]->-r C:\\Users\\memo_\\Desktop\\Projeler\\AutoRAG-End-to-End-RAG-Framework-with-Turkish-Embedding-Evaluation\\requirements.txt (line 11)) (2.0.1)\n",
            "Requirement already satisfied: pandas in c:\\users\\memo_\\appdata\\local\\programs\\python\\python310\\lib\\site-packages (from unstructured[all-docs]->-r C:\\Users\\memo_\\Desktop\\Projeler\\AutoRAG-End-to-End-RAG-Framework-with-Turkish-Embedding-Evaluation\\requirements.txt (line 11)) (2.2.2)\n",
            "Requirement already satisfied: pikepdf in c:\\users\\memo_\\appdata\\local\\programs\\python\\python310\\lib\\site-packages (from unstructured[all-docs]->-r C:\\Users\\memo_\\Desktop\\Projeler\\AutoRAG-End-to-End-RAG-Framework-with-Turkish-Embedding-Evaluation\\requirements.txt (line 11)) (9.8.1)\n",
            "Requirement already satisfied: unstructured.pytesseract>=0.3.12 in c:\\users\\memo_\\appdata\\local\\programs\\python\\python310\\lib\\site-packages (from unstructured[all-docs]->-r C:\\Users\\memo_\\Desktop\\Projeler\\AutoRAG-End-to-End-RAG-Framework-with-Turkish-Embedding-Evaluation\\requirements.txt (line 11)) (0.3.15)\n",
            "Requirement already satisfied: unstructured-inference>=1.0.5 in c:\\users\\memo_\\appdata\\local\\programs\\python\\python310\\lib\\site-packages (from unstructured[all-docs]->-r C:\\Users\\memo_\\Desktop\\Projeler\\AutoRAG-End-to-End-RAG-Framework-with-Turkish-Embedding-Evaluation\\requirements.txt (line 11)) (1.0.5)\n",
            "Requirement already satisfied: pdf2image in c:\\users\\memo_\\appdata\\local\\programs\\python\\python310\\lib\\site-packages (from unstructured[all-docs]->-r C:\\Users\\memo_\\Desktop\\Projeler\\AutoRAG-End-to-End-RAG-Framework-with-Turkish-Embedding-Evaluation\\requirements.txt (line 11)) (1.17.0)\n",
            "Requirement already satisfied: onnx>=1.17.0 in c:\\users\\memo_\\appdata\\local\\programs\\python\\python310\\lib\\site-packages (from unstructured[all-docs]->-r C:\\Users\\memo_\\Desktop\\Projeler\\AutoRAG-End-to-End-RAG-Framework-with-Turkish-Embedding-Evaluation\\requirements.txt (line 11)) (1.18.0)\n",
            "Requirement already satisfied: markdown in c:\\users\\memo_\\appdata\\local\\programs\\python\\python310\\lib\\site-packages (from unstructured[all-docs]->-r C:\\Users\\memo_\\Desktop\\Projeler\\AutoRAG-End-to-End-RAG-Framework-with-Turkish-Embedding-Evaluation\\requirements.txt (line 11)) (3.6)\n",
            "Requirement already satisfied: pdfminer.six in c:\\users\\memo_\\appdata\\local\\programs\\python\\python310\\lib\\site-packages (from unstructured[all-docs]->-r C:\\Users\\memo_\\Desktop\\Projeler\\AutoRAG-End-to-End-RAG-Framework-with-Turkish-Embedding-Evaluation\\requirements.txt (line 11)) (20250506)\n",
            "Requirement already satisfied: google-cloud-vision in c:\\users\\memo_\\appdata\\local\\programs\\python\\python310\\lib\\site-packages (from unstructured[all-docs]->-r C:\\Users\\memo_\\Desktop\\Projeler\\AutoRAG-End-to-End-RAG-Framework-with-Turkish-Embedding-Evaluation\\requirements.txt (line 11)) (3.10.2)\n",
            "Requirement already satisfied: pypandoc in c:\\users\\memo_\\appdata\\local\\programs\\python\\python310\\lib\\site-packages (from unstructured[all-docs]->-r C:\\Users\\memo_\\Desktop\\Projeler\\AutoRAG-End-to-End-RAG-Framework-with-Turkish-Embedding-Evaluation\\requirements.txt (line 11)) (1.15)\n",
            "Requirement already satisfied: pi-heif in c:\\users\\memo_\\appdata\\local\\programs\\python\\python310\\lib\\site-packages (from unstructured[all-docs]->-r C:\\Users\\memo_\\Desktop\\Projeler\\AutoRAG-End-to-End-RAG-Framework-with-Turkish-Embedding-Evaluation\\requirements.txt (line 11)) (0.22.0)\n",
            "Requirement already satisfied: openpyxl in c:\\users\\memo_\\appdata\\local\\programs\\python\\python310\\lib\\site-packages (from unstructured[all-docs]->-r C:\\Users\\memo_\\Desktop\\Projeler\\AutoRAG-End-to-End-RAG-Framework-with-Turkish-Embedding-Evaluation\\requirements.txt (line 11)) (3.1.2)\n",
            "Requirement already satisfied: spacy-legacy<3.1.0,>=3.0.11 in c:\\users\\memo_\\appdata\\local\\programs\\python\\python310\\lib\\site-packages (from spacy>=3.8.0->-r C:\\Users\\memo_\\Desktop\\Projeler\\AutoRAG-End-to-End-RAG-Framework-with-Turkish-Embedding-Evaluation\\requirements.txt (line 12)) (3.0.12)\n",
            "Requirement already satisfied: spacy-loggers<2.0.0,>=1.0.0 in c:\\users\\memo_\\appdata\\local\\programs\\python\\python310\\lib\\site-packages (from spacy>=3.8.0->-r C:\\Users\\memo_\\Desktop\\Projeler\\AutoRAG-End-to-End-RAG-Framework-with-Turkish-Embedding-Evaluation\\requirements.txt (line 12)) (1.0.5)\n",
            "Requirement already satisfied: murmurhash<1.1.0,>=0.28.0 in c:\\users\\memo_\\appdata\\local\\programs\\python\\python310\\lib\\site-packages (from spacy>=3.8.0->-r C:\\Users\\memo_\\Desktop\\Projeler\\AutoRAG-End-to-End-RAG-Framework-with-Turkish-Embedding-Evaluation\\requirements.txt (line 12)) (1.0.11)\n",
            "Requirement already satisfied: cymem<2.1.0,>=2.0.2 in c:\\users\\memo_\\appdata\\local\\programs\\python\\python310\\lib\\site-packages (from spacy>=3.8.0->-r C:\\Users\\memo_\\Desktop\\Projeler\\AutoRAG-End-to-End-RAG-Framework-with-Turkish-Embedding-Evaluation\\requirements.txt (line 12)) (2.0.10)\n",
            "Requirement already satisfied: preshed<3.1.0,>=3.0.2 in c:\\users\\memo_\\appdata\\local\\programs\\python\\python310\\lib\\site-packages (from spacy>=3.8.0->-r C:\\Users\\memo_\\Desktop\\Projeler\\AutoRAG-End-to-End-RAG-Framework-with-Turkish-Embedding-Evaluation\\requirements.txt (line 12)) (3.0.9)\n",
            "Requirement already satisfied: thinc<8.4.0,>=8.3.4 in c:\\users\\memo_\\appdata\\local\\programs\\python\\python310\\lib\\site-packages (from spacy>=3.8.0->-r C:\\Users\\memo_\\Desktop\\Projeler\\AutoRAG-End-to-End-RAG-Framework-with-Turkish-Embedding-Evaluation\\requirements.txt (line 12)) (8.3.4)\n",
            "Requirement already satisfied: wasabi<1.2.0,>=0.9.1 in c:\\users\\memo_\\appdata\\local\\programs\\python\\python310\\lib\\site-packages (from spacy>=3.8.0->-r C:\\Users\\memo_\\Desktop\\Projeler\\AutoRAG-End-to-End-RAG-Framework-with-Turkish-Embedding-Evaluation\\requirements.txt (line 12)) (1.1.3)\n",
            "Requirement already satisfied: srsly<3.0.0,>=2.4.3 in c:\\users\\memo_\\appdata\\local\\programs\\python\\python310\\lib\\site-packages (from spacy>=3.8.0->-r C:\\Users\\memo_\\Desktop\\Projeler\\AutoRAG-End-to-End-RAG-Framework-with-Turkish-Embedding-Evaluation\\requirements.txt (line 12)) (2.5.0)\n",
            "Requirement already satisfied: catalogue<2.1.0,>=2.0.6 in c:\\users\\memo_\\appdata\\local\\programs\\python\\python310\\lib\\site-packages (from spacy>=3.8.0->-r C:\\Users\\memo_\\Desktop\\Projeler\\AutoRAG-End-to-End-RAG-Framework-with-Turkish-Embedding-Evaluation\\requirements.txt (line 12)) (2.0.10)\n",
            "Requirement already satisfied: weasel<0.5.0,>=0.1.0 in c:\\users\\memo_\\appdata\\local\\programs\\python\\python310\\lib\\site-packages (from spacy>=3.8.0->-r C:\\Users\\memo_\\Desktop\\Projeler\\AutoRAG-End-to-End-RAG-Framework-with-Turkish-Embedding-Evaluation\\requirements.txt (line 12)) (0.4.1)\n",
            "Requirement already satisfied: typer<1.0.0,>=0.3.0 in c:\\users\\memo_\\appdata\\local\\programs\\python\\python310\\lib\\site-packages (from spacy>=3.8.0->-r C:\\Users\\memo_\\Desktop\\Projeler\\AutoRAG-End-to-End-RAG-Framework-with-Turkish-Embedding-Evaluation\\requirements.txt (line 12)) (0.13.0)\n",
            "Requirement already satisfied: setuptools in c:\\users\\memo_\\appdata\\local\\programs\\python\\python310\\lib\\site-packages (from spacy>=3.8.0->-r C:\\Users\\memo_\\Desktop\\Projeler\\AutoRAG-End-to-End-RAG-Framework-with-Turkish-Embedding-Evaluation\\requirements.txt (line 12)) (60.2.0)\n",
            "Requirement already satisfied: langcodes<4.0.0,>=3.2.0 in c:\\users\\memo_\\appdata\\local\\programs\\python\\python310\\lib\\site-packages (from spacy>=3.8.0->-r C:\\Users\\memo_\\Desktop\\Projeler\\AutoRAG-End-to-End-RAG-Framework-with-Turkish-Embedding-Evaluation\\requirements.txt (line 12)) (3.5.0)\n",
            "Requirement already satisfied: tomli in c:\\users\\memo_\\appdata\\local\\programs\\python\\python310\\lib\\site-packages (from stanza->-r C:\\Users\\memo_\\Desktop\\Projeler\\AutoRAG-End-to-End-RAG-Framework-with-Turkish-Embedding-Evaluation\\requirements.txt (line 13)) (2.0.1)\n",
            "Requirement already satisfied: colorama in c:\\users\\memo_\\appdata\\local\\programs\\python\\python310\\lib\\site-packages (from tqdm->-r C:\\Users\\memo_\\Desktop\\Projeler\\AutoRAG-End-to-End-RAG-Framework-with-Turkish-Embedding-Evaluation\\requirements.txt (line 14)) (0.4.6)\n",
            "Requirement already satisfied: anyio in c:\\users\\memo_\\appdata\\local\\programs\\python\\python310\\lib\\site-packages (from httpx>=0.20.0->httpx[http2]>=0.20.0->qdrant-client>=1.6.0->-r C:\\Users\\memo_\\Desktop\\Projeler\\AutoRAG-End-to-End-RAG-Framework-with-Turkish-Embedding-Evaluation\\requirements.txt (line 6)) (4.9.0)\n",
            "Requirement already satisfied: certifi in c:\\users\\memo_\\appdata\\local\\programs\\python\\python310\\lib\\site-packages (from httpx>=0.20.0->httpx[http2]>=0.20.0->qdrant-client>=1.6.0->-r C:\\Users\\memo_\\Desktop\\Projeler\\AutoRAG-End-to-End-RAG-Framework-with-Turkish-Embedding-Evaluation\\requirements.txt (line 6)) (2024.2.2)\n",
            "Requirement already satisfied: httpcore==1.* in c:\\users\\memo_\\appdata\\local\\programs\\python\\python310\\lib\\site-packages (from httpx>=0.20.0->httpx[http2]>=0.20.0->qdrant-client>=1.6.0->-r C:\\Users\\memo_\\Desktop\\Projeler\\AutoRAG-End-to-End-RAG-Framework-with-Turkish-Embedding-Evaluation\\requirements.txt (line 6)) (1.0.7)\n",
            "Requirement already satisfied: idna in c:\\users\\memo_\\appdata\\local\\programs\\python\\python310\\lib\\site-packages (from httpx>=0.20.0->httpx[http2]>=0.20.0->qdrant-client>=1.6.0->-r C:\\Users\\memo_\\Desktop\\Projeler\\AutoRAG-End-to-End-RAG-Framework-with-Turkish-Embedding-Evaluation\\requirements.txt (line 6)) (3.6)\n",
            "Requirement already satisfied: h11<0.15,>=0.13 in c:\\users\\memo_\\appdata\\local\\programs\\python\\python310\\lib\\site-packages (from httpcore==1.*->httpx>=0.20.0->httpx[http2]>=0.20.0->qdrant-client>=1.6.0->-r C:\\Users\\memo_\\Desktop\\Projeler\\AutoRAG-End-to-End-RAG-Framework-with-Turkish-Embedding-Evaluation\\requirements.txt (line 6)) (0.14.0)\n",
            "Requirement already satisfied: h2<5,>=3 in c:\\users\\memo_\\appdata\\local\\programs\\python\\python310\\lib\\site-packages (from httpx[http2]>=0.20.0->qdrant-client>=1.6.0->-r C:\\Users\\memo_\\Desktop\\Projeler\\AutoRAG-End-to-End-RAG-Framework-with-Turkish-Embedding-Evaluation\\requirements.txt (line 6)) (4.1.0)\n",
            "Requirement already satisfied: language-data>=1.2 in c:\\users\\memo_\\appdata\\local\\programs\\python\\python310\\lib\\site-packages (from langcodes<4.0.0,>=3.2.0->spacy>=3.8.0->-r C:\\Users\\memo_\\Desktop\\Projeler\\AutoRAG-End-to-End-RAG-Framework-with-Turkish-Embedding-Evaluation\\requirements.txt (line 12)) (1.3.0)\n",
            "Requirement already satisfied: coloredlogs in c:\\users\\memo_\\appdata\\local\\programs\\python\\python310\\lib\\site-packages (from onnxruntime>=1.19.0->unstructured[all-docs]->-r C:\\Users\\memo_\\Desktop\\Projeler\\AutoRAG-End-to-End-RAG-Framework-with-Turkish-Embedding-Evaluation\\requirements.txt (line 11)) (15.0.1)\n",
            "Requirement already satisfied: flatbuffers in c:\\users\\memo_\\appdata\\local\\programs\\python\\python310\\lib\\site-packages (from onnxruntime>=1.19.0->unstructured[all-docs]->-r C:\\Users\\memo_\\Desktop\\Projeler\\AutoRAG-End-to-End-RAG-Framework-with-Turkish-Embedding-Evaluation\\requirements.txt (line 11)) (24.3.25)\n",
            "Requirement already satisfied: pywin32>=226 in c:\\users\\memo_\\appdata\\local\\programs\\python\\python310\\lib\\site-packages (from portalocker<3.0.0,>=2.7.0->qdrant-client>=1.6.0->-r C:\\Users\\memo_\\Desktop\\Projeler\\AutoRAG-End-to-End-RAG-Framework-with-Turkish-Embedding-Evaluation\\requirements.txt (line 6)) (310)\n",
            "Requirement already satisfied: annotated-types>=0.6.0 in c:\\users\\memo_\\appdata\\local\\programs\\python\\python310\\lib\\site-packages (from pydantic!=2.0.*,!=2.1.*,!=2.2.0,>=1.10.8->qdrant-client>=1.6.0->-r C:\\Users\\memo_\\Desktop\\Projeler\\AutoRAG-End-to-End-RAG-Framework-with-Turkish-Embedding-Evaluation\\requirements.txt (line 6)) (0.7.0)\n",
            "Requirement already satisfied: pydantic-core==2.23.4 in c:\\users\\memo_\\appdata\\local\\programs\\python\\python310\\lib\\site-packages (from pydantic!=2.0.*,!=2.1.*,!=2.2.0,>=1.10.8->qdrant-client>=1.6.0->-r C:\\Users\\memo_\\Desktop\\Projeler\\AutoRAG-End-to-End-RAG-Framework-with-Turkish-Embedding-Evaluation\\requirements.txt (line 6)) (2.23.4)\n",
            "Requirement already satisfied: XlsxWriter>=0.5.7 in c:\\users\\memo_\\appdata\\local\\programs\\python\\python310\\lib\\site-packages (from python-pptx>=1.0.1->unstructured[all-docs]->-r C:\\Users\\memo_\\Desktop\\Projeler\\AutoRAG-End-to-End-RAG-Framework-with-Turkish-Embedding-Evaluation\\requirements.txt (line 11)) (3.2.2)\n",
            "Requirement already satisfied: charset-normalizer<4,>=2 in c:\\users\\memo_\\appdata\\local\\programs\\python\\python310\\lib\\site-packages (from requests->transformers>=4.38.0->-r C:\\Users\\memo_\\Desktop\\Projeler\\AutoRAG-End-to-End-RAG-Framework-with-Turkish-Embedding-Evaluation\\requirements.txt (line 2)) (3.3.2)\n",
            "Requirement already satisfied: mpmath<1.4,>=1.1.0 in c:\\users\\memo_\\appdata\\local\\programs\\python\\python310\\lib\\site-packages (from sympy>=1.13.3->torch>=2.0.0->-r C:\\Users\\memo_\\Desktop\\Projeler\\AutoRAG-End-to-End-RAG-Framework-with-Turkish-Embedding-Evaluation\\requirements.txt (line 1)) (1.3.0)\n",
            "Requirement already satisfied: blis<1.3.0,>=1.2.0 in c:\\users\\memo_\\appdata\\local\\programs\\python\\python310\\lib\\site-packages (from thinc<8.4.0,>=8.3.4->spacy>=3.8.0->-r C:\\Users\\memo_\\Desktop\\Projeler\\AutoRAG-End-to-End-RAG-Framework-with-Turkish-Embedding-Evaluation\\requirements.txt (line 12)) (1.2.0)\n",
            "Requirement already satisfied: confection<1.0.0,>=0.0.1 in c:\\users\\memo_\\appdata\\local\\programs\\python\\python310\\lib\\site-packages (from thinc<8.4.0,>=8.3.4->spacy>=3.8.0->-r C:\\Users\\memo_\\Desktop\\Projeler\\AutoRAG-End-to-End-RAG-Framework-with-Turkish-Embedding-Evaluation\\requirements.txt (line 12)) (0.1.5)\n",
            "Requirement already satisfied: shellingham>=1.3.0 in c:\\users\\memo_\\appdata\\local\\programs\\python\\python310\\lib\\site-packages (from typer<1.0.0,>=0.3.0->spacy>=3.8.0->-r C:\\Users\\memo_\\Desktop\\Projeler\\AutoRAG-End-to-End-RAG-Framework-with-Turkish-Embedding-Evaluation\\requirements.txt (line 12)) (1.5.4)\n",
            "Requirement already satisfied: rich>=10.11.0 in c:\\users\\memo_\\appdata\\local\\programs\\python\\python310\\lib\\site-packages (from typer<1.0.0,>=0.3.0->spacy>=3.8.0->-r C:\\Users\\memo_\\Desktop\\Projeler\\AutoRAG-End-to-End-RAG-Framework-with-Turkish-Embedding-Evaluation\\requirements.txt (line 12)) (13.9.4)\n",
            "Requirement already satisfied: python-multipart in c:\\users\\memo_\\appdata\\local\\programs\\python\\python310\\lib\\site-packages (from unstructured-inference>=1.0.5->unstructured[all-docs]->-r C:\\Users\\memo_\\Desktop\\Projeler\\AutoRAG-End-to-End-RAG-Framework-with-Turkish-Embedding-Evaluation\\requirements.txt (line 11)) (0.0.20)\n",
            "Requirement already satisfied: opencv-python!=4.7.0.68 in c:\\users\\memo_\\appdata\\local\\programs\\python\\python310\\lib\\site-packages (from unstructured-inference>=1.0.5->unstructured[all-docs]->-r C:\\Users\\memo_\\Desktop\\Projeler\\AutoRAG-End-to-End-RAG-Framework-with-Turkish-Embedding-Evaluation\\requirements.txt (line 11)) (4.10.0.84)\n",
            "Requirement already satisfied: matplotlib in c:\\users\\memo_\\appdata\\local\\programs\\python\\python310\\lib\\site-packages (from unstructured-inference>=1.0.5->unstructured[all-docs]->-r C:\\Users\\memo_\\Desktop\\Projeler\\AutoRAG-End-to-End-RAG-Framework-with-Turkish-Embedding-Evaluation\\requirements.txt (line 11)) (3.8.3)\n",
            "Requirement already satisfied: timm in c:\\users\\memo_\\appdata\\local\\programs\\python\\python310\\lib\\site-packages (from unstructured-inference>=1.0.5->unstructured[all-docs]->-r C:\\Users\\memo_\\Desktop\\Projeler\\AutoRAG-End-to-End-RAG-Framework-with-Turkish-Embedding-Evaluation\\requirements.txt (line 11)) (1.0.15)\n",
            "Requirement already satisfied: pypdfium2 in c:\\users\\memo_\\appdata\\local\\programs\\python\\python310\\lib\\site-packages (from unstructured-inference>=1.0.5->unstructured[all-docs]->-r C:\\Users\\memo_\\Desktop\\Projeler\\AutoRAG-End-to-End-RAG-Framework-with-Turkish-Embedding-Evaluation\\requirements.txt (line 11)) (4.30.1)\n",
            "Requirement already satisfied: cloudpathlib<1.0.0,>=0.7.0 in c:\\users\\memo_\\appdata\\local\\programs\\python\\python310\\lib\\site-packages (from weasel<0.5.0,>=0.1.0->spacy>=3.8.0->-r C:\\Users\\memo_\\Desktop\\Projeler\\AutoRAG-End-to-End-RAG-Framework-with-Turkish-Embedding-Evaluation\\requirements.txt (line 12)) (0.20.0)\n",
            "Requirement already satisfied: smart-open<8.0.0,>=5.2.1 in c:\\users\\memo_\\appdata\\local\\programs\\python\\python310\\lib\\site-packages (from weasel<0.5.0,>=0.1.0->spacy>=3.8.0->-r C:\\Users\\memo_\\Desktop\\Projeler\\AutoRAG-End-to-End-RAG-Framework-with-Turkish-Embedding-Evaluation\\requirements.txt (line 12)) (7.1.0)\n",
            "Requirement already satisfied: soupsieve>1.2 in c:\\users\\memo_\\appdata\\local\\programs\\python\\python310\\lib\\site-packages (from beautifulsoup4->unstructured[all-docs]->-r C:\\Users\\memo_\\Desktop\\Projeler\\AutoRAG-End-to-End-RAG-Framework-with-Turkish-Embedding-Evaluation\\requirements.txt (line 11)) (2.5)\n",
            "Requirement already satisfied: marshmallow<4.0.0,>=3.18.0 in c:\\users\\memo_\\appdata\\local\\programs\\python\\python310\\lib\\site-packages (from dataclasses-json->unstructured[all-docs]->-r C:\\Users\\memo_\\Desktop\\Projeler\\AutoRAG-End-to-End-RAG-Framework-with-Turkish-Embedding-Evaluation\\requirements.txt (line 11)) (3.20.2)\n",
            "Requirement already satisfied: typing-inspect<1,>=0.4.0 in c:\\users\\memo_\\appdata\\local\\programs\\python\\python310\\lib\\site-packages (from dataclasses-json->unstructured[all-docs]->-r C:\\Users\\memo_\\Desktop\\Projeler\\AutoRAG-End-to-End-RAG-Framework-with-Turkish-Embedding-Evaluation\\requirements.txt (line 11)) (0.9.0)\n",
            "Requirement already satisfied: torchvision in c:\\users\\memo_\\appdata\\local\\programs\\python\\python310\\lib\\site-packages (from effdet->unstructured[all-docs]->-r C:\\Users\\memo_\\Desktop\\Projeler\\AutoRAG-End-to-End-RAG-Framework-with-Turkish-Embedding-Evaluation\\requirements.txt (line 11)) (0.22.1)\n",
            "Requirement already satisfied: pycocotools>=2.0.2 in c:\\users\\memo_\\appdata\\local\\programs\\python\\python310\\lib\\site-packages (from effdet->unstructured[all-docs]->-r C:\\Users\\memo_\\Desktop\\Projeler\\AutoRAG-End-to-End-RAG-Framework-with-Turkish-Embedding-Evaluation\\requirements.txt (line 11)) (2.0.8)\n",
            "Requirement already satisfied: omegaconf>=2.0 in c:\\users\\memo_\\appdata\\local\\programs\\python\\python310\\lib\\site-packages (from effdet->unstructured[all-docs]->-r C:\\Users\\memo_\\Desktop\\Projeler\\AutoRAG-End-to-End-RAG-Framework-with-Turkish-Embedding-Evaluation\\requirements.txt (line 11)) (2.3.0)\n",
            "Requirement already satisfied: google-api-core!=2.0.*,!=2.1.*,!=2.10.*,!=2.2.*,!=2.3.*,!=2.4.*,!=2.5.*,!=2.6.*,!=2.7.*,!=2.8.*,!=2.9.*,<3.0.0,>=1.34.1 in c:\\users\\memo_\\appdata\\local\\programs\\python\\python310\\lib\\site-packages (from google-api-core[grpc]!=2.0.*,!=2.1.*,!=2.10.*,!=2.2.*,!=2.3.*,!=2.4.*,!=2.5.*,!=2.6.*,!=2.7.*,!=2.8.*,!=2.9.*,<3.0.0,>=1.34.1->google-cloud-vision->unstructured[all-docs]->-r C:\\Users\\memo_\\Desktop\\Projeler\\AutoRAG-End-to-End-RAG-Framework-with-Turkish-Embedding-Evaluation\\requirements.txt (line 11)) (2.25.0)\n",
            "Requirement already satisfied: google-auth!=2.24.0,!=2.25.0,<3.0.0,>=2.14.1 in c:\\users\\memo_\\appdata\\local\\programs\\python\\python310\\lib\\site-packages (from google-cloud-vision->unstructured[all-docs]->-r C:\\Users\\memo_\\Desktop\\Projeler\\AutoRAG-End-to-End-RAG-Framework-with-Turkish-Embedding-Evaluation\\requirements.txt (line 11)) (2.37.0)\n",
            "Requirement already satisfied: proto-plus<2.0.0,>=1.22.3 in c:\\users\\memo_\\appdata\\local\\programs\\python\\python310\\lib\\site-packages (from google-cloud-vision->unstructured[all-docs]->-r C:\\Users\\memo_\\Desktop\\Projeler\\AutoRAG-End-to-End-RAG-Framework-with-Turkish-Embedding-Evaluation\\requirements.txt (line 11)) (1.26.1)\n",
            "Requirement already satisfied: six>=1.9 in c:\\users\\memo_\\appdata\\local\\programs\\python\\python310\\lib\\site-packages (from html5lib->unstructured[all-docs]->-r C:\\Users\\memo_\\Desktop\\Projeler\\AutoRAG-End-to-End-RAG-Framework-with-Turkish-Embedding-Evaluation\\requirements.txt (line 11)) (1.16.0)\n",
            "Requirement already satisfied: webencodings in c:\\users\\memo_\\appdata\\local\\programs\\python\\python310\\lib\\site-packages (from html5lib->unstructured[all-docs]->-r C:\\Users\\memo_\\Desktop\\Projeler\\AutoRAG-End-to-End-RAG-Framework-with-Turkish-Embedding-Evaluation\\requirements.txt (line 11)) (0.5.1)\n",
            "Requirement already satisfied: MarkupSafe>=2.0 in c:\\users\\memo_\\appdata\\local\\programs\\python\\python310\\lib\\site-packages (from jinja2->torch>=2.0.0->-r C:\\Users\\memo_\\Desktop\\Projeler\\AutoRAG-End-to-End-RAG-Framework-with-Turkish-Embedding-Evaluation\\requirements.txt (line 1)) (2.1.5)\n",
            "Requirement already satisfied: et-xmlfile in c:\\users\\memo_\\appdata\\local\\programs\\python\\python310\\lib\\site-packages (from openpyxl->unstructured[all-docs]->-r C:\\Users\\memo_\\Desktop\\Projeler\\AutoRAG-End-to-End-RAG-Framework-with-Turkish-Embedding-Evaluation\\requirements.txt (line 11)) (1.1.0)\n",
            "Requirement already satisfied: python-dateutil>=2.8.2 in c:\\users\\memo_\\appdata\\local\\programs\\python\\python310\\lib\\site-packages (from pandas->unstructured[all-docs]->-r C:\\Users\\memo_\\Desktop\\Projeler\\AutoRAG-End-to-End-RAG-Framework-with-Turkish-Embedding-Evaluation\\requirements.txt (line 11)) (2.8.2)\n",
            "Requirement already satisfied: pytz>=2020.1 in c:\\users\\memo_\\appdata\\local\\programs\\python\\python310\\lib\\site-packages (from pandas->unstructured[all-docs]->-r C:\\Users\\memo_\\Desktop\\Projeler\\AutoRAG-End-to-End-RAG-Framework-with-Turkish-Embedding-Evaluation\\requirements.txt (line 11)) (2023.4)\n",
            "Requirement already satisfied: tzdata>=2022.7 in c:\\users\\memo_\\appdata\\local\\programs\\python\\python310\\lib\\site-packages (from pandas->unstructured[all-docs]->-r C:\\Users\\memo_\\Desktop\\Projeler\\AutoRAG-End-to-End-RAG-Framework-with-Turkish-Embedding-Evaluation\\requirements.txt (line 11)) (2024.1)\n",
            "Requirement already satisfied: cryptography>=36.0.0 in c:\\users\\memo_\\appdata\\local\\programs\\python\\python310\\lib\\site-packages (from pdfminer.six->unstructured[all-docs]->-r C:\\Users\\memo_\\Desktop\\Projeler\\AutoRAG-End-to-End-RAG-Framework-with-Turkish-Embedding-Evaluation\\requirements.txt (line 11)) (44.0.0)\n",
            "Requirement already satisfied: Deprecated in c:\\users\\memo_\\appdata\\local\\programs\\python\\python310\\lib\\site-packages (from pikepdf->unstructured[all-docs]->-r C:\\Users\\memo_\\Desktop\\Projeler\\AutoRAG-End-to-End-RAG-Framework-with-Turkish-Embedding-Evaluation\\requirements.txt (line 11)) (1.2.18)\n",
            "Requirement already satisfied: olefile in c:\\users\\memo_\\appdata\\local\\programs\\python\\python310\\lib\\site-packages (from python-oxmsg->unstructured[all-docs]->-r C:\\Users\\memo_\\Desktop\\Projeler\\AutoRAG-End-to-End-RAG-Framework-with-Turkish-Embedding-Evaluation\\requirements.txt (line 11)) (0.47)\n",
            "Requirement already satisfied: threadpoolctl>=2.0.0 in c:\\users\\memo_\\appdata\\local\\programs\\python\\python310\\lib\\site-packages (from scikit-learn->sentence-transformers>=2.2.2->-r C:\\Users\\memo_\\Desktop\\Projeler\\AutoRAG-End-to-End-RAG-Framework-with-Turkish-Embedding-Evaluation\\requirements.txt (line 5)) (3.5.0)\n",
            "Requirement already satisfied: dataclasses-json-speakeasy>=0.5.11 in c:\\users\\memo_\\appdata\\local\\programs\\python\\python310\\lib\\site-packages (from unstructured-client->unstructured[all-docs]->-r C:\\Users\\memo_\\Desktop\\Projeler\\AutoRAG-End-to-End-RAG-Framework-with-Turkish-Embedding-Evaluation\\requirements.txt (line 11)) (0.5.11)\n",
            "Requirement already satisfied: jsonpath-python>=1.0.6 in c:\\users\\memo_\\appdata\\local\\programs\\python\\python310\\lib\\site-packages (from unstructured-client->unstructured[all-docs]->-r C:\\Users\\memo_\\Desktop\\Projeler\\AutoRAG-End-to-End-RAG-Framework-with-Turkish-Embedding-Evaluation\\requirements.txt (line 11)) (1.0.6)\n",
            "Requirement already satisfied: mypy-extensions>=1.0.0 in c:\\users\\memo_\\appdata\\local\\programs\\python\\python310\\lib\\site-packages (from unstructured-client->unstructured[all-docs]->-r C:\\Users\\memo_\\Desktop\\Projeler\\AutoRAG-End-to-End-RAG-Framework-with-Turkish-Embedding-Evaluation\\requirements.txt (line 11)) (1.0.0)\n",
            "Requirement already satisfied: cffi>=1.12 in c:\\users\\memo_\\appdata\\local\\programs\\python\\python310\\lib\\site-packages (from cryptography>=36.0.0->pdfminer.six->unstructured[all-docs]->-r C:\\Users\\memo_\\Desktop\\Projeler\\AutoRAG-End-to-End-RAG-Framework-with-Turkish-Embedding-Evaluation\\requirements.txt (line 11)) (1.16.0)\n",
            "Requirement already satisfied: googleapis-common-protos<2.0.0,>=1.56.2 in c:\\users\\memo_\\appdata\\local\\programs\\python\\python310\\lib\\site-packages (from google-api-core!=2.0.*,!=2.1.*,!=2.10.*,!=2.2.*,!=2.3.*,!=2.4.*,!=2.5.*,!=2.6.*,!=2.7.*,!=2.8.*,!=2.9.*,<3.0.0,>=1.34.1->google-api-core[grpc]!=2.0.*,!=2.1.*,!=2.10.*,!=2.2.*,!=2.3.*,!=2.4.*,!=2.5.*,!=2.6.*,!=2.7.*,!=2.8.*,!=2.9.*,<3.0.0,>=1.34.1->google-cloud-vision->unstructured[all-docs]->-r C:\\Users\\memo_\\Desktop\\Projeler\\AutoRAG-End-to-End-RAG-Framework-with-Turkish-Embedding-Evaluation\\requirements.txt (line 11)) (1.66.0)\n",
            "Requirement already satisfied: grpcio-status<2.0.0,>=1.33.2 in c:\\users\\memo_\\appdata\\local\\programs\\python\\python310\\lib\\site-packages (from google-api-core[grpc]!=2.0.*,!=2.1.*,!=2.10.*,!=2.2.*,!=2.3.*,!=2.4.*,!=2.5.*,!=2.6.*,!=2.7.*,!=2.8.*,!=2.9.*,<3.0.0,>=1.34.1->google-cloud-vision->unstructured[all-docs]->-r C:\\Users\\memo_\\Desktop\\Projeler\\AutoRAG-End-to-End-RAG-Framework-with-Turkish-Embedding-Evaluation\\requirements.txt (line 11)) (1.71.0)\n",
            "Requirement already satisfied: cachetools<6.0,>=2.0.0 in c:\\users\\memo_\\appdata\\local\\programs\\python\\python310\\lib\\site-packages (from google-auth!=2.24.0,!=2.25.0,<3.0.0,>=2.14.1->google-cloud-vision->unstructured[all-docs]->-r C:\\Users\\memo_\\Desktop\\Projeler\\AutoRAG-End-to-End-RAG-Framework-with-Turkish-Embedding-Evaluation\\requirements.txt (line 11)) (5.5.0)\n",
            "Requirement already satisfied: pyasn1-modules>=0.2.1 in c:\\users\\memo_\\appdata\\local\\programs\\python\\python310\\lib\\site-packages (from google-auth!=2.24.0,!=2.25.0,<3.0.0,>=2.14.1->google-cloud-vision->unstructured[all-docs]->-r C:\\Users\\memo_\\Desktop\\Projeler\\AutoRAG-End-to-End-RAG-Framework-with-Turkish-Embedding-Evaluation\\requirements.txt (line 11)) (0.4.1)\n",
            "Requirement already satisfied: rsa<5,>=3.1.4 in c:\\users\\memo_\\appdata\\local\\programs\\python\\python310\\lib\\site-packages (from google-auth!=2.24.0,!=2.25.0,<3.0.0,>=2.14.1->google-cloud-vision->unstructured[all-docs]->-r C:\\Users\\memo_\\Desktop\\Projeler\\AutoRAG-End-to-End-RAG-Framework-with-Turkish-Embedding-Evaluation\\requirements.txt (line 11)) (4.9)\n",
            "Requirement already satisfied: hyperframe<7,>=6.0 in c:\\users\\memo_\\appdata\\local\\programs\\python\\python310\\lib\\site-packages (from h2<5,>=3->httpx[http2]>=0.20.0->qdrant-client>=1.6.0->-r C:\\Users\\memo_\\Desktop\\Projeler\\AutoRAG-End-to-End-RAG-Framework-with-Turkish-Embedding-Evaluation\\requirements.txt (line 6)) (6.0.1)\n",
            "Requirement already satisfied: hpack<5,>=4.0 in c:\\users\\memo_\\appdata\\local\\programs\\python\\python310\\lib\\site-packages (from h2<5,>=3->httpx[http2]>=0.20.0->qdrant-client>=1.6.0->-r C:\\Users\\memo_\\Desktop\\Projeler\\AutoRAG-End-to-End-RAG-Framework-with-Turkish-Embedding-Evaluation\\requirements.txt (line 6)) (4.0.0)\n",
            "Requirement already satisfied: marisa-trie>=1.1.0 in c:\\users\\memo_\\appdata\\local\\programs\\python\\python310\\lib\\site-packages (from language-data>=1.2->langcodes<4.0.0,>=3.2.0->spacy>=3.8.0->-r C:\\Users\\memo_\\Desktop\\Projeler\\AutoRAG-End-to-End-RAG-Framework-with-Turkish-Embedding-Evaluation\\requirements.txt (line 12)) (1.2.1)\n",
            "Requirement already satisfied: antlr4-python3-runtime==4.9.* in c:\\users\\memo_\\appdata\\local\\programs\\python\\python310\\lib\\site-packages (from omegaconf>=2.0->effdet->unstructured[all-docs]->-r C:\\Users\\memo_\\Desktop\\Projeler\\AutoRAG-End-to-End-RAG-Framework-with-Turkish-Embedding-Evaluation\\requirements.txt (line 11)) (4.9.3)\n",
            "Requirement already satisfied: contourpy>=1.0.1 in c:\\users\\memo_\\appdata\\local\\programs\\python\\python310\\lib\\site-packages (from matplotlib->unstructured-inference>=1.0.5->unstructured[all-docs]->-r C:\\Users\\memo_\\Desktop\\Projeler\\AutoRAG-End-to-End-RAG-Framework-with-Turkish-Embedding-Evaluation\\requirements.txt (line 11)) (1.2.0)\n",
            "Requirement already satisfied: cycler>=0.10 in c:\\users\\memo_\\appdata\\local\\programs\\python\\python310\\lib\\site-packages (from matplotlib->unstructured-inference>=1.0.5->unstructured[all-docs]->-r C:\\Users\\memo_\\Desktop\\Projeler\\AutoRAG-End-to-End-RAG-Framework-with-Turkish-Embedding-Evaluation\\requirements.txt (line 11)) (0.12.1)\n",
            "Requirement already satisfied: fonttools>=4.22.0 in c:\\users\\memo_\\appdata\\local\\programs\\python\\python310\\lib\\site-packages (from matplotlib->unstructured-inference>=1.0.5->unstructured[all-docs]->-r C:\\Users\\memo_\\Desktop\\Projeler\\AutoRAG-End-to-End-RAG-Framework-with-Turkish-Embedding-Evaluation\\requirements.txt (line 11)) (4.49.0)\n",
            "Requirement already satisfied: kiwisolver>=1.3.1 in c:\\users\\memo_\\appdata\\local\\programs\\python\\python310\\lib\\site-packages (from matplotlib->unstructured-inference>=1.0.5->unstructured[all-docs]->-r C:\\Users\\memo_\\Desktop\\Projeler\\AutoRAG-End-to-End-RAG-Framework-with-Turkish-Embedding-Evaluation\\requirements.txt (line 11)) (1.4.5)\n",
            "Requirement already satisfied: pyparsing>=2.3.1 in c:\\users\\memo_\\appdata\\local\\programs\\python\\python310\\lib\\site-packages (from matplotlib->unstructured-inference>=1.0.5->unstructured[all-docs]->-r C:\\Users\\memo_\\Desktop\\Projeler\\AutoRAG-End-to-End-RAG-Framework-with-Turkish-Embedding-Evaluation\\requirements.txt (line 11)) (3.1.2)\n",
            "Requirement already satisfied: markdown-it-py>=2.2.0 in c:\\users\\memo_\\appdata\\local\\programs\\python\\python310\\lib\\site-packages (from rich>=10.11.0->typer<1.0.0,>=0.3.0->spacy>=3.8.0->-r C:\\Users\\memo_\\Desktop\\Projeler\\AutoRAG-End-to-End-RAG-Framework-with-Turkish-Embedding-Evaluation\\requirements.txt (line 12)) (3.0.0)\n",
            "Requirement already satisfied: pygments<3.0.0,>=2.13.0 in c:\\users\\memo_\\appdata\\local\\programs\\python\\python310\\lib\\site-packages (from rich>=10.11.0->typer<1.0.0,>=0.3.0->spacy>=3.8.0->-r C:\\Users\\memo_\\Desktop\\Projeler\\AutoRAG-End-to-End-RAG-Framework-with-Turkish-Embedding-Evaluation\\requirements.txt (line 12)) (2.18.0)\n",
            "Requirement already satisfied: exceptiongroup>=1.0.2 in c:\\users\\memo_\\appdata\\local\\programs\\python\\python310\\lib\\site-packages (from anyio->httpx>=0.20.0->httpx[http2]>=0.20.0->qdrant-client>=1.6.0->-r C:\\Users\\memo_\\Desktop\\Projeler\\AutoRAG-End-to-End-RAG-Framework-with-Turkish-Embedding-Evaluation\\requirements.txt (line 6)) (1.2.2)\n",
            "Requirement already satisfied: sniffio>=1.1 in c:\\users\\memo_\\appdata\\local\\programs\\python\\python310\\lib\\site-packages (from anyio->httpx>=0.20.0->httpx[http2]>=0.20.0->qdrant-client>=1.6.0->-r C:\\Users\\memo_\\Desktop\\Projeler\\AutoRAG-End-to-End-RAG-Framework-with-Turkish-Embedding-Evaluation\\requirements.txt (line 6)) (1.3.1)\n",
            "Requirement already satisfied: humanfriendly>=9.1 in c:\\users\\memo_\\appdata\\local\\programs\\python\\python310\\lib\\site-packages (from coloredlogs->onnxruntime>=1.19.0->unstructured[all-docs]->-r C:\\Users\\memo_\\Desktop\\Projeler\\AutoRAG-End-to-End-RAG-Framework-with-Turkish-Embedding-Evaluation\\requirements.txt (line 11)) (10.0)\n",
            "Requirement already satisfied: pycparser in c:\\users\\memo_\\appdata\\local\\programs\\python\\python310\\lib\\site-packages (from cffi>=1.12->cryptography>=36.0.0->pdfminer.six->unstructured[all-docs]->-r C:\\Users\\memo_\\Desktop\\Projeler\\AutoRAG-End-to-End-RAG-Framework-with-Turkish-Embedding-Evaluation\\requirements.txt (line 11)) (2.22)\n",
            "Requirement already satisfied: pyreadline3 in c:\\users\\memo_\\appdata\\local\\programs\\python\\python310\\lib\\site-packages (from humanfriendly>=9.1->coloredlogs->onnxruntime>=1.19.0->unstructured[all-docs]->-r C:\\Users\\memo_\\Desktop\\Projeler\\AutoRAG-End-to-End-RAG-Framework-with-Turkish-Embedding-Evaluation\\requirements.txt (line 11)) (3.5.4)\n",
            "Requirement already satisfied: mdurl~=0.1 in c:\\users\\memo_\\appdata\\local\\programs\\python\\python310\\lib\\site-packages (from markdown-it-py>=2.2.0->rich>=10.11.0->typer<1.0.0,>=0.3.0->spacy>=3.8.0->-r C:\\Users\\memo_\\Desktop\\Projeler\\AutoRAG-End-to-End-RAG-Framework-with-Turkish-Embedding-Evaluation\\requirements.txt (line 12)) (0.1.2)\n",
            "Requirement already satisfied: pyasn1<0.7.0,>=0.4.6 in c:\\users\\memo_\\appdata\\local\\programs\\python\\python310\\lib\\site-packages (from pyasn1-modules>=0.2.1->google-auth!=2.24.0,!=2.25.0,<3.0.0,>=2.14.1->google-cloud-vision->unstructured[all-docs]->-r C:\\Users\\memo_\\Desktop\\Projeler\\AutoRAG-End-to-End-RAG-Framework-with-Turkish-Embedding-Evaluation\\requirements.txt (line 11)) (0.6.1)\n"
          ]
        },
        {
          "name": "stderr",
          "output_type": "stream",
          "text": [
            "\n",
            "[notice] A new release of pip is available: 25.0.1 -> 25.1.1\n",
            "[notice] To update, run: python.exe -m pip install --upgrade pip\n"
          ]
        }
      ],
      "source": [
        "!pip install -r \"C:\\Users\\memo_\\Desktop\\Projeler\\AutoRAG-End-to-End-RAG-Framework-with-Turkish-Embedding-Evaluation\\requirements.txt\"\n"
      ]
    },
    {
      "cell_type": "code",
      "execution_count": 2,
      "id": "cda9adb4",
      "metadata": {
        "id": "cda9adb4"
      },
      "outputs": [],
      "source": [
        "import os\n",
        "os.environ['HF_HUB_DISABLE_SYMLINKS_WARNING'] = '1'"
      ]
    },
    {
      "cell_type": "code",
      "execution_count": 1,
      "id": "a1607005",
      "metadata": {
        "id": "a1607005"
      },
      "outputs": [
        {
          "name": "stderr",
          "output_type": "stream",
          "text": [
            "c:\\Users\\memo_\\AppData\\Local\\Programs\\Python\\Python310\\lib\\site-packages\\tqdm\\auto.py:21: TqdmWarning: IProgress not found. Please update jupyter and ipywidgets. See https://ipywidgets.readthedocs.io/en/stable/user_install.html\n",
            "  from .autonotebook import tqdm as notebook_tqdm\n"
          ]
        }
      ],
      "source": [
        "import glob\n",
        "import docx\n",
        "import nltk\n",
        "import transformers\n",
        "import torch\n",
        "import spacy\n",
        "import numpy as np\n",
        "import logging\n",
        "import unstructured\n",
        "import unstructured.partition.auto\n",
        "import zipfile\n",
        "import time"
      ]
    },
    {
      "cell_type": "code",
      "execution_count": 3,
      "id": "0dd0ed73",
      "metadata": {
        "colab": {
          "base_uri": "https://localhost:8080/"
        },
        "id": "0dd0ed73",
        "outputId": "9e4c60f8-cd13-497b-e9d2-7c5661dcf5f3"
      },
      "outputs": [
        {
          "name": "stdout",
          "output_type": "stream",
          "text": [
            "TensorFlow'u devre dışı bırakma ayarları yapıldı.\n",
            "USE_TF: 0\n",
            "TRANSFORMERS_NO_TF: 1\n",
            "Tüm kütüphaneler başarıyla import edildi!\n"
          ]
        }
      ],
      "source": [
        "import os\n",
        "\n",
        "# Transformers'ın TensorFlow modüllerini yüklemesini tamamen engelliyoruz:\n",
        "os.environ[\"USE_TF\"] = \"0\"\n",
        "os.environ[\"TRANSFORMERS_NO_TF\"] = \"1\"\n",
        "\n",
        "# Şimdi güvenle diğer kütüphaneleri import edebilirsiniz:\n",
        "print(\"TensorFlow'u devre dışı bırakma ayarları yapıldı.\")\n",
        "print(f\"USE_TF: {os.getenv('USE_TF')}\")\n",
        "print(f\"TRANSFORMERS_NO_TF: {os.getenv('TRANSFORMERS_NO_TF')}\")\n",
        "\n",
        "try:\n",
        "    from qdrant_client import QdrantClient\n",
        "    from nltk.tokenize import word_tokenize\n",
        "    from sentence_transformers import SentenceTransformer\n",
        "    from pypdf import PdfReader\n",
        "    from qdrant_client import QdrantClient\n",
        "    from qdrant_client.http.models import Distance, VectorParams\n",
        "    from transformers import BitsAndBytesConfig, AutoModelForCausalLM, AutoTokenizer, pipeline\n",
        "    from sklearn.metrics.pairwise import cosine_similarity\n",
        "    from unstructured.partition.auto import partition\n",
        "    from io import BytesIO\n",
        "    from tqdm import tqdm\n",
        "    print(\"Tüm kütüphaneler başarıyla import edildi!\")\n",
        "except Exception as e:\n",
        "    print(f\"Import sırasında bir hata oluştu: {e}\")\n",
        "    import traceback\n",
        "    traceback.print_exc()"
      ]
    },
    {
      "cell_type": "code",
      "execution_count": 4,
      "id": "b7a8ffb1",
      "metadata": {
        "id": "b7a8ffb1"
      },
      "outputs": [],
      "source": [
        "# --- 1. Doküman Parsers ---\n",
        "\n",
        "# Logging ayarları\n",
        "logging.basicConfig(level=logging.INFO, format='%(asctime)s - %(levelname)s - %(message)s')\n",
        "\n",
        "# --- 1. Doküman Parsers ---\n",
        "\n",
        "def parse_with_unstructured(path):\n",
        "    \"\"\"\n",
        "    Belirtilen yoldaki dokümanı unstructured kütüphanesi ile ayrıştırır.\n",
        "    PDF, DOCX, TXT ve daha birçok formatı destekler.\n",
        "    \"\"\"\n",
        "    try:\n",
        "        elements = partition(filename=path)\n",
        "        # Elementler genellikle Text, NarrativeText, Title gibi türlerdedir.\n",
        "        # Basitçe tüm metin içeriklerini birleştirelim.\n",
        "        return \"\\n\".join(str(el.text) for el in elements if hasattr(el, 'text') and el.text)\n",
        "    except Exception as e:\n",
        "        logging.error(f\"Unstructured ile '{path}' ayrıştırılırken hata: {e}\")\n",
        "        # İsteğe bağlı: Hata durumunda belirli ayrıştırıcılara geri dönebilirsiniz.\n",
        "        # Örneğin, eğer PDF ise ve unstructured başarısız olursa parse_pdf_pypdf'i deneyebilirsiniz.\n",
        "        if path.lower().endswith(\".pdf\"):\n",
        "            logging.info(f\"Unstructured başarısız oldu, '{path}' için pypdf deneniyor...\")\n",
        "            return parse_pdf_pypdf(path) # Yedek pypdf ayrıştırıcısı\n",
        "        elif path.lower().endswith(\".docx\"):\n",
        "            logging.info(f\"Unstructured başarısız oldu, '{path}' için python-docx deneniyor...\")\n",
        "            return parse_docx_python_docx(path) # Yedek python-docx ayrıştırıcısı\n",
        "        elif path.lower().endswith(\".txt\"):\n",
        "             logging.info(f\"Unstructured başarısız oldu, '{path}' için yerel TXT okuyucu deneniyor...\")\n",
        "             return parse_txt_native(path) # Yedek TXT ayrıştırıcısı\n",
        "        return None\n",
        "\n",
        "def parse_pdf_pypdf(path):\n",
        "    \"\"\"pypdf kullanarak PDF dosyasını ayrıştırır (unstructured'a yedek).\"\"\"\n",
        "    try:\n",
        "        reader = PdfReader(path)\n",
        "        text_parts = []\n",
        "        for page in reader.pages:\n",
        "            extracted_text = page.extract_text()\n",
        "            if extracted_text: # Boş metinleri ekleme\n",
        "                text_parts.append(extracted_text)\n",
        "        return \"\\n\".join(text_parts) if text_parts else None\n",
        "    except Exception as e:\n",
        "        logging.error(f\"pypdf ile PDF '{path}' ayrıştırılırken hata: {e}\")\n",
        "        return None\n",
        "\n",
        "def parse_docx_python_docx(path):\n",
        "    \"\"\"python-docx kullanarak DOCX dosyasını ayrıştırır (unstructured'a yedek).\"\"\"\n",
        "    try:\n",
        "        doc = docx.Document(path)\n",
        "        return \"\\n\".join(p.text for p in doc.paragraphs if p.text)\n",
        "    except Exception as e:\n",
        "        logging.error(f\"python-docx ile DOCX '{path}' ayrıştırılırken hata: {e}\")\n",
        "        return None\n",
        "\n",
        "def parse_txt_native(path):\n",
        "    \"\"\"Standart Python ile TXT dosyasını ayrıştırır (unstructured'a yedek).\"\"\"\n",
        "    try:\n",
        "        with open(path, encoding=\"utf-8\") as f:\n",
        "            return f.read()\n",
        "    except Exception as e:\n",
        "        logging.error(f\"TXT '{path}' okunurken hata: {e}\")\n",
        "        return None"
      ]
    },
    {
      "cell_type": "code",
      "execution_count": 5,
      "id": "09a29c19",
      "metadata": {},
      "outputs": [],
      "source": [
        "def process_file(path, use_unstructured_primarily):\n",
        "    content = None\n",
        "    if use_unstructured_primarily:\n",
        "        content = parse_with_unstructured(path)\n",
        "    else:\n",
        "        if path.lower().endswith(\".pdf\"):\n",
        "            content = parse_pdf_pypdf(path)\n",
        "        elif path.lower().endswith(\".docx\"):\n",
        "            content = parse_docx_python_docx(path)\n",
        "        elif path.lower().endswith(\".txt\"):\n",
        "            content = parse_txt_native(path)\n",
        "    return content\n"
      ]
    },
    {
      "cell_type": "code",
      "execution_count": 6,
      "id": "b5cf9c36",
      "metadata": {},
      "outputs": [],
      "source": [
        "def load_documents(source_path, use_unstructured_primarily=False):\n",
        "    \"\"\"\n",
        "    Bir klasör ya da .zip dosyasından belgeleri okur.\n",
        "    PDF, DOCX ve TXT belgeleri desteklenmektedir.\n",
        "    \"\"\"\n",
        "    docs = {}\n",
        "    supported_extensions = (\".pdf\", \".docx\", \".txt\")\n",
        "\n",
        "    # Kaynak klasör mü yoksa zip mi kontrolü\n",
        "    if os.path.isdir(source_path):\n",
        "        # Klasörse, eski yöntemi uygula\n",
        "        search_pattern = os.path.join(source_path, \"**\", \"*\")\n",
        "        for path in glob.glob(search_pattern, recursive=True):\n",
        "            if os.path.isfile(path) and path.lower().endswith(supported_extensions):\n",
        "                logging.info(f\"İşleniyor: {path}\")\n",
        "                content = process_file(path, use_unstructured_primarily)\n",
        "                if content:\n",
        "                    docs[path] = content\n",
        "                    logging.info(f\"'{os.path.basename(path)}' başarıyla yüklendi. Uzunluk: {len(content)} karakter.\")\n",
        "                else:\n",
        "                    logging.warning(f\"'{os.path.basename(path)}' için içerik ayrıştırılamadı veya boş.\")\n",
        "    elif zipfile.is_zipfile(source_path):\n",
        "        with zipfile.ZipFile(source_path, 'r') as zip_ref:\n",
        "            for file_name in zip_ref.namelist():\n",
        "                if file_name.lower().endswith(supported_extensions) and not file_name.endswith('/'):\n",
        "                    try:\n",
        "                        with zip_ref.open(file_name) as file:\n",
        "                            raw_data = file.read()\n",
        "                            temp_path = f\"./tmp_{os.path.basename(file_name)}\"\n",
        "                            with open(temp_path, \"wb\") as temp_file:\n",
        "                                temp_file.write(raw_data)\n",
        "                            content = process_file(temp_path, use_unstructured_primarily)\n",
        "                            if content:\n",
        "                                docs[file_name] = content\n",
        "                                logging.info(f\"'{file_name}' başarıyla yüklendi. Uzunluk: {len(content)} karakter.\")\n",
        "                            else:\n",
        "                                logging.warning(f\"'{file_name}' için içerik ayrıştırılamadı.\")\n",
        "                    except Exception as e:\n",
        "                        logging.error(f\"{file_name} okunurken hata oluştu: {e}\")\n",
        "    else:\n",
        "        raise ValueError(\"Verilen kaynak klasör veya .zip dosyası olmalıdır.\")\n",
        "\n",
        "    return docs"
      ]
    },
    {
      "cell_type": "code",
      "execution_count": 8,
      "id": "a0BkTAm93iUX",
      "metadata": {
        "colab": {
          "base_uri": "https://localhost:8080/"
        },
        "id": "a0BkTAm93iUX",
        "outputId": "d7c8d453-780e-4c97-e3b5-316a2375f8fb"
      },
      "outputs": [
        {
          "data": {
            "text/plain": [
              "'from unstructured.partition.auto import partition  # colab dışında çalıştırılırken yorum satırından kaldırılacak\\ndocuments_folder_path = \"dosya yoluuuu \\\\AutoRAG-End-to-End-RAG-Framework-with-Turkish-Embedding-Evaluation\\\\wikipedia_documents.zip\"\\nall_documents = load_documents(documents_folder_path, use_unstructured_primarily=True)\\n\\nif not all_documents:\\n   print(f\"\\'{documents_folder_path}\\' klasöründe (ve alt klasörlerinde) desteklenen formatta doküman bulunamadı veya işlenemedi.\")\\nelse:\\n   print(f\"\\nToplam {len(all_documents)} doküman bulundu ve işlendi:\")\\n   for path, text_content in all_documents.items():\\n       print(f\"\\n--- Doküman: {path} ---\")\\n       # İlk 200 karakteri göster\\n       print((text_content[:200] + \"...\") if text_content and len(text_content) > 200 else text_content)'"
            ]
          },
          "execution_count": 8,
          "metadata": {},
          "output_type": "execute_result"
        }
      ],
      "source": [
        " # --- Örnek Kullanım Parsers ---\n",
        "\"\"\"from unstructured.partition.auto import partition  # colab dışında çalıştırılırken yorum satırından kaldırılacak\n",
        "documents_folder_path = \"dosya yoluuuu \\\\AutoRAG-End-to-End-RAG-Framework-with-Turkish-Embedding-Evaluation\\\\wikipedia_documents.zip\"\n",
        "all_documents = load_documents(documents_folder_path, use_unstructured_primarily=True)\n",
        "\n",
        "if not all_documents:\n",
        "    print(f\"'{documents_folder_path}' klasöründe (ve alt klasörlerinde) desteklenen formatta doküman bulunamadı veya işlenemedi.\")\n",
        "else:\n",
        "    print(f\"\\nToplam {len(all_documents)} doküman bulundu ve işlendi:\")\n",
        "    for path, text_content in all_documents.items():\n",
        "        print(f\"\\n--- Doküman: {path} ---\")\n",
        "        # İlk 200 karakteri göster\n",
        "        print((text_content[:200] + \"...\") if text_content and len(text_content) > 200 else text_content)\"\"\"\n"
      ]
    },
    {
      "cell_type": "code",
      "execution_count": 7,
      "id": "PblsY5HO15n8",
      "metadata": {
        "id": "PblsY5HO15n8"
      },
      "outputs": [
        {
          "name": "stderr",
          "output_type": "stream",
          "text": [
            "2025-07-29 23:49:53,385 - INFO - Use pytorch device_name: cpu\n",
            "2025-07-29 23:49:53,386 - INFO - Load pretrained SentenceTransformer: Trendyol/TY-ecomm-embed-multilingual-base-v1.2.0\n",
            "2025-07-29 23:50:00,721 - WARNING - WARNING[XFORMERS]: xFormers can't load C++/CUDA extensions. xFormers was built for:\n",
            "    PyTorch 2.0.1+cu118 with CUDA 1108 (you have 2.7.1+cpu)\n",
            "    Python  3.10.11 (you have 3.10.11)\n",
            "  Please reinstall xformers (see https://github.com/facebookresearch/xformers#installing-xformers)\n",
            "  Memory-efficient attention, SwiGLU, sparse and more won't be available.\n",
            "  Set XFORMERS_MORE_DETAILS=1 for more details\n",
            "c:\\Users\\memo_\\AppData\\Local\\Programs\\Python\\Python310\\lib\\site-packages\\xformers\\ops\\swiglu_op.py:107: FutureWarning: `torch.cuda.amp.custom_fwd(args...)` is deprecated. Please use `torch.amp.custom_fwd(args..., device_type='cuda')` instead.\n",
            "  def forward(cls, ctx, x, w1, b1, w2, b2, w3, b3):\n",
            "c:\\Users\\memo_\\AppData\\Local\\Programs\\Python\\Python310\\lib\\site-packages\\xformers\\ops\\swiglu_op.py:128: FutureWarning: `torch.cuda.amp.custom_bwd(args...)` is deprecated. Please use `torch.amp.custom_bwd(args..., device_type='cuda')` instead.\n",
            "  def backward(cls, ctx, dx5):\n"
          ]
        }
      ],
      "source": [
        "from sentence_transformers import SentenceTransformer\n",
        "\n",
        "matryoshka_dim = 768\n",
        "\n",
        "embed_model = SentenceTransformer(\"Trendyol/TY-ecomm-embed-multilingual-base-v1.2.0\", trust_remote_code=True, truncate_dim=matryoshka_dim)\n"
      ]
    },
    {
      "cell_type": "code",
      "execution_count": 8,
      "id": "a1e667e3",
      "metadata": {
        "colab": {
          "base_uri": "https://localhost:8080/",
          "height": 552,
          "referenced_widgets": [
            "fb3f35f847a74c348ac4b12b7bfdc0b2",
            "0f1ccd22962d42fd9d8bc5680ec6fdb3",
            "470f0c8e0923421bb9c3fa5353ef3810",
            "f37674d0883e4d7d8b4b8035e14c64e5",
            "e39501ce6495439d862651f1bef8db8f",
            "29cc1457fd9b4f13982185370f13bf40",
            "04fc34a016dd47bcbb816fa2e2b9b65e",
            "5615aa3599954a85ad67aa5aa1cc9a21",
            "0944a7ef799d47d0b42297e8cdba67b8",
            "a5251e366bac4550be8ddb5e29a4e7cd",
            "3257c1eb566a43748b0603b8510b4ec4",
            "dd25ba84aca04b4b927eadd8708a9195",
            "dd558c7095254a5e841d34d092c234e3",
            "f27e447c96ea4ce4b6a15fef69421643",
            "65ca1b015691427b8f63108e9b5b55fb",
            "0d031768ecb244a1adf1df99e2bff2bd",
            "aab05d61550a4f028ca78b24c162643a",
            "d2014651641c4f05b3632e31a149883f",
            "74d4e51a28b647c3a9a576ffbce9c3d5",
            "ebc7901d953e43fdacecb47bc9d62a60",
            "ff3b7be8f84a40d0a8352cb4379b0c4a",
            "28f5251c6da84c82b495a7d9728e0123"
          ]
        },
        "id": "a1e667e3",
        "outputId": "06be5330-1f6b-4580-cd9e-5efe35c211a6"
      },
      "outputs": [
        {
          "name": "stderr",
          "output_type": "stream",
          "text": [
            "Downloading https://raw.githubusercontent.com/stanfordnlp/stanza-resources/main/resources_1.10.0.json: 433kB [00:00, 8.92MB/s]                    \n",
            "2025-07-29 23:50:03,773 - INFO - Downloaded file to C:\\Users\\memo_\\stanza_resources\\resources.json\n",
            "2025-07-29 23:50:03,816 - INFO - Downloading default packages for language: tr (Turkish) ...\n",
            "2025-07-29 23:50:04,785 - INFO - File exists: C:\\Users\\memo_\\stanza_resources\\tr\\default.zip\n",
            "2025-07-29 23:50:07,251 - INFO - Finished downloading models and saved to C:\\Users\\memo_\\stanza_resources\n",
            "2025-07-29 23:50:07,252 - INFO - Checking for updates to resources.json in case models have been updated.  Note: this behavior can be turned off with download_method=None or download_method=DownloadMethod.REUSE_RESOURCES\n",
            "Downloading https://raw.githubusercontent.com/stanfordnlp/stanza-resources/main/resources_1.10.0.json: 433kB [00:00, 8.99MB/s]                    \n",
            "2025-07-29 23:50:07,458 - INFO - Downloaded file to C:\\Users\\memo_\\stanza_resources\\resources.json\n",
            "2025-07-29 23:50:08,310 - INFO - Loading these models for language: tr (Turkish):\n",
            "=============================\n",
            "| Processor | Package       |\n",
            "-----------------------------\n",
            "| tokenize  | imst          |\n",
            "| mwt       | imst          |\n",
            "| pos       | imst_charlm   |\n",
            "| lemma     | imst_nocharlm |\n",
            "| depparse  | imst_charlm   |\n",
            "| ner       | starlang      |\n",
            "=============================\n",
            "\n",
            "2025-07-29 23:50:08,311 - INFO - Using device: cpu\n",
            "2025-07-29 23:50:08,311 - INFO - Loading: tokenize\n",
            "2025-07-29 23:50:08,340 - INFO - Loading: mwt\n",
            "2025-07-29 23:50:08,355 - INFO - Loading: pos\n",
            "2025-07-29 23:50:11,006 - INFO - Loading: lemma\n",
            "2025-07-29 23:50:11,394 - INFO - Loading: depparse\n",
            "2025-07-29 23:50:11,678 - INFO - Loading: ner\n",
            "2025-07-29 23:50:14,632 - INFO - Done loading processors!\n"
          ]
        }
      ],
      "source": [
        "import stanza\n",
        "\n",
        "stanza.download('tr')  # 'tr' = Türkçe\n",
        "\n",
        "nlp_tr = stanza.Pipeline('tr')"
      ]
    },
    {
      "cell_type": "code",
      "execution_count": 9,
      "id": "Pk3nmMhF1nak",
      "metadata": {
        "id": "Pk3nmMhF1nak"
      },
      "outputs": [],
      "source": [
        "def create_semantic_chunks_stanza(\n",
        "    text_content: str,\n",
        "    embed_model_instance,  # SentenceTransformer modeli\n",
        "    stanza_nlp_model,  # Yüklenmiş Stanza modeli (nlp_tr)\n",
        "    pre_segment_max_chars: int = 600,  # Ön segmentlerin maksimum karakter uzunluğu\n",
        "    pre_segment_max_sentences: int = 6,  # Ön segmentlerdeki maksimum cümle sayısı\n",
        "    similarity_threshold: float = 0.40,  # Nihai chunk'lar için benzerlik eşiği (0-1 arası)\n",
        "    final_chunk_min_pre_segments: int = 1,  # Bir nihai chunk'ta en az kaç ön-segment olmalı\n",
        "    final_chunk_max_pre_segments: int = 6,  # Bir nihai chunk'ta en fazla kaç ön-segment olmalı\n",
        "):\n",
        "    if not text_content or not text_content.strip() or not stanza_nlp_model:\n",
        "        return []\n",
        "\n",
        "    # 1. Adım: Metni Stanza ile cümlelere böl\n",
        "    doc = stanza_nlp_model(text_content)\n",
        "    sentences = [\" \".join([word.text for word in sentence.words]) for sentence in doc.sentences]\n",
        "\n",
        "    if not sentences:\n",
        "        return []\n",
        "\n",
        "    # 2. Adım: Cümleleri \"ön-segmentlere\" birleştir\n",
        "    pre_segments = []\n",
        "    current_pre_segment_sentences = []\n",
        "    current_pre_segment_chars = 0\n",
        "    for sentence in sentences:\n",
        "        # Ön segment için karakter veya cümle limitine ulaşıldı mı?\n",
        "        if (current_pre_segment_chars + len(sentence) > pre_segment_max_chars and current_pre_segment_sentences) or \\\n",
        "           (len(current_pre_segment_sentences) >= pre_segment_max_sentences):\n",
        "            pre_segments.append(\" \".join(current_pre_segment_sentences))\n",
        "            current_pre_segment_sentences = []\n",
        "            current_pre_segment_chars = 0\n",
        "\n",
        "        current_pre_segment_sentences.append(sentence)\n",
        "        current_pre_segment_chars += len(sentence)\n",
        "\n",
        "    # Kalan son ön-segmenti ekle\n",
        "    if current_pre_segment_sentences:\n",
        "        pre_segments.append(\" \".join(current_pre_segment_sentences))\n",
        "\n",
        "    if not pre_segments:\n",
        "        return []\n",
        "\n",
        "    # 3. Adım: Ön-segmentlerin embedding'lerini al\n",
        "    if len(pre_segments) == 1:  # Sadece bir ön-segment varsa, onu direkt chunk olarak döndür\n",
        "        return pre_segments\n",
        "\n",
        "    pre_segment_embeddings = embed_model.encode(pre_segments, convert_to_numpy=True)\n",
        "\n",
        "    # 4. Adım: Ön-segmentleri anlamsal olarak nihai chunk'lara birleştir\n",
        "    final_chunks = []\n",
        "    # Metinleri ve embedding indekslerini saklamak için listeler\n",
        "    current_final_chunk_pre_segments_texts = [pre_segments[0]]\n",
        "    # current_final_chunk_pre_segments_indices = [0] # İndeksler şu an direkt kullanılmıyor ama ileride lazım olabilir\n",
        "\n",
        "    for i in range(1, len(pre_segments)):\n",
        "        emb_current_pre_segment = pre_segment_embeddings[i]\n",
        "        emb_previous_pre_segment = pre_segment_embeddings[i-1] # Bir önceki ön-segmentle karşılaştır\n",
        "\n",
        "        # Kosinüs benzerliğini hesapla\n",
        "        similarity_score = cosine_similarity([emb_current_pre_segment], [emb_previous_pre_segment])[0][0]\n",
        "        # similarity_score = np.clip(similarity_score, -1.0, 1.0) # İsteğe bağlı ekstra güvenlik\n",
        "\n",
        "        split_condition_met = False\n",
        "\n",
        "        # Benzerlik, belirlenen eşiğin ALTINDAYSA yeni bir chunk başlat\n",
        "        if similarity_score < similarity_threshold:\n",
        "            split_condition_met = True\n",
        "\n",
        "        # Nihai chunk için maksimum ön-segment sayısına ulaşıldı mı?\n",
        "        if len(current_final_chunk_pre_segments_texts) >= final_chunk_max_pre_segments:\n",
        "            split_condition_met = True\n",
        "\n",
        "        # Bölme koşulu sağlandıysa ve mevcut chunk minimum boyuttaysa, chunk'ı sonlandır\n",
        "        if split_condition_met and len(current_final_chunk_pre_segments_texts) >= final_chunk_min_pre_segments:\n",
        "            final_chunks.append(\" \".join(current_final_chunk_pre_segments_texts))\n",
        "            current_final_chunk_pre_segments_texts = [pre_segments[i]] # Yeni chunk bu ön-segmentle başlar\n",
        "            # current_final_chunk_pre_segments_indices = [i]\n",
        "        else:\n",
        "            # Bölme koşulu sağlanmadıysa veya chunk minimum boyutta değilse, mevcut chunk'a ekle\n",
        "            current_final_chunk_pre_segments_texts.append(pre_segments[i])\n",
        "            # current_final_chunk_pre_segments_indices.append(i)\n",
        "\n",
        "    # Döngü bittikten sonra kalan son nihai chunk'ı ekle\n",
        "    if current_final_chunk_pre_segments_texts and len(current_final_chunk_pre_segments_texts) >= final_chunk_min_pre_segments:\n",
        "        final_chunks.append(\" \".join(current_final_chunk_pre_segments_texts))\n",
        "\n",
        "    return [chunk for chunk in final_chunks if chunk.strip()] # Boş chunk'ları temizle"
      ]
    },
    {
      "cell_type": "code",
      "execution_count": 10,
      "id": "a53a52fd",
      "metadata": {},
      "outputs": [],
      "source": [
        "DATA_FOLDER = \"C:/Users/memo_/Downloads/extracted_wikidump_data/AA\""
      ]
    },
    {
      "cell_type": "code",
      "execution_count": 12,
      "id": "d4c63ce5",
      "metadata": {},
      "outputs": [
        {
          "name": "stdout",
          "output_type": "stream",
          "text": [
            "\n",
            "[+] İşleniyor: wiki_00 → koleksiyon: wiki_00\n",
            "\n",
            "[+] İşleniyor: wiki_01 → koleksiyon: wiki_01\n",
            "\n",
            "[+] İşleniyor: wiki_02 → koleksiyon: wiki_02\n",
            "\n",
            "[+] İşleniyor: wiki_03 → koleksiyon: wiki_03\n",
            "\n",
            "[+] İşleniyor: wiki_04 → koleksiyon: wiki_04\n",
            "\n",
            "[+] İşleniyor: wiki_05 → koleksiyon: wiki_05\n",
            "\n",
            "[+] İşleniyor: wiki_06 → koleksiyon: wiki_06\n",
            "\n",
            "[+] İşleniyor: wiki_07 → koleksiyon: wiki_07\n",
            "\n",
            "[+] İşleniyor: wiki_08 → koleksiyon: wiki_08\n",
            "\n",
            "[+] İşleniyor: wiki_09 → koleksiyon: wiki_09\n"
          ]
        }
      ],
      "source": [
        "import json\n",
        "\n",
        "all_documents = {}\n",
        "# --- Ana döngü: her dosya için çalış ---\n",
        "for filename in sorted(os.listdir(DATA_FOLDER))[:10]:\n",
        "    if not filename.startswith(\"wiki_\"):\n",
        "        continue\n",
        "\n",
        "    file_path = os.path.join(DATA_FOLDER, filename)\n",
        "    collection_name = os.path.splitext(filename)[0]  # wiki_00\n",
        "\n",
        "    print(f\"\\n[+] İşleniyor: {filename} → koleksiyon: {collection_name}\")\n",
        "\n",
        "    with open(file_path, \"r\", encoding=\"utf-8\") as file:\n",
        "        for line_idx, line in enumerate(file):\n",
        "            try:\n",
        "                data = json.loads(line)\n",
        "                key = f\"{filename}_line_{line_idx}\"\n",
        "                all_documents[key] = {\n",
        "                    \"title\": data.get(\"title\", \"\"),\n",
        "                    \"url\": data.get(\"url\", \"\"),\n",
        "                    \"text\": data.get(\"text\", \"\")\n",
        "                }\n",
        "            except Exception as e:\n",
        "                print(f\"[!] Satır {line_idx} okunamadı: {e}\")"
      ]
    },
    {
      "cell_type": "code",
      "execution_count": 14,
      "id": "9f5f3cc3",
      "metadata": {},
      "outputs": [
        {
          "name": "stdout",
          "output_type": "stream",
          "text": [
            "1838\n"
          ]
        }
      ],
      "source": [
        "print(len(all_documents))"
      ]
    },
    {
      "cell_type": "code",
      "execution_count": 15,
      "id": "5d215a5b",
      "metadata": {},
      "outputs": [
        {
          "name": "stdout",
          "output_type": "stream",
          "text": [
            "wiki_00: 44 belge\n",
            "wiki_01: 67 belge\n",
            "wiki_02: 91 belge\n",
            "wiki_03: 108 belge\n",
            "wiki_04: 71 belge\n",
            "wiki_05: 209 belge\n",
            "wiki_06: 1018 belge\n",
            "wiki_07: 75 belge\n",
            "wiki_08: 100 belge\n",
            "wiki_09: 55 belge\n"
          ]
        }
      ],
      "source": [
        "from collections import defaultdict\n",
        "\n",
        "file_counts = defaultdict(int)\n",
        "for key in all_documents:\n",
        "    file_name = key.split(\"_line_\")[0]\n",
        "    file_counts[file_name] += 1\n",
        "\n",
        "for file_name, count in sorted(file_counts.items()):\n",
        "    print(f\"{file_name}: {count} belge\")\n"
      ]
    },
    {
      "cell_type": "code",
      "execution_count": null,
      "id": "68f930b9",
      "metadata": {
        "colab": {
          "base_uri": "https://localhost:8080/"
        },
        "id": "68f930b9",
        "outputId": "d1222204-c898-41ef-e98e-0056f3697fe8"
      },
      "outputs": [
        {
          "name": "stderr",
          "output_type": "stream",
          "text": [
            "Batches: 100%|██████████| 7/7 [00:12<00:00,  1.85s/it]\n"
          ]
        },
        {
          "name": "stdout",
          "output_type": "stream",
          "text": [
            "'wiki_00_line_0' dosyasından 66 adet semantic chunk üretildi.\n",
            "'wiki_00_line_1' dosyasından 1 adet semantic chunk üretildi.\n"
          ]
        },
        {
          "name": "stderr",
          "output_type": "stream",
          "text": [
            "Batches: 100%|██████████| 2/2 [00:02<00:00,  1.50s/it]\n"
          ]
        },
        {
          "name": "stdout",
          "output_type": "stream",
          "text": [
            "'wiki_00_line_2' dosyasından 20 adet semantic chunk üretildi.\n"
          ]
        },
        {
          "name": "stderr",
          "output_type": "stream",
          "text": [
            "Batches: 100%|██████████| 1/1 [00:01<00:00,  1.92s/it]\n"
          ]
        },
        {
          "name": "stdout",
          "output_type": "stream",
          "text": [
            "'wiki_00_line_3' dosyasından 9 adet semantic chunk üretildi.\n",
            "Uyarı: 'wiki_00_line_4' dosyası boş veya sadece boşluk içeriyor.\n"
          ]
        },
        {
          "name": "stderr",
          "output_type": "stream",
          "text": [
            "Batches: 100%|██████████| 1/1 [00:00<00:00,  1.01it/s]\n"
          ]
        },
        {
          "name": "stdout",
          "output_type": "stream",
          "text": [
            "'wiki_00_line_5' dosyasından 5 adet semantic chunk üretildi.\n"
          ]
        },
        {
          "name": "stderr",
          "output_type": "stream",
          "text": [
            "Batches: 100%|██████████| 4/4 [00:07<00:00,  1.80s/it]\n"
          ]
        },
        {
          "name": "stdout",
          "output_type": "stream",
          "text": [
            "'wiki_00_line_6' dosyasından 32 adet semantic chunk üretildi.\n"
          ]
        },
        {
          "name": "stderr",
          "output_type": "stream",
          "text": [
            "Batches: 100%|██████████| 1/1 [00:00<00:00,  1.18it/s]\n"
          ]
        },
        {
          "name": "stdout",
          "output_type": "stream",
          "text": [
            "'wiki_00_line_7' dosyasından 6 adet semantic chunk üretildi.\n"
          ]
        },
        {
          "name": "stderr",
          "output_type": "stream",
          "text": [
            "Batches: 100%|██████████| 1/1 [00:00<00:00,  3.83it/s]\n"
          ]
        },
        {
          "name": "stdout",
          "output_type": "stream",
          "text": [
            "'wiki_00_line_8' dosyasından 2 adet semantic chunk üretildi.\n",
            "'wiki_00_line_9' dosyasından 1 adet semantic chunk üretildi.\n"
          ]
        },
        {
          "name": "stderr",
          "output_type": "stream",
          "text": [
            "Batches: 100%|██████████| 4/4 [00:06<00:00,  1.63s/it]\n"
          ]
        },
        {
          "name": "stdout",
          "output_type": "stream",
          "text": [
            "'wiki_00_line_10' dosyasından 30 adet semantic chunk üretildi.\n"
          ]
        },
        {
          "name": "stderr",
          "output_type": "stream",
          "text": [
            "Batches: 100%|██████████| 1/1 [00:00<00:00,  3.63it/s]\n"
          ]
        },
        {
          "name": "stdout",
          "output_type": "stream",
          "text": [
            "'wiki_00_line_11' dosyasından 1 adet semantic chunk üretildi.\n"
          ]
        },
        {
          "name": "stderr",
          "output_type": "stream",
          "text": [
            "Batches: 100%|██████████| 1/1 [00:00<00:00,  3.56it/s]\n"
          ]
        },
        {
          "name": "stdout",
          "output_type": "stream",
          "text": [
            "'wiki_00_line_12' dosyasından 3 adet semantic chunk üretildi.\n"
          ]
        },
        {
          "name": "stderr",
          "output_type": "stream",
          "text": [
            "Batches: 100%|██████████| 1/1 [00:00<00:00,  1.23it/s]\n"
          ]
        },
        {
          "name": "stdout",
          "output_type": "stream",
          "text": [
            "'wiki_00_line_13' dosyasından 7 adet semantic chunk üretildi.\n"
          ]
        },
        {
          "name": "stderr",
          "output_type": "stream",
          "text": [
            "Batches: 100%|██████████| 1/1 [00:02<00:00,  2.05s/it]\n"
          ]
        },
        {
          "name": "stdout",
          "output_type": "stream",
          "text": [
            "'wiki_00_line_14' dosyasından 7 adet semantic chunk üretildi.\n"
          ]
        },
        {
          "name": "stderr",
          "output_type": "stream",
          "text": [
            "Batches: 100%|██████████| 1/1 [00:00<00:00,  1.01it/s]\n"
          ]
        },
        {
          "name": "stdout",
          "output_type": "stream",
          "text": [
            "'wiki_00_line_15' dosyasından 3 adet semantic chunk üretildi.\n",
            "Uyarı: 'wiki_00_line_16' dosyası boş veya sadece boşluk içeriyor.\n"
          ]
        },
        {
          "name": "stderr",
          "output_type": "stream",
          "text": [
            "Batches: 100%|██████████| 1/1 [00:02<00:00,  2.54s/it]\n"
          ]
        },
        {
          "name": "stdout",
          "output_type": "stream",
          "text": [
            "'wiki_00_line_17' dosyasından 7 adet semantic chunk üretildi.\n"
          ]
        },
        {
          "name": "stderr",
          "output_type": "stream",
          "text": [
            "Batches: 100%|██████████| 1/1 [00:00<00:00,  2.82it/s]\n"
          ]
        },
        {
          "name": "stdout",
          "output_type": "stream",
          "text": [
            "'wiki_00_line_18' dosyasından 1 adet semantic chunk üretildi.\n"
          ]
        },
        {
          "name": "stderr",
          "output_type": "stream",
          "text": [
            "Batches: 100%|██████████| 2/2 [00:05<00:00,  2.75s/it]\n"
          ]
        },
        {
          "name": "stdout",
          "output_type": "stream",
          "text": [
            "'wiki_00_line_19' dosyasından 9 adet semantic chunk üretildi.\n"
          ]
        },
        {
          "name": "stderr",
          "output_type": "stream",
          "text": [
            "Batches: 100%|██████████| 1/1 [00:03<00:00,  3.21s/it]\n"
          ]
        },
        {
          "name": "stdout",
          "output_type": "stream",
          "text": [
            "'wiki_00_line_20' dosyasından 9 adet semantic chunk üretildi.\n"
          ]
        },
        {
          "name": "stderr",
          "output_type": "stream",
          "text": [
            "Batches: 100%|██████████| 1/1 [00:02<00:00,  2.21s/it]\n"
          ]
        },
        {
          "name": "stdout",
          "output_type": "stream",
          "text": [
            "'wiki_00_line_21' dosyasından 5 adet semantic chunk üretildi.\n"
          ]
        },
        {
          "name": "stderr",
          "output_type": "stream",
          "text": [
            "Batches: 100%|██████████| 4/4 [00:19<00:00,  4.91s/it]\n"
          ]
        },
        {
          "name": "stdout",
          "output_type": "stream",
          "text": [
            "'wiki_00_line_22' dosyasından 36 adet semantic chunk üretildi.\n",
            "'wiki_00_line_23' dosyasından 1 adet semantic chunk üretildi.\n"
          ]
        },
        {
          "name": "stderr",
          "output_type": "stream",
          "text": [
            "Batches: 100%|██████████| 1/1 [00:00<00:00,  1.80it/s]\n"
          ]
        },
        {
          "name": "stdout",
          "output_type": "stream",
          "text": [
            "'wiki_00_line_24' dosyasından 1 adet semantic chunk üretildi.\n"
          ]
        },
        {
          "name": "stderr",
          "output_type": "stream",
          "text": [
            "Batches: 100%|██████████| 4/4 [00:16<00:00,  4.18s/it]\n"
          ]
        },
        {
          "name": "stdout",
          "output_type": "stream",
          "text": [
            "'wiki_00_line_25' dosyasından 29 adet semantic chunk üretildi.\n"
          ]
        },
        {
          "name": "stderr",
          "output_type": "stream",
          "text": [
            "Batches: 100%|██████████| 2/2 [00:07<00:00,  3.83s/it]\n"
          ]
        },
        {
          "name": "stdout",
          "output_type": "stream",
          "text": [
            "'wiki_00_line_26' dosyasından 18 adet semantic chunk üretildi.\n"
          ]
        },
        {
          "name": "stderr",
          "output_type": "stream",
          "text": [
            "Batches: 100%|██████████| 2/2 [00:07<00:00,  3.80s/it]\n"
          ]
        },
        {
          "name": "stdout",
          "output_type": "stream",
          "text": [
            "'wiki_00_line_27' dosyasından 11 adet semantic chunk üretildi.\n"
          ]
        },
        {
          "name": "stderr",
          "output_type": "stream",
          "text": [
            "Batches: 100%|██████████| 1/1 [00:03<00:00,  3.41s/it]\n"
          ]
        },
        {
          "name": "stdout",
          "output_type": "stream",
          "text": [
            "'wiki_00_line_28' dosyasından 14 adet semantic chunk üretildi.\n",
            "Uyarı: 'wiki_00_line_29' dosyası boş veya sadece boşluk içeriyor.\n"
          ]
        },
        {
          "name": "stderr",
          "output_type": "stream",
          "text": [
            "Batches: 100%|██████████| 1/1 [00:02<00:00,  2.93s/it]\n"
          ]
        },
        {
          "name": "stdout",
          "output_type": "stream",
          "text": [
            "'wiki_00_line_30' dosyasından 6 adet semantic chunk üretildi.\n"
          ]
        },
        {
          "name": "stderr",
          "output_type": "stream",
          "text": [
            "Batches: 100%|██████████| 1/1 [00:01<00:00,  1.84s/it]\n"
          ]
        },
        {
          "name": "stdout",
          "output_type": "stream",
          "text": [
            "'wiki_00_line_31' dosyasından 5 adet semantic chunk üretildi.\n"
          ]
        },
        {
          "name": "stderr",
          "output_type": "stream",
          "text": [
            "Batches: 100%|██████████| 1/1 [00:04<00:00,  4.74s/it]\n"
          ]
        },
        {
          "name": "stdout",
          "output_type": "stream",
          "text": [
            "'wiki_00_line_32' dosyasından 9 adet semantic chunk üretildi.\n"
          ]
        },
        {
          "name": "stderr",
          "output_type": "stream",
          "text": [
            "Batches: 100%|██████████| 1/1 [00:04<00:00,  4.20s/it]\n"
          ]
        },
        {
          "name": "stdout",
          "output_type": "stream",
          "text": [
            "'wiki_00_line_33' dosyasından 5 adet semantic chunk üretildi.\n",
            "'wiki_00_line_34' dosyasından 1 adet semantic chunk üretildi.\n"
          ]
        },
        {
          "name": "stderr",
          "output_type": "stream",
          "text": [
            "Batches: 100%|██████████| 2/2 [00:08<00:00,  4.39s/it]\n"
          ]
        },
        {
          "name": "stdout",
          "output_type": "stream",
          "text": [
            "'wiki_00_line_35' dosyasından 16 adet semantic chunk üretildi.\n"
          ]
        },
        {
          "name": "stderr",
          "output_type": "stream",
          "text": [
            "Batches: 100%|██████████| 1/1 [00:03<00:00,  3.72s/it]\n"
          ]
        },
        {
          "name": "stdout",
          "output_type": "stream",
          "text": [
            "'wiki_00_line_36' dosyasından 5 adet semantic chunk üretildi.\n"
          ]
        },
        {
          "name": "stderr",
          "output_type": "stream",
          "text": [
            "Batches: 100%|██████████| 3/3 [00:11<00:00,  3.90s/it]\n"
          ]
        },
        {
          "name": "stdout",
          "output_type": "stream",
          "text": [
            "'wiki_00_line_37' dosyasından 22 adet semantic chunk üretildi.\n"
          ]
        },
        {
          "name": "stderr",
          "output_type": "stream",
          "text": [
            "Batches: 100%|██████████| 1/1 [00:02<00:00,  2.65s/it]\n"
          ]
        },
        {
          "name": "stdout",
          "output_type": "stream",
          "text": [
            "'wiki_00_line_38' dosyasından 3 adet semantic chunk üretildi.\n"
          ]
        },
        {
          "name": "stderr",
          "output_type": "stream",
          "text": [
            "Batches: 100%|██████████| 2/2 [00:09<00:00,  4.79s/it]\n"
          ]
        },
        {
          "name": "stdout",
          "output_type": "stream",
          "text": [
            "'wiki_00_line_39' dosyasından 18 adet semantic chunk üretildi.\n"
          ]
        },
        {
          "name": "stderr",
          "output_type": "stream",
          "text": [
            "Batches: 100%|██████████| 1/1 [00:03<00:00,  3.00s/it]\n"
          ]
        },
        {
          "name": "stdout",
          "output_type": "stream",
          "text": [
            "'wiki_00_line_40' dosyasından 7 adet semantic chunk üretildi.\n"
          ]
        },
        {
          "name": "stderr",
          "output_type": "stream",
          "text": [
            "Batches: 100%|██████████| 2/2 [00:07<00:00,  3.76s/it]\n"
          ]
        },
        {
          "name": "stdout",
          "output_type": "stream",
          "text": [
            "'wiki_00_line_41' dosyasından 15 adet semantic chunk üretildi.\n"
          ]
        },
        {
          "name": "stderr",
          "output_type": "stream",
          "text": [
            "Batches: 100%|██████████| 1/1 [00:00<00:00,  1.90it/s]\n"
          ]
        },
        {
          "name": "stdout",
          "output_type": "stream",
          "text": [
            "'wiki_00_line_42' dosyasından 1 adet semantic chunk üretildi.\n"
          ]
        },
        {
          "name": "stderr",
          "output_type": "stream",
          "text": [
            "Batches: 100%|██████████| 1/1 [00:04<00:00,  4.03s/it]\n"
          ]
        },
        {
          "name": "stdout",
          "output_type": "stream",
          "text": [
            "'wiki_00_line_43' dosyasından 5 adet semantic chunk üretildi.\n"
          ]
        },
        {
          "name": "stderr",
          "output_type": "stream",
          "text": [
            "Batches: 100%|██████████| 5/5 [00:25<00:00,  5.06s/it]\n"
          ]
        },
        {
          "name": "stdout",
          "output_type": "stream",
          "text": [
            "'wiki_01_line_0' dosyasından 63 adet semantic chunk üretildi.\n",
            "Uyarı: 'wiki_01_line_1' dosyası boş veya sadece boşluk içeriyor.\n"
          ]
        },
        {
          "name": "stderr",
          "output_type": "stream",
          "text": [
            "Batches: 100%|██████████| 5/5 [00:09<00:00,  1.94s/it]\n"
          ]
        },
        {
          "name": "stdout",
          "output_type": "stream",
          "text": [
            "'wiki_01_line_2' dosyasından 65 adet semantic chunk üretildi.\n",
            "Uyarı: 'wiki_01_line_3' dosyası boş veya sadece boşluk içeriyor.\n"
          ]
        },
        {
          "name": "stderr",
          "output_type": "stream",
          "text": [
            "Batches: 100%|██████████| 2/2 [00:03<00:00,  1.79s/it]\n"
          ]
        },
        {
          "name": "stdout",
          "output_type": "stream",
          "text": [
            "'wiki_01_line_4' dosyasından 15 adet semantic chunk üretildi.\n"
          ]
        },
        {
          "name": "stderr",
          "output_type": "stream",
          "text": [
            "Batches: 100%|██████████| 1/1 [00:00<00:00,  1.59it/s]\n"
          ]
        },
        {
          "name": "stdout",
          "output_type": "stream",
          "text": [
            "'wiki_01_line_5' dosyasından 4 adet semantic chunk üretildi.\n"
          ]
        },
        {
          "name": "stderr",
          "output_type": "stream",
          "text": [
            "Batches: 100%|██████████| 1/1 [00:00<00:00,  2.58it/s]\n"
          ]
        },
        {
          "name": "stdout",
          "output_type": "stream",
          "text": [
            "'wiki_01_line_6' dosyasından 2 adet semantic chunk üretildi.\n"
          ]
        },
        {
          "name": "stderr",
          "output_type": "stream",
          "text": [
            "Batches: 100%|██████████| 1/1 [00:00<00:00,  1.58it/s]\n"
          ]
        },
        {
          "name": "stdout",
          "output_type": "stream",
          "text": [
            "'wiki_01_line_7' dosyasından 3 adet semantic chunk üretildi.\n",
            "Uyarı: 'wiki_01_line_8' dosyası boş veya sadece boşluk içeriyor.\n"
          ]
        },
        {
          "name": "stderr",
          "output_type": "stream",
          "text": [
            "Batches: 100%|██████████| 10/10 [00:24<00:00,  2.43s/it]\n"
          ]
        },
        {
          "name": "stdout",
          "output_type": "stream",
          "text": [
            "'wiki_01_line_9' dosyasından 124 adet semantic chunk üretildi.\n",
            "Uyarı: 'wiki_01_line_10' dosyası boş veya sadece boşluk içeriyor.\n"
          ]
        },
        {
          "name": "stderr",
          "output_type": "stream",
          "text": [
            "Batches: 100%|██████████| 1/1 [00:00<00:00,  1.38it/s]\n"
          ]
        },
        {
          "name": "stdout",
          "output_type": "stream",
          "text": [
            "'wiki_01_line_11' dosyasından 2 adet semantic chunk üretildi.\n"
          ]
        },
        {
          "name": "stderr",
          "output_type": "stream",
          "text": [
            "Batches: 100%|██████████| 1/1 [00:05<00:00,  5.10s/it]\n"
          ]
        },
        {
          "name": "stdout",
          "output_type": "stream",
          "text": [
            "'wiki_01_line_12' dosyasından 6 adet semantic chunk üretildi.\n"
          ]
        },
        {
          "name": "stderr",
          "output_type": "stream",
          "text": [
            "Batches: 100%|██████████| 2/2 [00:06<00:00,  3.25s/it]\n"
          ]
        },
        {
          "name": "stdout",
          "output_type": "stream",
          "text": [
            "'wiki_01_line_13' dosyasından 14 adet semantic chunk üretildi.\n"
          ]
        },
        {
          "name": "stderr",
          "output_type": "stream",
          "text": [
            "Batches: 100%|██████████| 1/1 [00:01<00:00,  1.03s/it]\n"
          ]
        },
        {
          "name": "stdout",
          "output_type": "stream",
          "text": [
            "'wiki_01_line_14' dosyasından 5 adet semantic chunk üretildi.\n"
          ]
        },
        {
          "name": "stderr",
          "output_type": "stream",
          "text": [
            "Batches: 100%|██████████| 1/1 [00:01<00:00,  1.21s/it]\n"
          ]
        },
        {
          "name": "stdout",
          "output_type": "stream",
          "text": [
            "'wiki_01_line_15' dosyasından 2 adet semantic chunk üretildi.\n"
          ]
        },
        {
          "name": "stderr",
          "output_type": "stream",
          "text": [
            "Batches: 100%|██████████| 1/1 [00:00<00:00,  2.57it/s]\n"
          ]
        },
        {
          "name": "stdout",
          "output_type": "stream",
          "text": [
            "'wiki_01_line_16' dosyasından 2 adet semantic chunk üretildi.\n",
            "'wiki_01_line_17' dosyasından 1 adet semantic chunk üretildi.\n",
            "Uyarı: 'wiki_01_line_18' dosyası boş veya sadece boşluk içeriyor.\n",
            "Uyarı: 'wiki_01_line_19' dosyası boş veya sadece boşluk içeriyor.\n",
            "Uyarı: 'wiki_01_line_20' dosyası boş veya sadece boşluk içeriyor.\n"
          ]
        },
        {
          "name": "stderr",
          "output_type": "stream",
          "text": [
            "Batches: 100%|██████████| 1/1 [00:01<00:00,  1.50s/it]\n"
          ]
        },
        {
          "name": "stdout",
          "output_type": "stream",
          "text": [
            "'wiki_01_line_21' dosyasından 3 adet semantic chunk üretildi.\n"
          ]
        },
        {
          "name": "stderr",
          "output_type": "stream",
          "text": [
            "Batches: 100%|██████████| 1/1 [00:03<00:00,  3.48s/it]\n"
          ]
        },
        {
          "name": "stdout",
          "output_type": "stream",
          "text": [
            "'wiki_01_line_22' dosyasından 9 adet semantic chunk üretildi.\n"
          ]
        },
        {
          "name": "stderr",
          "output_type": "stream",
          "text": [
            "Batches: 100%|██████████| 1/1 [00:02<00:00,  2.76s/it]\n"
          ]
        },
        {
          "name": "stdout",
          "output_type": "stream",
          "text": [
            "'wiki_01_line_23' dosyasından 5 adet semantic chunk üretildi.\n"
          ]
        },
        {
          "name": "stderr",
          "output_type": "stream",
          "text": [
            "Batches: 100%|██████████| 3/3 [00:12<00:00,  4.17s/it]\n"
          ]
        },
        {
          "name": "stdout",
          "output_type": "stream",
          "text": [
            "'wiki_01_line_24' dosyasından 24 adet semantic chunk üretildi.\n",
            "Uyarı: 'wiki_01_line_25' dosyası boş veya sadece boşluk içeriyor.\n",
            "'wiki_01_line_26' dosyasından 1 adet semantic chunk üretildi.\n"
          ]
        },
        {
          "name": "stderr",
          "output_type": "stream",
          "text": [
            "Batches: 100%|██████████| 1/1 [00:01<00:00,  1.98s/it]\n"
          ]
        },
        {
          "name": "stdout",
          "output_type": "stream",
          "text": [
            "'wiki_01_line_27' dosyasından 4 adet semantic chunk üretildi.\n",
            "Uyarı: 'wiki_01_line_28' dosyası boş veya sadece boşluk içeriyor.\n"
          ]
        },
        {
          "name": "stderr",
          "output_type": "stream",
          "text": [
            "Batches: 100%|██████████| 1/1 [00:00<00:00,  2.45it/s]\n"
          ]
        },
        {
          "name": "stdout",
          "output_type": "stream",
          "text": [
            "'wiki_01_line_29' dosyasından 1 adet semantic chunk üretildi.\n",
            "'wiki_01_line_30' dosyasından 1 adet semantic chunk üretildi.\n",
            "Uyarı: 'wiki_01_line_31' dosyası boş veya sadece boşluk içeriyor.\n"
          ]
        },
        {
          "name": "stderr",
          "output_type": "stream",
          "text": [
            "Batches: 100%|██████████| 2/2 [00:05<00:00,  2.89s/it]\n"
          ]
        },
        {
          "name": "stdout",
          "output_type": "stream",
          "text": [
            "'wiki_01_line_32' dosyasından 13 adet semantic chunk üretildi.\n",
            "Uyarı: 'wiki_01_line_33' dosyası boş veya sadece boşluk içeriyor.\n"
          ]
        },
        {
          "name": "stderr",
          "output_type": "stream",
          "text": [
            "Batches: 100%|██████████| 1/1 [00:00<00:00,  2.71it/s]\n"
          ]
        },
        {
          "name": "stdout",
          "output_type": "stream",
          "text": [
            "'wiki_01_line_34' dosyasından 1 adet semantic chunk üretildi.\n",
            "Uyarı: 'wiki_01_line_35' dosyası boş veya sadece boşluk içeriyor.\n",
            "'wiki_01_line_36' dosyasından 1 adet semantic chunk üretildi.\n"
          ]
        },
        {
          "name": "stderr",
          "output_type": "stream",
          "text": [
            "Batches: 100%|██████████| 1/1 [00:02<00:00,  2.30s/it]\n"
          ]
        },
        {
          "name": "stdout",
          "output_type": "stream",
          "text": [
            "'wiki_01_line_37' dosyasından 4 adet semantic chunk üretildi.\n",
            "Uyarı: 'wiki_01_line_38' dosyası boş veya sadece boşluk içeriyor.\n"
          ]
        },
        {
          "name": "stderr",
          "output_type": "stream",
          "text": [
            "Batches: 100%|██████████| 1/1 [00:01<00:00,  1.50s/it]\n"
          ]
        },
        {
          "name": "stdout",
          "output_type": "stream",
          "text": [
            "'wiki_01_line_39' dosyasından 3 adet semantic chunk üretildi.\n"
          ]
        },
        {
          "name": "stderr",
          "output_type": "stream",
          "text": [
            "Batches: 100%|██████████| 1/1 [00:00<00:00,  1.12it/s]\n"
          ]
        },
        {
          "name": "stdout",
          "output_type": "stream",
          "text": [
            "'wiki_01_line_40' dosyasından 4 adet semantic chunk üretildi.\n"
          ]
        },
        {
          "name": "stderr",
          "output_type": "stream",
          "text": [
            "Batches: 100%|██████████| 1/1 [00:01<00:00,  1.46s/it]\n"
          ]
        },
        {
          "name": "stdout",
          "output_type": "stream",
          "text": [
            "'wiki_01_line_41' dosyasından 5 adet semantic chunk üretildi.\n",
            "'wiki_01_line_42' dosyasından 1 adet semantic chunk üretildi.\n"
          ]
        },
        {
          "name": "stderr",
          "output_type": "stream",
          "text": [
            "Batches: 100%|██████████| 1/1 [00:01<00:00,  1.48s/it]\n"
          ]
        },
        {
          "name": "stdout",
          "output_type": "stream",
          "text": [
            "'wiki_01_line_43' dosyasından 2 adet semantic chunk üretildi.\n"
          ]
        },
        {
          "name": "stderr",
          "output_type": "stream",
          "text": [
            "Batches: 100%|██████████| 1/1 [00:02<00:00,  2.04s/it]\n"
          ]
        },
        {
          "name": "stdout",
          "output_type": "stream",
          "text": [
            "'wiki_01_line_44' dosyasından 6 adet semantic chunk üretildi.\n"
          ]
        },
        {
          "name": "stderr",
          "output_type": "stream",
          "text": [
            "Batches: 100%|██████████| 1/1 [00:03<00:00,  3.88s/it]\n"
          ]
        },
        {
          "name": "stdout",
          "output_type": "stream",
          "text": [
            "'wiki_01_line_45' dosyasından 12 adet semantic chunk üretildi.\n"
          ]
        },
        {
          "name": "stderr",
          "output_type": "stream",
          "text": [
            "Batches: 100%|██████████| 1/1 [00:01<00:00,  1.60s/it]\n"
          ]
        },
        {
          "name": "stdout",
          "output_type": "stream",
          "text": [
            "'wiki_01_line_46' dosyasından 3 adet semantic chunk üretildi.\n",
            "'wiki_01_line_47' dosyasından 1 adet semantic chunk üretildi.\n"
          ]
        },
        {
          "name": "stderr",
          "output_type": "stream",
          "text": [
            "Batches: 100%|██████████| 1/1 [00:00<00:00,  1.31it/s]\n"
          ]
        },
        {
          "name": "stdout",
          "output_type": "stream",
          "text": [
            "'wiki_01_line_48' dosyasından 1 adet semantic chunk üretildi.\n"
          ]
        },
        {
          "name": "stderr",
          "output_type": "stream",
          "text": [
            "Batches: 100%|██████████| 3/3 [00:16<00:00,  5.40s/it]\n"
          ]
        },
        {
          "name": "stdout",
          "output_type": "stream",
          "text": [
            "'wiki_01_line_49' dosyasından 44 adet semantic chunk üretildi.\n",
            "Uyarı: 'wiki_01_line_50' dosyası boş veya sadece boşluk içeriyor.\n",
            "Uyarı: 'wiki_01_line_51' dosyası boş veya sadece boşluk içeriyor.\n",
            "Uyarı: 'wiki_01_line_52' dosyası boş veya sadece boşluk içeriyor.\n",
            "Uyarı: 'wiki_01_line_53' dosyası boş veya sadece boşluk içeriyor.\n"
          ]
        },
        {
          "name": "stderr",
          "output_type": "stream",
          "text": [
            "Batches: 100%|██████████| 1/1 [00:04<00:00,  4.18s/it]\n"
          ]
        },
        {
          "name": "stdout",
          "output_type": "stream",
          "text": [
            "'wiki_01_line_54' dosyasından 9 adet semantic chunk üretildi.\n"
          ]
        },
        {
          "name": "stderr",
          "output_type": "stream",
          "text": [
            "Batches: 100%|██████████| 1/1 [00:00<00:00,  2.56it/s]\n"
          ]
        },
        {
          "name": "stdout",
          "output_type": "stream",
          "text": [
            "'wiki_01_line_55' dosyasından 2 adet semantic chunk üretildi.\n",
            "Uyarı: 'wiki_01_line_56' dosyası boş veya sadece boşluk içeriyor.\n"
          ]
        },
        {
          "name": "stderr",
          "output_type": "stream",
          "text": [
            "Batches: 100%|██████████| 1/1 [00:00<00:00,  1.36it/s]\n"
          ]
        },
        {
          "name": "stdout",
          "output_type": "stream",
          "text": [
            "'wiki_01_line_57' dosyasından 2 adet semantic chunk üretildi.\n"
          ]
        },
        {
          "name": "stderr",
          "output_type": "stream",
          "text": [
            "Batches: 100%|██████████| 3/3 [00:14<00:00,  4.83s/it]\n"
          ]
        },
        {
          "name": "stdout",
          "output_type": "stream",
          "text": [
            "'wiki_01_line_58' dosyasından 32 adet semantic chunk üretildi.\n"
          ]
        },
        {
          "name": "stderr",
          "output_type": "stream",
          "text": [
            "Batches: 100%|██████████| 3/3 [00:14<00:00,  4.90s/it]\n"
          ]
        },
        {
          "name": "stdout",
          "output_type": "stream",
          "text": [
            "'wiki_01_line_59' dosyasından 25 adet semantic chunk üretildi.\n"
          ]
        },
        {
          "name": "stderr",
          "output_type": "stream",
          "text": [
            "Batches: 100%|██████████| 2/2 [00:06<00:00,  3.05s/it]\n"
          ]
        },
        {
          "name": "stdout",
          "output_type": "stream",
          "text": [
            "'wiki_01_line_60' dosyasından 7 adet semantic chunk üretildi.\n"
          ]
        },
        {
          "name": "stderr",
          "output_type": "stream",
          "text": [
            "Batches: 100%|██████████| 1/1 [00:00<00:00,  1.79it/s]\n"
          ]
        },
        {
          "name": "stdout",
          "output_type": "stream",
          "text": [
            "'wiki_01_line_61' dosyasından 1 adet semantic chunk üretildi.\n"
          ]
        },
        {
          "name": "stderr",
          "output_type": "stream",
          "text": [
            "Batches: 100%|██████████| 1/1 [00:00<00:00,  2.82it/s]\n"
          ]
        },
        {
          "name": "stdout",
          "output_type": "stream",
          "text": [
            "'wiki_01_line_62' dosyasından 1 adet semantic chunk üretildi.\n"
          ]
        },
        {
          "name": "stderr",
          "output_type": "stream",
          "text": [
            "Batches: 100%|██████████| 1/1 [00:01<00:00,  1.73s/it]\n"
          ]
        },
        {
          "name": "stdout",
          "output_type": "stream",
          "text": [
            "'wiki_01_line_63' dosyasından 3 adet semantic chunk üretildi.\n"
          ]
        },
        {
          "name": "stderr",
          "output_type": "stream",
          "text": [
            "Batches: 100%|██████████| 1/1 [00:01<00:00,  1.24s/it]\n"
          ]
        },
        {
          "name": "stdout",
          "output_type": "stream",
          "text": [
            "'wiki_01_line_64' dosyasından 3 adet semantic chunk üretildi.\n"
          ]
        },
        {
          "name": "stderr",
          "output_type": "stream",
          "text": [
            "Batches: 100%|██████████| 1/1 [00:02<00:00,  2.45s/it]\n"
          ]
        },
        {
          "name": "stdout",
          "output_type": "stream",
          "text": [
            "'wiki_01_line_65' dosyasından 6 adet semantic chunk üretildi.\n"
          ]
        },
        {
          "name": "stderr",
          "output_type": "stream",
          "text": [
            "Batches: 100%|██████████| 1/1 [00:01<00:00,  1.07s/it]\n"
          ]
        },
        {
          "name": "stdout",
          "output_type": "stream",
          "text": [
            "'wiki_01_line_66' dosyasından 2 adet semantic chunk üretildi.\n"
          ]
        },
        {
          "name": "stderr",
          "output_type": "stream",
          "text": [
            "Batches: 100%|██████████| 2/2 [00:05<00:00,  2.69s/it]\n"
          ]
        },
        {
          "name": "stdout",
          "output_type": "stream",
          "text": [
            "'wiki_02_line_0' dosyasından 10 adet semantic chunk üretildi.\n"
          ]
        },
        {
          "name": "stderr",
          "output_type": "stream",
          "text": [
            "Batches: 100%|██████████| 1/1 [00:01<00:00,  1.43s/it]\n"
          ]
        },
        {
          "name": "stdout",
          "output_type": "stream",
          "text": [
            "'wiki_02_line_1' dosyasından 3 adet semantic chunk üretildi.\n",
            "'wiki_02_line_2' dosyasından 1 adet semantic chunk üretildi.\n",
            "Uyarı: 'wiki_02_line_3' dosyası boş veya sadece boşluk içeriyor.\n"
          ]
        },
        {
          "name": "stderr",
          "output_type": "stream",
          "text": [
            "Batches: 100%|██████████| 1/1 [00:02<00:00,  2.37s/it]\n"
          ]
        },
        {
          "name": "stdout",
          "output_type": "stream",
          "text": [
            "'wiki_02_line_4' dosyasından 5 adet semantic chunk üretildi.\n",
            "Uyarı: 'wiki_02_line_5' dosyası boş veya sadece boşluk içeriyor.\n"
          ]
        },
        {
          "name": "stderr",
          "output_type": "stream",
          "text": [
            "Batches: 100%|██████████| 1/1 [00:01<00:00,  1.02s/it]\n"
          ]
        },
        {
          "name": "stdout",
          "output_type": "stream",
          "text": [
            "'wiki_02_line_6' dosyasından 2 adet semantic chunk üretildi.\n",
            "Uyarı: 'wiki_02_line_7' dosyası boş veya sadece boşluk içeriyor.\n"
          ]
        },
        {
          "name": "stderr",
          "output_type": "stream",
          "text": [
            "Batches: 100%|██████████| 2/2 [00:10<00:00,  5.15s/it]\n"
          ]
        },
        {
          "name": "stdout",
          "output_type": "stream",
          "text": [
            "'wiki_02_line_8' dosyasından 22 adet semantic chunk üretildi.\n",
            "Uyarı: 'wiki_02_line_9' dosyası boş veya sadece boşluk içeriyor.\n"
          ]
        },
        {
          "name": "stderr",
          "output_type": "stream",
          "text": [
            "Batches: 100%|██████████| 1/1 [00:02<00:00,  2.01s/it]\n"
          ]
        },
        {
          "name": "stdout",
          "output_type": "stream",
          "text": [
            "'wiki_02_line_10' dosyasından 3 adet semantic chunk üretildi.\n",
            "Uyarı: 'wiki_02_line_11' dosyası boş veya sadece boşluk içeriyor.\n",
            "Uyarı: 'wiki_02_line_12' dosyası boş veya sadece boşluk içeriyor.\n",
            "Uyarı: 'wiki_02_line_13' dosyası boş veya sadece boşluk içeriyor.\n"
          ]
        },
        {
          "name": "stderr",
          "output_type": "stream",
          "text": [
            "Batches: 100%|██████████| 1/1 [00:03<00:00,  3.61s/it]\n"
          ]
        },
        {
          "name": "stdout",
          "output_type": "stream",
          "text": [
            "'wiki_02_line_14' dosyasından 12 adet semantic chunk üretildi.\n"
          ]
        },
        {
          "name": "stderr",
          "output_type": "stream",
          "text": [
            "Batches: 100%|██████████| 1/1 [00:05<00:00,  5.40s/it]\n"
          ]
        },
        {
          "name": "stdout",
          "output_type": "stream",
          "text": [
            "'wiki_02_line_15' dosyasından 12 adet semantic chunk üretildi.\n"
          ]
        },
        {
          "name": "stderr",
          "output_type": "stream",
          "text": [
            "Batches: 100%|██████████| 1/1 [00:01<00:00,  1.92s/it]\n"
          ]
        },
        {
          "name": "stdout",
          "output_type": "stream",
          "text": [
            "'wiki_02_line_16' dosyasından 5 adet semantic chunk üretildi.\n"
          ]
        },
        {
          "name": "stderr",
          "output_type": "stream",
          "text": [
            "Batches: 100%|██████████| 1/1 [00:01<00:00,  1.94s/it]\n"
          ]
        },
        {
          "name": "stdout",
          "output_type": "stream",
          "text": [
            "'wiki_02_line_17' dosyasından 3 adet semantic chunk üretildi.\n",
            "Uyarı: 'wiki_02_line_18' dosyası boş veya sadece boşluk içeriyor.\n"
          ]
        },
        {
          "name": "stderr",
          "output_type": "stream",
          "text": [
            "Batches: 100%|██████████| 4/4 [00:21<00:00,  5.35s/it]\n"
          ]
        },
        {
          "name": "stdout",
          "output_type": "stream",
          "text": [
            "'wiki_02_line_19' dosyasından 45 adet semantic chunk üretildi.\n"
          ]
        },
        {
          "name": "stderr",
          "output_type": "stream",
          "text": [
            "Batches: 100%|██████████| 2/2 [00:07<00:00,  3.65s/it]\n"
          ]
        },
        {
          "name": "stdout",
          "output_type": "stream",
          "text": [
            "'wiki_02_line_20' dosyasından 21 adet semantic chunk üretildi.\n",
            "Uyarı: 'wiki_02_line_21' dosyası boş veya sadece boşluk içeriyor.\n",
            "'wiki_02_line_22' dosyasından 1 adet semantic chunk üretildi.\n",
            "Uyarı: 'wiki_02_line_23' dosyası boş veya sadece boşluk içeriyor.\n"
          ]
        },
        {
          "name": "stderr",
          "output_type": "stream",
          "text": [
            "Batches: 100%|██████████| 1/1 [00:02<00:00,  2.07s/it]\n"
          ]
        },
        {
          "name": "stdout",
          "output_type": "stream",
          "text": [
            "'wiki_02_line_24' dosyasından 4 adet semantic chunk üretildi.\n"
          ]
        },
        {
          "name": "stderr",
          "output_type": "stream",
          "text": [
            "Batches: 100%|██████████| 1/1 [00:03<00:00,  3.26s/it]\n"
          ]
        },
        {
          "name": "stdout",
          "output_type": "stream",
          "text": [
            "'wiki_02_line_25' dosyasından 5 adet semantic chunk üretildi.\n",
            "Uyarı: 'wiki_02_line_26' dosyası boş veya sadece boşluk içeriyor.\n",
            "Uyarı: 'wiki_02_line_27' dosyası boş veya sadece boşluk içeriyor.\n",
            "Uyarı: 'wiki_02_line_28' dosyası boş veya sadece boşluk içeriyor.\n"
          ]
        },
        {
          "name": "stderr",
          "output_type": "stream",
          "text": [
            "Batches: 100%|██████████| 1/1 [00:01<00:00,  1.06s/it]\n"
          ]
        },
        {
          "name": "stdout",
          "output_type": "stream",
          "text": [
            "'wiki_02_line_29' dosyasından 2 adet semantic chunk üretildi.\n"
          ]
        },
        {
          "name": "stderr",
          "output_type": "stream",
          "text": [
            "Batches: 100%|██████████| 1/1 [00:00<00:00,  2.70it/s]\n"
          ]
        },
        {
          "name": "stdout",
          "output_type": "stream",
          "text": [
            "'wiki_02_line_30' dosyasından 2 adet semantic chunk üretildi.\n"
          ]
        },
        {
          "name": "stderr",
          "output_type": "stream",
          "text": [
            "Batches: 100%|██████████| 1/1 [00:00<00:00,  1.33it/s]\n"
          ]
        },
        {
          "name": "stdout",
          "output_type": "stream",
          "text": [
            "'wiki_02_line_31' dosyasından 2 adet semantic chunk üretildi.\n"
          ]
        },
        {
          "name": "stderr",
          "output_type": "stream",
          "text": [
            "Batches: 100%|██████████| 1/1 [00:03<00:00,  3.93s/it]\n"
          ]
        },
        {
          "name": "stdout",
          "output_type": "stream",
          "text": [
            "'wiki_02_line_32' dosyasından 6 adet semantic chunk üretildi.\n"
          ]
        },
        {
          "name": "stderr",
          "output_type": "stream",
          "text": [
            "Batches: 100%|██████████| 1/1 [00:00<00:00,  1.81it/s]\n"
          ]
        },
        {
          "name": "stdout",
          "output_type": "stream",
          "text": [
            "'wiki_02_line_33' dosyasından 1 adet semantic chunk üretildi.\n"
          ]
        },
        {
          "name": "stderr",
          "output_type": "stream",
          "text": [
            "Batches: 100%|██████████| 1/1 [00:00<00:00,  2.78it/s]\n"
          ]
        },
        {
          "name": "stdout",
          "output_type": "stream",
          "text": [
            "'wiki_02_line_34' dosyasından 1 adet semantic chunk üretildi.\n"
          ]
        },
        {
          "name": "stderr",
          "output_type": "stream",
          "text": [
            "Batches: 100%|██████████| 1/1 [00:03<00:00,  3.12s/it]\n"
          ]
        },
        {
          "name": "stdout",
          "output_type": "stream",
          "text": [
            "'wiki_02_line_35' dosyasından 8 adet semantic chunk üretildi.\n",
            "'wiki_02_line_36' dosyasından 1 adet semantic chunk üretildi.\n"
          ]
        },
        {
          "name": "stderr",
          "output_type": "stream",
          "text": [
            "Batches: 100%|██████████| 1/1 [00:04<00:00,  4.32s/it]\n"
          ]
        },
        {
          "name": "stdout",
          "output_type": "stream",
          "text": [
            "'wiki_02_line_37' dosyasından 11 adet semantic chunk üretildi.\n"
          ]
        },
        {
          "name": "stderr",
          "output_type": "stream",
          "text": [
            "Batches: 100%|██████████| 2/2 [00:05<00:00,  2.72s/it]\n"
          ]
        },
        {
          "name": "stdout",
          "output_type": "stream",
          "text": [
            "'wiki_02_line_38' dosyasından 12 adet semantic chunk üretildi.\n"
          ]
        },
        {
          "name": "stderr",
          "output_type": "stream",
          "text": [
            "Batches: 100%|██████████| 1/1 [00:01<00:00,  1.39s/it]\n"
          ]
        },
        {
          "name": "stdout",
          "output_type": "stream",
          "text": [
            "'wiki_02_line_39' dosyasından 3 adet semantic chunk üretildi.\n",
            "Uyarı: 'wiki_02_line_40' dosyası boş veya sadece boşluk içeriyor.\n"
          ]
        },
        {
          "name": "stderr",
          "output_type": "stream",
          "text": [
            "Batches: 100%|██████████| 4/4 [00:22<00:00,  5.65s/it]\n"
          ]
        },
        {
          "name": "stdout",
          "output_type": "stream",
          "text": [
            "'wiki_02_line_41' dosyasından 42 adet semantic chunk üretildi.\n"
          ]
        },
        {
          "name": "stderr",
          "output_type": "stream",
          "text": [
            "Batches: 100%|██████████| 2/2 [00:11<00:00,  5.81s/it]\n"
          ]
        },
        {
          "name": "stdout",
          "output_type": "stream",
          "text": [
            "'wiki_02_line_42' dosyasından 29 adet semantic chunk üretildi.\n"
          ]
        },
        {
          "name": "stderr",
          "output_type": "stream",
          "text": [
            "Batches: 100%|██████████| 2/2 [00:08<00:00,  4.12s/it]\n"
          ]
        },
        {
          "name": "stdout",
          "output_type": "stream",
          "text": [
            "'wiki_02_line_43' dosyasından 20 adet semantic chunk üretildi.\n"
          ]
        },
        {
          "name": "stderr",
          "output_type": "stream",
          "text": [
            "Batches: 100%|██████████| 3/3 [00:12<00:00,  4.12s/it]\n"
          ]
        },
        {
          "name": "stdout",
          "output_type": "stream",
          "text": [
            "'wiki_02_line_44' dosyasından 25 adet semantic chunk üretildi.\n"
          ]
        },
        {
          "name": "stderr",
          "output_type": "stream",
          "text": [
            "Batches: 100%|██████████| 1/1 [00:01<00:00,  1.35s/it]\n"
          ]
        },
        {
          "name": "stdout",
          "output_type": "stream",
          "text": [
            "'wiki_02_line_45' dosyasından 5 adet semantic chunk üretildi.\n"
          ]
        },
        {
          "name": "stderr",
          "output_type": "stream",
          "text": [
            "Batches: 100%|██████████| 1/1 [00:00<00:00,  1.62it/s]\n"
          ]
        },
        {
          "name": "stdout",
          "output_type": "stream",
          "text": [
            "'wiki_02_line_46' dosyasından 1 adet semantic chunk üretildi.\n"
          ]
        },
        {
          "name": "stderr",
          "output_type": "stream",
          "text": [
            "Batches: 100%|██████████| 1/1 [00:00<00:00,  1.27it/s]\n"
          ]
        },
        {
          "name": "stdout",
          "output_type": "stream",
          "text": [
            "'wiki_02_line_47' dosyasından 1 adet semantic chunk üretildi.\n"
          ]
        },
        {
          "name": "stderr",
          "output_type": "stream",
          "text": [
            "Batches: 100%|██████████| 1/1 [00:01<00:00,  1.56s/it]\n"
          ]
        },
        {
          "name": "stdout",
          "output_type": "stream",
          "text": [
            "'wiki_02_line_48' dosyasından 2 adet semantic chunk üretildi.\n",
            "'wiki_02_line_49' dosyasından 1 adet semantic chunk üretildi.\n",
            "Uyarı: 'wiki_02_line_50' dosyası boş veya sadece boşluk içeriyor.\n"
          ]
        },
        {
          "name": "stderr",
          "output_type": "stream",
          "text": [
            "Batches: 100%|██████████| 2/2 [00:06<00:00,  3.39s/it]\n"
          ]
        },
        {
          "name": "stdout",
          "output_type": "stream",
          "text": [
            "'wiki_02_line_51' dosyasından 14 adet semantic chunk üretildi.\n"
          ]
        },
        {
          "name": "stderr",
          "output_type": "stream",
          "text": [
            "Batches: 100%|██████████| 1/1 [00:03<00:00,  3.18s/it]\n"
          ]
        },
        {
          "name": "stdout",
          "output_type": "stream",
          "text": [
            "'wiki_02_line_52' dosyasından 9 adet semantic chunk üretildi.\n"
          ]
        },
        {
          "name": "stderr",
          "output_type": "stream",
          "text": [
            "Batches: 100%|██████████| 1/1 [00:00<00:00,  2.40it/s]\n"
          ]
        },
        {
          "name": "stdout",
          "output_type": "stream",
          "text": [
            "'wiki_02_line_53' dosyasından 2 adet semantic chunk üretildi.\n",
            "Uyarı: 'wiki_02_line_54' dosyası boş veya sadece boşluk içeriyor.\n",
            "Uyarı: 'wiki_02_line_55' dosyası boş veya sadece boşluk içeriyor.\n"
          ]
        },
        {
          "name": "stderr",
          "output_type": "stream",
          "text": [
            "Batches: 100%|██████████| 1/1 [00:01<00:00,  1.03s/it]\n"
          ]
        },
        {
          "name": "stdout",
          "output_type": "stream",
          "text": [
            "'wiki_02_line_56' dosyasından 7 adet semantic chunk üretildi.\n"
          ]
        },
        {
          "name": "stderr",
          "output_type": "stream",
          "text": [
            "Batches: 100%|██████████| 1/1 [00:00<00:00,  4.59it/s]\n"
          ]
        },
        {
          "name": "stdout",
          "output_type": "stream",
          "text": [
            "'wiki_02_line_57' dosyasından 2 adet semantic chunk üretildi.\n"
          ]
        },
        {
          "name": "stderr",
          "output_type": "stream",
          "text": [
            "Batches: 100%|██████████| 1/1 [00:00<00:00,  3.50it/s]\n"
          ]
        },
        {
          "name": "stdout",
          "output_type": "stream",
          "text": [
            "'wiki_02_line_58' dosyasından 2 adet semantic chunk üretildi.\n"
          ]
        },
        {
          "name": "stderr",
          "output_type": "stream",
          "text": [
            "Batches: 100%|██████████| 2/2 [00:01<00:00,  1.11it/s]\n"
          ]
        },
        {
          "name": "stdout",
          "output_type": "stream",
          "text": [
            "'wiki_02_line_59' dosyasından 11 adet semantic chunk üretildi.\n"
          ]
        },
        {
          "name": "stderr",
          "output_type": "stream",
          "text": [
            "Batches: 100%|██████████| 1/1 [00:00<00:00,  5.00it/s]\n"
          ]
        },
        {
          "name": "stdout",
          "output_type": "stream",
          "text": [
            "'wiki_02_line_60' dosyasından 1 adet semantic chunk üretildi.\n"
          ]
        },
        {
          "name": "stderr",
          "output_type": "stream",
          "text": [
            "Batches: 100%|██████████| 1/1 [00:01<00:00,  1.22s/it]\n"
          ]
        },
        {
          "name": "stdout",
          "output_type": "stream",
          "text": [
            "'wiki_02_line_61' dosyasından 3 adet semantic chunk üretildi.\n",
            "Uyarı: 'wiki_02_line_62' dosyası boş veya sadece boşluk içeriyor.\n",
            "Uyarı: 'wiki_02_line_63' dosyası boş veya sadece boşluk içeriyor.\n",
            "Uyarı: 'wiki_02_line_64' dosyası boş veya sadece boşluk içeriyor.\n",
            "Uyarı: 'wiki_02_line_65' dosyası boş veya sadece boşluk içeriyor.\n",
            "'wiki_02_line_66' dosyasından 1 adet semantic chunk üretildi.\n"
          ]
        },
        {
          "name": "stderr",
          "output_type": "stream",
          "text": [
            "Batches: 100%|██████████| 1/1 [00:00<00:00,  4.68it/s]\n"
          ]
        },
        {
          "name": "stdout",
          "output_type": "stream",
          "text": [
            "'wiki_02_line_67' dosyasından 1 adet semantic chunk üretildi.\n",
            "Uyarı: 'wiki_02_line_68' dosyası boş veya sadece boşluk içeriyor.\n"
          ]
        },
        {
          "name": "stderr",
          "output_type": "stream",
          "text": [
            "Batches: 100%|██████████| 5/5 [00:12<00:00,  2.57s/it]\n"
          ]
        },
        {
          "name": "stdout",
          "output_type": "stream",
          "text": [
            "'wiki_02_line_69' dosyasından 50 adet semantic chunk üretildi.\n"
          ]
        },
        {
          "name": "stderr",
          "output_type": "stream",
          "text": [
            "Batches: 100%|██████████| 1/1 [00:00<00:00,  3.00it/s]\n"
          ]
        },
        {
          "name": "stdout",
          "output_type": "stream",
          "text": [
            "'wiki_02_line_70' dosyasından 2 adet semantic chunk üretildi.\n"
          ]
        },
        {
          "name": "stderr",
          "output_type": "stream",
          "text": [
            "Batches: 100%|██████████| 1/1 [00:00<00:00,  1.31it/s]\n"
          ]
        },
        {
          "name": "stdout",
          "output_type": "stream",
          "text": [
            "'wiki_02_line_71' dosyasından 8 adet semantic chunk üretildi.\n"
          ]
        },
        {
          "name": "stderr",
          "output_type": "stream",
          "text": [
            "Batches: 100%|██████████| 1/1 [00:00<00:00,  3.64it/s]\n"
          ]
        },
        {
          "name": "stdout",
          "output_type": "stream",
          "text": [
            "'wiki_02_line_72' dosyasından 1 adet semantic chunk üretildi.\n"
          ]
        },
        {
          "name": "stderr",
          "output_type": "stream",
          "text": [
            "Batches: 100%|██████████| 1/1 [00:01<00:00,  1.90s/it]\n"
          ]
        },
        {
          "name": "stdout",
          "output_type": "stream",
          "text": [
            "'wiki_02_line_73' dosyasından 14 adet semantic chunk üretildi.\n"
          ]
        },
        {
          "name": "stderr",
          "output_type": "stream",
          "text": [
            "Batches: 100%|██████████| 3/3 [00:06<00:00,  2.24s/it]\n"
          ]
        },
        {
          "name": "stdout",
          "output_type": "stream",
          "text": [
            "'wiki_02_line_74' dosyasından 23 adet semantic chunk üretildi.\n"
          ]
        },
        {
          "name": "stderr",
          "output_type": "stream",
          "text": [
            "Batches: 100%|██████████| 1/1 [00:00<00:00,  1.78it/s]\n"
          ]
        },
        {
          "name": "stdout",
          "output_type": "stream",
          "text": [
            "'wiki_02_line_75' dosyasından 3 adet semantic chunk üretildi.\n"
          ]
        },
        {
          "name": "stderr",
          "output_type": "stream",
          "text": [
            "Batches: 100%|██████████| 1/1 [00:00<00:00,  4.10it/s]\n"
          ]
        },
        {
          "name": "stdout",
          "output_type": "stream",
          "text": [
            "'wiki_02_line_76' dosyasından 1 adet semantic chunk üretildi.\n",
            "'wiki_02_line_77' dosyasından 1 adet semantic chunk üretildi.\n"
          ]
        },
        {
          "name": "stderr",
          "output_type": "stream",
          "text": [
            "Batches: 100%|██████████| 1/1 [00:00<00:00,  1.40it/s]\n"
          ]
        },
        {
          "name": "stdout",
          "output_type": "stream",
          "text": [
            "'wiki_02_line_78' dosyasından 2 adet semantic chunk üretildi.\n"
          ]
        },
        {
          "name": "stderr",
          "output_type": "stream",
          "text": [
            "Batches: 100%|██████████| 1/1 [00:00<00:00,  1.51it/s]\n"
          ]
        },
        {
          "name": "stdout",
          "output_type": "stream",
          "text": [
            "'wiki_02_line_79' dosyasından 3 adet semantic chunk üretildi.\n"
          ]
        },
        {
          "name": "stderr",
          "output_type": "stream",
          "text": [
            "Batches: 100%|██████████| 1/1 [00:00<00:00,  3.09it/s]\n"
          ]
        },
        {
          "name": "stdout",
          "output_type": "stream",
          "text": [
            "'wiki_02_line_80' dosyasından 2 adet semantic chunk üretildi.\n"
          ]
        },
        {
          "name": "stderr",
          "output_type": "stream",
          "text": [
            "Batches: 100%|██████████| 1/1 [00:00<00:00,  1.42it/s]\n"
          ]
        },
        {
          "name": "stdout",
          "output_type": "stream",
          "text": [
            "'wiki_02_line_81' dosyasından 2 adet semantic chunk üretildi.\n"
          ]
        },
        {
          "name": "stderr",
          "output_type": "stream",
          "text": [
            "Batches: 100%|██████████| 1/1 [00:01<00:00,  1.70s/it]\n"
          ]
        },
        {
          "name": "stdout",
          "output_type": "stream",
          "text": [
            "'wiki_02_line_82' dosyasından 6 adet semantic chunk üretildi.\n"
          ]
        },
        {
          "name": "stderr",
          "output_type": "stream",
          "text": [
            "Batches: 100%|██████████| 1/1 [00:00<00:00,  1.22it/s]\n"
          ]
        },
        {
          "name": "stdout",
          "output_type": "stream",
          "text": [
            "'wiki_02_line_83' dosyasından 3 adet semantic chunk üretildi.\n"
          ]
        },
        {
          "name": "stderr",
          "output_type": "stream",
          "text": [
            "Batches: 100%|██████████| 1/1 [00:01<00:00,  1.37s/it]\n"
          ]
        },
        {
          "name": "stdout",
          "output_type": "stream",
          "text": [
            "'wiki_02_line_84' dosyasından 7 adet semantic chunk üretildi.\n"
          ]
        },
        {
          "name": "stderr",
          "output_type": "stream",
          "text": [
            "Batches: 100%|██████████| 1/1 [00:00<00:00,  1.03it/s]\n"
          ]
        },
        {
          "name": "stdout",
          "output_type": "stream",
          "text": [
            "'wiki_02_line_85' dosyasından 4 adet semantic chunk üretildi.\n",
            "Uyarı: 'wiki_02_line_86' dosyası boş veya sadece boşluk içeriyor.\n"
          ]
        },
        {
          "name": "stderr",
          "output_type": "stream",
          "text": [
            "Batches: 100%|██████████| 1/1 [00:01<00:00,  1.30s/it]\n"
          ]
        },
        {
          "name": "stdout",
          "output_type": "stream",
          "text": [
            "'wiki_02_line_87' dosyasından 8 adet semantic chunk üretildi.\n"
          ]
        },
        {
          "name": "stderr",
          "output_type": "stream",
          "text": [
            "Batches: 100%|██████████| 2/2 [00:02<00:00,  1.34s/it]\n"
          ]
        },
        {
          "name": "stdout",
          "output_type": "stream",
          "text": [
            "'wiki_02_line_88' dosyasından 11 adet semantic chunk üretildi.\n"
          ]
        },
        {
          "name": "stderr",
          "output_type": "stream",
          "text": [
            "Batches: 100%|██████████| 1/1 [00:00<00:00,  3.06it/s]\n"
          ]
        },
        {
          "name": "stdout",
          "output_type": "stream",
          "text": [
            "'wiki_02_line_89' dosyasından 1 adet semantic chunk üretildi.\n"
          ]
        },
        {
          "name": "stderr",
          "output_type": "stream",
          "text": [
            "Batches: 100%|██████████| 2/2 [00:02<00:00,  1.37s/it]\n"
          ]
        },
        {
          "name": "stdout",
          "output_type": "stream",
          "text": [
            "'wiki_02_line_90' dosyasından 14 adet semantic chunk üretildi.\n"
          ]
        },
        {
          "name": "stderr",
          "output_type": "stream",
          "text": [
            "Batches: 100%|██████████| 1/1 [00:00<00:00,  1.29it/s]\n"
          ]
        },
        {
          "name": "stdout",
          "output_type": "stream",
          "text": [
            "'wiki_03_line_0' dosyasından 2 adet semantic chunk üretildi.\n"
          ]
        },
        {
          "name": "stderr",
          "output_type": "stream",
          "text": [
            "Batches: 100%|██████████| 1/1 [00:00<00:00,  1.51it/s]\n"
          ]
        },
        {
          "name": "stdout",
          "output_type": "stream",
          "text": [
            "'wiki_03_line_1' dosyasından 2 adet semantic chunk üretildi.\n"
          ]
        },
        {
          "name": "stderr",
          "output_type": "stream",
          "text": [
            "Batches: 100%|██████████| 1/1 [00:01<00:00,  1.31s/it]\n"
          ]
        },
        {
          "name": "stdout",
          "output_type": "stream",
          "text": [
            "'wiki_03_line_2' dosyasından 4 adet semantic chunk üretildi.\n"
          ]
        },
        {
          "name": "stderr",
          "output_type": "stream",
          "text": [
            "Batches: 100%|██████████| 1/1 [00:01<00:00,  1.84s/it]\n"
          ]
        },
        {
          "name": "stdout",
          "output_type": "stream",
          "text": [
            "'wiki_03_line_3' dosyasından 6 adet semantic chunk üretildi.\n"
          ]
        },
        {
          "name": "stderr",
          "output_type": "stream",
          "text": [
            "Batches: 100%|██████████| 2/2 [00:02<00:00,  1.34s/it]\n"
          ]
        },
        {
          "name": "stdout",
          "output_type": "stream",
          "text": [
            "'wiki_03_line_4' dosyasından 10 adet semantic chunk üretildi.\n"
          ]
        },
        {
          "name": "stderr",
          "output_type": "stream",
          "text": [
            "Batches: 100%|██████████| 1/1 [00:00<00:00,  6.34it/s]\n"
          ]
        },
        {
          "name": "stdout",
          "output_type": "stream",
          "text": [
            "'wiki_03_line_5' dosyasından 2 adet semantic chunk üretildi.\n"
          ]
        },
        {
          "name": "stderr",
          "output_type": "stream",
          "text": [
            "Batches: 100%|██████████| 3/3 [00:06<00:00,  2.05s/it]\n"
          ]
        },
        {
          "name": "stdout",
          "output_type": "stream",
          "text": [
            "'wiki_03_line_6' dosyasından 26 adet semantic chunk üretildi.\n",
            "'wiki_03_line_7' dosyasından 1 adet semantic chunk üretildi.\n"
          ]
        },
        {
          "name": "stderr",
          "output_type": "stream",
          "text": [
            "Batches: 100%|██████████| 1/1 [00:00<00:00,  1.13it/s]\n"
          ]
        },
        {
          "name": "stdout",
          "output_type": "stream",
          "text": [
            "'wiki_03_line_8' dosyasından 5 adet semantic chunk üretildi.\n"
          ]
        },
        {
          "name": "stderr",
          "output_type": "stream",
          "text": [
            "Batches: 100%|██████████| 2/2 [00:02<00:00,  1.40s/it]\n"
          ]
        },
        {
          "name": "stdout",
          "output_type": "stream",
          "text": [
            "'wiki_03_line_9' dosyasından 25 adet semantic chunk üretildi.\n"
          ]
        },
        {
          "name": "stderr",
          "output_type": "stream",
          "text": [
            "Batches: 100%|██████████| 3/3 [00:05<00:00,  1.93s/it]\n"
          ]
        },
        {
          "name": "stdout",
          "output_type": "stream",
          "text": [
            "'wiki_03_line_10' dosyasından 29 adet semantic chunk üretildi.\n",
            "Uyarı: 'wiki_03_line_11' dosyası boş veya sadece boşluk içeriyor.\n",
            "Uyarı: 'wiki_03_line_12' dosyası boş veya sadece boşluk içeriyor.\n",
            "Uyarı: 'wiki_03_line_13' dosyası boş veya sadece boşluk içeriyor.\n",
            "Uyarı: 'wiki_03_line_14' dosyası boş veya sadece boşluk içeriyor.\n",
            "Uyarı: 'wiki_03_line_15' dosyası boş veya sadece boşluk içeriyor.\n",
            "Uyarı: 'wiki_03_line_16' dosyası boş veya sadece boşluk içeriyor.\n"
          ]
        },
        {
          "name": "stderr",
          "output_type": "stream",
          "text": [
            "Batches: 100%|██████████| 2/2 [00:03<00:00,  1.58s/it]\n"
          ]
        },
        {
          "name": "stdout",
          "output_type": "stream",
          "text": [
            "'wiki_03_line_17' dosyasından 14 adet semantic chunk üretildi.\n",
            "Uyarı: 'wiki_03_line_18' dosyası boş veya sadece boşluk içeriyor.\n"
          ]
        },
        {
          "name": "stderr",
          "output_type": "stream",
          "text": [
            "Batches: 100%|██████████| 1/1 [00:00<00:00,  1.22it/s]\n"
          ]
        },
        {
          "name": "stdout",
          "output_type": "stream",
          "text": [
            "'wiki_03_line_19' dosyasından 2 adet semantic chunk üretildi.\n"
          ]
        },
        {
          "name": "stderr",
          "output_type": "stream",
          "text": [
            "Batches: 100%|██████████| 1/1 [00:00<00:00,  1.57it/s]\n"
          ]
        },
        {
          "name": "stdout",
          "output_type": "stream",
          "text": [
            "'wiki_03_line_20' dosyasından 2 adet semantic chunk üretildi.\n",
            "Uyarı: 'wiki_03_line_21' dosyası boş veya sadece boşluk içeriyor.\n",
            "Uyarı: 'wiki_03_line_22' dosyası boş veya sadece boşluk içeriyor.\n",
            "Uyarı: 'wiki_03_line_23' dosyası boş veya sadece boşluk içeriyor.\n",
            "Uyarı: 'wiki_03_line_24' dosyası boş veya sadece boşluk içeriyor.\n"
          ]
        },
        {
          "name": "stderr",
          "output_type": "stream",
          "text": [
            "Batches: 100%|██████████| 1/1 [00:00<00:00,  1.42it/s]\n"
          ]
        },
        {
          "name": "stdout",
          "output_type": "stream",
          "text": [
            "'wiki_03_line_25' dosyasından 2 adet semantic chunk üretildi.\n"
          ]
        },
        {
          "name": "stderr",
          "output_type": "stream",
          "text": [
            "Batches: 100%|██████████| 1/1 [00:01<00:00,  1.60s/it]\n"
          ]
        },
        {
          "name": "stdout",
          "output_type": "stream",
          "text": [
            "'wiki_03_line_26' dosyasından 7 adet semantic chunk üretildi.\n",
            "Uyarı: 'wiki_03_line_27' dosyası boş veya sadece boşluk içeriyor.\n",
            "Uyarı: 'wiki_03_line_28' dosyası boş veya sadece boşluk içeriyor.\n"
          ]
        },
        {
          "name": "stderr",
          "output_type": "stream",
          "text": [
            "Batches: 100%|██████████| 1/1 [00:01<00:00,  1.19s/it]\n"
          ]
        },
        {
          "name": "stdout",
          "output_type": "stream",
          "text": [
            "'wiki_03_line_29' dosyasından 6 adet semantic chunk üretildi.\n"
          ]
        },
        {
          "name": "stderr",
          "output_type": "stream",
          "text": [
            "Batches: 100%|██████████| 1/1 [00:00<00:00,  5.53it/s]\n"
          ]
        },
        {
          "name": "stdout",
          "output_type": "stream",
          "text": [
            "'wiki_03_line_30' dosyasından 1 adet semantic chunk üretildi.\n",
            "Uyarı: 'wiki_03_line_31' dosyası boş veya sadece boşluk içeriyor.\n"
          ]
        },
        {
          "name": "stderr",
          "output_type": "stream",
          "text": [
            "Batches: 100%|██████████| 1/1 [00:02<00:00,  2.74s/it]\n"
          ]
        },
        {
          "name": "stdout",
          "output_type": "stream",
          "text": [
            "'wiki_03_line_32' dosyasından 11 adet semantic chunk üretildi.\n"
          ]
        },
        {
          "name": "stderr",
          "output_type": "stream",
          "text": [
            "Batches: 100%|██████████| 1/1 [00:00<00:00,  3.58it/s]\n"
          ]
        },
        {
          "name": "stdout",
          "output_type": "stream",
          "text": [
            "'wiki_03_line_33' dosyasından 1 adet semantic chunk üretildi.\n",
            "'wiki_03_line_34' dosyasından 1 adet semantic chunk üretildi.\n"
          ]
        },
        {
          "name": "stderr",
          "output_type": "stream",
          "text": [
            "Batches: 100%|██████████| 1/1 [00:00<00:00,  6.48it/s]\n"
          ]
        },
        {
          "name": "stdout",
          "output_type": "stream",
          "text": [
            "'wiki_03_line_35' dosyasından 2 adet semantic chunk üretildi.\n"
          ]
        },
        {
          "name": "stderr",
          "output_type": "stream",
          "text": [
            "Batches: 100%|██████████| 2/2 [00:04<00:00,  2.34s/it]\n"
          ]
        },
        {
          "name": "stdout",
          "output_type": "stream",
          "text": [
            "'wiki_03_line_36' dosyasından 24 adet semantic chunk üretildi.\n"
          ]
        },
        {
          "name": "stderr",
          "output_type": "stream",
          "text": [
            "Batches: 100%|██████████| 1/1 [00:01<00:00,  1.52s/it]\n"
          ]
        },
        {
          "name": "stdout",
          "output_type": "stream",
          "text": [
            "'wiki_03_line_37' dosyasından 7 adet semantic chunk üretildi.\n"
          ]
        },
        {
          "name": "stderr",
          "output_type": "stream",
          "text": [
            "Batches: 100%|██████████| 1/1 [00:00<00:00,  2.18it/s]\n"
          ]
        },
        {
          "name": "stdout",
          "output_type": "stream",
          "text": [
            "'wiki_03_line_38' dosyasından 5 adet semantic chunk üretildi.\n",
            "'wiki_03_line_39' dosyasından 1 adet semantic chunk üretildi.\n"
          ]
        },
        {
          "name": "stderr",
          "output_type": "stream",
          "text": [
            "Batches: 100%|██████████| 1/1 [00:00<00:00,  1.17it/s]\n"
          ]
        },
        {
          "name": "stdout",
          "output_type": "stream",
          "text": [
            "'wiki_03_line_40' dosyasından 4 adet semantic chunk üretildi.\n",
            "Uyarı: 'wiki_03_line_41' dosyası boş veya sadece boşluk içeriyor.\n"
          ]
        },
        {
          "name": "stderr",
          "output_type": "stream",
          "text": [
            "Batches: 100%|██████████| 1/1 [00:01<00:00,  1.39s/it]\n"
          ]
        },
        {
          "name": "stdout",
          "output_type": "stream",
          "text": [
            "'wiki_03_line_42' dosyasından 4 adet semantic chunk üretildi.\n"
          ]
        },
        {
          "name": "stderr",
          "output_type": "stream",
          "text": [
            "Batches: 100%|██████████| 1/1 [00:00<00:00,  2.08it/s]\n"
          ]
        },
        {
          "name": "stdout",
          "output_type": "stream",
          "text": [
            "'wiki_03_line_43' dosyasından 3 adet semantic chunk üretildi.\n"
          ]
        },
        {
          "name": "stderr",
          "output_type": "stream",
          "text": [
            "Batches: 100%|██████████| 1/1 [00:00<00:00,  5.85it/s]\n"
          ]
        },
        {
          "name": "stdout",
          "output_type": "stream",
          "text": [
            "'wiki_03_line_44' dosyasından 1 adet semantic chunk üretildi.\n",
            "'wiki_03_line_45' dosyasından 1 adet semantic chunk üretildi.\n",
            "Uyarı: 'wiki_03_line_46' dosyası boş veya sadece boşluk içeriyor.\n"
          ]
        },
        {
          "name": "stderr",
          "output_type": "stream",
          "text": [
            "Batches: 100%|██████████| 1/1 [00:00<00:00,  2.03it/s]\n"
          ]
        },
        {
          "name": "stdout",
          "output_type": "stream",
          "text": [
            "'wiki_03_line_47' dosyasından 2 adet semantic chunk üretildi.\n"
          ]
        },
        {
          "name": "stderr",
          "output_type": "stream",
          "text": [
            "Batches: 100%|██████████| 1/1 [00:00<00:00,  1.80it/s]\n"
          ]
        },
        {
          "name": "stdout",
          "output_type": "stream",
          "text": [
            "'wiki_03_line_48' dosyasından 4 adet semantic chunk üretildi.\n"
          ]
        },
        {
          "name": "stderr",
          "output_type": "stream",
          "text": [
            "Batches: 100%|██████████| 1/1 [00:02<00:00,  2.17s/it]\n"
          ]
        },
        {
          "name": "stdout",
          "output_type": "stream",
          "text": [
            "'wiki_03_line_49' dosyasından 13 adet semantic chunk üretildi.\n"
          ]
        },
        {
          "name": "stderr",
          "output_type": "stream",
          "text": [
            "Batches: 100%|██████████| 1/1 [00:01<00:00,  1.54s/it]\n"
          ]
        },
        {
          "name": "stdout",
          "output_type": "stream",
          "text": [
            "'wiki_03_line_50' dosyasından 7 adet semantic chunk üretildi.\n",
            "Uyarı: 'wiki_03_line_51' dosyası boş veya sadece boşluk içeriyor.\n"
          ]
        },
        {
          "name": "stderr",
          "output_type": "stream",
          "text": [
            "Batches: 100%|██████████| 1/1 [00:00<00:00,  1.17it/s]\n"
          ]
        },
        {
          "name": "stdout",
          "output_type": "stream",
          "text": [
            "'wiki_03_line_52' dosyasından 2 adet semantic chunk üretildi.\n"
          ]
        },
        {
          "name": "stderr",
          "output_type": "stream",
          "text": [
            "Batches: 100%|██████████| 2/2 [00:03<00:00,  1.57s/it]\n"
          ]
        },
        {
          "name": "stdout",
          "output_type": "stream",
          "text": [
            "'wiki_03_line_53' dosyasından 13 adet semantic chunk üretildi.\n"
          ]
        },
        {
          "name": "stderr",
          "output_type": "stream",
          "text": [
            "Batches: 100%|██████████| 1/1 [00:02<00:00,  2.24s/it]\n"
          ]
        },
        {
          "name": "stdout",
          "output_type": "stream",
          "text": [
            "'wiki_03_line_54' dosyasından 10 adet semantic chunk üretildi.\n"
          ]
        },
        {
          "name": "stderr",
          "output_type": "stream",
          "text": [
            "Batches: 100%|██████████| 1/1 [00:00<00:00,  1.34it/s]\n"
          ]
        },
        {
          "name": "stdout",
          "output_type": "stream",
          "text": [
            "'wiki_03_line_55' dosyasından 3 adet semantic chunk üretildi.\n"
          ]
        },
        {
          "name": "stderr",
          "output_type": "stream",
          "text": [
            "Batches: 100%|██████████| 4/4 [00:08<00:00,  2.25s/it]\n"
          ]
        },
        {
          "name": "stdout",
          "output_type": "stream",
          "text": [
            "'wiki_03_line_56' dosyasından 42 adet semantic chunk üretildi.\n"
          ]
        },
        {
          "name": "stderr",
          "output_type": "stream",
          "text": [
            "Batches: 100%|██████████| 1/1 [00:00<00:00,  5.09it/s]\n"
          ]
        },
        {
          "name": "stdout",
          "output_type": "stream",
          "text": [
            "'wiki_03_line_57' dosyasından 1 adet semantic chunk üretildi.\n",
            "Uyarı: 'wiki_03_line_58' dosyası boş veya sadece boşluk içeriyor.\n"
          ]
        },
        {
          "name": "stderr",
          "output_type": "stream",
          "text": [
            "Batches: 100%|██████████| 1/1 [00:00<00:00,  1.28it/s]\n"
          ]
        },
        {
          "name": "stdout",
          "output_type": "stream",
          "text": [
            "'wiki_03_line_59' dosyasından 3 adet semantic chunk üretildi.\n"
          ]
        },
        {
          "name": "stderr",
          "output_type": "stream",
          "text": [
            "Batches: 100%|██████████| 1/1 [00:00<00:00,  2.61it/s]\n"
          ]
        },
        {
          "name": "stdout",
          "output_type": "stream",
          "text": [
            "'wiki_03_line_60' dosyasından 1 adet semantic chunk üretildi.\n"
          ]
        },
        {
          "name": "stderr",
          "output_type": "stream",
          "text": [
            "Batches: 100%|██████████| 1/1 [00:01<00:00,  1.47s/it]\n"
          ]
        },
        {
          "name": "stdout",
          "output_type": "stream",
          "text": [
            "'wiki_03_line_61' dosyasından 5 adet semantic chunk üretildi.\n",
            "Uyarı: 'wiki_03_line_62' dosyası boş veya sadece boşluk içeriyor.\n"
          ]
        },
        {
          "name": "stderr",
          "output_type": "stream",
          "text": [
            "Batches: 100%|██████████| 1/1 [00:01<00:00,  1.98s/it]\n"
          ]
        },
        {
          "name": "stdout",
          "output_type": "stream",
          "text": [
            "'wiki_03_line_63' dosyasından 6 adet semantic chunk üretildi.\n"
          ]
        },
        {
          "name": "stderr",
          "output_type": "stream",
          "text": [
            "Batches: 100%|██████████| 1/1 [00:00<00:00,  6.15it/s]\n"
          ]
        },
        {
          "name": "stdout",
          "output_type": "stream",
          "text": [
            "'wiki_03_line_64' dosyasından 1 adet semantic chunk üretildi.\n"
          ]
        },
        {
          "name": "stderr",
          "output_type": "stream",
          "text": [
            "Batches: 100%|██████████| 1/1 [00:00<00:00,  1.83it/s]\n"
          ]
        },
        {
          "name": "stdout",
          "output_type": "stream",
          "text": [
            "'wiki_03_line_65' dosyasından 4 adet semantic chunk üretildi.\n"
          ]
        },
        {
          "name": "stderr",
          "output_type": "stream",
          "text": [
            "Batches: 100%|██████████| 1/1 [00:01<00:00,  1.33s/it]\n"
          ]
        },
        {
          "name": "stdout",
          "output_type": "stream",
          "text": [
            "'wiki_03_line_66' dosyasından 11 adet semantic chunk üretildi.\n"
          ]
        },
        {
          "name": "stderr",
          "output_type": "stream",
          "text": [
            "Batches: 100%|██████████| 1/1 [00:00<00:00,  1.55it/s]\n"
          ]
        },
        {
          "name": "stdout",
          "output_type": "stream",
          "text": [
            "'wiki_03_line_67' dosyasından 4 adet semantic chunk üretildi.\n",
            "Uyarı: 'wiki_03_line_68' dosyası boş veya sadece boşluk içeriyor.\n"
          ]
        },
        {
          "name": "stderr",
          "output_type": "stream",
          "text": [
            "Batches: 100%|██████████| 1/1 [00:01<00:00,  1.20s/it]\n"
          ]
        },
        {
          "name": "stdout",
          "output_type": "stream",
          "text": [
            "'wiki_03_line_69' dosyasından 4 adet semantic chunk üretildi.\n"
          ]
        },
        {
          "name": "stderr",
          "output_type": "stream",
          "text": [
            "Batches: 100%|██████████| 1/1 [00:01<00:00,  1.23s/it]\n"
          ]
        },
        {
          "name": "stdout",
          "output_type": "stream",
          "text": [
            "'wiki_03_line_70' dosyasından 7 adet semantic chunk üretildi.\n"
          ]
        },
        {
          "name": "stderr",
          "output_type": "stream",
          "text": [
            "Batches: 100%|██████████| 1/1 [00:01<00:00,  1.35s/it]\n"
          ]
        },
        {
          "name": "stdout",
          "output_type": "stream",
          "text": [
            "'wiki_03_line_71' dosyasından 6 adet semantic chunk üretildi.\n"
          ]
        },
        {
          "name": "stderr",
          "output_type": "stream",
          "text": [
            "Batches: 100%|██████████| 1/1 [00:01<00:00,  1.66s/it]\n"
          ]
        },
        {
          "name": "stdout",
          "output_type": "stream",
          "text": [
            "'wiki_03_line_72' dosyasından 11 adet semantic chunk üretildi.\n"
          ]
        },
        {
          "name": "stderr",
          "output_type": "stream",
          "text": [
            "Batches: 100%|██████████| 1/1 [00:01<00:00,  1.59s/it]\n"
          ]
        },
        {
          "name": "stdout",
          "output_type": "stream",
          "text": [
            "'wiki_03_line_73' dosyasından 6 adet semantic chunk üretildi.\n",
            "Uyarı: 'wiki_03_line_74' dosyası boş veya sadece boşluk içeriyor.\n"
          ]
        },
        {
          "name": "stderr",
          "output_type": "stream",
          "text": [
            "Batches: 100%|██████████| 1/1 [00:02<00:00,  2.27s/it]\n"
          ]
        },
        {
          "name": "stdout",
          "output_type": "stream",
          "text": [
            "'wiki_03_line_75' dosyasından 14 adet semantic chunk üretildi.\n"
          ]
        },
        {
          "name": "stderr",
          "output_type": "stream",
          "text": [
            "Batches: 100%|██████████| 1/1 [00:00<00:00,  5.72it/s]\n"
          ]
        },
        {
          "name": "stdout",
          "output_type": "stream",
          "text": [
            "'wiki_03_line_76' dosyasından 2 adet semantic chunk üretildi.\n"
          ]
        },
        {
          "name": "stderr",
          "output_type": "stream",
          "text": [
            "Batches: 100%|██████████| 1/1 [00:02<00:00,  2.27s/it]\n"
          ]
        },
        {
          "name": "stdout",
          "output_type": "stream",
          "text": [
            "'wiki_03_line_77' dosyasından 8 adet semantic chunk üretildi.\n"
          ]
        },
        {
          "name": "stderr",
          "output_type": "stream",
          "text": [
            "Batches: 100%|██████████| 1/1 [00:00<00:00,  1.56it/s]\n"
          ]
        },
        {
          "name": "stdout",
          "output_type": "stream",
          "text": [
            "'wiki_03_line_78' dosyasından 7 adet semantic chunk üretildi.\n"
          ]
        },
        {
          "name": "stderr",
          "output_type": "stream",
          "text": [
            "Batches: 100%|██████████| 1/1 [00:00<00:00,  4.62it/s]\n"
          ]
        },
        {
          "name": "stdout",
          "output_type": "stream",
          "text": [
            "'wiki_03_line_79' dosyasından 1 adet semantic chunk üretildi.\n"
          ]
        },
        {
          "name": "stderr",
          "output_type": "stream",
          "text": [
            "Batches: 100%|██████████| 1/1 [00:01<00:00,  1.70s/it]\n"
          ]
        },
        {
          "name": "stdout",
          "output_type": "stream",
          "text": [
            "'wiki_03_line_80' dosyasından 8 adet semantic chunk üretildi.\n",
            "'wiki_03_line_81' dosyasından 1 adet semantic chunk üretildi.\n"
          ]
        },
        {
          "name": "stderr",
          "output_type": "stream",
          "text": [
            "Batches: 100%|██████████| 3/3 [00:06<00:00,  2.13s/it]\n"
          ]
        },
        {
          "name": "stdout",
          "output_type": "stream",
          "text": [
            "'wiki_03_line_82' dosyasından 35 adet semantic chunk üretildi.\n"
          ]
        },
        {
          "name": "stderr",
          "output_type": "stream",
          "text": [
            "Batches: 100%|██████████| 1/1 [00:00<00:00,  3.91it/s]\n"
          ]
        },
        {
          "name": "stdout",
          "output_type": "stream",
          "text": [
            "'wiki_03_line_83' dosyasından 2 adet semantic chunk üretildi.\n",
            "Uyarı: 'wiki_03_line_84' dosyası boş veya sadece boşluk içeriyor.\n"
          ]
        },
        {
          "name": "stderr",
          "output_type": "stream",
          "text": [
            "Batches: 100%|██████████| 2/2 [00:07<00:00,  3.52s/it]\n"
          ]
        },
        {
          "name": "stdout",
          "output_type": "stream",
          "text": [
            "'wiki_03_line_85' dosyasından 18 adet semantic chunk üretildi.\n",
            "Uyarı: 'wiki_03_line_86' dosyası boş veya sadece boşluk içeriyor.\n"
          ]
        },
        {
          "name": "stderr",
          "output_type": "stream",
          "text": [
            "Batches: 100%|██████████| 1/1 [00:00<00:00,  2.67it/s]\n"
          ]
        },
        {
          "name": "stdout",
          "output_type": "stream",
          "text": [
            "'wiki_03_line_87' dosyasından 2 adet semantic chunk üretildi.\n"
          ]
        },
        {
          "name": "stderr",
          "output_type": "stream",
          "text": [
            "Batches: 100%|██████████| 1/1 [00:01<00:00,  1.89s/it]\n"
          ]
        },
        {
          "name": "stdout",
          "output_type": "stream",
          "text": [
            "'wiki_03_line_88' dosyasından 7 adet semantic chunk üretildi.\n"
          ]
        },
        {
          "name": "stderr",
          "output_type": "stream",
          "text": [
            "Batches: 100%|██████████| 2/2 [00:05<00:00,  2.62s/it]\n"
          ]
        },
        {
          "name": "stdout",
          "output_type": "stream",
          "text": [
            "'wiki_03_line_89' dosyasından 17 adet semantic chunk üretildi.\n"
          ]
        },
        {
          "name": "stderr",
          "output_type": "stream",
          "text": [
            "Batches: 100%|██████████| 4/4 [00:10<00:00,  2.51s/it]\n"
          ]
        },
        {
          "name": "stdout",
          "output_type": "stream",
          "text": [
            "'wiki_03_line_90' dosyasından 32 adet semantic chunk üretildi.\n"
          ]
        },
        {
          "name": "stderr",
          "output_type": "stream",
          "text": [
            "Batches: 100%|██████████| 1/1 [00:00<00:00,  2.22it/s]\n"
          ]
        },
        {
          "name": "stdout",
          "output_type": "stream",
          "text": [
            "'wiki_03_line_91' dosyasından 2 adet semantic chunk üretildi.\n"
          ]
        },
        {
          "name": "stderr",
          "output_type": "stream",
          "text": [
            "Batches: 100%|██████████| 1/1 [00:00<00:00,  4.60it/s]\n"
          ]
        },
        {
          "name": "stdout",
          "output_type": "stream",
          "text": [
            "'wiki_03_line_92' dosyasından 2 adet semantic chunk üretildi.\n"
          ]
        },
        {
          "name": "stderr",
          "output_type": "stream",
          "text": [
            "Batches: 100%|██████████| 1/1 [00:00<00:00,  2.15it/s]\n"
          ]
        },
        {
          "name": "stdout",
          "output_type": "stream",
          "text": [
            "'wiki_03_line_93' dosyasından 3 adet semantic chunk üretildi.\n"
          ]
        },
        {
          "name": "stderr",
          "output_type": "stream",
          "text": [
            "Batches: 100%|██████████| 1/1 [00:00<00:00,  1.67it/s]\n"
          ]
        },
        {
          "name": "stdout",
          "output_type": "stream",
          "text": [
            "'wiki_03_line_94' dosyasından 3 adet semantic chunk üretildi.\n"
          ]
        },
        {
          "name": "stderr",
          "output_type": "stream",
          "text": [
            "Batches: 100%|██████████| 1/1 [00:02<00:00,  2.11s/it]\n"
          ]
        },
        {
          "name": "stdout",
          "output_type": "stream",
          "text": [
            "'wiki_03_line_95' dosyasından 18 adet semantic chunk üretildi.\n"
          ]
        },
        {
          "name": "stderr",
          "output_type": "stream",
          "text": [
            "Batches: 100%|██████████| 1/1 [00:01<00:00,  1.13s/it]\n"
          ]
        },
        {
          "name": "stdout",
          "output_type": "stream",
          "text": [
            "'wiki_03_line_96' dosyasından 6 adet semantic chunk üretildi.\n",
            "Uyarı: 'wiki_03_line_97' dosyası boş veya sadece boşluk içeriyor.\n"
          ]
        },
        {
          "name": "stderr",
          "output_type": "stream",
          "text": [
            "Batches: 100%|██████████| 1/1 [00:00<00:00,  1.94it/s]\n"
          ]
        },
        {
          "name": "stdout",
          "output_type": "stream",
          "text": [
            "'wiki_03_line_98' dosyasından 2 adet semantic chunk üretildi.\n",
            "'wiki_03_line_99' dosyasından 1 adet semantic chunk üretildi.\n"
          ]
        },
        {
          "name": "stderr",
          "output_type": "stream",
          "text": [
            "Batches: 100%|██████████| 1/1 [00:01<00:00,  1.80s/it]\n"
          ]
        },
        {
          "name": "stdout",
          "output_type": "stream",
          "text": [
            "'wiki_03_line_100' dosyasından 4 adet semantic chunk üretildi.\n"
          ]
        },
        {
          "name": "stderr",
          "output_type": "stream",
          "text": [
            "Batches: 100%|██████████| 2/2 [00:03<00:00,  1.99s/it]\n"
          ]
        },
        {
          "name": "stdout",
          "output_type": "stream",
          "text": [
            "'wiki_03_line_101' dosyasından 18 adet semantic chunk üretildi.\n",
            "Uyarı: 'wiki_03_line_102' dosyası boş veya sadece boşluk içeriyor.\n"
          ]
        },
        {
          "name": "stderr",
          "output_type": "stream",
          "text": [
            "Batches: 100%|██████████| 1/1 [00:00<00:00,  2.46it/s]\n"
          ]
        },
        {
          "name": "stdout",
          "output_type": "stream",
          "text": [
            "'wiki_03_line_103' dosyasından 3 adet semantic chunk üretildi.\n",
            "Uyarı: 'wiki_03_line_104' dosyası boş veya sadece boşluk içeriyor.\n"
          ]
        },
        {
          "name": "stderr",
          "output_type": "stream",
          "text": [
            "Batches: 100%|██████████| 1/1 [00:00<00:00,  2.27it/s]\n"
          ]
        },
        {
          "name": "stdout",
          "output_type": "stream",
          "text": [
            "'wiki_03_line_105' dosyasından 2 adet semantic chunk üretildi.\n",
            "Uyarı: 'wiki_03_line_106' dosyası boş veya sadece boşluk içeriyor.\n"
          ]
        },
        {
          "name": "stderr",
          "output_type": "stream",
          "text": [
            "Batches: 100%|██████████| 1/1 [00:00<00:00,  1.45it/s]\n"
          ]
        },
        {
          "name": "stdout",
          "output_type": "stream",
          "text": [
            "'wiki_03_line_107' dosyasından 2 adet semantic chunk üretildi.\n"
          ]
        },
        {
          "name": "stderr",
          "output_type": "stream",
          "text": [
            "Batches: 100%|██████████| 2/2 [00:03<00:00,  1.96s/it]\n"
          ]
        },
        {
          "name": "stdout",
          "output_type": "stream",
          "text": [
            "'wiki_04_line_0' dosyasından 17 adet semantic chunk üretildi.\n"
          ]
        },
        {
          "name": "stderr",
          "output_type": "stream",
          "text": [
            "Batches: 100%|██████████| 1/1 [00:01<00:00,  1.15s/it]\n"
          ]
        },
        {
          "name": "stdout",
          "output_type": "stream",
          "text": [
            "'wiki_04_line_1' dosyasından 7 adet semantic chunk üretildi.\n"
          ]
        },
        {
          "name": "stderr",
          "output_type": "stream",
          "text": [
            "Batches: 100%|██████████| 2/2 [00:03<00:00,  1.79s/it]\n"
          ]
        },
        {
          "name": "stdout",
          "output_type": "stream",
          "text": [
            "'wiki_04_line_2' dosyasından 25 adet semantic chunk üretildi.\n"
          ]
        },
        {
          "name": "stderr",
          "output_type": "stream",
          "text": [
            "Batches: 100%|██████████| 3/3 [00:07<00:00,  2.45s/it]\n"
          ]
        },
        {
          "name": "stdout",
          "output_type": "stream",
          "text": [
            "'wiki_04_line_3' dosyasından 19 adet semantic chunk üretildi.\n",
            "Uyarı: 'wiki_04_line_4' dosyası boş veya sadece boşluk içeriyor.\n"
          ]
        },
        {
          "name": "stderr",
          "output_type": "stream",
          "text": [
            "Batches: 100%|██████████| 2/2 [00:06<00:00,  3.04s/it]\n"
          ]
        },
        {
          "name": "stdout",
          "output_type": "stream",
          "text": [
            "'wiki_04_line_5' dosyasından 18 adet semantic chunk üretildi.\n"
          ]
        },
        {
          "name": "stderr",
          "output_type": "stream",
          "text": [
            "Batches: 100%|██████████| 1/1 [00:00<00:00,  2.55it/s]\n"
          ]
        },
        {
          "name": "stdout",
          "output_type": "stream",
          "text": [
            "'wiki_04_line_6' dosyasından 1 adet semantic chunk üretildi.\n"
          ]
        },
        {
          "name": "stderr",
          "output_type": "stream",
          "text": [
            "Batches: 100%|██████████| 1/1 [00:01<00:00,  1.39s/it]\n"
          ]
        },
        {
          "name": "stdout",
          "output_type": "stream",
          "text": [
            "'wiki_04_line_7' dosyasından 7 adet semantic chunk üretildi.\n"
          ]
        },
        {
          "name": "stderr",
          "output_type": "stream",
          "text": [
            "Batches: 100%|██████████| 1/1 [00:02<00:00,  2.44s/it]\n"
          ]
        },
        {
          "name": "stdout",
          "output_type": "stream",
          "text": [
            "'wiki_04_line_8' dosyasından 11 adet semantic chunk üretildi.\n"
          ]
        },
        {
          "name": "stderr",
          "output_type": "stream",
          "text": [
            "Batches: 100%|██████████| 1/1 [00:00<00:00,  1.07it/s]\n"
          ]
        },
        {
          "name": "stdout",
          "output_type": "stream",
          "text": [
            "'wiki_04_line_9' dosyasından 8 adet semantic chunk üretildi.\n"
          ]
        },
        {
          "name": "stderr",
          "output_type": "stream",
          "text": [
            "Batches: 100%|██████████| 2/2 [00:04<00:00,  2.41s/it]\n"
          ]
        },
        {
          "name": "stdout",
          "output_type": "stream",
          "text": [
            "'wiki_04_line_10' dosyasından 17 adet semantic chunk üretildi.\n",
            "Uyarı: 'wiki_04_line_11' dosyası boş veya sadece boşluk içeriyor.\n",
            "Uyarı: 'wiki_04_line_12' dosyası boş veya sadece boşluk içeriyor.\n"
          ]
        },
        {
          "name": "stderr",
          "output_type": "stream",
          "text": [
            "Batches: 100%|██████████| 1/1 [00:01<00:00,  1.79s/it]\n"
          ]
        },
        {
          "name": "stdout",
          "output_type": "stream",
          "text": [
            "'wiki_04_line_13' dosyasından 9 adet semantic chunk üretildi.\n"
          ]
        },
        {
          "name": "stderr",
          "output_type": "stream",
          "text": [
            "Batches: 100%|██████████| 1/1 [00:00<00:00,  5.55it/s]\n"
          ]
        },
        {
          "name": "stdout",
          "output_type": "stream",
          "text": [
            "'wiki_04_line_14' dosyasından 2 adet semantic chunk üretildi.\n"
          ]
        },
        {
          "name": "stderr",
          "output_type": "stream",
          "text": [
            "Batches: 100%|██████████| 1/1 [00:00<00:00,  5.92it/s]\n"
          ]
        },
        {
          "name": "stdout",
          "output_type": "stream",
          "text": [
            "'wiki_04_line_15' dosyasından 1 adet semantic chunk üretildi.\n"
          ]
        },
        {
          "name": "stderr",
          "output_type": "stream",
          "text": [
            "Batches: 100%|██████████| 1/1 [00:00<00:00,  2.78it/s]\n"
          ]
        },
        {
          "name": "stdout",
          "output_type": "stream",
          "text": [
            "'wiki_04_line_16' dosyasından 2 adet semantic chunk üretildi.\n"
          ]
        },
        {
          "name": "stderr",
          "output_type": "stream",
          "text": [
            "Batches: 100%|██████████| 1/1 [00:02<00:00,  2.19s/it]\n"
          ]
        },
        {
          "name": "stdout",
          "output_type": "stream",
          "text": [
            "'wiki_04_line_17' dosyasından 6 adet semantic chunk üretildi.\n"
          ]
        },
        {
          "name": "stderr",
          "output_type": "stream",
          "text": [
            "Batches: 100%|██████████| 3/3 [00:05<00:00,  1.93s/it]\n"
          ]
        },
        {
          "name": "stdout",
          "output_type": "stream",
          "text": [
            "'wiki_04_line_18' dosyasından 24 adet semantic chunk üretildi.\n"
          ]
        },
        {
          "name": "stderr",
          "output_type": "stream",
          "text": [
            "Batches: 100%|██████████| 1/1 [00:00<00:00,  3.05it/s]\n"
          ]
        },
        {
          "name": "stdout",
          "output_type": "stream",
          "text": [
            "'wiki_04_line_19' dosyasından 2 adet semantic chunk üretildi.\n",
            "Uyarı: 'wiki_04_line_20' dosyası boş veya sadece boşluk içeriyor.\n"
          ]
        },
        {
          "name": "stderr",
          "output_type": "stream",
          "text": [
            "Batches: 100%|██████████| 1/1 [00:00<00:00,  1.28it/s]\n"
          ]
        },
        {
          "name": "stdout",
          "output_type": "stream",
          "text": [
            "'wiki_04_line_21' dosyasından 4 adet semantic chunk üretildi.\n"
          ]
        },
        {
          "name": "stderr",
          "output_type": "stream",
          "text": [
            "Batches: 100%|██████████| 1/1 [00:00<00:00,  2.92it/s]\n"
          ]
        },
        {
          "name": "stdout",
          "output_type": "stream",
          "text": [
            "'wiki_04_line_22' dosyasından 1 adet semantic chunk üretildi.\n"
          ]
        },
        {
          "name": "stderr",
          "output_type": "stream",
          "text": [
            "Batches: 100%|██████████| 1/1 [00:00<00:00,  1.51it/s]\n"
          ]
        },
        {
          "name": "stdout",
          "output_type": "stream",
          "text": [
            "'wiki_04_line_23' dosyasından 2 adet semantic chunk üretildi.\n"
          ]
        },
        {
          "name": "stderr",
          "output_type": "stream",
          "text": [
            "Batches: 100%|██████████| 1/1 [00:00<00:00,  3.23it/s]\n"
          ]
        },
        {
          "name": "stdout",
          "output_type": "stream",
          "text": [
            "'wiki_04_line_24' dosyasından 1 adet semantic chunk üretildi.\n"
          ]
        },
        {
          "name": "stderr",
          "output_type": "stream",
          "text": [
            "Batches: 100%|██████████| 1/1 [00:00<00:00,  3.72it/s]\n"
          ]
        },
        {
          "name": "stdout",
          "output_type": "stream",
          "text": [
            "'wiki_04_line_25' dosyasından 1 adet semantic chunk üretildi.\n"
          ]
        },
        {
          "name": "stderr",
          "output_type": "stream",
          "text": [
            "Batches: 100%|██████████| 1/1 [00:00<00:00,  3.14it/s]\n"
          ]
        },
        {
          "name": "stdout",
          "output_type": "stream",
          "text": [
            "'wiki_04_line_26' dosyasından 1 adet semantic chunk üretildi.\n"
          ]
        },
        {
          "name": "stderr",
          "output_type": "stream",
          "text": [
            "Batches: 100%|██████████| 1/1 [00:00<00:00,  2.27it/s]\n"
          ]
        },
        {
          "name": "stdout",
          "output_type": "stream",
          "text": [
            "'wiki_04_line_27' dosyasından 2 adet semantic chunk üretildi.\n"
          ]
        },
        {
          "name": "stderr",
          "output_type": "stream",
          "text": [
            "Batches: 100%|██████████| 1/1 [00:00<00:00,  3.50it/s]\n"
          ]
        },
        {
          "name": "stdout",
          "output_type": "stream",
          "text": [
            "'wiki_04_line_28' dosyasından 2 adet semantic chunk üretildi.\n"
          ]
        },
        {
          "name": "stderr",
          "output_type": "stream",
          "text": [
            "Batches: 100%|██████████| 1/1 [00:00<00:00,  3.86it/s]\n"
          ]
        },
        {
          "name": "stdout",
          "output_type": "stream",
          "text": [
            "'wiki_04_line_29' dosyasından 1 adet semantic chunk üretildi.\n"
          ]
        },
        {
          "name": "stderr",
          "output_type": "stream",
          "text": [
            "Batches: 100%|██████████| 1/1 [00:00<00:00,  1.07it/s]\n"
          ]
        },
        {
          "name": "stdout",
          "output_type": "stream",
          "text": [
            "'wiki_04_line_30' dosyasından 2 adet semantic chunk üretildi.\n"
          ]
        },
        {
          "name": "stderr",
          "output_type": "stream",
          "text": [
            "Batches: 100%|██████████| 1/1 [00:00<00:00,  3.02it/s]\n"
          ]
        },
        {
          "name": "stdout",
          "output_type": "stream",
          "text": [
            "'wiki_04_line_31' dosyasından 1 adet semantic chunk üretildi.\n",
            "Uyarı: 'wiki_04_line_32' dosyası boş veya sadece boşluk içeriyor.\n"
          ]
        },
        {
          "name": "stderr",
          "output_type": "stream",
          "text": [
            "Batches: 100%|██████████| 1/1 [00:00<00:00,  3.59it/s]\n"
          ]
        },
        {
          "name": "stdout",
          "output_type": "stream",
          "text": [
            "'wiki_04_line_33' dosyasından 1 adet semantic chunk üretildi.\n"
          ]
        },
        {
          "name": "stderr",
          "output_type": "stream",
          "text": [
            "Batches: 100%|██████████| 1/1 [00:00<00:00,  4.27it/s]\n"
          ]
        },
        {
          "name": "stdout",
          "output_type": "stream",
          "text": [
            "'wiki_04_line_34' dosyasından 1 adet semantic chunk üretildi.\n"
          ]
        },
        {
          "name": "stderr",
          "output_type": "stream",
          "text": [
            "Batches: 100%|██████████| 1/1 [00:00<00:00,  2.57it/s]\n"
          ]
        },
        {
          "name": "stdout",
          "output_type": "stream",
          "text": [
            "'wiki_04_line_35' dosyasından 1 adet semantic chunk üretildi.\n"
          ]
        },
        {
          "name": "stderr",
          "output_type": "stream",
          "text": [
            "Batches: 100%|██████████| 3/3 [00:05<00:00,  1.97s/it]\n"
          ]
        },
        {
          "name": "stdout",
          "output_type": "stream",
          "text": [
            "'wiki_04_line_36' dosyasından 15 adet semantic chunk üretildi.\n",
            "Uyarı: 'wiki_04_line_37' dosyası boş veya sadece boşluk içeriyor.\n",
            "'wiki_04_line_38' dosyasından 1 adet semantic chunk üretildi.\n"
          ]
        },
        {
          "name": "stderr",
          "output_type": "stream",
          "text": [
            "Batches: 100%|██████████| 1/1 [00:00<00:00,  2.24it/s]\n"
          ]
        },
        {
          "name": "stdout",
          "output_type": "stream",
          "text": [
            "'wiki_04_line_39' dosyasından 2 adet semantic chunk üretildi.\n"
          ]
        },
        {
          "name": "stderr",
          "output_type": "stream",
          "text": [
            "Batches: 100%|██████████| 1/1 [00:02<00:00,  2.52s/it]\n"
          ]
        },
        {
          "name": "stdout",
          "output_type": "stream",
          "text": [
            "'wiki_04_line_40' dosyasından 8 adet semantic chunk üretildi.\n"
          ]
        },
        {
          "name": "stderr",
          "output_type": "stream",
          "text": [
            "Batches: 100%|██████████| 3/3 [00:07<00:00,  2.35s/it]\n"
          ]
        },
        {
          "name": "stdout",
          "output_type": "stream",
          "text": [
            "'wiki_04_line_41' dosyasından 16 adet semantic chunk üretildi.\n",
            "'wiki_04_line_42' dosyasından 1 adet semantic chunk üretildi.\n",
            "Uyarı: 'wiki_04_line_43' dosyası boş veya sadece boşluk içeriyor.\n",
            "Uyarı: 'wiki_04_line_44' dosyası boş veya sadece boşluk içeriyor.\n"
          ]
        },
        {
          "name": "stderr",
          "output_type": "stream",
          "text": [
            "Batches: 100%|██████████| 4/4 [00:08<00:00,  2.18s/it]\n"
          ]
        },
        {
          "name": "stdout",
          "output_type": "stream",
          "text": [
            "'wiki_04_line_45' dosyasından 39 adet semantic chunk üretildi.\n"
          ]
        },
        {
          "name": "stderr",
          "output_type": "stream",
          "text": [
            "Batches: 100%|██████████| 1/1 [00:01<00:00,  1.03s/it]\n"
          ]
        },
        {
          "name": "stdout",
          "output_type": "stream",
          "text": [
            "'wiki_04_line_46' dosyasından 3 adet semantic chunk üretildi.\n",
            "Uyarı: 'wiki_04_line_47' dosyası boş veya sadece boşluk içeriyor.\n"
          ]
        },
        {
          "name": "stderr",
          "output_type": "stream",
          "text": [
            "Batches: 100%|██████████| 6/6 [00:17<00:00,  2.89s/it]\n"
          ]
        },
        {
          "name": "stdout",
          "output_type": "stream",
          "text": [
            "'wiki_04_line_48' dosyasından 60 adet semantic chunk üretildi.\n"
          ]
        },
        {
          "name": "stderr",
          "output_type": "stream",
          "text": [
            "Batches: 100%|██████████| 1/1 [00:00<00:00,  2.52it/s]\n"
          ]
        },
        {
          "name": "stdout",
          "output_type": "stream",
          "text": [
            "'wiki_04_line_49' dosyasından 1 adet semantic chunk üretildi.\n"
          ]
        },
        {
          "name": "stderr",
          "output_type": "stream",
          "text": [
            "Batches: 100%|██████████| 2/2 [00:02<00:00,  1.30s/it]\n"
          ]
        },
        {
          "name": "stdout",
          "output_type": "stream",
          "text": [
            "'wiki_04_line_50' dosyasından 17 adet semantic chunk üretildi.\n"
          ]
        },
        {
          "name": "stderr",
          "output_type": "stream",
          "text": [
            "Batches: 100%|██████████| 1/1 [00:00<00:00,  2.58it/s]\n"
          ]
        },
        {
          "name": "stdout",
          "output_type": "stream",
          "text": [
            "'wiki_04_line_51' dosyasından 2 adet semantic chunk üretildi.\n"
          ]
        },
        {
          "name": "stderr",
          "output_type": "stream",
          "text": [
            "Batches: 100%|██████████| 2/2 [00:04<00:00,  2.16s/it]\n"
          ]
        },
        {
          "name": "stdout",
          "output_type": "stream",
          "text": [
            "'wiki_04_line_52' dosyasından 17 adet semantic chunk üretildi.\n",
            "'wiki_04_line_53' dosyasından 1 adet semantic chunk üretildi.\n",
            "Uyarı: 'wiki_04_line_54' dosyası boş veya sadece boşluk içeriyor.\n"
          ]
        },
        {
          "name": "stderr",
          "output_type": "stream",
          "text": [
            "Batches: 100%|██████████| 1/1 [00:01<00:00,  1.17s/it]\n"
          ]
        },
        {
          "name": "stdout",
          "output_type": "stream",
          "text": [
            "'wiki_04_line_55' dosyasından 4 adet semantic chunk üretildi.\n",
            "'wiki_04_line_56' dosyasından 1 adet semantic chunk üretildi.\n"
          ]
        },
        {
          "name": "stderr",
          "output_type": "stream",
          "text": [
            "Batches: 100%|██████████| 3/3 [00:06<00:00,  2.31s/it]\n"
          ]
        },
        {
          "name": "stdout",
          "output_type": "stream",
          "text": [
            "'wiki_04_line_57' dosyasından 21 adet semantic chunk üretildi.\n",
            "Uyarı: 'wiki_04_line_58' dosyası boş veya sadece boşluk içeriyor.\n"
          ]
        },
        {
          "name": "stderr",
          "output_type": "stream",
          "text": [
            "Batches: 100%|██████████| 1/1 [00:02<00:00,  2.40s/it]\n"
          ]
        },
        {
          "name": "stdout",
          "output_type": "stream",
          "text": [
            "'wiki_04_line_59' dosyasından 7 adet semantic chunk üretildi.\n"
          ]
        },
        {
          "name": "stderr",
          "output_type": "stream",
          "text": [
            "Batches: 100%|██████████| 1/1 [00:02<00:00,  2.67s/it]\n"
          ]
        },
        {
          "name": "stdout",
          "output_type": "stream",
          "text": [
            "'wiki_04_line_60' dosyasından 7 adet semantic chunk üretildi.\n",
            "'wiki_04_line_61' dosyasından 1 adet semantic chunk üretildi.\n"
          ]
        },
        {
          "name": "stderr",
          "output_type": "stream",
          "text": [
            "Batches: 100%|██████████| 1/1 [00:01<00:00,  1.59s/it]\n"
          ]
        },
        {
          "name": "stdout",
          "output_type": "stream",
          "text": [
            "'wiki_04_line_62' dosyasından 5 adet semantic chunk üretildi.\n"
          ]
        },
        {
          "name": "stderr",
          "output_type": "stream",
          "text": [
            "Batches: 100%|██████████| 1/1 [00:00<00:00,  1.10it/s]\n"
          ]
        },
        {
          "name": "stdout",
          "output_type": "stream",
          "text": [
            "'wiki_04_line_63' dosyasından 5 adet semantic chunk üretildi.\n"
          ]
        },
        {
          "name": "stderr",
          "output_type": "stream",
          "text": [
            "Batches: 100%|██████████| 1/1 [00:00<00:00,  1.34it/s]\n"
          ]
        },
        {
          "name": "stdout",
          "output_type": "stream",
          "text": [
            "'wiki_04_line_64' dosyasından 4 adet semantic chunk üretildi.\n"
          ]
        },
        {
          "name": "stderr",
          "output_type": "stream",
          "text": [
            "Batches: 100%|██████████| 1/1 [00:01<00:00,  1.37s/it]\n"
          ]
        },
        {
          "name": "stdout",
          "output_type": "stream",
          "text": [
            "'wiki_04_line_65' dosyasından 10 adet semantic chunk üretildi.\n",
            "Uyarı: 'wiki_04_line_66' dosyası boş veya sadece boşluk içeriyor.\n"
          ]
        },
        {
          "name": "stderr",
          "output_type": "stream",
          "text": [
            "Batches: 100%|██████████| 1/1 [00:00<00:00,  4.95it/s]\n"
          ]
        },
        {
          "name": "stdout",
          "output_type": "stream",
          "text": [
            "'wiki_04_line_67' dosyasından 1 adet semantic chunk üretildi.\n"
          ]
        },
        {
          "name": "stderr",
          "output_type": "stream",
          "text": [
            "Batches: 100%|██████████| 1/1 [00:01<00:00,  1.23s/it]\n"
          ]
        },
        {
          "name": "stdout",
          "output_type": "stream",
          "text": [
            "'wiki_04_line_68' dosyasından 7 adet semantic chunk üretildi.\n"
          ]
        },
        {
          "name": "stderr",
          "output_type": "stream",
          "text": [
            "Batches: 100%|██████████| 3/3 [00:08<00:00,  2.68s/it]\n"
          ]
        },
        {
          "name": "stdout",
          "output_type": "stream",
          "text": [
            "'wiki_04_line_69' dosyasından 22 adet semantic chunk üretildi.\n",
            "Uyarı: 'wiki_04_line_70' dosyası boş veya sadece boşluk içeriyor.\n"
          ]
        },
        {
          "name": "stderr",
          "output_type": "stream",
          "text": [
            "Batches: 100%|██████████| 1/1 [00:01<00:00,  1.17s/it]\n"
          ]
        },
        {
          "name": "stdout",
          "output_type": "stream",
          "text": [
            "'wiki_05_line_0' dosyasından 3 adet semantic chunk üretildi.\n"
          ]
        },
        {
          "name": "stderr",
          "output_type": "stream",
          "text": [
            "Batches: 100%|██████████| 1/1 [00:01<00:00,  1.49s/it]\n"
          ]
        },
        {
          "name": "stdout",
          "output_type": "stream",
          "text": [
            "'wiki_05_line_1' dosyasından 6 adet semantic chunk üretildi.\n"
          ]
        },
        {
          "name": "stderr",
          "output_type": "stream",
          "text": [
            "Batches: 100%|██████████| 1/1 [00:00<00:00,  1.14it/s]\n"
          ]
        },
        {
          "name": "stdout",
          "output_type": "stream",
          "text": [
            "'wiki_05_line_2' dosyasından 3 adet semantic chunk üretildi.\n",
            "Uyarı: 'wiki_05_line_3' dosyası boş veya sadece boşluk içeriyor.\n"
          ]
        },
        {
          "name": "stderr",
          "output_type": "stream",
          "text": [
            "Batches: 100%|██████████| 1/1 [00:02<00:00,  2.43s/it]\n"
          ]
        },
        {
          "name": "stdout",
          "output_type": "stream",
          "text": [
            "'wiki_05_line_4' dosyasından 8 adet semantic chunk üretildi.\n"
          ]
        },
        {
          "name": "stderr",
          "output_type": "stream",
          "text": [
            "Batches: 100%|██████████| 1/1 [00:01<00:00,  1.02s/it]\n"
          ]
        },
        {
          "name": "stdout",
          "output_type": "stream",
          "text": [
            "'wiki_05_line_5' dosyasından 3 adet semantic chunk üretildi.\n"
          ]
        },
        {
          "name": "stderr",
          "output_type": "stream",
          "text": [
            "Batches: 100%|██████████| 1/1 [00:00<00:00,  1.83it/s]\n"
          ]
        },
        {
          "name": "stdout",
          "output_type": "stream",
          "text": [
            "'wiki_05_line_6' dosyasından 2 adet semantic chunk üretildi.\n"
          ]
        },
        {
          "name": "stderr",
          "output_type": "stream",
          "text": [
            "Batches: 100%|██████████| 3/3 [00:07<00:00,  2.38s/it]\n"
          ]
        },
        {
          "name": "stdout",
          "output_type": "stream",
          "text": [
            "'wiki_05_line_7' dosyasından 37 adet semantic chunk üretildi.\n"
          ]
        },
        {
          "name": "stderr",
          "output_type": "stream",
          "text": [
            "Batches: 100%|██████████| 1/1 [00:00<00:00,  3.80it/s]\n"
          ]
        },
        {
          "name": "stdout",
          "output_type": "stream",
          "text": [
            "'wiki_05_line_8' dosyasından 2 adet semantic chunk üretildi.\n",
            "Uyarı: 'wiki_05_line_9' dosyası boş veya sadece boşluk içeriyor.\n"
          ]
        },
        {
          "name": "stderr",
          "output_type": "stream",
          "text": [
            "Batches: 100%|██████████| 3/3 [00:05<00:00,  1.76s/it]\n"
          ]
        },
        {
          "name": "stdout",
          "output_type": "stream",
          "text": [
            "'wiki_05_line_10' dosyasından 37 adet semantic chunk üretildi.\n"
          ]
        },
        {
          "name": "stderr",
          "output_type": "stream",
          "text": [
            "Batches: 100%|██████████| 1/1 [00:00<00:00,  1.18it/s]\n"
          ]
        },
        {
          "name": "stdout",
          "output_type": "stream",
          "text": [
            "'wiki_05_line_11' dosyasından 4 adet semantic chunk üretildi.\n"
          ]
        },
        {
          "name": "stderr",
          "output_type": "stream",
          "text": [
            "Batches: 100%|██████████| 4/4 [00:08<00:00,  2.20s/it]\n"
          ]
        },
        {
          "name": "stdout",
          "output_type": "stream",
          "text": [
            "'wiki_05_line_12' dosyasından 27 adet semantic chunk üretildi.\n"
          ]
        },
        {
          "name": "stderr",
          "output_type": "stream",
          "text": [
            "Batches: 100%|██████████| 1/1 [00:00<00:00,  2.21it/s]\n"
          ]
        },
        {
          "name": "stdout",
          "output_type": "stream",
          "text": [
            "'wiki_05_line_13' dosyasından 2 adet semantic chunk üretildi.\n",
            "Uyarı: 'wiki_05_line_14' dosyası boş veya sadece boşluk içeriyor.\n"
          ]
        },
        {
          "name": "stderr",
          "output_type": "stream",
          "text": [
            "Batches: 100%|██████████| 1/1 [00:01<00:00,  1.94s/it]\n"
          ]
        },
        {
          "name": "stdout",
          "output_type": "stream",
          "text": [
            "'wiki_05_line_15' dosyasından 6 adet semantic chunk üretildi.\n"
          ]
        },
        {
          "name": "stderr",
          "output_type": "stream",
          "text": [
            "Batches: 100%|██████████| 6/6 [00:14<00:00,  2.37s/it]\n"
          ]
        },
        {
          "name": "stdout",
          "output_type": "stream",
          "text": [
            "'wiki_05_line_16' dosyasından 72 adet semantic chunk üretildi.\n",
            "'wiki_05_line_17' dosyasından 1 adet semantic chunk üretildi.\n"
          ]
        },
        {
          "name": "stderr",
          "output_type": "stream",
          "text": [
            "Batches: 100%|██████████| 1/1 [00:00<00:00,  2.59it/s]\n"
          ]
        },
        {
          "name": "stdout",
          "output_type": "stream",
          "text": [
            "'wiki_05_line_18' dosyasından 3 adet semantic chunk üretildi.\n"
          ]
        },
        {
          "name": "stderr",
          "output_type": "stream",
          "text": [
            "Batches: 100%|██████████| 1/1 [00:01<00:00,  1.75s/it]\n"
          ]
        },
        {
          "name": "stdout",
          "output_type": "stream",
          "text": [
            "'wiki_05_line_19' dosyasından 7 adet semantic chunk üretildi.\n"
          ]
        },
        {
          "name": "stderr",
          "output_type": "stream",
          "text": [
            "Batches: 100%|██████████| 1/1 [00:00<00:00,  4.26it/s]\n"
          ]
        },
        {
          "name": "stdout",
          "output_type": "stream",
          "text": [
            "'wiki_05_line_20' dosyasından 1 adet semantic chunk üretildi.\n"
          ]
        },
        {
          "name": "stderr",
          "output_type": "stream",
          "text": [
            "Batches: 100%|██████████| 1/1 [00:00<00:00,  1.24it/s]\n"
          ]
        },
        {
          "name": "stdout",
          "output_type": "stream",
          "text": [
            "'wiki_05_line_21' dosyasından 3 adet semantic chunk üretildi.\n"
          ]
        },
        {
          "name": "stderr",
          "output_type": "stream",
          "text": [
            "Batches: 100%|██████████| 1/1 [00:00<00:00,  4.41it/s]\n"
          ]
        },
        {
          "name": "stdout",
          "output_type": "stream",
          "text": [
            "'wiki_05_line_22' dosyasından 2 adet semantic chunk üretildi.\n",
            "Uyarı: 'wiki_05_line_23' dosyası boş veya sadece boşluk içeriyor.\n",
            "'wiki_05_line_24' dosyasından 1 adet semantic chunk üretildi.\n",
            "Uyarı: 'wiki_05_line_25' dosyası boş veya sadece boşluk içeriyor.\n"
          ]
        },
        {
          "name": "stderr",
          "output_type": "stream",
          "text": [
            "Batches: 100%|██████████| 1/1 [00:00<00:00,  1.15it/s]\n"
          ]
        },
        {
          "name": "stdout",
          "output_type": "stream",
          "text": [
            "'wiki_05_line_26' dosyasından 6 adet semantic chunk üretildi.\n"
          ]
        },
        {
          "name": "stderr",
          "output_type": "stream",
          "text": [
            "Batches: 100%|██████████| 2/2 [00:03<00:00,  1.67s/it]\n"
          ]
        },
        {
          "name": "stdout",
          "output_type": "stream",
          "text": [
            "'wiki_05_line_27' dosyasından 18 adet semantic chunk üretildi.\n"
          ]
        },
        {
          "name": "stderr",
          "output_type": "stream",
          "text": [
            "Batches: 100%|██████████| 1/1 [00:00<00:00,  2.24it/s]\n"
          ]
        },
        {
          "name": "stdout",
          "output_type": "stream",
          "text": [
            "'wiki_05_line_28' dosyasından 3 adet semantic chunk üretildi.\n"
          ]
        },
        {
          "name": "stderr",
          "output_type": "stream",
          "text": [
            "Batches: 100%|██████████| 1/1 [00:00<00:00,  2.36it/s]\n"
          ]
        },
        {
          "name": "stdout",
          "output_type": "stream",
          "text": [
            "'wiki_05_line_29' dosyasından 5 adet semantic chunk üretildi.\n",
            "'wiki_05_line_30' dosyasından 1 adet semantic chunk üretildi.\n",
            "'wiki_05_line_31' dosyasından 1 adet semantic chunk üretildi.\n"
          ]
        },
        {
          "name": "stderr",
          "output_type": "stream",
          "text": [
            "Batches: 100%|██████████| 1/1 [00:00<00:00,  2.68it/s]\n"
          ]
        },
        {
          "name": "stdout",
          "output_type": "stream",
          "text": [
            "'wiki_05_line_32' dosyasından 2 adet semantic chunk üretildi.\n",
            "Uyarı: 'wiki_05_line_33' dosyası boş veya sadece boşluk içeriyor.\n"
          ]
        },
        {
          "name": "stderr",
          "output_type": "stream",
          "text": [
            "Batches: 100%|██████████| 1/1 [00:00<00:00,  2.04it/s]\n"
          ]
        },
        {
          "name": "stdout",
          "output_type": "stream",
          "text": [
            "'wiki_05_line_34' dosyasından 4 adet semantic chunk üretildi.\n"
          ]
        },
        {
          "name": "stderr",
          "output_type": "stream",
          "text": [
            "Batches: 100%|██████████| 1/1 [00:00<00:00,  2.85it/s]\n"
          ]
        },
        {
          "name": "stdout",
          "output_type": "stream",
          "text": [
            "'wiki_05_line_35' dosyasından 3 adet semantic chunk üretildi.\n"
          ]
        },
        {
          "name": "stderr",
          "output_type": "stream",
          "text": [
            "Batches: 100%|██████████| 1/1 [00:01<00:00,  1.07s/it]\n"
          ]
        },
        {
          "name": "stdout",
          "output_type": "stream",
          "text": [
            "'wiki_05_line_36' dosyasından 4 adet semantic chunk üretildi.\n"
          ]
        },
        {
          "name": "stderr",
          "output_type": "stream",
          "text": [
            "Batches: 100%|██████████| 1/1 [00:00<00:00,  2.45it/s]\n"
          ]
        },
        {
          "name": "stdout",
          "output_type": "stream",
          "text": [
            "'wiki_05_line_37' dosyasından 2 adet semantic chunk üretildi.\n",
            "Uyarı: 'wiki_05_line_38' dosyası boş veya sadece boşluk içeriyor.\n",
            "Uyarı: 'wiki_05_line_39' dosyası boş veya sadece boşluk içeriyor.\n"
          ]
        },
        {
          "name": "stderr",
          "output_type": "stream",
          "text": [
            "Batches: 100%|██████████| 1/1 [00:00<00:00,  1.85it/s]\n"
          ]
        },
        {
          "name": "stdout",
          "output_type": "stream",
          "text": [
            "'wiki_05_line_40' dosyasından 2 adet semantic chunk üretildi.\n",
            "Uyarı: 'wiki_05_line_41' dosyası boş veya sadece boşluk içeriyor.\n"
          ]
        },
        {
          "name": "stderr",
          "output_type": "stream",
          "text": [
            "Batches: 100%|██████████| 2/2 [00:02<00:00,  1.23s/it]\n"
          ]
        },
        {
          "name": "stdout",
          "output_type": "stream",
          "text": [
            "'wiki_05_line_42' dosyasından 12 adet semantic chunk üretildi.\n"
          ]
        },
        {
          "name": "stderr",
          "output_type": "stream",
          "text": [
            "Batches: 100%|██████████| 1/1 [00:00<00:00,  1.53it/s]\n"
          ]
        },
        {
          "name": "stdout",
          "output_type": "stream",
          "text": [
            "'wiki_05_line_43' dosyasından 3 adet semantic chunk üretildi.\n"
          ]
        },
        {
          "name": "stderr",
          "output_type": "stream",
          "text": [
            "Batches: 100%|██████████| 1/1 [00:01<00:00,  1.31s/it]\n"
          ]
        },
        {
          "name": "stdout",
          "output_type": "stream",
          "text": [
            "'wiki_05_line_44' dosyasından 8 adet semantic chunk üretildi.\n",
            "Uyarı: 'wiki_05_line_45' dosyası boş veya sadece boşluk içeriyor.\n",
            "Uyarı: 'wiki_05_line_46' dosyası boş veya sadece boşluk içeriyor.\n",
            "Uyarı: 'wiki_05_line_47' dosyası boş veya sadece boşluk içeriyor.\n"
          ]
        },
        {
          "name": "stderr",
          "output_type": "stream",
          "text": [
            "Batches: 100%|██████████| 1/1 [00:02<00:00,  2.08s/it]\n"
          ]
        },
        {
          "name": "stdout",
          "output_type": "stream",
          "text": [
            "'wiki_05_line_48' dosyasından 7 adet semantic chunk üretildi.\n",
            "Uyarı: 'wiki_05_line_49' dosyası boş veya sadece boşluk içeriyor.\n",
            "Uyarı: 'wiki_05_line_50' dosyası boş veya sadece boşluk içeriyor.\n",
            "Uyarı: 'wiki_05_line_51' dosyası boş veya sadece boşluk içeriyor.\n"
          ]
        },
        {
          "name": "stderr",
          "output_type": "stream",
          "text": [
            "Batches: 100%|██████████| 5/5 [00:11<00:00,  2.23s/it]\n"
          ]
        },
        {
          "name": "stdout",
          "output_type": "stream",
          "text": [
            "'wiki_05_line_52' dosyasından 61 adet semantic chunk üretildi.\n",
            "'wiki_05_line_53' dosyasından 1 adet semantic chunk üretildi.\n"
          ]
        },
        {
          "name": "stderr",
          "output_type": "stream",
          "text": [
            "Batches: 100%|██████████| 4/4 [00:08<00:00,  2.21s/it]\n"
          ]
        },
        {
          "name": "stdout",
          "output_type": "stream",
          "text": [
            "'wiki_05_line_54' dosyasından 32 adet semantic chunk üretildi.\n"
          ]
        },
        {
          "name": "stderr",
          "output_type": "stream",
          "text": [
            "Batches: 100%|██████████| 1/1 [00:00<00:00,  2.64it/s]\n"
          ]
        },
        {
          "name": "stdout",
          "output_type": "stream",
          "text": [
            "'wiki_05_line_55' dosyasından 2 adet semantic chunk üretildi.\n",
            "Uyarı: 'wiki_05_line_56' dosyası boş veya sadece boşluk içeriyor.\n",
            "Uyarı: 'wiki_05_line_57' dosyası boş veya sadece boşluk içeriyor.\n",
            "Uyarı: 'wiki_05_line_58' dosyası boş veya sadece boşluk içeriyor.\n",
            "Uyarı: 'wiki_05_line_59' dosyası boş veya sadece boşluk içeriyor.\n",
            "Uyarı: 'wiki_05_line_60' dosyası boş veya sadece boşluk içeriyor.\n",
            "Uyarı: 'wiki_05_line_61' dosyası boş veya sadece boşluk içeriyor.\n",
            "Uyarı: 'wiki_05_line_62' dosyası boş veya sadece boşluk içeriyor.\n",
            "Uyarı: 'wiki_05_line_63' dosyası boş veya sadece boşluk içeriyor.\n"
          ]
        },
        {
          "name": "stderr",
          "output_type": "stream",
          "text": [
            "Batches: 100%|██████████| 2/2 [00:02<00:00,  1.29s/it]\n"
          ]
        },
        {
          "name": "stdout",
          "output_type": "stream",
          "text": [
            "'wiki_05_line_64' dosyasından 11 adet semantic chunk üretildi.\n"
          ]
        },
        {
          "name": "stderr",
          "output_type": "stream",
          "text": [
            "Batches: 100%|██████████| 1/1 [00:01<00:00,  1.30s/it]\n"
          ]
        },
        {
          "name": "stdout",
          "output_type": "stream",
          "text": [
            "'wiki_05_line_65' dosyasından 8 adet semantic chunk üretildi.\n"
          ]
        },
        {
          "name": "stderr",
          "output_type": "stream",
          "text": [
            "Batches: 100%|██████████| 1/1 [00:00<00:00,  1.30it/s]\n"
          ]
        },
        {
          "name": "stdout",
          "output_type": "stream",
          "text": [
            "'wiki_05_line_66' dosyasından 6 adet semantic chunk üretildi.\n",
            "Uyarı: 'wiki_05_line_67' dosyası boş veya sadece boşluk içeriyor.\n"
          ]
        },
        {
          "name": "stderr",
          "output_type": "stream",
          "text": [
            "Batches: 100%|██████████| 1/1 [00:00<00:00,  1.33it/s]\n"
          ]
        },
        {
          "name": "stdout",
          "output_type": "stream",
          "text": [
            "'wiki_05_line_68' dosyasından 6 adet semantic chunk üretildi.\n",
            "Uyarı: 'wiki_05_line_69' dosyası boş veya sadece boşluk içeriyor.\n",
            "Uyarı: 'wiki_05_line_70' dosyası boş veya sadece boşluk içeriyor.\n",
            "Uyarı: 'wiki_05_line_71' dosyası boş veya sadece boşluk içeriyor.\n",
            "Uyarı: 'wiki_05_line_72' dosyası boş veya sadece boşluk içeriyor.\n",
            "Uyarı: 'wiki_05_line_73' dosyası boş veya sadece boşluk içeriyor.\n",
            "'wiki_05_line_74' dosyasından 1 adet semantic chunk üretildi.\n",
            "Uyarı: 'wiki_05_line_75' dosyası boş veya sadece boşluk içeriyor.\n"
          ]
        },
        {
          "name": "stderr",
          "output_type": "stream",
          "text": [
            "Batches: 100%|██████████| 1/1 [00:00<00:00,  2.41it/s]\n"
          ]
        },
        {
          "name": "stdout",
          "output_type": "stream",
          "text": [
            "'wiki_05_line_76' dosyasından 2 adet semantic chunk üretildi.\n"
          ]
        },
        {
          "name": "stderr",
          "output_type": "stream",
          "text": [
            "Batches: 100%|██████████| 1/1 [00:00<00:00,  3.65it/s]\n"
          ]
        },
        {
          "name": "stdout",
          "output_type": "stream",
          "text": [
            "'wiki_05_line_77' dosyasından 1 adet semantic chunk üretildi.\n",
            "Uyarı: 'wiki_05_line_78' dosyası boş veya sadece boşluk içeriyor.\n"
          ]
        },
        {
          "name": "stderr",
          "output_type": "stream",
          "text": [
            "Batches: 100%|██████████| 1/1 [00:01<00:00,  1.74s/it]\n"
          ]
        },
        {
          "name": "stdout",
          "output_type": "stream",
          "text": [
            "'wiki_05_line_79' dosyasından 8 adet semantic chunk üretildi.\n"
          ]
        },
        {
          "name": "stderr",
          "output_type": "stream",
          "text": [
            "Batches: 100%|██████████| 1/1 [00:01<00:00,  1.21s/it]\n"
          ]
        },
        {
          "name": "stdout",
          "output_type": "stream",
          "text": [
            "'wiki_05_line_80' dosyasından 4 adet semantic chunk üretildi.\n"
          ]
        },
        {
          "name": "stderr",
          "output_type": "stream",
          "text": [
            "Batches: 100%|██████████| 1/1 [00:00<00:00,  3.99it/s]\n"
          ]
        },
        {
          "name": "stdout",
          "output_type": "stream",
          "text": [
            "'wiki_05_line_81' dosyasından 3 adet semantic chunk üretildi.\n",
            "Uyarı: 'wiki_05_line_82' dosyası boş veya sadece boşluk içeriyor.\n"
          ]
        },
        {
          "name": "stderr",
          "output_type": "stream",
          "text": [
            "Batches: 100%|██████████| 1/1 [00:00<00:00,  5.09it/s]\n"
          ]
        },
        {
          "name": "stdout",
          "output_type": "stream",
          "text": [
            "'wiki_05_line_83' dosyasından 1 adet semantic chunk üretildi.\n",
            "'wiki_05_line_84' dosyasından 1 adet semantic chunk üretildi.\n"
          ]
        },
        {
          "name": "stderr",
          "output_type": "stream",
          "text": [
            "Batches: 100%|██████████| 1/1 [00:01<00:00,  1.44s/it]\n"
          ]
        },
        {
          "name": "stdout",
          "output_type": "stream",
          "text": [
            "'wiki_05_line_85' dosyasından 8 adet semantic chunk üretildi.\n",
            "Uyarı: 'wiki_05_line_86' dosyası boş veya sadece boşluk içeriyor.\n",
            "Uyarı: 'wiki_05_line_87' dosyası boş veya sadece boşluk içeriyor.\n",
            "Uyarı: 'wiki_05_line_88' dosyası boş veya sadece boşluk içeriyor.\n",
            "Uyarı: 'wiki_05_line_89' dosyası boş veya sadece boşluk içeriyor.\n",
            "Uyarı: 'wiki_05_line_90' dosyası boş veya sadece boşluk içeriyor.\n",
            "Uyarı: 'wiki_05_line_91' dosyası boş veya sadece boşluk içeriyor.\n",
            "Uyarı: 'wiki_05_line_92' dosyası boş veya sadece boşluk içeriyor.\n",
            "Uyarı: 'wiki_05_line_93' dosyası boş veya sadece boşluk içeriyor.\n",
            "Uyarı: 'wiki_05_line_94' dosyası boş veya sadece boşluk içeriyor.\n",
            "Uyarı: 'wiki_05_line_95' dosyası boş veya sadece boşluk içeriyor.\n",
            "Uyarı: 'wiki_05_line_96' dosyası boş veya sadece boşluk içeriyor.\n",
            "Uyarı: 'wiki_05_line_97' dosyası boş veya sadece boşluk içeriyor.\n",
            "Uyarı: 'wiki_05_line_98' dosyası boş veya sadece boşluk içeriyor.\n",
            "Uyarı: 'wiki_05_line_99' dosyası boş veya sadece boşluk içeriyor.\n",
            "Uyarı: 'wiki_05_line_100' dosyası boş veya sadece boşluk içeriyor.\n",
            "Uyarı: 'wiki_05_line_101' dosyası boş veya sadece boşluk içeriyor.\n",
            "Uyarı: 'wiki_05_line_102' dosyası boş veya sadece boşluk içeriyor.\n",
            "Uyarı: 'wiki_05_line_103' dosyası boş veya sadece boşluk içeriyor.\n",
            "Uyarı: 'wiki_05_line_104' dosyası boş veya sadece boşluk içeriyor.\n",
            "Uyarı: 'wiki_05_line_105' dosyası boş veya sadece boşluk içeriyor.\n",
            "Uyarı: 'wiki_05_line_106' dosyası boş veya sadece boşluk içeriyor.\n",
            "Uyarı: 'wiki_05_line_107' dosyası boş veya sadece boşluk içeriyor.\n",
            "Uyarı: 'wiki_05_line_108' dosyası boş veya sadece boşluk içeriyor.\n",
            "Uyarı: 'wiki_05_line_109' dosyası boş veya sadece boşluk içeriyor.\n",
            "Uyarı: 'wiki_05_line_110' dosyası boş veya sadece boşluk içeriyor.\n",
            "Uyarı: 'wiki_05_line_111' dosyası boş veya sadece boşluk içeriyor.\n",
            "Uyarı: 'wiki_05_line_112' dosyası boş veya sadece boşluk içeriyor.\n",
            "Uyarı: 'wiki_05_line_113' dosyası boş veya sadece boşluk içeriyor.\n",
            "Uyarı: 'wiki_05_line_114' dosyası boş veya sadece boşluk içeriyor.\n"
          ]
        },
        {
          "name": "stderr",
          "output_type": "stream",
          "text": [
            "Batches: 100%|██████████| 1/1 [00:00<00:00,  1.12it/s]\n"
          ]
        },
        {
          "name": "stdout",
          "output_type": "stream",
          "text": [
            "'wiki_05_line_115' dosyasından 6 adet semantic chunk üretildi.\n"
          ]
        },
        {
          "name": "stderr",
          "output_type": "stream",
          "text": [
            "Batches: 100%|██████████| 2/2 [00:04<00:00,  2.44s/it]\n"
          ]
        },
        {
          "name": "stdout",
          "output_type": "stream",
          "text": [
            "'wiki_05_line_116' dosyasından 16 adet semantic chunk üretildi.\n"
          ]
        },
        {
          "name": "stderr",
          "output_type": "stream",
          "text": [
            "Batches: 100%|██████████| 1/1 [00:01<00:00,  1.13s/it]\n"
          ]
        },
        {
          "name": "stdout",
          "output_type": "stream",
          "text": [
            "'wiki_05_line_117' dosyasından 3 adet semantic chunk üretildi.\n"
          ]
        },
        {
          "name": "stderr",
          "output_type": "stream",
          "text": [
            "Batches: 100%|██████████| 2/2 [00:03<00:00,  1.61s/it]\n"
          ]
        },
        {
          "name": "stdout",
          "output_type": "stream",
          "text": [
            "'wiki_05_line_118' dosyasından 19 adet semantic chunk üretildi.\n",
            "Uyarı: 'wiki_05_line_119' dosyası boş veya sadece boşluk içeriyor.\n",
            "Uyarı: 'wiki_05_line_120' dosyası boş veya sadece boşluk içeriyor.\n"
          ]
        },
        {
          "name": "stderr",
          "output_type": "stream",
          "text": [
            "Batches: 100%|██████████| 1/1 [00:01<00:00,  1.82s/it]\n"
          ]
        },
        {
          "name": "stdout",
          "output_type": "stream",
          "text": [
            "'wiki_05_line_121' dosyasından 5 adet semantic chunk üretildi.\n"
          ]
        },
        {
          "name": "stderr",
          "output_type": "stream",
          "text": [
            "Batches: 100%|██████████| 1/1 [00:00<00:00,  2.07it/s]\n"
          ]
        },
        {
          "name": "stdout",
          "output_type": "stream",
          "text": [
            "'wiki_05_line_122' dosyasından 4 adet semantic chunk üretildi.\n"
          ]
        },
        {
          "name": "stderr",
          "output_type": "stream",
          "text": [
            "Batches: 100%|██████████| 1/1 [00:01<00:00,  1.29s/it]\n"
          ]
        },
        {
          "name": "stdout",
          "output_type": "stream",
          "text": [
            "'wiki_05_line_123' dosyasından 6 adet semantic chunk üretildi.\n"
          ]
        },
        {
          "name": "stderr",
          "output_type": "stream",
          "text": [
            "Batches: 100%|██████████| 1/1 [00:00<00:00,  2.77it/s]\n"
          ]
        },
        {
          "name": "stdout",
          "output_type": "stream",
          "text": [
            "'wiki_05_line_124' dosyasından 2 adet semantic chunk üretildi.\n",
            "'wiki_05_line_125' dosyasından 1 adet semantic chunk üretildi.\n",
            "Uyarı: 'wiki_05_line_126' dosyası boş veya sadece boşluk içeriyor.\n",
            "Uyarı: 'wiki_05_line_127' dosyası boş veya sadece boşluk içeriyor.\n",
            "Uyarı: 'wiki_05_line_128' dosyası boş veya sadece boşluk içeriyor.\n",
            "Uyarı: 'wiki_05_line_129' dosyası boş veya sadece boşluk içeriyor.\n",
            "Uyarı: 'wiki_05_line_130' dosyası boş veya sadece boşluk içeriyor.\n",
            "Uyarı: 'wiki_05_line_131' dosyası boş veya sadece boşluk içeriyor.\n",
            "Uyarı: 'wiki_05_line_132' dosyası boş veya sadece boşluk içeriyor.\n",
            "Uyarı: 'wiki_05_line_133' dosyası boş veya sadece boşluk içeriyor.\n",
            "Uyarı: 'wiki_05_line_134' dosyası boş veya sadece boşluk içeriyor.\n",
            "Uyarı: 'wiki_05_line_135' dosyası boş veya sadece boşluk içeriyor.\n",
            "Uyarı: 'wiki_05_line_136' dosyası boş veya sadece boşluk içeriyor.\n",
            "Uyarı: 'wiki_05_line_137' dosyası boş veya sadece boşluk içeriyor.\n",
            "Uyarı: 'wiki_05_line_138' dosyası boş veya sadece boşluk içeriyor.\n",
            "Uyarı: 'wiki_05_line_139' dosyası boş veya sadece boşluk içeriyor.\n",
            "Uyarı: 'wiki_05_line_140' dosyası boş veya sadece boşluk içeriyor.\n",
            "Uyarı: 'wiki_05_line_141' dosyası boş veya sadece boşluk içeriyor.\n",
            "Uyarı: 'wiki_05_line_142' dosyası boş veya sadece boşluk içeriyor.\n",
            "Uyarı: 'wiki_05_line_143' dosyası boş veya sadece boşluk içeriyor.\n",
            "Uyarı: 'wiki_05_line_144' dosyası boş veya sadece boşluk içeriyor.\n",
            "Uyarı: 'wiki_05_line_145' dosyası boş veya sadece boşluk içeriyor.\n",
            "Uyarı: 'wiki_05_line_146' dosyası boş veya sadece boşluk içeriyor.\n",
            "Uyarı: 'wiki_05_line_147' dosyası boş veya sadece boşluk içeriyor.\n",
            "Uyarı: 'wiki_05_line_148' dosyası boş veya sadece boşluk içeriyor.\n",
            "Uyarı: 'wiki_05_line_149' dosyası boş veya sadece boşluk içeriyor.\n",
            "Uyarı: 'wiki_05_line_150' dosyası boş veya sadece boşluk içeriyor.\n",
            "Uyarı: 'wiki_05_line_151' dosyası boş veya sadece boşluk içeriyor.\n",
            "Uyarı: 'wiki_05_line_152' dosyası boş veya sadece boşluk içeriyor.\n",
            "Uyarı: 'wiki_05_line_153' dosyası boş veya sadece boşluk içeriyor.\n",
            "Uyarı: 'wiki_05_line_154' dosyası boş veya sadece boşluk içeriyor.\n",
            "Uyarı: 'wiki_05_line_155' dosyası boş veya sadece boşluk içeriyor.\n",
            "Uyarı: 'wiki_05_line_156' dosyası boş veya sadece boşluk içeriyor.\n",
            "'wiki_05_line_157' dosyasından 1 adet semantic chunk üretildi.\n",
            "Uyarı: 'wiki_05_line_158' dosyası boş veya sadece boşluk içeriyor.\n",
            "'wiki_05_line_159' dosyasından 1 adet semantic chunk üretildi.\n",
            "'wiki_05_line_160' dosyasından 1 adet semantic chunk üretildi.\n",
            "'wiki_05_line_161' dosyasından 1 adet semantic chunk üretildi.\n",
            "Uyarı: 'wiki_05_line_162' dosyası boş veya sadece boşluk içeriyor.\n",
            "Uyarı: 'wiki_05_line_163' dosyası boş veya sadece boşluk içeriyor.\n",
            "'wiki_05_line_164' dosyasından 1 adet semantic chunk üretildi.\n",
            "Uyarı: 'wiki_05_line_165' dosyası boş veya sadece boşluk içeriyor.\n",
            "Uyarı: 'wiki_05_line_166' dosyası boş veya sadece boşluk içeriyor.\n",
            "'wiki_05_line_167' dosyasından 1 adet semantic chunk üretildi.\n",
            "'wiki_05_line_168' dosyasından 1 adet semantic chunk üretildi.\n",
            "Uyarı: 'wiki_05_line_169' dosyası boş veya sadece boşluk içeriyor.\n",
            "Uyarı: 'wiki_05_line_170' dosyası boş veya sadece boşluk içeriyor.\n",
            "Uyarı: 'wiki_05_line_171' dosyası boş veya sadece boşluk içeriyor.\n",
            "Uyarı: 'wiki_05_line_172' dosyası boş veya sadece boşluk içeriyor.\n",
            "Uyarı: 'wiki_05_line_173' dosyası boş veya sadece boşluk içeriyor.\n",
            "'wiki_05_line_174' dosyasından 1 adet semantic chunk üretildi.\n",
            "'wiki_05_line_175' dosyasından 1 adet semantic chunk üretildi.\n",
            "Uyarı: 'wiki_05_line_176' dosyası boş veya sadece boşluk içeriyor.\n",
            "'wiki_05_line_177' dosyasından 1 adet semantic chunk üretildi.\n",
            "Uyarı: 'wiki_05_line_178' dosyası boş veya sadece boşluk içeriyor.\n",
            "Uyarı: 'wiki_05_line_179' dosyası boş veya sadece boşluk içeriyor.\n",
            "'wiki_05_line_180' dosyasından 1 adet semantic chunk üretildi.\n",
            "'wiki_05_line_181' dosyasından 1 adet semantic chunk üretildi.\n",
            "Uyarı: 'wiki_05_line_182' dosyası boş veya sadece boşluk içeriyor.\n",
            "'wiki_05_line_183' dosyasından 1 adet semantic chunk üretildi.\n",
            "Uyarı: 'wiki_05_line_184' dosyası boş veya sadece boşluk içeriyor.\n",
            "'wiki_05_line_185' dosyasından 1 adet semantic chunk üretildi.\n",
            "'wiki_05_line_186' dosyasından 1 adet semantic chunk üretildi.\n",
            "'wiki_05_line_187' dosyasından 1 adet semantic chunk üretildi.\n",
            "'wiki_05_line_188' dosyasından 1 adet semantic chunk üretildi.\n",
            "'wiki_05_line_189' dosyasından 1 adet semantic chunk üretildi.\n",
            "'wiki_05_line_190' dosyasından 1 adet semantic chunk üretildi.\n"
          ]
        },
        {
          "name": "stderr",
          "output_type": "stream",
          "text": [
            "Batches: 100%|██████████| 1/1 [00:00<00:00,  3.87it/s]\n"
          ]
        },
        {
          "name": "stdout",
          "output_type": "stream",
          "text": [
            "'wiki_05_line_191' dosyasından 3 adet semantic chunk üretildi.\n",
            "'wiki_05_line_192' dosyasından 1 adet semantic chunk üretildi.\n",
            "'wiki_05_line_193' dosyasından 1 adet semantic chunk üretildi.\n",
            "'wiki_05_line_194' dosyasından 1 adet semantic chunk üretildi.\n",
            "'wiki_05_line_195' dosyasından 1 adet semantic chunk üretildi.\n",
            "'wiki_05_line_196' dosyasından 1 adet semantic chunk üretildi.\n",
            "'wiki_05_line_197' dosyasından 1 adet semantic chunk üretildi.\n",
            "'wiki_05_line_198' dosyasından 1 adet semantic chunk üretildi.\n",
            "'wiki_05_line_199' dosyasından 1 adet semantic chunk üretildi.\n",
            "'wiki_05_line_200' dosyasından 1 adet semantic chunk üretildi.\n",
            "'wiki_05_line_201' dosyasından 1 adet semantic chunk üretildi.\n",
            "'wiki_05_line_202' dosyasından 1 adet semantic chunk üretildi.\n",
            "'wiki_05_line_203' dosyasından 1 adet semantic chunk üretildi.\n",
            "'wiki_05_line_204' dosyasından 1 adet semantic chunk üretildi.\n",
            "'wiki_05_line_205' dosyasından 1 adet semantic chunk üretildi.\n",
            "'wiki_05_line_206' dosyasından 1 adet semantic chunk üretildi.\n"
          ]
        },
        {
          "name": "stderr",
          "output_type": "stream",
          "text": [
            "Batches: 100%|██████████| 1/1 [00:00<00:00,  4.21it/s]\n"
          ]
        },
        {
          "name": "stdout",
          "output_type": "stream",
          "text": [
            "'wiki_05_line_207' dosyasından 2 adet semantic chunk üretildi.\n"
          ]
        },
        {
          "name": "stderr",
          "output_type": "stream",
          "text": [
            "Batches: 100%|██████████| 2/2 [00:03<00:00,  1.79s/it]\n"
          ]
        },
        {
          "name": "stdout",
          "output_type": "stream",
          "text": [
            "'wiki_05_line_208' dosyasından 14 adet semantic chunk üretildi.\n"
          ]
        },
        {
          "name": "stderr",
          "output_type": "stream",
          "text": [
            "Batches: 100%|██████████| 1/1 [00:02<00:00,  2.49s/it]\n"
          ]
        },
        {
          "name": "stdout",
          "output_type": "stream",
          "text": [
            "'wiki_06_line_0' dosyasından 14 adet semantic chunk üretildi.\n"
          ]
        },
        {
          "name": "stderr",
          "output_type": "stream",
          "text": [
            "Batches: 100%|██████████| 1/1 [00:00<00:00,  3.93it/s]\n"
          ]
        },
        {
          "name": "stdout",
          "output_type": "stream",
          "text": [
            "'wiki_06_line_1' dosyasından 1 adet semantic chunk üretildi.\n",
            "'wiki_06_line_2' dosyasından 1 adet semantic chunk üretildi.\n",
            "'wiki_06_line_3' dosyasından 1 adet semantic chunk üretildi.\n",
            "'wiki_06_line_4' dosyasından 1 adet semantic chunk üretildi.\n",
            "'wiki_06_line_5' dosyasından 1 adet semantic chunk üretildi.\n",
            "'wiki_06_line_6' dosyasından 1 adet semantic chunk üretildi.\n",
            "'wiki_06_line_7' dosyasından 1 adet semantic chunk üretildi.\n"
          ]
        },
        {
          "name": "stderr",
          "output_type": "stream",
          "text": [
            "Batches: 100%|██████████| 1/1 [00:00<00:00,  3.60it/s]\n"
          ]
        },
        {
          "name": "stdout",
          "output_type": "stream",
          "text": [
            "'wiki_06_line_8' dosyasından 3 adet semantic chunk üretildi.\n",
            "'wiki_06_line_9' dosyasından 1 adet semantic chunk üretildi.\n",
            "Uyarı: 'wiki_06_line_10' dosyası boş veya sadece boşluk içeriyor.\n",
            "'wiki_06_line_11' dosyasından 1 adet semantic chunk üretildi.\n",
            "Uyarı: 'wiki_06_line_12' dosyası boş veya sadece boşluk içeriyor.\n",
            "'wiki_06_line_13' dosyasından 1 adet semantic chunk üretildi.\n",
            "'wiki_06_line_14' dosyasından 1 adet semantic chunk üretildi.\n",
            "Uyarı: 'wiki_06_line_15' dosyası boş veya sadece boşluk içeriyor.\n",
            "'wiki_06_line_16' dosyasından 1 adet semantic chunk üretildi.\n",
            "'wiki_06_line_17' dosyasından 1 adet semantic chunk üretildi.\n",
            "'wiki_06_line_18' dosyasından 1 adet semantic chunk üretildi.\n",
            "'wiki_06_line_19' dosyasından 1 adet semantic chunk üretildi.\n",
            "'wiki_06_line_20' dosyasından 1 adet semantic chunk üretildi.\n",
            "'wiki_06_line_21' dosyasından 1 adet semantic chunk üretildi.\n",
            "Uyarı: 'wiki_06_line_22' dosyası boş veya sadece boşluk içeriyor.\n",
            "'wiki_06_line_23' dosyasından 1 adet semantic chunk üretildi.\n",
            "'wiki_06_line_24' dosyasından 1 adet semantic chunk üretildi.\n",
            "'wiki_06_line_25' dosyasından 1 adet semantic chunk üretildi.\n",
            "'wiki_06_line_26' dosyasından 1 adet semantic chunk üretildi.\n",
            "Uyarı: 'wiki_06_line_27' dosyası boş veya sadece boşluk içeriyor.\n",
            "'wiki_06_line_28' dosyasından 1 adet semantic chunk üretildi.\n",
            "'wiki_06_line_29' dosyasından 1 adet semantic chunk üretildi.\n",
            "'wiki_06_line_30' dosyasından 1 adet semantic chunk üretildi.\n",
            "'wiki_06_line_31' dosyasından 1 adet semantic chunk üretildi.\n",
            "'wiki_06_line_32' dosyasından 1 adet semantic chunk üretildi.\n",
            "'wiki_06_line_33' dosyasından 1 adet semantic chunk üretildi.\n",
            "'wiki_06_line_34' dosyasından 1 adet semantic chunk üretildi.\n",
            "'wiki_06_line_35' dosyasından 1 adet semantic chunk üretildi.\n",
            "'wiki_06_line_36' dosyasından 1 adet semantic chunk üretildi.\n",
            "'wiki_06_line_37' dosyasından 1 adet semantic chunk üretildi.\n",
            "'wiki_06_line_38' dosyasından 1 adet semantic chunk üretildi.\n",
            "'wiki_06_line_39' dosyasından 1 adet semantic chunk üretildi.\n",
            "'wiki_06_line_40' dosyasından 1 adet semantic chunk üretildi.\n",
            "'wiki_06_line_41' dosyasından 1 adet semantic chunk üretildi.\n",
            "'wiki_06_line_42' dosyasından 1 adet semantic chunk üretildi.\n",
            "'wiki_06_line_43' dosyasından 1 adet semantic chunk üretildi.\n",
            "'wiki_06_line_44' dosyasından 1 adet semantic chunk üretildi.\n",
            "'wiki_06_line_45' dosyasından 1 adet semantic chunk üretildi.\n",
            "'wiki_06_line_46' dosyasından 1 adet semantic chunk üretildi.\n",
            "'wiki_06_line_47' dosyasından 1 adet semantic chunk üretildi.\n",
            "'wiki_06_line_48' dosyasından 1 adet semantic chunk üretildi.\n",
            "'wiki_06_line_49' dosyasından 1 adet semantic chunk üretildi.\n",
            "'wiki_06_line_50' dosyasından 1 adet semantic chunk üretildi.\n",
            "Uyarı: 'wiki_06_line_51' dosyası boş veya sadece boşluk içeriyor.\n",
            "'wiki_06_line_52' dosyasından 1 adet semantic chunk üretildi.\n",
            "'wiki_06_line_53' dosyasından 1 adet semantic chunk üretildi.\n",
            "'wiki_06_line_54' dosyasından 1 adet semantic chunk üretildi.\n",
            "'wiki_06_line_55' dosyasından 1 adet semantic chunk üretildi.\n",
            "'wiki_06_line_56' dosyasından 1 adet semantic chunk üretildi.\n",
            "'wiki_06_line_57' dosyasından 1 adet semantic chunk üretildi.\n",
            "'wiki_06_line_58' dosyasından 1 adet semantic chunk üretildi.\n",
            "'wiki_06_line_59' dosyasından 1 adet semantic chunk üretildi.\n",
            "'wiki_06_line_60' dosyasından 1 adet semantic chunk üretildi.\n",
            "'wiki_06_line_61' dosyasından 1 adet semantic chunk üretildi.\n",
            "'wiki_06_line_62' dosyasından 1 adet semantic chunk üretildi.\n",
            "'wiki_06_line_63' dosyasından 1 adet semantic chunk üretildi.\n",
            "'wiki_06_line_64' dosyasından 1 adet semantic chunk üretildi.\n",
            "'wiki_06_line_65' dosyasından 1 adet semantic chunk üretildi.\n"
          ]
        },
        {
          "name": "stderr",
          "output_type": "stream",
          "text": [
            "Batches: 100%|██████████| 1/1 [00:00<00:00,  9.76it/s]\n"
          ]
        },
        {
          "name": "stdout",
          "output_type": "stream",
          "text": [
            "'wiki_06_line_66' dosyasından 2 adet semantic chunk üretildi.\n",
            "'wiki_06_line_67' dosyasından 1 adet semantic chunk üretildi.\n",
            "'wiki_06_line_68' dosyasından 1 adet semantic chunk üretildi.\n",
            "'wiki_06_line_69' dosyasından 1 adet semantic chunk üretildi.\n",
            "'wiki_06_line_70' dosyasından 1 adet semantic chunk üretildi.\n",
            "'wiki_06_line_71' dosyasından 1 adet semantic chunk üretildi.\n",
            "'wiki_06_line_72' dosyasından 1 adet semantic chunk üretildi.\n",
            "'wiki_06_line_73' dosyasından 1 adet semantic chunk üretildi.\n",
            "'wiki_06_line_74' dosyasından 1 adet semantic chunk üretildi.\n"
          ]
        },
        {
          "name": "stderr",
          "output_type": "stream",
          "text": [
            "Batches: 100%|██████████| 4/4 [00:07<00:00,  1.77s/it]\n"
          ]
        },
        {
          "name": "stdout",
          "output_type": "stream",
          "text": [
            "'wiki_06_line_75' dosyasından 57 adet semantic chunk üretildi.\n",
            "'wiki_06_line_76' dosyasından 1 adet semantic chunk üretildi.\n",
            "'wiki_06_line_77' dosyasından 1 adet semantic chunk üretildi.\n",
            "'wiki_06_line_78' dosyasından 1 adet semantic chunk üretildi.\n",
            "'wiki_06_line_79' dosyasından 1 adet semantic chunk üretildi.\n",
            "'wiki_06_line_80' dosyasından 1 adet semantic chunk üretildi.\n",
            "'wiki_06_line_81' dosyasından 1 adet semantic chunk üretildi.\n",
            "Uyarı: 'wiki_06_line_82' dosyası boş veya sadece boşluk içeriyor.\n",
            "Uyarı: 'wiki_06_line_83' dosyası boş veya sadece boşluk içeriyor.\n",
            "Uyarı: 'wiki_06_line_84' dosyası boş veya sadece boşluk içeriyor.\n",
            "Uyarı: 'wiki_06_line_85' dosyası boş veya sadece boşluk içeriyor.\n",
            "'wiki_06_line_86' dosyasından 1 adet semantic chunk üretildi.\n",
            "Uyarı: 'wiki_06_line_87' dosyası boş veya sadece boşluk içeriyor.\n",
            "Uyarı: 'wiki_06_line_88' dosyası boş veya sadece boşluk içeriyor.\n",
            "Uyarı: 'wiki_06_line_89' dosyası boş veya sadece boşluk içeriyor.\n",
            "'wiki_06_line_90' dosyasından 1 adet semantic chunk üretildi.\n",
            "Uyarı: 'wiki_06_line_91' dosyası boş veya sadece boşluk içeriyor.\n",
            "Uyarı: 'wiki_06_line_92' dosyası boş veya sadece boşluk içeriyor.\n",
            "Uyarı: 'wiki_06_line_93' dosyası boş veya sadece boşluk içeriyor.\n",
            "Uyarı: 'wiki_06_line_94' dosyası boş veya sadece boşluk içeriyor.\n",
            "Uyarı: 'wiki_06_line_95' dosyası boş veya sadece boşluk içeriyor.\n",
            "'wiki_06_line_96' dosyasından 1 adet semantic chunk üretildi.\n",
            "Uyarı: 'wiki_06_line_97' dosyası boş veya sadece boşluk içeriyor.\n",
            "Uyarı: 'wiki_06_line_98' dosyası boş veya sadece boşluk içeriyor.\n",
            "Uyarı: 'wiki_06_line_99' dosyası boş veya sadece boşluk içeriyor.\n",
            "Uyarı: 'wiki_06_line_100' dosyası boş veya sadece boşluk içeriyor.\n",
            "Uyarı: 'wiki_06_line_101' dosyası boş veya sadece boşluk içeriyor.\n",
            "Uyarı: 'wiki_06_line_102' dosyası boş veya sadece boşluk içeriyor.\n",
            "'wiki_06_line_103' dosyasından 1 adet semantic chunk üretildi.\n",
            "Uyarı: 'wiki_06_line_104' dosyası boş veya sadece boşluk içeriyor.\n",
            "Uyarı: 'wiki_06_line_105' dosyası boş veya sadece boşluk içeriyor.\n",
            "Uyarı: 'wiki_06_line_106' dosyası boş veya sadece boşluk içeriyor.\n",
            "Uyarı: 'wiki_06_line_107' dosyası boş veya sadece boşluk içeriyor.\n",
            "Uyarı: 'wiki_06_line_108' dosyası boş veya sadece boşluk içeriyor.\n",
            "Uyarı: 'wiki_06_line_109' dosyası boş veya sadece boşluk içeriyor.\n",
            "'wiki_06_line_110' dosyasından 1 adet semantic chunk üretildi.\n",
            "Uyarı: 'wiki_06_line_111' dosyası boş veya sadece boşluk içeriyor.\n",
            "'wiki_06_line_112' dosyasından 1 adet semantic chunk üretildi.\n",
            "Uyarı: 'wiki_06_line_113' dosyası boş veya sadece boşluk içeriyor.\n",
            "Uyarı: 'wiki_06_line_114' dosyası boş veya sadece boşluk içeriyor.\n",
            "Uyarı: 'wiki_06_line_115' dosyası boş veya sadece boşluk içeriyor.\n",
            "'wiki_06_line_116' dosyasından 1 adet semantic chunk üretildi.\n",
            "Uyarı: 'wiki_06_line_117' dosyası boş veya sadece boşluk içeriyor.\n",
            "Uyarı: 'wiki_06_line_118' dosyası boş veya sadece boşluk içeriyor.\n",
            "Uyarı: 'wiki_06_line_119' dosyası boş veya sadece boşluk içeriyor.\n",
            "Uyarı: 'wiki_06_line_120' dosyası boş veya sadece boşluk içeriyor.\n",
            "Uyarı: 'wiki_06_line_121' dosyası boş veya sadece boşluk içeriyor.\n",
            "Uyarı: 'wiki_06_line_122' dosyası boş veya sadece boşluk içeriyor.\n",
            "Uyarı: 'wiki_06_line_123' dosyası boş veya sadece boşluk içeriyor.\n",
            "Uyarı: 'wiki_06_line_124' dosyası boş veya sadece boşluk içeriyor.\n",
            "Uyarı: 'wiki_06_line_125' dosyası boş veya sadece boşluk içeriyor.\n",
            "Uyarı: 'wiki_06_line_126' dosyası boş veya sadece boşluk içeriyor.\n",
            "Uyarı: 'wiki_06_line_127' dosyası boş veya sadece boşluk içeriyor.\n",
            "'wiki_06_line_128' dosyasından 1 adet semantic chunk üretildi.\n",
            "Uyarı: 'wiki_06_line_129' dosyası boş veya sadece boşluk içeriyor.\n",
            "Uyarı: 'wiki_06_line_130' dosyası boş veya sadece boşluk içeriyor.\n",
            "Uyarı: 'wiki_06_line_131' dosyası boş veya sadece boşluk içeriyor.\n",
            "Uyarı: 'wiki_06_line_132' dosyası boş veya sadece boşluk içeriyor.\n",
            "Uyarı: 'wiki_06_line_133' dosyası boş veya sadece boşluk içeriyor.\n",
            "'wiki_06_line_134' dosyasından 1 adet semantic chunk üretildi.\n",
            "Uyarı: 'wiki_06_line_135' dosyası boş veya sadece boşluk içeriyor.\n",
            "'wiki_06_line_136' dosyasından 1 adet semantic chunk üretildi.\n",
            "Uyarı: 'wiki_06_line_137' dosyası boş veya sadece boşluk içeriyor.\n",
            "Uyarı: 'wiki_06_line_138' dosyası boş veya sadece boşluk içeriyor.\n",
            "'wiki_06_line_139' dosyasından 1 adet semantic chunk üretildi.\n",
            "Uyarı: 'wiki_06_line_140' dosyası boş veya sadece boşluk içeriyor.\n",
            "Uyarı: 'wiki_06_line_141' dosyası boş veya sadece boşluk içeriyor.\n",
            "Uyarı: 'wiki_06_line_142' dosyası boş veya sadece boşluk içeriyor.\n",
            "Uyarı: 'wiki_06_line_143' dosyası boş veya sadece boşluk içeriyor.\n",
            "Uyarı: 'wiki_06_line_144' dosyası boş veya sadece boşluk içeriyor.\n",
            "'wiki_06_line_145' dosyasından 1 adet semantic chunk üretildi.\n",
            "Uyarı: 'wiki_06_line_146' dosyası boş veya sadece boşluk içeriyor.\n",
            "'wiki_06_line_147' dosyasından 1 adet semantic chunk üretildi.\n",
            "Uyarı: 'wiki_06_line_148' dosyası boş veya sadece boşluk içeriyor.\n",
            "Uyarı: 'wiki_06_line_149' dosyası boş veya sadece boşluk içeriyor.\n",
            "Uyarı: 'wiki_06_line_150' dosyası boş veya sadece boşluk içeriyor.\n",
            "Uyarı: 'wiki_06_line_151' dosyası boş veya sadece boşluk içeriyor.\n",
            "Uyarı: 'wiki_06_line_152' dosyası boş veya sadece boşluk içeriyor.\n",
            "'wiki_06_line_153' dosyasından 1 adet semantic chunk üretildi.\n",
            "'wiki_06_line_154' dosyasından 1 adet semantic chunk üretildi.\n",
            "Uyarı: 'wiki_06_line_155' dosyası boş veya sadece boşluk içeriyor.\n",
            "Uyarı: 'wiki_06_line_156' dosyası boş veya sadece boşluk içeriyor.\n",
            "'wiki_06_line_157' dosyasından 1 adet semantic chunk üretildi.\n",
            "'wiki_06_line_158' dosyasından 1 adet semantic chunk üretildi.\n",
            "'wiki_06_line_159' dosyasından 1 adet semantic chunk üretildi.\n",
            "'wiki_06_line_160' dosyasından 1 adet semantic chunk üretildi.\n",
            "Uyarı: 'wiki_06_line_161' dosyası boş veya sadece boşluk içeriyor.\n",
            "Uyarı: 'wiki_06_line_162' dosyası boş veya sadece boşluk içeriyor.\n",
            "Uyarı: 'wiki_06_line_163' dosyası boş veya sadece boşluk içeriyor.\n",
            "Uyarı: 'wiki_06_line_164' dosyası boş veya sadece boşluk içeriyor.\n",
            "Uyarı: 'wiki_06_line_165' dosyası boş veya sadece boşluk içeriyor.\n",
            "'wiki_06_line_166' dosyasından 1 adet semantic chunk üretildi.\n",
            "'wiki_06_line_167' dosyasından 1 adet semantic chunk üretildi.\n",
            "Uyarı: 'wiki_06_line_168' dosyası boş veya sadece boşluk içeriyor.\n",
            "'wiki_06_line_169' dosyasından 1 adet semantic chunk üretildi.\n",
            "Uyarı: 'wiki_06_line_170' dosyası boş veya sadece boşluk içeriyor.\n",
            "Uyarı: 'wiki_06_line_171' dosyası boş veya sadece boşluk içeriyor.\n",
            "'wiki_06_line_172' dosyasından 1 adet semantic chunk üretildi.\n",
            "'wiki_06_line_173' dosyasından 1 adet semantic chunk üretildi.\n",
            "Uyarı: 'wiki_06_line_174' dosyası boş veya sadece boşluk içeriyor.\n",
            "Uyarı: 'wiki_06_line_175' dosyası boş veya sadece boşluk içeriyor.\n",
            "Uyarı: 'wiki_06_line_176' dosyası boş veya sadece boşluk içeriyor.\n",
            "Uyarı: 'wiki_06_line_177' dosyası boş veya sadece boşluk içeriyor.\n",
            "Uyarı: 'wiki_06_line_178' dosyası boş veya sadece boşluk içeriyor.\n",
            "'wiki_06_line_179' dosyasından 1 adet semantic chunk üretildi.\n",
            "'wiki_06_line_180' dosyasından 1 adet semantic chunk üretildi.\n",
            "Uyarı: 'wiki_06_line_181' dosyası boş veya sadece boşluk içeriyor.\n",
            "Uyarı: 'wiki_06_line_182' dosyası boş veya sadece boşluk içeriyor.\n",
            "Uyarı: 'wiki_06_line_183' dosyası boş veya sadece boşluk içeriyor.\n",
            "Uyarı: 'wiki_06_line_184' dosyası boş veya sadece boşluk içeriyor.\n",
            "Uyarı: 'wiki_06_line_185' dosyası boş veya sadece boşluk içeriyor.\n",
            "Uyarı: 'wiki_06_line_186' dosyası boş veya sadece boşluk içeriyor.\n",
            "Uyarı: 'wiki_06_line_187' dosyası boş veya sadece boşluk içeriyor.\n",
            "Uyarı: 'wiki_06_line_188' dosyası boş veya sadece boşluk içeriyor.\n",
            "Uyarı: 'wiki_06_line_189' dosyası boş veya sadece boşluk içeriyor.\n",
            "Uyarı: 'wiki_06_line_190' dosyası boş veya sadece boşluk içeriyor.\n",
            "Uyarı: 'wiki_06_line_191' dosyası boş veya sadece boşluk içeriyor.\n",
            "Uyarı: 'wiki_06_line_192' dosyası boş veya sadece boşluk içeriyor.\n",
            "Uyarı: 'wiki_06_line_193' dosyası boş veya sadece boşluk içeriyor.\n",
            "Uyarı: 'wiki_06_line_194' dosyası boş veya sadece boşluk içeriyor.\n",
            "'wiki_06_line_195' dosyasından 1 adet semantic chunk üretildi.\n",
            "Uyarı: 'wiki_06_line_196' dosyası boş veya sadece boşluk içeriyor.\n",
            "Uyarı: 'wiki_06_line_197' dosyası boş veya sadece boşluk içeriyor.\n",
            "Uyarı: 'wiki_06_line_198' dosyası boş veya sadece boşluk içeriyor.\n",
            "Uyarı: 'wiki_06_line_199' dosyası boş veya sadece boşluk içeriyor.\n",
            "Uyarı: 'wiki_06_line_200' dosyası boş veya sadece boşluk içeriyor.\n",
            "Uyarı: 'wiki_06_line_201' dosyası boş veya sadece boşluk içeriyor.\n",
            "Uyarı: 'wiki_06_line_202' dosyası boş veya sadece boşluk içeriyor.\n",
            "Uyarı: 'wiki_06_line_203' dosyası boş veya sadece boşluk içeriyor.\n",
            "Uyarı: 'wiki_06_line_204' dosyası boş veya sadece boşluk içeriyor.\n",
            "Uyarı: 'wiki_06_line_205' dosyası boş veya sadece boşluk içeriyor.\n",
            "Uyarı: 'wiki_06_line_206' dosyası boş veya sadece boşluk içeriyor.\n",
            "Uyarı: 'wiki_06_line_207' dosyası boş veya sadece boşluk içeriyor.\n",
            "Uyarı: 'wiki_06_line_208' dosyası boş veya sadece boşluk içeriyor.\n",
            "Uyarı: 'wiki_06_line_209' dosyası boş veya sadece boşluk içeriyor.\n",
            "Uyarı: 'wiki_06_line_210' dosyası boş veya sadece boşluk içeriyor.\n",
            "Uyarı: 'wiki_06_line_211' dosyası boş veya sadece boşluk içeriyor.\n",
            "Uyarı: 'wiki_06_line_212' dosyası boş veya sadece boşluk içeriyor.\n",
            "Uyarı: 'wiki_06_line_213' dosyası boş veya sadece boşluk içeriyor.\n",
            "Uyarı: 'wiki_06_line_214' dosyası boş veya sadece boşluk içeriyor.\n",
            "Uyarı: 'wiki_06_line_215' dosyası boş veya sadece boşluk içeriyor.\n",
            "Uyarı: 'wiki_06_line_216' dosyası boş veya sadece boşluk içeriyor.\n",
            "Uyarı: 'wiki_06_line_217' dosyası boş veya sadece boşluk içeriyor.\n",
            "Uyarı: 'wiki_06_line_218' dosyası boş veya sadece boşluk içeriyor.\n",
            "Uyarı: 'wiki_06_line_219' dosyası boş veya sadece boşluk içeriyor.\n",
            "Uyarı: 'wiki_06_line_220' dosyası boş veya sadece boşluk içeriyor.\n",
            "Uyarı: 'wiki_06_line_221' dosyası boş veya sadece boşluk içeriyor.\n",
            "Uyarı: 'wiki_06_line_222' dosyası boş veya sadece boşluk içeriyor.\n",
            "Uyarı: 'wiki_06_line_223' dosyası boş veya sadece boşluk içeriyor.\n",
            "Uyarı: 'wiki_06_line_224' dosyası boş veya sadece boşluk içeriyor.\n",
            "Uyarı: 'wiki_06_line_225' dosyası boş veya sadece boşluk içeriyor.\n",
            "Uyarı: 'wiki_06_line_226' dosyası boş veya sadece boşluk içeriyor.\n",
            "Uyarı: 'wiki_06_line_227' dosyası boş veya sadece boşluk içeriyor.\n",
            "'wiki_06_line_228' dosyasından 1 adet semantic chunk üretildi.\n",
            "Uyarı: 'wiki_06_line_229' dosyası boş veya sadece boşluk içeriyor.\n",
            "Uyarı: 'wiki_06_line_230' dosyası boş veya sadece boşluk içeriyor.\n",
            "Uyarı: 'wiki_06_line_231' dosyası boş veya sadece boşluk içeriyor.\n",
            "'wiki_06_line_232' dosyasından 1 adet semantic chunk üretildi.\n",
            "Uyarı: 'wiki_06_line_233' dosyası boş veya sadece boşluk içeriyor.\n",
            "Uyarı: 'wiki_06_line_234' dosyası boş veya sadece boşluk içeriyor.\n",
            "Uyarı: 'wiki_06_line_235' dosyası boş veya sadece boşluk içeriyor.\n",
            "Uyarı: 'wiki_06_line_236' dosyası boş veya sadece boşluk içeriyor.\n",
            "'wiki_06_line_237' dosyasından 1 adet semantic chunk üretildi.\n",
            "Uyarı: 'wiki_06_line_238' dosyası boş veya sadece boşluk içeriyor.\n",
            "Uyarı: 'wiki_06_line_239' dosyası boş veya sadece boşluk içeriyor.\n",
            "Uyarı: 'wiki_06_line_240' dosyası boş veya sadece boşluk içeriyor.\n",
            "Uyarı: 'wiki_06_line_241' dosyası boş veya sadece boşluk içeriyor.\n",
            "Uyarı: 'wiki_06_line_242' dosyası boş veya sadece boşluk içeriyor.\n",
            "Uyarı: 'wiki_06_line_243' dosyası boş veya sadece boşluk içeriyor.\n",
            "Uyarı: 'wiki_06_line_244' dosyası boş veya sadece boşluk içeriyor.\n",
            "Uyarı: 'wiki_06_line_245' dosyası boş veya sadece boşluk içeriyor.\n",
            "Uyarı: 'wiki_06_line_246' dosyası boş veya sadece boşluk içeriyor.\n",
            "Uyarı: 'wiki_06_line_247' dosyası boş veya sadece boşluk içeriyor.\n",
            "Uyarı: 'wiki_06_line_248' dosyası boş veya sadece boşluk içeriyor.\n",
            "'wiki_06_line_249' dosyasından 1 adet semantic chunk üretildi.\n",
            "'wiki_06_line_250' dosyasından 1 adet semantic chunk üretildi.\n",
            "Uyarı: 'wiki_06_line_251' dosyası boş veya sadece boşluk içeriyor.\n",
            "'wiki_06_line_252' dosyasından 1 adet semantic chunk üretildi.\n",
            "'wiki_06_line_253' dosyasından 1 adet semantic chunk üretildi.\n",
            "'wiki_06_line_254' dosyasından 1 adet semantic chunk üretildi.\n",
            "Uyarı: 'wiki_06_line_255' dosyası boş veya sadece boşluk içeriyor.\n",
            "Uyarı: 'wiki_06_line_256' dosyası boş veya sadece boşluk içeriyor.\n",
            "'wiki_06_line_257' dosyasından 1 adet semantic chunk üretildi.\n"
          ]
        },
        {
          "name": "stderr",
          "output_type": "stream",
          "text": [
            "Batches: 100%|██████████| 1/1 [00:01<00:00,  1.25s/it]\n"
          ]
        },
        {
          "name": "stdout",
          "output_type": "stream",
          "text": [
            "'wiki_06_line_258' dosyasından 3 adet semantic chunk üretildi.\n",
            "Uyarı: 'wiki_06_line_259' dosyası boş veya sadece boşluk içeriyor.\n",
            "Uyarı: 'wiki_06_line_260' dosyası boş veya sadece boşluk içeriyor.\n",
            "Uyarı: 'wiki_06_line_261' dosyası boş veya sadece boşluk içeriyor.\n",
            "'wiki_06_line_262' dosyasından 1 adet semantic chunk üretildi.\n",
            "Uyarı: 'wiki_06_line_263' dosyası boş veya sadece boşluk içeriyor.\n",
            "Uyarı: 'wiki_06_line_264' dosyası boş veya sadece boşluk içeriyor.\n",
            "Uyarı: 'wiki_06_line_265' dosyası boş veya sadece boşluk içeriyor.\n",
            "Uyarı: 'wiki_06_line_266' dosyası boş veya sadece boşluk içeriyor.\n",
            "'wiki_06_line_267' dosyasından 1 adet semantic chunk üretildi.\n",
            "Uyarı: 'wiki_06_line_268' dosyası boş veya sadece boşluk içeriyor.\n",
            "Uyarı: 'wiki_06_line_269' dosyası boş veya sadece boşluk içeriyor.\n",
            "Uyarı: 'wiki_06_line_270' dosyası boş veya sadece boşluk içeriyor.\n",
            "Uyarı: 'wiki_06_line_271' dosyası boş veya sadece boşluk içeriyor.\n",
            "Uyarı: 'wiki_06_line_272' dosyası boş veya sadece boşluk içeriyor.\n",
            "Uyarı: 'wiki_06_line_273' dosyası boş veya sadece boşluk içeriyor.\n",
            "'wiki_06_line_274' dosyasından 1 adet semantic chunk üretildi.\n",
            "'wiki_06_line_275' dosyasından 1 adet semantic chunk üretildi.\n",
            "'wiki_06_line_276' dosyasından 1 adet semantic chunk üretildi.\n",
            "Uyarı: 'wiki_06_line_277' dosyası boş veya sadece boşluk içeriyor.\n",
            "Uyarı: 'wiki_06_line_278' dosyası boş veya sadece boşluk içeriyor.\n",
            "Uyarı: 'wiki_06_line_279' dosyası boş veya sadece boşluk içeriyor.\n",
            "Uyarı: 'wiki_06_line_280' dosyası boş veya sadece boşluk içeriyor.\n",
            "Uyarı: 'wiki_06_line_281' dosyası boş veya sadece boşluk içeriyor.\n",
            "Uyarı: 'wiki_06_line_282' dosyası boş veya sadece boşluk içeriyor.\n",
            "Uyarı: 'wiki_06_line_283' dosyası boş veya sadece boşluk içeriyor.\n",
            "Uyarı: 'wiki_06_line_284' dosyası boş veya sadece boşluk içeriyor.\n",
            "Uyarı: 'wiki_06_line_285' dosyası boş veya sadece boşluk içeriyor.\n",
            "Uyarı: 'wiki_06_line_286' dosyası boş veya sadece boşluk içeriyor.\n",
            "Uyarı: 'wiki_06_line_287' dosyası boş veya sadece boşluk içeriyor.\n",
            "Uyarı: 'wiki_06_line_288' dosyası boş veya sadece boşluk içeriyor.\n",
            "Uyarı: 'wiki_06_line_289' dosyası boş veya sadece boşluk içeriyor.\n",
            "Uyarı: 'wiki_06_line_290' dosyası boş veya sadece boşluk içeriyor.\n",
            "Uyarı: 'wiki_06_line_291' dosyası boş veya sadece boşluk içeriyor.\n",
            "Uyarı: 'wiki_06_line_292' dosyası boş veya sadece boşluk içeriyor.\n",
            "'wiki_06_line_293' dosyasından 1 adet semantic chunk üretildi.\n",
            "'wiki_06_line_294' dosyasından 1 adet semantic chunk üretildi.\n",
            "'wiki_06_line_295' dosyasından 1 adet semantic chunk üretildi.\n",
            "Uyarı: 'wiki_06_line_296' dosyası boş veya sadece boşluk içeriyor.\n",
            "Uyarı: 'wiki_06_line_297' dosyası boş veya sadece boşluk içeriyor.\n",
            "Uyarı: 'wiki_06_line_298' dosyası boş veya sadece boşluk içeriyor.\n",
            "Uyarı: 'wiki_06_line_299' dosyası boş veya sadece boşluk içeriyor.\n",
            "Uyarı: 'wiki_06_line_300' dosyası boş veya sadece boşluk içeriyor.\n",
            "Uyarı: 'wiki_06_line_301' dosyası boş veya sadece boşluk içeriyor.\n",
            "Uyarı: 'wiki_06_line_302' dosyası boş veya sadece boşluk içeriyor.\n",
            "'wiki_06_line_303' dosyasından 1 adet semantic chunk üretildi.\n",
            "'wiki_06_line_304' dosyasından 1 adet semantic chunk üretildi.\n",
            "Uyarı: 'wiki_06_line_305' dosyası boş veya sadece boşluk içeriyor.\n",
            "Uyarı: 'wiki_06_line_306' dosyası boş veya sadece boşluk içeriyor.\n",
            "Uyarı: 'wiki_06_line_307' dosyası boş veya sadece boşluk içeriyor.\n",
            "Uyarı: 'wiki_06_line_308' dosyası boş veya sadece boşluk içeriyor.\n",
            "Uyarı: 'wiki_06_line_309' dosyası boş veya sadece boşluk içeriyor.\n",
            "Uyarı: 'wiki_06_line_310' dosyası boş veya sadece boşluk içeriyor.\n",
            "Uyarı: 'wiki_06_line_311' dosyası boş veya sadece boşluk içeriyor.\n",
            "'wiki_06_line_312' dosyasından 1 adet semantic chunk üretildi.\n",
            "Uyarı: 'wiki_06_line_313' dosyası boş veya sadece boşluk içeriyor.\n",
            "Uyarı: 'wiki_06_line_314' dosyası boş veya sadece boşluk içeriyor.\n",
            "Uyarı: 'wiki_06_line_315' dosyası boş veya sadece boşluk içeriyor.\n",
            "Uyarı: 'wiki_06_line_316' dosyası boş veya sadece boşluk içeriyor.\n",
            "Uyarı: 'wiki_06_line_317' dosyası boş veya sadece boşluk içeriyor.\n",
            "Uyarı: 'wiki_06_line_318' dosyası boş veya sadece boşluk içeriyor.\n",
            "Uyarı: 'wiki_06_line_319' dosyası boş veya sadece boşluk içeriyor.\n",
            "Uyarı: 'wiki_06_line_320' dosyası boş veya sadece boşluk içeriyor.\n",
            "Uyarı: 'wiki_06_line_321' dosyası boş veya sadece boşluk içeriyor.\n",
            "Uyarı: 'wiki_06_line_322' dosyası boş veya sadece boşluk içeriyor.\n",
            "Uyarı: 'wiki_06_line_323' dosyası boş veya sadece boşluk içeriyor.\n",
            "Uyarı: 'wiki_06_line_324' dosyası boş veya sadece boşluk içeriyor.\n",
            "Uyarı: 'wiki_06_line_325' dosyası boş veya sadece boşluk içeriyor.\n",
            "Uyarı: 'wiki_06_line_326' dosyası boş veya sadece boşluk içeriyor.\n",
            "Uyarı: 'wiki_06_line_327' dosyası boş veya sadece boşluk içeriyor.\n",
            "Uyarı: 'wiki_06_line_328' dosyası boş veya sadece boşluk içeriyor.\n",
            "Uyarı: 'wiki_06_line_329' dosyası boş veya sadece boşluk içeriyor.\n",
            "'wiki_06_line_330' dosyasından 1 adet semantic chunk üretildi.\n",
            "Uyarı: 'wiki_06_line_331' dosyası boş veya sadece boşluk içeriyor.\n",
            "Uyarı: 'wiki_06_line_332' dosyası boş veya sadece boşluk içeriyor.\n",
            "'wiki_06_line_333' dosyasından 1 adet semantic chunk üretildi.\n",
            "'wiki_06_line_334' dosyasından 1 adet semantic chunk üretildi.\n",
            "Uyarı: 'wiki_06_line_335' dosyası boş veya sadece boşluk içeriyor.\n",
            "'wiki_06_line_336' dosyasından 1 adet semantic chunk üretildi.\n",
            "Uyarı: 'wiki_06_line_337' dosyası boş veya sadece boşluk içeriyor.\n",
            "Uyarı: 'wiki_06_line_338' dosyası boş veya sadece boşluk içeriyor.\n",
            "Uyarı: 'wiki_06_line_339' dosyası boş veya sadece boşluk içeriyor.\n",
            "Uyarı: 'wiki_06_line_340' dosyası boş veya sadece boşluk içeriyor.\n",
            "Uyarı: 'wiki_06_line_341' dosyası boş veya sadece boşluk içeriyor.\n",
            "Uyarı: 'wiki_06_line_342' dosyası boş veya sadece boşluk içeriyor.\n",
            "Uyarı: 'wiki_06_line_343' dosyası boş veya sadece boşluk içeriyor.\n",
            "Uyarı: 'wiki_06_line_344' dosyası boş veya sadece boşluk içeriyor.\n",
            "Uyarı: 'wiki_06_line_345' dosyası boş veya sadece boşluk içeriyor.\n",
            "Uyarı: 'wiki_06_line_346' dosyası boş veya sadece boşluk içeriyor.\n",
            "Uyarı: 'wiki_06_line_347' dosyası boş veya sadece boşluk içeriyor.\n",
            "Uyarı: 'wiki_06_line_348' dosyası boş veya sadece boşluk içeriyor.\n",
            "Uyarı: 'wiki_06_line_349' dosyası boş veya sadece boşluk içeriyor.\n",
            "Uyarı: 'wiki_06_line_350' dosyası boş veya sadece boşluk içeriyor.\n",
            "Uyarı: 'wiki_06_line_351' dosyası boş veya sadece boşluk içeriyor.\n",
            "Uyarı: 'wiki_06_line_352' dosyası boş veya sadece boşluk içeriyor.\n",
            "Uyarı: 'wiki_06_line_353' dosyası boş veya sadece boşluk içeriyor.\n",
            "'wiki_06_line_354' dosyasından 1 adet semantic chunk üretildi.\n",
            "Uyarı: 'wiki_06_line_355' dosyası boş veya sadece boşluk içeriyor.\n",
            "Uyarı: 'wiki_06_line_356' dosyası boş veya sadece boşluk içeriyor.\n",
            "Uyarı: 'wiki_06_line_357' dosyası boş veya sadece boşluk içeriyor.\n",
            "Uyarı: 'wiki_06_line_358' dosyası boş veya sadece boşluk içeriyor.\n"
          ]
        },
        {
          "name": "stderr",
          "output_type": "stream",
          "text": [
            "Batches: 100%|██████████| 1/1 [00:00<00:00,  2.65it/s]\n"
          ]
        },
        {
          "name": "stdout",
          "output_type": "stream",
          "text": [
            "'wiki_06_line_359' dosyasından 1 adet semantic chunk üretildi.\n",
            "'wiki_06_line_360' dosyasından 1 adet semantic chunk üretildi.\n"
          ]
        },
        {
          "name": "stderr",
          "output_type": "stream",
          "text": [
            "Batches: 100%|██████████| 1/1 [00:00<00:00,  6.19it/s]\n"
          ]
        },
        {
          "name": "stdout",
          "output_type": "stream",
          "text": [
            "'wiki_06_line_361' dosyasından 2 adet semantic chunk üretildi.\n",
            "'wiki_06_line_362' dosyasından 1 adet semantic chunk üretildi.\n",
            "'wiki_06_line_363' dosyasından 1 adet semantic chunk üretildi.\n",
            "'wiki_06_line_364' dosyasından 1 adet semantic chunk üretildi.\n",
            "'wiki_06_line_365' dosyasından 1 adet semantic chunk üretildi.\n",
            "'wiki_06_line_366' dosyasından 1 adet semantic chunk üretildi.\n",
            "Uyarı: 'wiki_06_line_367' dosyası boş veya sadece boşluk içeriyor.\n",
            "Uyarı: 'wiki_06_line_368' dosyası boş veya sadece boşluk içeriyor.\n",
            "Uyarı: 'wiki_06_line_369' dosyası boş veya sadece boşluk içeriyor.\n",
            "Uyarı: 'wiki_06_line_370' dosyası boş veya sadece boşluk içeriyor.\n",
            "Uyarı: 'wiki_06_line_371' dosyası boş veya sadece boşluk içeriyor.\n",
            "Uyarı: 'wiki_06_line_372' dosyası boş veya sadece boşluk içeriyor.\n",
            "Uyarı: 'wiki_06_line_373' dosyası boş veya sadece boşluk içeriyor.\n",
            "Uyarı: 'wiki_06_line_374' dosyası boş veya sadece boşluk içeriyor.\n",
            "Uyarı: 'wiki_06_line_375' dosyası boş veya sadece boşluk içeriyor.\n",
            "Uyarı: 'wiki_06_line_376' dosyası boş veya sadece boşluk içeriyor.\n",
            "Uyarı: 'wiki_06_line_377' dosyası boş veya sadece boşluk içeriyor.\n",
            "Uyarı: 'wiki_06_line_378' dosyası boş veya sadece boşluk içeriyor.\n",
            "Uyarı: 'wiki_06_line_379' dosyası boş veya sadece boşluk içeriyor.\n",
            "Uyarı: 'wiki_06_line_380' dosyası boş veya sadece boşluk içeriyor.\n",
            "Uyarı: 'wiki_06_line_381' dosyası boş veya sadece boşluk içeriyor.\n",
            "Uyarı: 'wiki_06_line_382' dosyası boş veya sadece boşluk içeriyor.\n",
            "Uyarı: 'wiki_06_line_383' dosyası boş veya sadece boşluk içeriyor.\n",
            "Uyarı: 'wiki_06_line_384' dosyası boş veya sadece boşluk içeriyor.\n",
            "Uyarı: 'wiki_06_line_385' dosyası boş veya sadece boşluk içeriyor.\n",
            "Uyarı: 'wiki_06_line_386' dosyası boş veya sadece boşluk içeriyor.\n",
            "Uyarı: 'wiki_06_line_387' dosyası boş veya sadece boşluk içeriyor.\n",
            "Uyarı: 'wiki_06_line_388' dosyası boş veya sadece boşluk içeriyor.\n",
            "Uyarı: 'wiki_06_line_389' dosyası boş veya sadece boşluk içeriyor.\n",
            "Uyarı: 'wiki_06_line_390' dosyası boş veya sadece boşluk içeriyor.\n",
            "Uyarı: 'wiki_06_line_391' dosyası boş veya sadece boşluk içeriyor.\n",
            "Uyarı: 'wiki_06_line_392' dosyası boş veya sadece boşluk içeriyor.\n",
            "'wiki_06_line_393' dosyasından 1 adet semantic chunk üretildi.\n"
          ]
        },
        {
          "name": "stderr",
          "output_type": "stream",
          "text": [
            "Batches: 100%|██████████| 1/1 [00:00<00:00,  6.82it/s]\n"
          ]
        },
        {
          "name": "stdout",
          "output_type": "stream",
          "text": [
            "'wiki_06_line_394' dosyasından 1 adet semantic chunk üretildi.\n"
          ]
        },
        {
          "name": "stderr",
          "output_type": "stream",
          "text": [
            "Batches: 100%|██████████| 1/1 [00:00<00:00,  2.33it/s]\n"
          ]
        },
        {
          "name": "stdout",
          "output_type": "stream",
          "text": [
            "'wiki_06_line_395' dosyasından 2 adet semantic chunk üretildi.\n"
          ]
        },
        {
          "name": "stderr",
          "output_type": "stream",
          "text": [
            "Batches: 100%|██████████| 1/1 [00:00<00:00,  5.75it/s]\n"
          ]
        },
        {
          "name": "stdout",
          "output_type": "stream",
          "text": [
            "'wiki_06_line_396' dosyasından 1 adet semantic chunk üretildi.\n"
          ]
        },
        {
          "name": "stderr",
          "output_type": "stream",
          "text": [
            "Batches: 100%|██████████| 1/1 [00:00<00:00,  5.59it/s]\n"
          ]
        },
        {
          "name": "stdout",
          "output_type": "stream",
          "text": [
            "'wiki_06_line_397' dosyasından 1 adet semantic chunk üretildi.\n",
            "Uyarı: 'wiki_06_line_398' dosyası boş veya sadece boşluk içeriyor.\n",
            "Uyarı: 'wiki_06_line_399' dosyası boş veya sadece boşluk içeriyor.\n",
            "'wiki_06_line_400' dosyasından 1 adet semantic chunk üretildi.\n",
            "Uyarı: 'wiki_06_line_401' dosyası boş veya sadece boşluk içeriyor.\n",
            "'wiki_06_line_402' dosyasından 1 adet semantic chunk üretildi.\n",
            "Uyarı: 'wiki_06_line_403' dosyası boş veya sadece boşluk içeriyor.\n",
            "Uyarı: 'wiki_06_line_404' dosyası boş veya sadece boşluk içeriyor.\n",
            "Uyarı: 'wiki_06_line_405' dosyası boş veya sadece boşluk içeriyor.\n",
            "Uyarı: 'wiki_06_line_406' dosyası boş veya sadece boşluk içeriyor.\n",
            "Uyarı: 'wiki_06_line_407' dosyası boş veya sadece boşluk içeriyor.\n",
            "Uyarı: 'wiki_06_line_408' dosyası boş veya sadece boşluk içeriyor.\n",
            "Uyarı: 'wiki_06_line_409' dosyası boş veya sadece boşluk içeriyor.\n",
            "'wiki_06_line_410' dosyasından 1 adet semantic chunk üretildi.\n",
            "Uyarı: 'wiki_06_line_411' dosyası boş veya sadece boşluk içeriyor.\n",
            "'wiki_06_line_412' dosyasından 1 adet semantic chunk üretildi.\n",
            "Uyarı: 'wiki_06_line_413' dosyası boş veya sadece boşluk içeriyor.\n",
            "Uyarı: 'wiki_06_line_414' dosyası boş veya sadece boşluk içeriyor.\n",
            "Uyarı: 'wiki_06_line_415' dosyası boş veya sadece boşluk içeriyor.\n",
            "Uyarı: 'wiki_06_line_416' dosyası boş veya sadece boşluk içeriyor.\n",
            "'wiki_06_line_417' dosyasından 1 adet semantic chunk üretildi.\n",
            "Uyarı: 'wiki_06_line_418' dosyası boş veya sadece boşluk içeriyor.\n",
            "Uyarı: 'wiki_06_line_419' dosyası boş veya sadece boşluk içeriyor.\n",
            "Uyarı: 'wiki_06_line_420' dosyası boş veya sadece boşluk içeriyor.\n",
            "Uyarı: 'wiki_06_line_421' dosyası boş veya sadece boşluk içeriyor.\n",
            "'wiki_06_line_422' dosyasından 1 adet semantic chunk üretildi.\n",
            "Uyarı: 'wiki_06_line_423' dosyası boş veya sadece boşluk içeriyor.\n",
            "'wiki_06_line_424' dosyasından 1 adet semantic chunk üretildi.\n",
            "Uyarı: 'wiki_06_line_425' dosyası boş veya sadece boşluk içeriyor.\n",
            "Uyarı: 'wiki_06_line_426' dosyası boş veya sadece boşluk içeriyor.\n",
            "Uyarı: 'wiki_06_line_427' dosyası boş veya sadece boşluk içeriyor.\n",
            "Uyarı: 'wiki_06_line_428' dosyası boş veya sadece boşluk içeriyor.\n",
            "Uyarı: 'wiki_06_line_429' dosyası boş veya sadece boşluk içeriyor.\n",
            "Uyarı: 'wiki_06_line_430' dosyası boş veya sadece boşluk içeriyor.\n",
            "Uyarı: 'wiki_06_line_431' dosyası boş veya sadece boşluk içeriyor.\n",
            "Uyarı: 'wiki_06_line_432' dosyası boş veya sadece boşluk içeriyor.\n",
            "Uyarı: 'wiki_06_line_433' dosyası boş veya sadece boşluk içeriyor.\n",
            "Uyarı: 'wiki_06_line_434' dosyası boş veya sadece boşluk içeriyor.\n",
            "Uyarı: 'wiki_06_line_435' dosyası boş veya sadece boşluk içeriyor.\n",
            "Uyarı: 'wiki_06_line_436' dosyası boş veya sadece boşluk içeriyor.\n",
            "Uyarı: 'wiki_06_line_437' dosyası boş veya sadece boşluk içeriyor.\n",
            "Uyarı: 'wiki_06_line_438' dosyası boş veya sadece boşluk içeriyor.\n",
            "Uyarı: 'wiki_06_line_439' dosyası boş veya sadece boşluk içeriyor.\n",
            "Uyarı: 'wiki_06_line_440' dosyası boş veya sadece boşluk içeriyor.\n",
            "Uyarı: 'wiki_06_line_441' dosyası boş veya sadece boşluk içeriyor.\n",
            "Uyarı: 'wiki_06_line_442' dosyası boş veya sadece boşluk içeriyor.\n",
            "Uyarı: 'wiki_06_line_443' dosyası boş veya sadece boşluk içeriyor.\n",
            "Uyarı: 'wiki_06_line_444' dosyası boş veya sadece boşluk içeriyor.\n",
            "'wiki_06_line_445' dosyasından 1 adet semantic chunk üretildi.\n",
            "'wiki_06_line_446' dosyasından 1 adet semantic chunk üretildi.\n",
            "'wiki_06_line_447' dosyasından 1 adet semantic chunk üretildi.\n",
            "Uyarı: 'wiki_06_line_448' dosyası boş veya sadece boşluk içeriyor.\n",
            "Uyarı: 'wiki_06_line_449' dosyası boş veya sadece boşluk içeriyor.\n",
            "Uyarı: 'wiki_06_line_450' dosyası boş veya sadece boşluk içeriyor.\n",
            "Uyarı: 'wiki_06_line_451' dosyası boş veya sadece boşluk içeriyor.\n",
            "Uyarı: 'wiki_06_line_452' dosyası boş veya sadece boşluk içeriyor.\n",
            "Uyarı: 'wiki_06_line_453' dosyası boş veya sadece boşluk içeriyor.\n",
            "Uyarı: 'wiki_06_line_454' dosyası boş veya sadece boşluk içeriyor.\n",
            "Uyarı: 'wiki_06_line_455' dosyası boş veya sadece boşluk içeriyor.\n",
            "Uyarı: 'wiki_06_line_456' dosyası boş veya sadece boşluk içeriyor.\n",
            "Uyarı: 'wiki_06_line_457' dosyası boş veya sadece boşluk içeriyor.\n",
            "Uyarı: 'wiki_06_line_458' dosyası boş veya sadece boşluk içeriyor.\n",
            "Uyarı: 'wiki_06_line_459' dosyası boş veya sadece boşluk içeriyor.\n",
            "Uyarı: 'wiki_06_line_460' dosyası boş veya sadece boşluk içeriyor.\n",
            "Uyarı: 'wiki_06_line_461' dosyası boş veya sadece boşluk içeriyor.\n",
            "Uyarı: 'wiki_06_line_462' dosyası boş veya sadece boşluk içeriyor.\n",
            "Uyarı: 'wiki_06_line_463' dosyası boş veya sadece boşluk içeriyor.\n",
            "Uyarı: 'wiki_06_line_464' dosyası boş veya sadece boşluk içeriyor.\n",
            "Uyarı: 'wiki_06_line_465' dosyası boş veya sadece boşluk içeriyor.\n",
            "Uyarı: 'wiki_06_line_466' dosyası boş veya sadece boşluk içeriyor.\n",
            "Uyarı: 'wiki_06_line_467' dosyası boş veya sadece boşluk içeriyor.\n",
            "Uyarı: 'wiki_06_line_468' dosyası boş veya sadece boşluk içeriyor.\n",
            "Uyarı: 'wiki_06_line_469' dosyası boş veya sadece boşluk içeriyor.\n",
            "Uyarı: 'wiki_06_line_470' dosyası boş veya sadece boşluk içeriyor.\n",
            "Uyarı: 'wiki_06_line_471' dosyası boş veya sadece boşluk içeriyor.\n",
            "Uyarı: 'wiki_06_line_472' dosyası boş veya sadece boşluk içeriyor.\n",
            "Uyarı: 'wiki_06_line_473' dosyası boş veya sadece boşluk içeriyor.\n",
            "Uyarı: 'wiki_06_line_474' dosyası boş veya sadece boşluk içeriyor.\n",
            "Uyarı: 'wiki_06_line_475' dosyası boş veya sadece boşluk içeriyor.\n",
            "Uyarı: 'wiki_06_line_476' dosyası boş veya sadece boşluk içeriyor.\n",
            "Uyarı: 'wiki_06_line_477' dosyası boş veya sadece boşluk içeriyor.\n",
            "Uyarı: 'wiki_06_line_478' dosyası boş veya sadece boşluk içeriyor.\n",
            "Uyarı: 'wiki_06_line_479' dosyası boş veya sadece boşluk içeriyor.\n",
            "'wiki_06_line_480' dosyasından 1 adet semantic chunk üretildi.\n",
            "Uyarı: 'wiki_06_line_481' dosyası boş veya sadece boşluk içeriyor.\n",
            "Uyarı: 'wiki_06_line_482' dosyası boş veya sadece boşluk içeriyor.\n",
            "'wiki_06_line_483' dosyasından 1 adet semantic chunk üretildi.\n",
            "Uyarı: 'wiki_06_line_484' dosyası boş veya sadece boşluk içeriyor.\n",
            "Uyarı: 'wiki_06_line_485' dosyası boş veya sadece boşluk içeriyor.\n",
            "Uyarı: 'wiki_06_line_486' dosyası boş veya sadece boşluk içeriyor.\n",
            "Uyarı: 'wiki_06_line_487' dosyası boş veya sadece boşluk içeriyor.\n",
            "Uyarı: 'wiki_06_line_488' dosyası boş veya sadece boşluk içeriyor.\n",
            "Uyarı: 'wiki_06_line_489' dosyası boş veya sadece boşluk içeriyor.\n",
            "Uyarı: 'wiki_06_line_490' dosyası boş veya sadece boşluk içeriyor.\n",
            "Uyarı: 'wiki_06_line_491' dosyası boş veya sadece boşluk içeriyor.\n",
            "Uyarı: 'wiki_06_line_492' dosyası boş veya sadece boşluk içeriyor.\n",
            "Uyarı: 'wiki_06_line_493' dosyası boş veya sadece boşluk içeriyor.\n",
            "Uyarı: 'wiki_06_line_494' dosyası boş veya sadece boşluk içeriyor.\n",
            "Uyarı: 'wiki_06_line_495' dosyası boş veya sadece boşluk içeriyor.\n",
            "Uyarı: 'wiki_06_line_496' dosyası boş veya sadece boşluk içeriyor.\n",
            "Uyarı: 'wiki_06_line_497' dosyası boş veya sadece boşluk içeriyor.\n",
            "Uyarı: 'wiki_06_line_498' dosyası boş veya sadece boşluk içeriyor.\n",
            "Uyarı: 'wiki_06_line_499' dosyası boş veya sadece boşluk içeriyor.\n",
            "Uyarı: 'wiki_06_line_500' dosyası boş veya sadece boşluk içeriyor.\n",
            "Uyarı: 'wiki_06_line_501' dosyası boş veya sadece boşluk içeriyor.\n",
            "Uyarı: 'wiki_06_line_502' dosyası boş veya sadece boşluk içeriyor.\n",
            "Uyarı: 'wiki_06_line_503' dosyası boş veya sadece boşluk içeriyor.\n",
            "Uyarı: 'wiki_06_line_504' dosyası boş veya sadece boşluk içeriyor.\n",
            "Uyarı: 'wiki_06_line_505' dosyası boş veya sadece boşluk içeriyor.\n",
            "Uyarı: 'wiki_06_line_506' dosyası boş veya sadece boşluk içeriyor.\n",
            "Uyarı: 'wiki_06_line_507' dosyası boş veya sadece boşluk içeriyor.\n",
            "Uyarı: 'wiki_06_line_508' dosyası boş veya sadece boşluk içeriyor.\n",
            "Uyarı: 'wiki_06_line_509' dosyası boş veya sadece boşluk içeriyor.\n",
            "Uyarı: 'wiki_06_line_510' dosyası boş veya sadece boşluk içeriyor.\n",
            "Uyarı: 'wiki_06_line_511' dosyası boş veya sadece boşluk içeriyor.\n",
            "Uyarı: 'wiki_06_line_512' dosyası boş veya sadece boşluk içeriyor.\n",
            "Uyarı: 'wiki_06_line_513' dosyası boş veya sadece boşluk içeriyor.\n",
            "Uyarı: 'wiki_06_line_514' dosyası boş veya sadece boşluk içeriyor.\n",
            "Uyarı: 'wiki_06_line_515' dosyası boş veya sadece boşluk içeriyor.\n",
            "Uyarı: 'wiki_06_line_516' dosyası boş veya sadece boşluk içeriyor.\n",
            "Uyarı: 'wiki_06_line_517' dosyası boş veya sadece boşluk içeriyor.\n",
            "Uyarı: 'wiki_06_line_518' dosyası boş veya sadece boşluk içeriyor.\n",
            "Uyarı: 'wiki_06_line_519' dosyası boş veya sadece boşluk içeriyor.\n",
            "Uyarı: 'wiki_06_line_520' dosyası boş veya sadece boşluk içeriyor.\n",
            "Uyarı: 'wiki_06_line_521' dosyası boş veya sadece boşluk içeriyor.\n",
            "Uyarı: 'wiki_06_line_522' dosyası boş veya sadece boşluk içeriyor.\n",
            "Uyarı: 'wiki_06_line_523' dosyası boş veya sadece boşluk içeriyor.\n",
            "Uyarı: 'wiki_06_line_524' dosyası boş veya sadece boşluk içeriyor.\n",
            "Uyarı: 'wiki_06_line_525' dosyası boş veya sadece boşluk içeriyor.\n",
            "Uyarı: 'wiki_06_line_526' dosyası boş veya sadece boşluk içeriyor.\n",
            "Uyarı: 'wiki_06_line_527' dosyası boş veya sadece boşluk içeriyor.\n",
            "Uyarı: 'wiki_06_line_528' dosyası boş veya sadece boşluk içeriyor.\n",
            "Uyarı: 'wiki_06_line_529' dosyası boş veya sadece boşluk içeriyor.\n",
            "Uyarı: 'wiki_06_line_530' dosyası boş veya sadece boşluk içeriyor.\n",
            "Uyarı: 'wiki_06_line_531' dosyası boş veya sadece boşluk içeriyor.\n",
            "Uyarı: 'wiki_06_line_532' dosyası boş veya sadece boşluk içeriyor.\n",
            "Uyarı: 'wiki_06_line_533' dosyası boş veya sadece boşluk içeriyor.\n",
            "Uyarı: 'wiki_06_line_534' dosyası boş veya sadece boşluk içeriyor.\n",
            "Uyarı: 'wiki_06_line_535' dosyası boş veya sadece boşluk içeriyor.\n",
            "Uyarı: 'wiki_06_line_536' dosyası boş veya sadece boşluk içeriyor.\n",
            "Uyarı: 'wiki_06_line_537' dosyası boş veya sadece boşluk içeriyor.\n",
            "Uyarı: 'wiki_06_line_538' dosyası boş veya sadece boşluk içeriyor.\n",
            "Uyarı: 'wiki_06_line_539' dosyası boş veya sadece boşluk içeriyor.\n",
            "Uyarı: 'wiki_06_line_540' dosyası boş veya sadece boşluk içeriyor.\n",
            "Uyarı: 'wiki_06_line_541' dosyası boş veya sadece boşluk içeriyor.\n",
            "Uyarı: 'wiki_06_line_542' dosyası boş veya sadece boşluk içeriyor.\n",
            "Uyarı: 'wiki_06_line_543' dosyası boş veya sadece boşluk içeriyor.\n",
            "'wiki_06_line_544' dosyasından 1 adet semantic chunk üretildi.\n",
            "Uyarı: 'wiki_06_line_545' dosyası boş veya sadece boşluk içeriyor.\n",
            "'wiki_06_line_546' dosyasından 1 adet semantic chunk üretildi.\n",
            "Uyarı: 'wiki_06_line_547' dosyası boş veya sadece boşluk içeriyor.\n",
            "Uyarı: 'wiki_06_line_548' dosyası boş veya sadece boşluk içeriyor.\n",
            "Uyarı: 'wiki_06_line_549' dosyası boş veya sadece boşluk içeriyor.\n",
            "Uyarı: 'wiki_06_line_550' dosyası boş veya sadece boşluk içeriyor.\n",
            "Uyarı: 'wiki_06_line_551' dosyası boş veya sadece boşluk içeriyor.\n",
            "Uyarı: 'wiki_06_line_552' dosyası boş veya sadece boşluk içeriyor.\n",
            "Uyarı: 'wiki_06_line_553' dosyası boş veya sadece boşluk içeriyor.\n",
            "Uyarı: 'wiki_06_line_554' dosyası boş veya sadece boşluk içeriyor.\n",
            "Uyarı: 'wiki_06_line_555' dosyası boş veya sadece boşluk içeriyor.\n",
            "Uyarı: 'wiki_06_line_556' dosyası boş veya sadece boşluk içeriyor.\n",
            "Uyarı: 'wiki_06_line_557' dosyası boş veya sadece boşluk içeriyor.\n",
            "Uyarı: 'wiki_06_line_558' dosyası boş veya sadece boşluk içeriyor.\n",
            "Uyarı: 'wiki_06_line_559' dosyası boş veya sadece boşluk içeriyor.\n",
            "Uyarı: 'wiki_06_line_560' dosyası boş veya sadece boşluk içeriyor.\n",
            "Uyarı: 'wiki_06_line_561' dosyası boş veya sadece boşluk içeriyor.\n",
            "Uyarı: 'wiki_06_line_562' dosyası boş veya sadece boşluk içeriyor.\n",
            "Uyarı: 'wiki_06_line_563' dosyası boş veya sadece boşluk içeriyor.\n",
            "Uyarı: 'wiki_06_line_564' dosyası boş veya sadece boşluk içeriyor.\n",
            "Uyarı: 'wiki_06_line_565' dosyası boş veya sadece boşluk içeriyor.\n",
            "Uyarı: 'wiki_06_line_566' dosyası boş veya sadece boşluk içeriyor.\n",
            "Uyarı: 'wiki_06_line_567' dosyası boş veya sadece boşluk içeriyor.\n",
            "Uyarı: 'wiki_06_line_568' dosyası boş veya sadece boşluk içeriyor.\n",
            "Uyarı: 'wiki_06_line_569' dosyası boş veya sadece boşluk içeriyor.\n",
            "Uyarı: 'wiki_06_line_570' dosyası boş veya sadece boşluk içeriyor.\n",
            "Uyarı: 'wiki_06_line_571' dosyası boş veya sadece boşluk içeriyor.\n",
            "Uyarı: 'wiki_06_line_572' dosyası boş veya sadece boşluk içeriyor.\n",
            "Uyarı: 'wiki_06_line_573' dosyası boş veya sadece boşluk içeriyor.\n",
            "Uyarı: 'wiki_06_line_574' dosyası boş veya sadece boşluk içeriyor.\n",
            "Uyarı: 'wiki_06_line_575' dosyası boş veya sadece boşluk içeriyor.\n",
            "'wiki_06_line_576' dosyasından 1 adet semantic chunk üretildi.\n",
            "Uyarı: 'wiki_06_line_577' dosyası boş veya sadece boşluk içeriyor.\n",
            "Uyarı: 'wiki_06_line_578' dosyası boş veya sadece boşluk içeriyor.\n",
            "'wiki_06_line_579' dosyasından 1 adet semantic chunk üretildi.\n",
            "Uyarı: 'wiki_06_line_580' dosyası boş veya sadece boşluk içeriyor.\n",
            "Uyarı: 'wiki_06_line_581' dosyası boş veya sadece boşluk içeriyor.\n",
            "Uyarı: 'wiki_06_line_582' dosyası boş veya sadece boşluk içeriyor.\n",
            "Uyarı: 'wiki_06_line_583' dosyası boş veya sadece boşluk içeriyor.\n",
            "Uyarı: 'wiki_06_line_584' dosyası boş veya sadece boşluk içeriyor.\n",
            "Uyarı: 'wiki_06_line_585' dosyası boş veya sadece boşluk içeriyor.\n",
            "Uyarı: 'wiki_06_line_586' dosyası boş veya sadece boşluk içeriyor.\n",
            "Uyarı: 'wiki_06_line_587' dosyası boş veya sadece boşluk içeriyor.\n",
            "Uyarı: 'wiki_06_line_588' dosyası boş veya sadece boşluk içeriyor.\n",
            "Uyarı: 'wiki_06_line_589' dosyası boş veya sadece boşluk içeriyor.\n",
            "Uyarı: 'wiki_06_line_590' dosyası boş veya sadece boşluk içeriyor.\n",
            "Uyarı: 'wiki_06_line_591' dosyası boş veya sadece boşluk içeriyor.\n",
            "Uyarı: 'wiki_06_line_592' dosyası boş veya sadece boşluk içeriyor.\n",
            "Uyarı: 'wiki_06_line_593' dosyası boş veya sadece boşluk içeriyor.\n",
            "Uyarı: 'wiki_06_line_594' dosyası boş veya sadece boşluk içeriyor.\n",
            "Uyarı: 'wiki_06_line_595' dosyası boş veya sadece boşluk içeriyor.\n",
            "Uyarı: 'wiki_06_line_596' dosyası boş veya sadece boşluk içeriyor.\n",
            "Uyarı: 'wiki_06_line_597' dosyası boş veya sadece boşluk içeriyor.\n",
            "Uyarı: 'wiki_06_line_598' dosyası boş veya sadece boşluk içeriyor.\n",
            "Uyarı: 'wiki_06_line_599' dosyası boş veya sadece boşluk içeriyor.\n",
            "Uyarı: 'wiki_06_line_600' dosyası boş veya sadece boşluk içeriyor.\n",
            "Uyarı: 'wiki_06_line_601' dosyası boş veya sadece boşluk içeriyor.\n",
            "Uyarı: 'wiki_06_line_602' dosyası boş veya sadece boşluk içeriyor.\n",
            "Uyarı: 'wiki_06_line_603' dosyası boş veya sadece boşluk içeriyor.\n",
            "Uyarı: 'wiki_06_line_604' dosyası boş veya sadece boşluk içeriyor.\n",
            "Uyarı: 'wiki_06_line_605' dosyası boş veya sadece boşluk içeriyor.\n",
            "Uyarı: 'wiki_06_line_606' dosyası boş veya sadece boşluk içeriyor.\n",
            "Uyarı: 'wiki_06_line_607' dosyası boş veya sadece boşluk içeriyor.\n",
            "Uyarı: 'wiki_06_line_608' dosyası boş veya sadece boşluk içeriyor.\n",
            "Uyarı: 'wiki_06_line_609' dosyası boş veya sadece boşluk içeriyor.\n",
            "Uyarı: 'wiki_06_line_610' dosyası boş veya sadece boşluk içeriyor.\n",
            "Uyarı: 'wiki_06_line_611' dosyası boş veya sadece boşluk içeriyor.\n",
            "Uyarı: 'wiki_06_line_612' dosyası boş veya sadece boşluk içeriyor.\n",
            "Uyarı: 'wiki_06_line_613' dosyası boş veya sadece boşluk içeriyor.\n",
            "Uyarı: 'wiki_06_line_614' dosyası boş veya sadece boşluk içeriyor.\n",
            "Uyarı: 'wiki_06_line_615' dosyası boş veya sadece boşluk içeriyor.\n",
            "Uyarı: 'wiki_06_line_616' dosyası boş veya sadece boşluk içeriyor.\n",
            "Uyarı: 'wiki_06_line_617' dosyası boş veya sadece boşluk içeriyor.\n",
            "Uyarı: 'wiki_06_line_618' dosyası boş veya sadece boşluk içeriyor.\n",
            "Uyarı: 'wiki_06_line_619' dosyası boş veya sadece boşluk içeriyor.\n",
            "Uyarı: 'wiki_06_line_620' dosyası boş veya sadece boşluk içeriyor.\n",
            "'wiki_06_line_621' dosyasından 1 adet semantic chunk üretildi.\n",
            "Uyarı: 'wiki_06_line_622' dosyası boş veya sadece boşluk içeriyor.\n",
            "'wiki_06_line_623' dosyasından 1 adet semantic chunk üretildi.\n",
            "Uyarı: 'wiki_06_line_624' dosyası boş veya sadece boşluk içeriyor.\n",
            "Uyarı: 'wiki_06_line_625' dosyası boş veya sadece boşluk içeriyor.\n",
            "Uyarı: 'wiki_06_line_626' dosyası boş veya sadece boşluk içeriyor.\n",
            "Uyarı: 'wiki_06_line_627' dosyası boş veya sadece boşluk içeriyor.\n",
            "Uyarı: 'wiki_06_line_628' dosyası boş veya sadece boşluk içeriyor.\n",
            "Uyarı: 'wiki_06_line_629' dosyası boş veya sadece boşluk içeriyor.\n",
            "Uyarı: 'wiki_06_line_630' dosyası boş veya sadece boşluk içeriyor.\n",
            "'wiki_06_line_631' dosyasından 1 adet semantic chunk üretildi.\n",
            "Uyarı: 'wiki_06_line_632' dosyası boş veya sadece boşluk içeriyor.\n",
            "Uyarı: 'wiki_06_line_633' dosyası boş veya sadece boşluk içeriyor.\n",
            "Uyarı: 'wiki_06_line_634' dosyası boş veya sadece boşluk içeriyor.\n",
            "Uyarı: 'wiki_06_line_635' dosyası boş veya sadece boşluk içeriyor.\n",
            "Uyarı: 'wiki_06_line_636' dosyası boş veya sadece boşluk içeriyor.\n",
            "Uyarı: 'wiki_06_line_637' dosyası boş veya sadece boşluk içeriyor.\n",
            "Uyarı: 'wiki_06_line_638' dosyası boş veya sadece boşluk içeriyor.\n",
            "Uyarı: 'wiki_06_line_639' dosyası boş veya sadece boşluk içeriyor.\n",
            "Uyarı: 'wiki_06_line_640' dosyası boş veya sadece boşluk içeriyor.\n",
            "Uyarı: 'wiki_06_line_641' dosyası boş veya sadece boşluk içeriyor.\n",
            "Uyarı: 'wiki_06_line_642' dosyası boş veya sadece boşluk içeriyor.\n",
            "Uyarı: 'wiki_06_line_643' dosyası boş veya sadece boşluk içeriyor.\n",
            "Uyarı: 'wiki_06_line_644' dosyası boş veya sadece boşluk içeriyor.\n",
            "Uyarı: 'wiki_06_line_645' dosyası boş veya sadece boşluk içeriyor.\n",
            "Uyarı: 'wiki_06_line_646' dosyası boş veya sadece boşluk içeriyor.\n",
            "Uyarı: 'wiki_06_line_647' dosyası boş veya sadece boşluk içeriyor.\n",
            "'wiki_06_line_648' dosyasından 1 adet semantic chunk üretildi.\n",
            "Uyarı: 'wiki_06_line_649' dosyası boş veya sadece boşluk içeriyor.\n",
            "Uyarı: 'wiki_06_line_650' dosyası boş veya sadece boşluk içeriyor.\n",
            "Uyarı: 'wiki_06_line_651' dosyası boş veya sadece boşluk içeriyor.\n",
            "Uyarı: 'wiki_06_line_652' dosyası boş veya sadece boşluk içeriyor.\n",
            "Uyarı: 'wiki_06_line_653' dosyası boş veya sadece boşluk içeriyor.\n",
            "Uyarı: 'wiki_06_line_654' dosyası boş veya sadece boşluk içeriyor.\n",
            "Uyarı: 'wiki_06_line_655' dosyası boş veya sadece boşluk içeriyor.\n",
            "Uyarı: 'wiki_06_line_656' dosyası boş veya sadece boşluk içeriyor.\n",
            "Uyarı: 'wiki_06_line_657' dosyası boş veya sadece boşluk içeriyor.\n",
            "'wiki_06_line_658' dosyasından 1 adet semantic chunk üretildi.\n",
            "Uyarı: 'wiki_06_line_659' dosyası boş veya sadece boşluk içeriyor.\n",
            "Uyarı: 'wiki_06_line_660' dosyası boş veya sadece boşluk içeriyor.\n",
            "Uyarı: 'wiki_06_line_661' dosyası boş veya sadece boşluk içeriyor.\n",
            "'wiki_06_line_662' dosyasından 1 adet semantic chunk üretildi.\n",
            "'wiki_06_line_663' dosyasından 1 adet semantic chunk üretildi.\n",
            "Uyarı: 'wiki_06_line_664' dosyası boş veya sadece boşluk içeriyor.\n",
            "Uyarı: 'wiki_06_line_665' dosyası boş veya sadece boşluk içeriyor.\n",
            "Uyarı: 'wiki_06_line_666' dosyası boş veya sadece boşluk içeriyor.\n",
            "Uyarı: 'wiki_06_line_667' dosyası boş veya sadece boşluk içeriyor.\n",
            "Uyarı: 'wiki_06_line_668' dosyası boş veya sadece boşluk içeriyor.\n",
            "Uyarı: 'wiki_06_line_669' dosyası boş veya sadece boşluk içeriyor.\n",
            "'wiki_06_line_670' dosyasından 1 adet semantic chunk üretildi.\n",
            "Uyarı: 'wiki_06_line_671' dosyası boş veya sadece boşluk içeriyor.\n",
            "Uyarı: 'wiki_06_line_672' dosyası boş veya sadece boşluk içeriyor.\n",
            "Uyarı: 'wiki_06_line_673' dosyası boş veya sadece boşluk içeriyor.\n",
            "Uyarı: 'wiki_06_line_674' dosyası boş veya sadece boşluk içeriyor.\n",
            "Uyarı: 'wiki_06_line_675' dosyası boş veya sadece boşluk içeriyor.\n",
            "Uyarı: 'wiki_06_line_676' dosyası boş veya sadece boşluk içeriyor.\n",
            "Uyarı: 'wiki_06_line_677' dosyası boş veya sadece boşluk içeriyor.\n",
            "Uyarı: 'wiki_06_line_678' dosyası boş veya sadece boşluk içeriyor.\n",
            "Uyarı: 'wiki_06_line_679' dosyası boş veya sadece boşluk içeriyor.\n",
            "Uyarı: 'wiki_06_line_680' dosyası boş veya sadece boşluk içeriyor.\n",
            "Uyarı: 'wiki_06_line_681' dosyası boş veya sadece boşluk içeriyor.\n",
            "Uyarı: 'wiki_06_line_682' dosyası boş veya sadece boşluk içeriyor.\n",
            "'wiki_06_line_683' dosyasından 1 adet semantic chunk üretildi.\n",
            "Uyarı: 'wiki_06_line_684' dosyası boş veya sadece boşluk içeriyor.\n",
            "'wiki_06_line_685' dosyasından 1 adet semantic chunk üretildi.\n",
            "'wiki_06_line_686' dosyasından 1 adet semantic chunk üretildi.\n",
            "Uyarı: 'wiki_06_line_687' dosyası boş veya sadece boşluk içeriyor.\n",
            "Uyarı: 'wiki_06_line_688' dosyası boş veya sadece boşluk içeriyor.\n",
            "Uyarı: 'wiki_06_line_689' dosyası boş veya sadece boşluk içeriyor.\n",
            "Uyarı: 'wiki_06_line_690' dosyası boş veya sadece boşluk içeriyor.\n",
            "Uyarı: 'wiki_06_line_691' dosyası boş veya sadece boşluk içeriyor.\n",
            "Uyarı: 'wiki_06_line_692' dosyası boş veya sadece boşluk içeriyor.\n",
            "Uyarı: 'wiki_06_line_693' dosyası boş veya sadece boşluk içeriyor.\n",
            "Uyarı: 'wiki_06_line_694' dosyası boş veya sadece boşluk içeriyor.\n",
            "Uyarı: 'wiki_06_line_695' dosyası boş veya sadece boşluk içeriyor.\n",
            "Uyarı: 'wiki_06_line_696' dosyası boş veya sadece boşluk içeriyor.\n",
            "Uyarı: 'wiki_06_line_697' dosyası boş veya sadece boşluk içeriyor.\n"
          ]
        },
        {
          "name": "stderr",
          "output_type": "stream",
          "text": [
            "Batches: 100%|██████████| 1/1 [00:00<00:00,  4.40it/s]\n"
          ]
        },
        {
          "name": "stdout",
          "output_type": "stream",
          "text": [
            "'wiki_06_line_698' dosyasından 1 adet semantic chunk üretildi.\n",
            "Uyarı: 'wiki_06_line_699' dosyası boş veya sadece boşluk içeriyor.\n"
          ]
        },
        {
          "name": "stderr",
          "output_type": "stream",
          "text": [
            "Batches: 100%|██████████| 1/1 [00:00<00:00,  1.12it/s]\n"
          ]
        },
        {
          "name": "stdout",
          "output_type": "stream",
          "text": [
            "'wiki_06_line_700' dosyasından 3 adet semantic chunk üretildi.\n",
            "Uyarı: 'wiki_06_line_701' dosyası boş veya sadece boşluk içeriyor.\n",
            "Uyarı: 'wiki_06_line_702' dosyası boş veya sadece boşluk içeriyor.\n",
            "Uyarı: 'wiki_06_line_703' dosyası boş veya sadece boşluk içeriyor.\n",
            "Uyarı: 'wiki_06_line_704' dosyası boş veya sadece boşluk içeriyor.\n",
            "Uyarı: 'wiki_06_line_705' dosyası boş veya sadece boşluk içeriyor.\n",
            "Uyarı: 'wiki_06_line_706' dosyası boş veya sadece boşluk içeriyor.\n",
            "'wiki_06_line_707' dosyasından 1 adet semantic chunk üretildi.\n",
            "Uyarı: 'wiki_06_line_708' dosyası boş veya sadece boşluk içeriyor.\n",
            "Uyarı: 'wiki_06_line_709' dosyası boş veya sadece boşluk içeriyor.\n",
            "Uyarı: 'wiki_06_line_710' dosyası boş veya sadece boşluk içeriyor.\n",
            "Uyarı: 'wiki_06_line_711' dosyası boş veya sadece boşluk içeriyor.\n",
            "Uyarı: 'wiki_06_line_712' dosyası boş veya sadece boşluk içeriyor.\n",
            "Uyarı: 'wiki_06_line_713' dosyası boş veya sadece boşluk içeriyor.\n",
            "Uyarı: 'wiki_06_line_714' dosyası boş veya sadece boşluk içeriyor.\n",
            "Uyarı: 'wiki_06_line_715' dosyası boş veya sadece boşluk içeriyor.\n",
            "Uyarı: 'wiki_06_line_716' dosyası boş veya sadece boşluk içeriyor.\n",
            "Uyarı: 'wiki_06_line_717' dosyası boş veya sadece boşluk içeriyor.\n",
            "Uyarı: 'wiki_06_line_718' dosyası boş veya sadece boşluk içeriyor.\n",
            "Uyarı: 'wiki_06_line_719' dosyası boş veya sadece boşluk içeriyor.\n",
            "Uyarı: 'wiki_06_line_720' dosyası boş veya sadece boşluk içeriyor.\n",
            "Uyarı: 'wiki_06_line_721' dosyası boş veya sadece boşluk içeriyor.\n",
            "Uyarı: 'wiki_06_line_722' dosyası boş veya sadece boşluk içeriyor.\n",
            "Uyarı: 'wiki_06_line_723' dosyası boş veya sadece boşluk içeriyor.\n",
            "Uyarı: 'wiki_06_line_724' dosyası boş veya sadece boşluk içeriyor.\n",
            "Uyarı: 'wiki_06_line_725' dosyası boş veya sadece boşluk içeriyor.\n",
            "Uyarı: 'wiki_06_line_726' dosyası boş veya sadece boşluk içeriyor.\n",
            "Uyarı: 'wiki_06_line_727' dosyası boş veya sadece boşluk içeriyor.\n",
            "Uyarı: 'wiki_06_line_728' dosyası boş veya sadece boşluk içeriyor.\n",
            "'wiki_06_line_729' dosyasından 1 adet semantic chunk üretildi.\n",
            "Uyarı: 'wiki_06_line_730' dosyası boş veya sadece boşluk içeriyor.\n"
          ]
        },
        {
          "name": "stderr",
          "output_type": "stream",
          "text": [
            "Batches: 100%|██████████| 1/1 [00:00<00:00,  3.74it/s]\n"
          ]
        },
        {
          "name": "stdout",
          "output_type": "stream",
          "text": [
            "'wiki_06_line_731' dosyasından 1 adet semantic chunk üretildi.\n"
          ]
        },
        {
          "name": "stderr",
          "output_type": "stream",
          "text": [
            "Batches: 100%|██████████| 1/1 [00:00<00:00,  1.85it/s]\n"
          ]
        },
        {
          "name": "stdout",
          "output_type": "stream",
          "text": [
            "'wiki_06_line_732' dosyasından 2 adet semantic chunk üretildi.\n",
            "'wiki_06_line_733' dosyasından 1 adet semantic chunk üretildi.\n",
            "Uyarı: 'wiki_06_line_734' dosyası boş veya sadece boşluk içeriyor.\n",
            "Uyarı: 'wiki_06_line_735' dosyası boş veya sadece boşluk içeriyor.\n",
            "Uyarı: 'wiki_06_line_736' dosyası boş veya sadece boşluk içeriyor.\n",
            "Uyarı: 'wiki_06_line_737' dosyası boş veya sadece boşluk içeriyor.\n",
            "Uyarı: 'wiki_06_line_738' dosyası boş veya sadece boşluk içeriyor.\n",
            "Uyarı: 'wiki_06_line_739' dosyası boş veya sadece boşluk içeriyor.\n",
            "Uyarı: 'wiki_06_line_740' dosyası boş veya sadece boşluk içeriyor.\n",
            "Uyarı: 'wiki_06_line_741' dosyası boş veya sadece boşluk içeriyor.\n",
            "Uyarı: 'wiki_06_line_742' dosyası boş veya sadece boşluk içeriyor.\n",
            "Uyarı: 'wiki_06_line_743' dosyası boş veya sadece boşluk içeriyor.\n",
            "Uyarı: 'wiki_06_line_744' dosyası boş veya sadece boşluk içeriyor.\n",
            "Uyarı: 'wiki_06_line_745' dosyası boş veya sadece boşluk içeriyor.\n",
            "Uyarı: 'wiki_06_line_746' dosyası boş veya sadece boşluk içeriyor.\n",
            "Uyarı: 'wiki_06_line_747' dosyası boş veya sadece boşluk içeriyor.\n",
            "Uyarı: 'wiki_06_line_748' dosyası boş veya sadece boşluk içeriyor.\n",
            "Uyarı: 'wiki_06_line_749' dosyası boş veya sadece boşluk içeriyor.\n",
            "Uyarı: 'wiki_06_line_750' dosyası boş veya sadece boşluk içeriyor.\n",
            "Uyarı: 'wiki_06_line_751' dosyası boş veya sadece boşluk içeriyor.\n",
            "Uyarı: 'wiki_06_line_752' dosyası boş veya sadece boşluk içeriyor.\n",
            "Uyarı: 'wiki_06_line_753' dosyası boş veya sadece boşluk içeriyor.\n",
            "'wiki_06_line_754' dosyasından 1 adet semantic chunk üretildi.\n",
            "Uyarı: 'wiki_06_line_755' dosyası boş veya sadece boşluk içeriyor.\n",
            "Uyarı: 'wiki_06_line_756' dosyası boş veya sadece boşluk içeriyor.\n",
            "Uyarı: 'wiki_06_line_757' dosyası boş veya sadece boşluk içeriyor.\n",
            "'wiki_06_line_758' dosyasından 1 adet semantic chunk üretildi.\n"
          ]
        },
        {
          "name": "stderr",
          "output_type": "stream",
          "text": [
            "Batches: 100%|██████████| 1/1 [00:00<00:00,  3.58it/s]\n"
          ]
        },
        {
          "name": "stdout",
          "output_type": "stream",
          "text": [
            "'wiki_06_line_759' dosyasından 1 adet semantic chunk üretildi.\n"
          ]
        },
        {
          "name": "stderr",
          "output_type": "stream",
          "text": [
            "Batches: 100%|██████████| 1/1 [00:00<00:00,  1.26it/s]\n"
          ]
        },
        {
          "name": "stdout",
          "output_type": "stream",
          "text": [
            "'wiki_06_line_760' dosyasından 4 adet semantic chunk üretildi.\n"
          ]
        },
        {
          "name": "stderr",
          "output_type": "stream",
          "text": [
            "Batches: 100%|██████████| 1/1 [00:00<00:00,  4.51it/s]\n"
          ]
        },
        {
          "name": "stdout",
          "output_type": "stream",
          "text": [
            "'wiki_06_line_761' dosyasından 1 adet semantic chunk üretildi.\n"
          ]
        },
        {
          "name": "stderr",
          "output_type": "stream",
          "text": [
            "Batches: 100%|██████████| 1/1 [00:00<00:00,  2.45it/s]\n"
          ]
        },
        {
          "name": "stdout",
          "output_type": "stream",
          "text": [
            "'wiki_06_line_762' dosyasından 2 adet semantic chunk üretildi.\n"
          ]
        },
        {
          "name": "stderr",
          "output_type": "stream",
          "text": [
            "Batches: 100%|██████████| 1/1 [00:00<00:00,  4.77it/s]\n"
          ]
        },
        {
          "name": "stdout",
          "output_type": "stream",
          "text": [
            "'wiki_06_line_763' dosyasından 1 adet semantic chunk üretildi.\n"
          ]
        },
        {
          "name": "stderr",
          "output_type": "stream",
          "text": [
            "Batches: 100%|██████████| 1/1 [00:00<00:00,  4.07it/s]\n"
          ]
        },
        {
          "name": "stdout",
          "output_type": "stream",
          "text": [
            "'wiki_06_line_764' dosyasından 2 adet semantic chunk üretildi.\n",
            "Uyarı: 'wiki_06_line_765' dosyası boş veya sadece boşluk içeriyor.\n",
            "Uyarı: 'wiki_06_line_766' dosyası boş veya sadece boşluk içeriyor.\n",
            "Uyarı: 'wiki_06_line_767' dosyası boş veya sadece boşluk içeriyor.\n",
            "Uyarı: 'wiki_06_line_768' dosyası boş veya sadece boşluk içeriyor.\n",
            "Uyarı: 'wiki_06_line_769' dosyası boş veya sadece boşluk içeriyor.\n",
            "Uyarı: 'wiki_06_line_770' dosyası boş veya sadece boşluk içeriyor.\n",
            "Uyarı: 'wiki_06_line_771' dosyası boş veya sadece boşluk içeriyor.\n",
            "Uyarı: 'wiki_06_line_772' dosyası boş veya sadece boşluk içeriyor.\n",
            "Uyarı: 'wiki_06_line_773' dosyası boş veya sadece boşluk içeriyor.\n",
            "Uyarı: 'wiki_06_line_774' dosyası boş veya sadece boşluk içeriyor.\n",
            "Uyarı: 'wiki_06_line_775' dosyası boş veya sadece boşluk içeriyor.\n",
            "Uyarı: 'wiki_06_line_776' dosyası boş veya sadece boşluk içeriyor.\n",
            "Uyarı: 'wiki_06_line_777' dosyası boş veya sadece boşluk içeriyor.\n",
            "Uyarı: 'wiki_06_line_778' dosyası boş veya sadece boşluk içeriyor.\n",
            "Uyarı: 'wiki_06_line_779' dosyası boş veya sadece boşluk içeriyor.\n",
            "Uyarı: 'wiki_06_line_780' dosyası boş veya sadece boşluk içeriyor.\n",
            "Uyarı: 'wiki_06_line_781' dosyası boş veya sadece boşluk içeriyor.\n",
            "Uyarı: 'wiki_06_line_782' dosyası boş veya sadece boşluk içeriyor.\n",
            "Uyarı: 'wiki_06_line_783' dosyası boş veya sadece boşluk içeriyor.\n",
            "Uyarı: 'wiki_06_line_784' dosyası boş veya sadece boşluk içeriyor.\n",
            "Uyarı: 'wiki_06_line_785' dosyası boş veya sadece boşluk içeriyor.\n",
            "Uyarı: 'wiki_06_line_786' dosyası boş veya sadece boşluk içeriyor.\n",
            "Uyarı: 'wiki_06_line_787' dosyası boş veya sadece boşluk içeriyor.\n",
            "'wiki_06_line_788' dosyasından 1 adet semantic chunk üretildi.\n",
            "Uyarı: 'wiki_06_line_789' dosyası boş veya sadece boşluk içeriyor.\n",
            "'wiki_06_line_790' dosyasından 1 adet semantic chunk üretildi.\n",
            "Uyarı: 'wiki_06_line_791' dosyası boş veya sadece boşluk içeriyor.\n",
            "Uyarı: 'wiki_06_line_792' dosyası boş veya sadece boşluk içeriyor.\n",
            "Uyarı: 'wiki_06_line_793' dosyası boş veya sadece boşluk içeriyor.\n",
            "Uyarı: 'wiki_06_line_794' dosyası boş veya sadece boşluk içeriyor.\n",
            "Uyarı: 'wiki_06_line_795' dosyası boş veya sadece boşluk içeriyor.\n",
            "Uyarı: 'wiki_06_line_796' dosyası boş veya sadece boşluk içeriyor.\n",
            "Uyarı: 'wiki_06_line_797' dosyası boş veya sadece boşluk içeriyor.\n",
            "Uyarı: 'wiki_06_line_798' dosyası boş veya sadece boşluk içeriyor.\n",
            "Uyarı: 'wiki_06_line_799' dosyası boş veya sadece boşluk içeriyor.\n",
            "Uyarı: 'wiki_06_line_800' dosyası boş veya sadece boşluk içeriyor.\n",
            "Uyarı: 'wiki_06_line_801' dosyası boş veya sadece boşluk içeriyor.\n",
            "Uyarı: 'wiki_06_line_802' dosyası boş veya sadece boşluk içeriyor.\n",
            "Uyarı: 'wiki_06_line_803' dosyası boş veya sadece boşluk içeriyor.\n",
            "Uyarı: 'wiki_06_line_804' dosyası boş veya sadece boşluk içeriyor.\n"
          ]
        },
        {
          "name": "stderr",
          "output_type": "stream",
          "text": [
            "Batches: 100%|██████████| 2/2 [00:02<00:00,  1.44s/it]\n"
          ]
        },
        {
          "name": "stdout",
          "output_type": "stream",
          "text": [
            "'wiki_06_line_805' dosyasından 13 adet semantic chunk üretildi.\n",
            "Uyarı: 'wiki_06_line_806' dosyası boş veya sadece boşluk içeriyor.\n"
          ]
        },
        {
          "name": "stderr",
          "output_type": "stream",
          "text": [
            "Batches: 100%|██████████| 1/1 [00:01<00:00,  1.82s/it]\n"
          ]
        },
        {
          "name": "stdout",
          "output_type": "stream",
          "text": [
            "'wiki_06_line_807' dosyasından 5 adet semantic chunk üretildi.\n"
          ]
        },
        {
          "name": "stderr",
          "output_type": "stream",
          "text": [
            "Batches: 100%|██████████| 2/2 [00:04<00:00,  2.18s/it]\n"
          ]
        },
        {
          "name": "stdout",
          "output_type": "stream",
          "text": [
            "'wiki_06_line_808' dosyasından 19 adet semantic chunk üretildi.\n"
          ]
        },
        {
          "name": "stderr",
          "output_type": "stream",
          "text": [
            "Batches: 100%|██████████| 1/1 [00:01<00:00,  1.75s/it]\n"
          ]
        },
        {
          "name": "stdout",
          "output_type": "stream",
          "text": [
            "'wiki_06_line_809' dosyasından 9 adet semantic chunk üretildi.\n"
          ]
        },
        {
          "name": "stderr",
          "output_type": "stream",
          "text": [
            "Batches: 100%|██████████| 1/1 [00:01<00:00,  1.61s/it]\n"
          ]
        },
        {
          "name": "stdout",
          "output_type": "stream",
          "text": [
            "'wiki_06_line_810' dosyasından 9 adet semantic chunk üretildi.\n",
            "'wiki_06_line_811' dosyasından 1 adet semantic chunk üretildi.\n"
          ]
        },
        {
          "name": "stderr",
          "output_type": "stream",
          "text": [
            "Batches: 100%|██████████| 1/1 [00:00<00:00,  1.71it/s]\n"
          ]
        },
        {
          "name": "stdout",
          "output_type": "stream",
          "text": [
            "'wiki_06_line_812' dosyasından 3 adet semantic chunk üretildi.\n"
          ]
        },
        {
          "name": "stderr",
          "output_type": "stream",
          "text": [
            "Batches: 100%|██████████| 1/1 [00:00<00:00,  1.35it/s]\n"
          ]
        },
        {
          "name": "stdout",
          "output_type": "stream",
          "text": [
            "'wiki_06_line_813' dosyasından 2 adet semantic chunk üretildi.\n"
          ]
        },
        {
          "name": "stderr",
          "output_type": "stream",
          "text": [
            "Batches: 100%|██████████| 1/1 [00:00<00:00,  2.76it/s]\n"
          ]
        },
        {
          "name": "stdout",
          "output_type": "stream",
          "text": [
            "'wiki_06_line_814' dosyasından 1 adet semantic chunk üretildi.\n",
            "'wiki_06_line_815' dosyasından 1 adet semantic chunk üretildi.\n"
          ]
        },
        {
          "name": "stderr",
          "output_type": "stream",
          "text": [
            "Batches: 100%|██████████| 2/2 [00:05<00:00,  2.67s/it]\n"
          ]
        },
        {
          "name": "stdout",
          "output_type": "stream",
          "text": [
            "'wiki_06_line_816' dosyasından 34 adet semantic chunk üretildi.\n"
          ]
        },
        {
          "name": "stderr",
          "output_type": "stream",
          "text": [
            "Batches: 100%|██████████| 2/2 [00:04<00:00,  2.26s/it]\n"
          ]
        },
        {
          "name": "stdout",
          "output_type": "stream",
          "text": [
            "'wiki_06_line_817' dosyasından 18 adet semantic chunk üretildi.\n"
          ]
        },
        {
          "name": "stderr",
          "output_type": "stream",
          "text": [
            "Batches: 100%|██████████| 1/1 [00:00<00:00,  5.45it/s]\n"
          ]
        },
        {
          "name": "stdout",
          "output_type": "stream",
          "text": [
            "'wiki_06_line_818' dosyasından 1 adet semantic chunk üretildi.\n"
          ]
        },
        {
          "name": "stderr",
          "output_type": "stream",
          "text": [
            "Batches: 100%|██████████| 1/1 [00:00<00:00,  2.27it/s]\n"
          ]
        },
        {
          "name": "stdout",
          "output_type": "stream",
          "text": [
            "'wiki_06_line_819' dosyasından 3 adet semantic chunk üretildi.\n"
          ]
        },
        {
          "name": "stderr",
          "output_type": "stream",
          "text": [
            "Batches: 100%|██████████| 2/2 [00:03<00:00,  1.68s/it]\n"
          ]
        },
        {
          "name": "stdout",
          "output_type": "stream",
          "text": [
            "'wiki_06_line_820' dosyasından 11 adet semantic chunk üretildi.\n"
          ]
        },
        {
          "name": "stderr",
          "output_type": "stream",
          "text": [
            "Batches: 100%|██████████| 1/1 [00:00<00:00,  2.16it/s]\n"
          ]
        },
        {
          "name": "stdout",
          "output_type": "stream",
          "text": [
            "'wiki_06_line_821' dosyasından 1 adet semantic chunk üretildi.\n"
          ]
        },
        {
          "name": "stderr",
          "output_type": "stream",
          "text": [
            "Batches: 100%|██████████| 1/1 [00:00<00:00,  3.75it/s]\n"
          ]
        },
        {
          "name": "stdout",
          "output_type": "stream",
          "text": [
            "'wiki_06_line_822' dosyasından 2 adet semantic chunk üretildi.\n"
          ]
        },
        {
          "name": "stderr",
          "output_type": "stream",
          "text": [
            "Batches: 100%|██████████| 1/1 [00:00<00:00,  4.49it/s]\n"
          ]
        },
        {
          "name": "stdout",
          "output_type": "stream",
          "text": [
            "'wiki_06_line_823' dosyasından 2 adet semantic chunk üretildi.\n"
          ]
        },
        {
          "name": "stderr",
          "output_type": "stream",
          "text": [
            "Batches: 100%|██████████| 1/1 [00:00<00:00,  1.43it/s]\n"
          ]
        },
        {
          "name": "stdout",
          "output_type": "stream",
          "text": [
            "'wiki_06_line_824' dosyasından 2 adet semantic chunk üretildi.\n"
          ]
        },
        {
          "name": "stderr",
          "output_type": "stream",
          "text": [
            "Batches: 100%|██████████| 1/1 [00:00<00:00,  5.17it/s]\n"
          ]
        },
        {
          "name": "stdout",
          "output_type": "stream",
          "text": [
            "'wiki_06_line_825' dosyasından 2 adet semantic chunk üretildi.\n"
          ]
        },
        {
          "name": "stderr",
          "output_type": "stream",
          "text": [
            "Batches: 100%|██████████| 1/1 [00:00<00:00,  2.44it/s]\n"
          ]
        },
        {
          "name": "stdout",
          "output_type": "stream",
          "text": [
            "'wiki_06_line_826' dosyasından 3 adet semantic chunk üretildi.\n"
          ]
        },
        {
          "name": "stderr",
          "output_type": "stream",
          "text": [
            "Batches: 100%|██████████| 1/1 [00:00<00:00,  5.60it/s]\n"
          ]
        },
        {
          "name": "stdout",
          "output_type": "stream",
          "text": [
            "'wiki_06_line_827' dosyasından 2 adet semantic chunk üretildi.\n"
          ]
        },
        {
          "name": "stderr",
          "output_type": "stream",
          "text": [
            "Batches: 100%|██████████| 1/1 [00:00<00:00,  1.26it/s]\n"
          ]
        },
        {
          "name": "stdout",
          "output_type": "stream",
          "text": [
            "'wiki_06_line_828' dosyasından 4 adet semantic chunk üretildi.\n"
          ]
        },
        {
          "name": "stderr",
          "output_type": "stream",
          "text": [
            "Batches: 100%|██████████| 1/1 [00:00<00:00,  4.10it/s]\n"
          ]
        },
        {
          "name": "stdout",
          "output_type": "stream",
          "text": [
            "'wiki_06_line_829' dosyasından 1 adet semantic chunk üretildi.\n"
          ]
        },
        {
          "name": "stderr",
          "output_type": "stream",
          "text": [
            "Batches: 100%|██████████| 1/1 [00:00<00:00,  2.60it/s]\n"
          ]
        },
        {
          "name": "stdout",
          "output_type": "stream",
          "text": [
            "'wiki_06_line_830' dosyasından 3 adet semantic chunk üretildi.\n"
          ]
        },
        {
          "name": "stderr",
          "output_type": "stream",
          "text": [
            "Batches: 100%|██████████| 1/1 [00:01<00:00,  1.61s/it]\n"
          ]
        },
        {
          "name": "stdout",
          "output_type": "stream",
          "text": [
            "'wiki_06_line_831' dosyasından 8 adet semantic chunk üretildi.\n",
            "Uyarı: 'wiki_06_line_832' dosyası boş veya sadece boşluk içeriyor.\n",
            "Uyarı: 'wiki_06_line_833' dosyası boş veya sadece boşluk içeriyor.\n",
            "Uyarı: 'wiki_06_line_834' dosyası boş veya sadece boşluk içeriyor.\n",
            "Uyarı: 'wiki_06_line_835' dosyası boş veya sadece boşluk içeriyor.\n",
            "Uyarı: 'wiki_06_line_836' dosyası boş veya sadece boşluk içeriyor.\n",
            "Uyarı: 'wiki_06_line_837' dosyası boş veya sadece boşluk içeriyor.\n",
            "Uyarı: 'wiki_06_line_838' dosyası boş veya sadece boşluk içeriyor.\n",
            "Uyarı: 'wiki_06_line_839' dosyası boş veya sadece boşluk içeriyor.\n",
            "Uyarı: 'wiki_06_line_840' dosyası boş veya sadece boşluk içeriyor.\n",
            "Uyarı: 'wiki_06_line_841' dosyası boş veya sadece boşluk içeriyor.\n",
            "Uyarı: 'wiki_06_line_842' dosyası boş veya sadece boşluk içeriyor.\n",
            "'wiki_06_line_843' dosyasından 1 adet semantic chunk üretildi.\n",
            "Uyarı: 'wiki_06_line_844' dosyası boş veya sadece boşluk içeriyor.\n",
            "Uyarı: 'wiki_06_line_845' dosyası boş veya sadece boşluk içeriyor.\n",
            "Uyarı: 'wiki_06_line_846' dosyası boş veya sadece boşluk içeriyor.\n",
            "Uyarı: 'wiki_06_line_847' dosyası boş veya sadece boşluk içeriyor.\n",
            "Uyarı: 'wiki_06_line_848' dosyası boş veya sadece boşluk içeriyor.\n",
            "Uyarı: 'wiki_06_line_849' dosyası boş veya sadece boşluk içeriyor.\n"
          ]
        },
        {
          "name": "stderr",
          "output_type": "stream",
          "text": [
            "Batches: 100%|██████████| 1/1 [00:00<00:00,  4.21it/s]\n"
          ]
        },
        {
          "name": "stdout",
          "output_type": "stream",
          "text": [
            "'wiki_06_line_850' dosyasından 1 adet semantic chunk üretildi.\n"
          ]
        },
        {
          "name": "stderr",
          "output_type": "stream",
          "text": [
            "Batches: 100%|██████████| 3/3 [00:06<00:00,  2.04s/it]\n"
          ]
        },
        {
          "name": "stdout",
          "output_type": "stream",
          "text": [
            "'wiki_06_line_851' dosyasından 16 adet semantic chunk üretildi.\n"
          ]
        },
        {
          "name": "stderr",
          "output_type": "stream",
          "text": [
            "Batches: 100%|██████████| 1/1 [00:01<00:00,  1.02s/it]\n"
          ]
        },
        {
          "name": "stdout",
          "output_type": "stream",
          "text": [
            "'wiki_06_line_852' dosyasından 4 adet semantic chunk üretildi.\n",
            "Uyarı: 'wiki_06_line_853' dosyası boş veya sadece boşluk içeriyor.\n",
            "Uyarı: 'wiki_06_line_854' dosyası boş veya sadece boşluk içeriyor.\n",
            "Uyarı: 'wiki_06_line_855' dosyası boş veya sadece boşluk içeriyor.\n",
            "Uyarı: 'wiki_06_line_856' dosyası boş veya sadece boşluk içeriyor.\n",
            "Uyarı: 'wiki_06_line_857' dosyası boş veya sadece boşluk içeriyor.\n",
            "Uyarı: 'wiki_06_line_858' dosyası boş veya sadece boşluk içeriyor.\n"
          ]
        },
        {
          "name": "stderr",
          "output_type": "stream",
          "text": [
            "Batches: 100%|██████████| 2/2 [00:03<00:00,  1.51s/it]\n"
          ]
        },
        {
          "name": "stdout",
          "output_type": "stream",
          "text": [
            "'wiki_06_line_859' dosyasından 14 adet semantic chunk üretildi.\n",
            "Uyarı: 'wiki_06_line_860' dosyası boş veya sadece boşluk içeriyor.\n",
            "Uyarı: 'wiki_06_line_861' dosyası boş veya sadece boşluk içeriyor.\n",
            "Uyarı: 'wiki_06_line_862' dosyası boş veya sadece boşluk içeriyor.\n",
            "Uyarı: 'wiki_06_line_863' dosyası boş veya sadece boşluk içeriyor.\n",
            "Uyarı: 'wiki_06_line_864' dosyası boş veya sadece boşluk içeriyor.\n",
            "Uyarı: 'wiki_06_line_865' dosyası boş veya sadece boşluk içeriyor.\n",
            "Uyarı: 'wiki_06_line_866' dosyası boş veya sadece boşluk içeriyor.\n",
            "Uyarı: 'wiki_06_line_867' dosyası boş veya sadece boşluk içeriyor.\n",
            "Uyarı: 'wiki_06_line_868' dosyası boş veya sadece boşluk içeriyor.\n",
            "Uyarı: 'wiki_06_line_869' dosyası boş veya sadece boşluk içeriyor.\n",
            "Uyarı: 'wiki_06_line_870' dosyası boş veya sadece boşluk içeriyor.\n",
            "Uyarı: 'wiki_06_line_871' dosyası boş veya sadece boşluk içeriyor.\n",
            "Uyarı: 'wiki_06_line_872' dosyası boş veya sadece boşluk içeriyor.\n",
            "Uyarı: 'wiki_06_line_873' dosyası boş veya sadece boşluk içeriyor.\n",
            "Uyarı: 'wiki_06_line_874' dosyası boş veya sadece boşluk içeriyor.\n",
            "Uyarı: 'wiki_06_line_875' dosyası boş veya sadece boşluk içeriyor.\n",
            "Uyarı: 'wiki_06_line_876' dosyası boş veya sadece boşluk içeriyor.\n",
            "'wiki_06_line_877' dosyasından 1 adet semantic chunk üretildi.\n",
            "'wiki_06_line_878' dosyasından 1 adet semantic chunk üretildi.\n",
            "Uyarı: 'wiki_06_line_879' dosyası boş veya sadece boşluk içeriyor.\n",
            "Uyarı: 'wiki_06_line_880' dosyası boş veya sadece boşluk içeriyor.\n",
            "Uyarı: 'wiki_06_line_881' dosyası boş veya sadece boşluk içeriyor.\n",
            "Uyarı: 'wiki_06_line_882' dosyası boş veya sadece boşluk içeriyor.\n",
            "Uyarı: 'wiki_06_line_883' dosyası boş veya sadece boşluk içeriyor.\n",
            "Uyarı: 'wiki_06_line_884' dosyası boş veya sadece boşluk içeriyor.\n",
            "Uyarı: 'wiki_06_line_885' dosyası boş veya sadece boşluk içeriyor.\n",
            "Uyarı: 'wiki_06_line_886' dosyası boş veya sadece boşluk içeriyor.\n",
            "Uyarı: 'wiki_06_line_887' dosyası boş veya sadece boşluk içeriyor.\n",
            "Uyarı: 'wiki_06_line_888' dosyası boş veya sadece boşluk içeriyor.\n",
            "Uyarı: 'wiki_06_line_889' dosyası boş veya sadece boşluk içeriyor.\n",
            "Uyarı: 'wiki_06_line_890' dosyası boş veya sadece boşluk içeriyor.\n",
            "Uyarı: 'wiki_06_line_891' dosyası boş veya sadece boşluk içeriyor.\n",
            "Uyarı: 'wiki_06_line_892' dosyası boş veya sadece boşluk içeriyor.\n",
            "Uyarı: 'wiki_06_line_893' dosyası boş veya sadece boşluk içeriyor.\n",
            "Uyarı: 'wiki_06_line_894' dosyası boş veya sadece boşluk içeriyor.\n",
            "Uyarı: 'wiki_06_line_895' dosyası boş veya sadece boşluk içeriyor.\n",
            "Uyarı: 'wiki_06_line_896' dosyası boş veya sadece boşluk içeriyor.\n",
            "Uyarı: 'wiki_06_line_897' dosyası boş veya sadece boşluk içeriyor.\n",
            "Uyarı: 'wiki_06_line_898' dosyası boş veya sadece boşluk içeriyor.\n",
            "Uyarı: 'wiki_06_line_899' dosyası boş veya sadece boşluk içeriyor.\n",
            "Uyarı: 'wiki_06_line_900' dosyası boş veya sadece boşluk içeriyor.\n",
            "Uyarı: 'wiki_06_line_901' dosyası boş veya sadece boşluk içeriyor.\n",
            "Uyarı: 'wiki_06_line_902' dosyası boş veya sadece boşluk içeriyor.\n",
            "Uyarı: 'wiki_06_line_903' dosyası boş veya sadece boşluk içeriyor.\n",
            "Uyarı: 'wiki_06_line_904' dosyası boş veya sadece boşluk içeriyor.\n",
            "Uyarı: 'wiki_06_line_905' dosyası boş veya sadece boşluk içeriyor.\n",
            "Uyarı: 'wiki_06_line_906' dosyası boş veya sadece boşluk içeriyor.\n",
            "Uyarı: 'wiki_06_line_907' dosyası boş veya sadece boşluk içeriyor.\n",
            "Uyarı: 'wiki_06_line_908' dosyası boş veya sadece boşluk içeriyor.\n",
            "Uyarı: 'wiki_06_line_909' dosyası boş veya sadece boşluk içeriyor.\n",
            "Uyarı: 'wiki_06_line_910' dosyası boş veya sadece boşluk içeriyor.\n",
            "Uyarı: 'wiki_06_line_911' dosyası boş veya sadece boşluk içeriyor.\n",
            "Uyarı: 'wiki_06_line_912' dosyası boş veya sadece boşluk içeriyor.\n",
            "Uyarı: 'wiki_06_line_913' dosyası boş veya sadece boşluk içeriyor.\n",
            "Uyarı: 'wiki_06_line_914' dosyası boş veya sadece boşluk içeriyor.\n",
            "Uyarı: 'wiki_06_line_915' dosyası boş veya sadece boşluk içeriyor.\n",
            "Uyarı: 'wiki_06_line_916' dosyası boş veya sadece boşluk içeriyor.\n",
            "Uyarı: 'wiki_06_line_917' dosyası boş veya sadece boşluk içeriyor.\n",
            "Uyarı: 'wiki_06_line_918' dosyası boş veya sadece boşluk içeriyor.\n",
            "Uyarı: 'wiki_06_line_919' dosyası boş veya sadece boşluk içeriyor.\n",
            "Uyarı: 'wiki_06_line_920' dosyası boş veya sadece boşluk içeriyor.\n",
            "Uyarı: 'wiki_06_line_921' dosyası boş veya sadece boşluk içeriyor.\n",
            "Uyarı: 'wiki_06_line_922' dosyası boş veya sadece boşluk içeriyor.\n",
            "Uyarı: 'wiki_06_line_923' dosyası boş veya sadece boşluk içeriyor.\n",
            "Uyarı: 'wiki_06_line_924' dosyası boş veya sadece boşluk içeriyor.\n",
            "Uyarı: 'wiki_06_line_925' dosyası boş veya sadece boşluk içeriyor.\n",
            "Uyarı: 'wiki_06_line_926' dosyası boş veya sadece boşluk içeriyor.\n",
            "Uyarı: 'wiki_06_line_927' dosyası boş veya sadece boşluk içeriyor.\n"
          ]
        },
        {
          "name": "stderr",
          "output_type": "stream",
          "text": [
            "Batches: 100%|██████████| 1/1 [00:02<00:00,  2.32s/it]\n"
          ]
        },
        {
          "name": "stdout",
          "output_type": "stream",
          "text": [
            "'wiki_06_line_928' dosyasından 12 adet semantic chunk üretildi.\n",
            "Uyarı: 'wiki_06_line_929' dosyası boş veya sadece boşluk içeriyor.\n",
            "Uyarı: 'wiki_06_line_930' dosyası boş veya sadece boşluk içeriyor.\n",
            "Uyarı: 'wiki_06_line_931' dosyası boş veya sadece boşluk içeriyor.\n",
            "Uyarı: 'wiki_06_line_932' dosyası boş veya sadece boşluk içeriyor.\n",
            "Uyarı: 'wiki_06_line_933' dosyası boş veya sadece boşluk içeriyor.\n",
            "Uyarı: 'wiki_06_line_934' dosyası boş veya sadece boşluk içeriyor.\n",
            "Uyarı: 'wiki_06_line_935' dosyası boş veya sadece boşluk içeriyor.\n",
            "Uyarı: 'wiki_06_line_936' dosyası boş veya sadece boşluk içeriyor.\n",
            "Uyarı: 'wiki_06_line_937' dosyası boş veya sadece boşluk içeriyor.\n",
            "Uyarı: 'wiki_06_line_938' dosyası boş veya sadece boşluk içeriyor.\n",
            "Uyarı: 'wiki_06_line_939' dosyası boş veya sadece boşluk içeriyor.\n",
            "Uyarı: 'wiki_06_line_940' dosyası boş veya sadece boşluk içeriyor.\n",
            "Uyarı: 'wiki_06_line_941' dosyası boş veya sadece boşluk içeriyor.\n",
            "Uyarı: 'wiki_06_line_942' dosyası boş veya sadece boşluk içeriyor.\n",
            "Uyarı: 'wiki_06_line_943' dosyası boş veya sadece boşluk içeriyor.\n",
            "Uyarı: 'wiki_06_line_944' dosyası boş veya sadece boşluk içeriyor.\n",
            "Uyarı: 'wiki_06_line_945' dosyası boş veya sadece boşluk içeriyor.\n",
            "Uyarı: 'wiki_06_line_946' dosyası boş veya sadece boşluk içeriyor.\n",
            "Uyarı: 'wiki_06_line_947' dosyası boş veya sadece boşluk içeriyor.\n",
            "Uyarı: 'wiki_06_line_948' dosyası boş veya sadece boşluk içeriyor.\n",
            "Uyarı: 'wiki_06_line_949' dosyası boş veya sadece boşluk içeriyor.\n",
            "Uyarı: 'wiki_06_line_950' dosyası boş veya sadece boşluk içeriyor.\n",
            "Uyarı: 'wiki_06_line_951' dosyası boş veya sadece boşluk içeriyor.\n",
            "Uyarı: 'wiki_06_line_952' dosyası boş veya sadece boşluk içeriyor.\n",
            "Uyarı: 'wiki_06_line_953' dosyası boş veya sadece boşluk içeriyor.\n",
            "Uyarı: 'wiki_06_line_954' dosyası boş veya sadece boşluk içeriyor.\n",
            "Uyarı: 'wiki_06_line_955' dosyası boş veya sadece boşluk içeriyor.\n",
            "Uyarı: 'wiki_06_line_956' dosyası boş veya sadece boşluk içeriyor.\n",
            "Uyarı: 'wiki_06_line_957' dosyası boş veya sadece boşluk içeriyor.\n",
            "Uyarı: 'wiki_06_line_958' dosyası boş veya sadece boşluk içeriyor.\n",
            "Uyarı: 'wiki_06_line_959' dosyası boş veya sadece boşluk içeriyor.\n",
            "Uyarı: 'wiki_06_line_960' dosyası boş veya sadece boşluk içeriyor.\n",
            "Uyarı: 'wiki_06_line_961' dosyası boş veya sadece boşluk içeriyor.\n",
            "Uyarı: 'wiki_06_line_962' dosyası boş veya sadece boşluk içeriyor.\n",
            "Uyarı: 'wiki_06_line_963' dosyası boş veya sadece boşluk içeriyor.\n",
            "Uyarı: 'wiki_06_line_964' dosyası boş veya sadece boşluk içeriyor.\n",
            "Uyarı: 'wiki_06_line_965' dosyası boş veya sadece boşluk içeriyor.\n",
            "Uyarı: 'wiki_06_line_966' dosyası boş veya sadece boşluk içeriyor.\n",
            "Uyarı: 'wiki_06_line_967' dosyası boş veya sadece boşluk içeriyor.\n",
            "Uyarı: 'wiki_06_line_968' dosyası boş veya sadece boşluk içeriyor.\n",
            "Uyarı: 'wiki_06_line_969' dosyası boş veya sadece boşluk içeriyor.\n",
            "Uyarı: 'wiki_06_line_970' dosyası boş veya sadece boşluk içeriyor.\n",
            "Uyarı: 'wiki_06_line_971' dosyası boş veya sadece boşluk içeriyor.\n",
            "Uyarı: 'wiki_06_line_972' dosyası boş veya sadece boşluk içeriyor.\n",
            "'wiki_06_line_973' dosyasından 1 adet semantic chunk üretildi.\n",
            "Uyarı: 'wiki_06_line_974' dosyası boş veya sadece boşluk içeriyor.\n",
            "Uyarı: 'wiki_06_line_975' dosyası boş veya sadece boşluk içeriyor.\n",
            "Uyarı: 'wiki_06_line_976' dosyası boş veya sadece boşluk içeriyor.\n",
            "Uyarı: 'wiki_06_line_977' dosyası boş veya sadece boşluk içeriyor.\n",
            "Uyarı: 'wiki_06_line_978' dosyası boş veya sadece boşluk içeriyor.\n",
            "Uyarı: 'wiki_06_line_979' dosyası boş veya sadece boşluk içeriyor.\n",
            "Uyarı: 'wiki_06_line_980' dosyası boş veya sadece boşluk içeriyor.\n",
            "Uyarı: 'wiki_06_line_981' dosyası boş veya sadece boşluk içeriyor.\n",
            "Uyarı: 'wiki_06_line_982' dosyası boş veya sadece boşluk içeriyor.\n"
          ]
        },
        {
          "name": "stderr",
          "output_type": "stream",
          "text": [
            "Batches: 100%|██████████| 1/1 [00:00<00:00,  1.61it/s]\n"
          ]
        },
        {
          "name": "stdout",
          "output_type": "stream",
          "text": [
            "'wiki_06_line_983' dosyasından 3 adet semantic chunk üretildi.\n",
            "Uyarı: 'wiki_06_line_984' dosyası boş veya sadece boşluk içeriyor.\n",
            "Uyarı: 'wiki_06_line_985' dosyası boş veya sadece boşluk içeriyor.\n"
          ]
        },
        {
          "name": "stderr",
          "output_type": "stream",
          "text": [
            "Batches: 100%|██████████| 2/2 [00:03<00:00,  1.89s/it]\n"
          ]
        },
        {
          "name": "stdout",
          "output_type": "stream",
          "text": [
            "'wiki_06_line_986' dosyasından 15 adet semantic chunk üretildi.\n"
          ]
        },
        {
          "name": "stderr",
          "output_type": "stream",
          "text": [
            "Batches: 100%|██████████| 1/1 [00:00<00:00,  2.05it/s]\n"
          ]
        },
        {
          "name": "stdout",
          "output_type": "stream",
          "text": [
            "'wiki_06_line_987' dosyasından 2 adet semantic chunk üretildi.\n"
          ]
        },
        {
          "name": "stderr",
          "output_type": "stream",
          "text": [
            "Batches: 100%|██████████| 2/2 [00:03<00:00,  1.96s/it]\n"
          ]
        },
        {
          "name": "stdout",
          "output_type": "stream",
          "text": [
            "'wiki_06_line_988' dosyasından 23 adet semantic chunk üretildi.\n"
          ]
        },
        {
          "name": "stderr",
          "output_type": "stream",
          "text": [
            "Batches: 100%|██████████| 1/1 [00:00<00:00,  5.23it/s]\n"
          ]
        },
        {
          "name": "stdout",
          "output_type": "stream",
          "text": [
            "'wiki_06_line_989' dosyasından 2 adet semantic chunk üretildi.\n"
          ]
        },
        {
          "name": "stderr",
          "output_type": "stream",
          "text": [
            "Batches: 100%|██████████| 1/1 [00:00<00:00,  6.13it/s]\n"
          ]
        },
        {
          "name": "stdout",
          "output_type": "stream",
          "text": [
            "'wiki_06_line_990' dosyasından 2 adet semantic chunk üretildi.\n"
          ]
        },
        {
          "name": "stderr",
          "output_type": "stream",
          "text": [
            "Batches: 100%|██████████| 1/1 [00:01<00:00,  1.22s/it]\n"
          ]
        },
        {
          "name": "stdout",
          "output_type": "stream",
          "text": [
            "'wiki_06_line_991' dosyasından 3 adet semantic chunk üretildi.\n",
            "Uyarı: 'wiki_06_line_992' dosyası boş veya sadece boşluk içeriyor.\n"
          ]
        },
        {
          "name": "stderr",
          "output_type": "stream",
          "text": [
            "Batches: 100%|██████████| 1/1 [00:02<00:00,  2.53s/it]\n"
          ]
        },
        {
          "name": "stdout",
          "output_type": "stream",
          "text": [
            "'wiki_06_line_993' dosyasından 6 adet semantic chunk üretildi.\n"
          ]
        },
        {
          "name": "stderr",
          "output_type": "stream",
          "text": [
            "Batches: 100%|██████████| 1/1 [00:00<00:00,  2.37it/s]\n"
          ]
        },
        {
          "name": "stdout",
          "output_type": "stream",
          "text": [
            "'wiki_06_line_994' dosyasından 1 adet semantic chunk üretildi.\n"
          ]
        },
        {
          "name": "stderr",
          "output_type": "stream",
          "text": [
            "Batches: 100%|██████████| 3/3 [00:08<00:00,  2.97s/it]\n"
          ]
        },
        {
          "name": "stdout",
          "output_type": "stream",
          "text": [
            "'wiki_06_line_995' dosyasından 30 adet semantic chunk üretildi.\n"
          ]
        },
        {
          "name": "stderr",
          "output_type": "stream",
          "text": [
            "Batches: 100%|██████████| 1/1 [00:02<00:00,  2.52s/it]\n"
          ]
        },
        {
          "name": "stdout",
          "output_type": "stream",
          "text": [
            "'wiki_06_line_996' dosyasından 12 adet semantic chunk üretildi.\n"
          ]
        },
        {
          "name": "stderr",
          "output_type": "stream",
          "text": [
            "Batches: 100%|██████████| 1/1 [00:01<00:00,  1.04s/it]\n"
          ]
        },
        {
          "name": "stdout",
          "output_type": "stream",
          "text": [
            "'wiki_06_line_997' dosyasından 5 adet semantic chunk üretildi.\n"
          ]
        },
        {
          "name": "stderr",
          "output_type": "stream",
          "text": [
            "Batches: 100%|██████████| 1/1 [00:00<00:00,  1.03it/s]\n"
          ]
        },
        {
          "name": "stdout",
          "output_type": "stream",
          "text": [
            "'wiki_06_line_998' dosyasından 4 adet semantic chunk üretildi.\n",
            "Uyarı: 'wiki_06_line_999' dosyası boş veya sadece boşluk içeriyor.\n",
            "'wiki_06_line_1000' dosyasından 1 adet semantic chunk üretildi.\n"
          ]
        },
        {
          "name": "stderr",
          "output_type": "stream",
          "text": [
            "Batches: 100%|██████████| 1/1 [00:00<00:00,  4.62it/s]\n"
          ]
        },
        {
          "name": "stdout",
          "output_type": "stream",
          "text": [
            "'wiki_06_line_1001' dosyasından 2 adet semantic chunk üretildi.\n"
          ]
        },
        {
          "name": "stderr",
          "output_type": "stream",
          "text": [
            "Batches: 100%|██████████| 1/1 [00:00<00:00,  4.56it/s]\n"
          ]
        },
        {
          "name": "stdout",
          "output_type": "stream",
          "text": [
            "'wiki_06_line_1002' dosyasından 1 adet semantic chunk üretildi.\n"
          ]
        },
        {
          "name": "stderr",
          "output_type": "stream",
          "text": [
            "Batches: 100%|██████████| 1/1 [00:02<00:00,  2.79s/it]\n"
          ]
        },
        {
          "name": "stdout",
          "output_type": "stream",
          "text": [
            "'wiki_06_line_1003' dosyasından 7 adet semantic chunk üretildi.\n"
          ]
        },
        {
          "name": "stderr",
          "output_type": "stream",
          "text": [
            "Batches: 100%|██████████| 1/1 [00:01<00:00,  1.89s/it]\n"
          ]
        },
        {
          "name": "stdout",
          "output_type": "stream",
          "text": [
            "'wiki_06_line_1004' dosyasından 10 adet semantic chunk üretildi.\n",
            "'wiki_06_line_1005' dosyasından 1 adet semantic chunk üretildi.\n"
          ]
        },
        {
          "name": "stderr",
          "output_type": "stream",
          "text": [
            "Batches: 100%|██████████| 1/1 [00:01<00:00,  1.38s/it]\n"
          ]
        },
        {
          "name": "stdout",
          "output_type": "stream",
          "text": [
            "'wiki_06_line_1006' dosyasından 6 adet semantic chunk üretildi.\n"
          ]
        },
        {
          "name": "stderr",
          "output_type": "stream",
          "text": [
            "Batches: 100%|██████████| 1/1 [00:01<00:00,  1.16s/it]\n"
          ]
        },
        {
          "name": "stdout",
          "output_type": "stream",
          "text": [
            "'wiki_06_line_1007' dosyasından 5 adet semantic chunk üretildi.\n",
            "Uyarı: 'wiki_06_line_1008' dosyası boş veya sadece boşluk içeriyor.\n"
          ]
        },
        {
          "name": "stderr",
          "output_type": "stream",
          "text": [
            "Batches: 100%|██████████| 1/1 [00:00<00:00,  5.27it/s]\n"
          ]
        },
        {
          "name": "stdout",
          "output_type": "stream",
          "text": [
            "'wiki_06_line_1009' dosyasından 2 adet semantic chunk üretildi.\n"
          ]
        },
        {
          "name": "stderr",
          "output_type": "stream",
          "text": [
            "Batches: 100%|██████████| 1/1 [00:00<00:00,  1.51it/s]\n"
          ]
        },
        {
          "name": "stdout",
          "output_type": "stream",
          "text": [
            "'wiki_06_line_1010' dosyasından 3 adet semantic chunk üretildi.\n"
          ]
        },
        {
          "name": "stderr",
          "output_type": "stream",
          "text": [
            "Batches: 100%|██████████| 1/1 [00:00<00:00,  1.35it/s]\n"
          ]
        },
        {
          "name": "stdout",
          "output_type": "stream",
          "text": [
            "'wiki_06_line_1011' dosyasından 5 adet semantic chunk üretildi.\n"
          ]
        },
        {
          "name": "stderr",
          "output_type": "stream",
          "text": [
            "Batches: 100%|██████████| 2/2 [00:04<00:00,  2.03s/it]\n"
          ]
        },
        {
          "name": "stdout",
          "output_type": "stream",
          "text": [
            "'wiki_06_line_1012' dosyasından 14 adet semantic chunk üretildi.\n",
            "Uyarı: 'wiki_06_line_1013' dosyası boş veya sadece boşluk içeriyor.\n"
          ]
        },
        {
          "name": "stderr",
          "output_type": "stream",
          "text": [
            "Batches: 100%|██████████| 2/2 [00:05<00:00,  2.57s/it]\n"
          ]
        },
        {
          "name": "stdout",
          "output_type": "stream",
          "text": [
            "'wiki_06_line_1014' dosyasından 34 adet semantic chunk üretildi.\n"
          ]
        },
        {
          "name": "stderr",
          "output_type": "stream",
          "text": [
            "Batches: 100%|██████████| 1/1 [00:02<00:00,  2.01s/it]\n"
          ]
        },
        {
          "name": "stdout",
          "output_type": "stream",
          "text": [
            "'wiki_06_line_1015' dosyasından 10 adet semantic chunk üretildi.\n"
          ]
        },
        {
          "name": "stderr",
          "output_type": "stream",
          "text": [
            "Batches: 100%|██████████| 1/1 [00:00<00:00,  4.90it/s]\n"
          ]
        },
        {
          "name": "stdout",
          "output_type": "stream",
          "text": [
            "'wiki_06_line_1016' dosyasından 2 adet semantic chunk üretildi.\n"
          ]
        },
        {
          "name": "stderr",
          "output_type": "stream",
          "text": [
            "Batches: 100%|██████████| 1/1 [00:00<00:00,  3.91it/s]\n"
          ]
        },
        {
          "name": "stdout",
          "output_type": "stream",
          "text": [
            "'wiki_06_line_1017' dosyasından 1 adet semantic chunk üretildi.\n"
          ]
        },
        {
          "name": "stderr",
          "output_type": "stream",
          "text": [
            "Batches: 100%|██████████| 1/1 [00:00<00:00,  1.35it/s]\n"
          ]
        },
        {
          "name": "stdout",
          "output_type": "stream",
          "text": [
            "'wiki_07_line_0' dosyasından 2 adet semantic chunk üretildi.\n"
          ]
        },
        {
          "name": "stderr",
          "output_type": "stream",
          "text": [
            "Batches: 100%|██████████| 1/1 [00:01<00:00,  1.18s/it]\n"
          ]
        },
        {
          "name": "stdout",
          "output_type": "stream",
          "text": [
            "'wiki_07_line_1' dosyasından 4 adet semantic chunk üretildi.\n"
          ]
        },
        {
          "name": "stderr",
          "output_type": "stream",
          "text": [
            "Batches: 100%|██████████| 1/1 [00:00<00:00,  1.32it/s]\n"
          ]
        },
        {
          "name": "stdout",
          "output_type": "stream",
          "text": [
            "'wiki_07_line_2' dosyasından 3 adet semantic chunk üretildi.\n"
          ]
        },
        {
          "name": "stderr",
          "output_type": "stream",
          "text": [
            "Batches: 100%|██████████| 1/1 [00:00<00:00,  2.54it/s]\n"
          ]
        },
        {
          "name": "stdout",
          "output_type": "stream",
          "text": [
            "'wiki_07_line_3' dosyasından 2 adet semantic chunk üretildi.\n",
            "'wiki_07_line_4' dosyasından 1 adet semantic chunk üretildi.\n",
            "'wiki_07_line_5' dosyasından 1 adet semantic chunk üretildi.\n"
          ]
        },
        {
          "name": "stderr",
          "output_type": "stream",
          "text": [
            "Batches: 100%|██████████| 2/2 [00:03<00:00,  1.81s/it]\n"
          ]
        },
        {
          "name": "stdout",
          "output_type": "stream",
          "text": [
            "'wiki_07_line_6' dosyasından 13 adet semantic chunk üretildi.\n"
          ]
        },
        {
          "name": "stderr",
          "output_type": "stream",
          "text": [
            "Batches: 100%|██████████| 2/2 [00:04<00:00,  2.23s/it]\n"
          ]
        },
        {
          "name": "stdout",
          "output_type": "stream",
          "text": [
            "'wiki_07_line_7' dosyasından 24 adet semantic chunk üretildi.\n"
          ]
        },
        {
          "name": "stderr",
          "output_type": "stream",
          "text": [
            "Batches: 100%|██████████| 1/1 [00:00<00:00,  1.01it/s]\n"
          ]
        },
        {
          "name": "stdout",
          "output_type": "stream",
          "text": [
            "'wiki_07_line_8' dosyasından 9 adet semantic chunk üretildi.\n",
            "'wiki_07_line_9' dosyasından 1 adet semantic chunk üretildi.\n",
            "Uyarı: 'wiki_07_line_10' dosyası boş veya sadece boşluk içeriyor.\n",
            "Uyarı: 'wiki_07_line_11' dosyası boş veya sadece boşluk içeriyor.\n"
          ]
        },
        {
          "name": "stderr",
          "output_type": "stream",
          "text": [
            "Batches: 100%|██████████| 1/1 [00:00<00:00,  1.36it/s]\n"
          ]
        },
        {
          "name": "stdout",
          "output_type": "stream",
          "text": [
            "'wiki_07_line_12' dosyasından 4 adet semantic chunk üretildi.\n"
          ]
        },
        {
          "name": "stderr",
          "output_type": "stream",
          "text": [
            "Batches: 100%|██████████| 1/1 [00:00<00:00,  3.46it/s]\n"
          ]
        },
        {
          "name": "stdout",
          "output_type": "stream",
          "text": [
            "'wiki_07_line_13' dosyasından 2 adet semantic chunk üretildi.\n"
          ]
        },
        {
          "name": "stderr",
          "output_type": "stream",
          "text": [
            "Batches: 100%|██████████| 1/1 [00:00<00:00,  4.54it/s]\n"
          ]
        },
        {
          "name": "stdout",
          "output_type": "stream",
          "text": [
            "'wiki_07_line_14' dosyasından 2 adet semantic chunk üretildi.\n"
          ]
        },
        {
          "name": "stderr",
          "output_type": "stream",
          "text": [
            "Batches: 100%|██████████| 4/4 [00:10<00:00,  2.66s/it]\n"
          ]
        },
        {
          "name": "stdout",
          "output_type": "stream",
          "text": [
            "'wiki_07_line_15' dosyasından 57 adet semantic chunk üretildi.\n"
          ]
        },
        {
          "name": "stderr",
          "output_type": "stream",
          "text": [
            "Batches: 100%|██████████| 1/1 [00:00<00:00,  5.12it/s]\n"
          ]
        },
        {
          "name": "stdout",
          "output_type": "stream",
          "text": [
            "'wiki_07_line_16' dosyasından 1 adet semantic chunk üretildi.\n"
          ]
        },
        {
          "name": "stderr",
          "output_type": "stream",
          "text": [
            "Batches: 100%|██████████| 1/1 [00:00<00:00,  3.39it/s]\n"
          ]
        },
        {
          "name": "stdout",
          "output_type": "stream",
          "text": [
            "'wiki_07_line_17' dosyasından 2 adet semantic chunk üretildi.\n"
          ]
        },
        {
          "name": "stderr",
          "output_type": "stream",
          "text": [
            "Batches: 100%|██████████| 2/2 [00:04<00:00,  2.38s/it]\n"
          ]
        },
        {
          "name": "stdout",
          "output_type": "stream",
          "text": [
            "'wiki_07_line_18' dosyasından 18 adet semantic chunk üretildi.\n"
          ]
        },
        {
          "name": "stderr",
          "output_type": "stream",
          "text": [
            "Batches: 100%|██████████| 1/1 [00:00<00:00,  2.32it/s]\n"
          ]
        },
        {
          "name": "stdout",
          "output_type": "stream",
          "text": [
            "'wiki_07_line_19' dosyasından 2 adet semantic chunk üretildi.\n"
          ]
        },
        {
          "name": "stderr",
          "output_type": "stream",
          "text": [
            "Batches: 100%|██████████| 1/1 [00:00<00:00,  1.18it/s]\n"
          ]
        },
        {
          "name": "stdout",
          "output_type": "stream",
          "text": [
            "'wiki_07_line_20' dosyasından 6 adet semantic chunk üretildi.\n"
          ]
        },
        {
          "name": "stderr",
          "output_type": "stream",
          "text": [
            "Batches: 100%|██████████| 2/2 [00:03<00:00,  1.58s/it]\n"
          ]
        },
        {
          "name": "stdout",
          "output_type": "stream",
          "text": [
            "'wiki_07_line_21' dosyasından 14 adet semantic chunk üretildi.\n",
            "'wiki_07_line_22' dosyasından 1 adet semantic chunk üretildi.\n"
          ]
        },
        {
          "name": "stderr",
          "output_type": "stream",
          "text": [
            "Batches: 100%|██████████| 1/1 [00:00<00:00,  2.11it/s]\n"
          ]
        },
        {
          "name": "stdout",
          "output_type": "stream",
          "text": [
            "'wiki_07_line_23' dosyasından 3 adet semantic chunk üretildi.\n"
          ]
        },
        {
          "name": "stderr",
          "output_type": "stream",
          "text": [
            "Batches: 100%|██████████| 1/1 [00:01<00:00,  1.79s/it]\n"
          ]
        },
        {
          "name": "stdout",
          "output_type": "stream",
          "text": [
            "'wiki_07_line_24' dosyasından 4 adet semantic chunk üretildi.\n",
            "Uyarı: 'wiki_07_line_25' dosyası boş veya sadece boşluk içeriyor.\n"
          ]
        },
        {
          "name": "stderr",
          "output_type": "stream",
          "text": [
            "Batches: 100%|██████████| 1/1 [00:00<00:00,  1.12it/s]\n"
          ]
        },
        {
          "name": "stdout",
          "output_type": "stream",
          "text": [
            "'wiki_07_line_26' dosyasından 6 adet semantic chunk üretildi.\n"
          ]
        },
        {
          "name": "stderr",
          "output_type": "stream",
          "text": [
            "Batches: 100%|██████████| 1/1 [00:00<00:00,  3.38it/s]\n"
          ]
        },
        {
          "name": "stdout",
          "output_type": "stream",
          "text": [
            "'wiki_07_line_27' dosyasından 1 adet semantic chunk üretildi.\n"
          ]
        },
        {
          "name": "stderr",
          "output_type": "stream",
          "text": [
            "Batches: 100%|██████████| 1/1 [00:00<00:00,  1.19it/s]\n"
          ]
        },
        {
          "name": "stdout",
          "output_type": "stream",
          "text": [
            "'wiki_07_line_28' dosyasından 4 adet semantic chunk üretildi.\n"
          ]
        },
        {
          "name": "stderr",
          "output_type": "stream",
          "text": [
            "Batches: 100%|██████████| 1/1 [00:00<00:00,  1.03it/s]\n"
          ]
        },
        {
          "name": "stdout",
          "output_type": "stream",
          "text": [
            "'wiki_07_line_29' dosyasından 7 adet semantic chunk üretildi.\n"
          ]
        },
        {
          "name": "stderr",
          "output_type": "stream",
          "text": [
            "Batches: 100%|██████████| 1/1 [00:00<00:00,  1.35it/s]\n"
          ]
        },
        {
          "name": "stdout",
          "output_type": "stream",
          "text": [
            "'wiki_07_line_30' dosyasından 4 adet semantic chunk üretildi.\n"
          ]
        },
        {
          "name": "stderr",
          "output_type": "stream",
          "text": [
            "Batches: 100%|██████████| 1/1 [00:02<00:00,  2.24s/it]\n"
          ]
        },
        {
          "name": "stdout",
          "output_type": "stream",
          "text": [
            "'wiki_07_line_31' dosyasından 9 adet semantic chunk üretildi.\n",
            "Uyarı: 'wiki_07_line_32' dosyası boş veya sadece boşluk içeriyor.\n"
          ]
        },
        {
          "name": "stderr",
          "output_type": "stream",
          "text": [
            "Batches: 100%|██████████| 1/1 [00:01<00:00,  1.18s/it]\n"
          ]
        },
        {
          "name": "stdout",
          "output_type": "stream",
          "text": [
            "'wiki_07_line_33' dosyasından 8 adet semantic chunk üretildi.\n",
            "Uyarı: 'wiki_07_line_34' dosyası boş veya sadece boşluk içeriyor.\n"
          ]
        },
        {
          "name": "stderr",
          "output_type": "stream",
          "text": [
            "Batches: 100%|██████████| 1/1 [00:02<00:00,  2.08s/it]\n"
          ]
        },
        {
          "name": "stdout",
          "output_type": "stream",
          "text": [
            "'wiki_07_line_35' dosyasından 8 adet semantic chunk üretildi.\n"
          ]
        },
        {
          "name": "stderr",
          "output_type": "stream",
          "text": [
            "Batches: 100%|██████████| 1/1 [00:02<00:00,  2.67s/it]\n"
          ]
        },
        {
          "name": "stdout",
          "output_type": "stream",
          "text": [
            "'wiki_07_line_36' dosyasından 10 adet semantic chunk üretildi.\n"
          ]
        },
        {
          "name": "stderr",
          "output_type": "stream",
          "text": [
            "Batches: 100%|██████████| 1/1 [00:02<00:00,  2.36s/it]\n"
          ]
        },
        {
          "name": "stdout",
          "output_type": "stream",
          "text": [
            "'wiki_07_line_37' dosyasından 14 adet semantic chunk üretildi.\n"
          ]
        },
        {
          "name": "stderr",
          "output_type": "stream",
          "text": [
            "Batches: 100%|██████████| 5/5 [00:14<00:00,  2.80s/it]\n"
          ]
        },
        {
          "name": "stdout",
          "output_type": "stream",
          "text": [
            "'wiki_07_line_38' dosyasından 45 adet semantic chunk üretildi.\n"
          ]
        },
        {
          "name": "stderr",
          "output_type": "stream",
          "text": [
            "Batches: 100%|██████████| 1/1 [00:01<00:00,  1.91s/it]\n"
          ]
        },
        {
          "name": "stdout",
          "output_type": "stream",
          "text": [
            "'wiki_07_line_39' dosyasından 7 adet semantic chunk üretildi.\n"
          ]
        },
        {
          "name": "stderr",
          "output_type": "stream",
          "text": [
            "Batches: 100%|██████████| 1/1 [00:01<00:00,  1.16s/it]\n"
          ]
        },
        {
          "name": "stdout",
          "output_type": "stream",
          "text": [
            "'wiki_07_line_40' dosyasından 9 adet semantic chunk üretildi.\n"
          ]
        },
        {
          "name": "stderr",
          "output_type": "stream",
          "text": [
            "Batches: 100%|██████████| 1/1 [00:00<00:00,  1.71it/s]\n"
          ]
        },
        {
          "name": "stdout",
          "output_type": "stream",
          "text": [
            "'wiki_07_line_41' dosyasından 1 adet semantic chunk üretildi.\n",
            "'wiki_07_line_42' dosyasından 1 adet semantic chunk üretildi.\n",
            "Uyarı: 'wiki_07_line_43' dosyası boş veya sadece boşluk içeriyor.\n"
          ]
        },
        {
          "name": "stderr",
          "output_type": "stream",
          "text": [
            "Batches: 100%|██████████| 2/2 [00:03<00:00,  1.61s/it]\n"
          ]
        },
        {
          "name": "stdout",
          "output_type": "stream",
          "text": [
            "'wiki_07_line_44' dosyasından 17 adet semantic chunk üretildi.\n",
            "Uyarı: 'wiki_07_line_45' dosyası boş veya sadece boşluk içeriyor.\n",
            "'wiki_07_line_46' dosyasından 1 adet semantic chunk üretildi.\n"
          ]
        },
        {
          "name": "stderr",
          "output_type": "stream",
          "text": [
            "Batches: 100%|██████████| 5/5 [00:10<00:00,  2.04s/it]\n"
          ]
        },
        {
          "name": "stdout",
          "output_type": "stream",
          "text": [
            "'wiki_07_line_47' dosyasından 55 adet semantic chunk üretildi.\n"
          ]
        },
        {
          "name": "stderr",
          "output_type": "stream",
          "text": [
            "Batches: 100%|██████████| 1/1 [00:01<00:00,  1.06s/it]\n"
          ]
        },
        {
          "name": "stdout",
          "output_type": "stream",
          "text": [
            "'wiki_07_line_48' dosyasından 6 adet semantic chunk üretildi.\n"
          ]
        },
        {
          "name": "stderr",
          "output_type": "stream",
          "text": [
            "Batches: 100%|██████████| 1/1 [00:00<00:00,  1.33it/s]\n"
          ]
        },
        {
          "name": "stdout",
          "output_type": "stream",
          "text": [
            "'wiki_07_line_49' dosyasından 3 adet semantic chunk üretildi.\n"
          ]
        },
        {
          "name": "stderr",
          "output_type": "stream",
          "text": [
            "Batches: 100%|██████████| 1/1 [00:02<00:00,  2.42s/it]\n"
          ]
        },
        {
          "name": "stdout",
          "output_type": "stream",
          "text": [
            "'wiki_07_line_50' dosyasından 9 adet semantic chunk üretildi.\n"
          ]
        },
        {
          "name": "stderr",
          "output_type": "stream",
          "text": [
            "Batches: 100%|██████████| 1/1 [00:01<00:00,  1.85s/it]\n"
          ]
        },
        {
          "name": "stdout",
          "output_type": "stream",
          "text": [
            "'wiki_07_line_51' dosyasından 7 adet semantic chunk üretildi.\n"
          ]
        },
        {
          "name": "stderr",
          "output_type": "stream",
          "text": [
            "Batches: 100%|██████████| 1/1 [00:00<00:00,  6.08it/s]\n"
          ]
        },
        {
          "name": "stdout",
          "output_type": "stream",
          "text": [
            "'wiki_07_line_52' dosyasından 2 adet semantic chunk üretildi.\n"
          ]
        },
        {
          "name": "stderr",
          "output_type": "stream",
          "text": [
            "Batches: 100%|██████████| 2/2 [00:02<00:00,  1.46s/it]\n"
          ]
        },
        {
          "name": "stdout",
          "output_type": "stream",
          "text": [
            "'wiki_07_line_53' dosyasından 12 adet semantic chunk üretildi.\n"
          ]
        },
        {
          "name": "stderr",
          "output_type": "stream",
          "text": [
            "Batches: 100%|██████████| 2/2 [00:02<00:00,  1.50s/it]\n"
          ]
        },
        {
          "name": "stdout",
          "output_type": "stream",
          "text": [
            "'wiki_07_line_54' dosyasından 12 adet semantic chunk üretildi.\n",
            "'wiki_07_line_55' dosyasından 1 adet semantic chunk üretildi.\n"
          ]
        },
        {
          "name": "stderr",
          "output_type": "stream",
          "text": [
            "Batches: 100%|██████████| 1/1 [00:00<00:00,  1.24it/s]\n"
          ]
        },
        {
          "name": "stdout",
          "output_type": "stream",
          "text": [
            "'wiki_07_line_56' dosyasından 3 adet semantic chunk üretildi.\n"
          ]
        },
        {
          "name": "stderr",
          "output_type": "stream",
          "text": [
            "Batches: 100%|██████████| 1/1 [00:00<00:00,  3.65it/s]\n"
          ]
        },
        {
          "name": "stdout",
          "output_type": "stream",
          "text": [
            "'wiki_07_line_57' dosyasından 1 adet semantic chunk üretildi.\n"
          ]
        },
        {
          "name": "stderr",
          "output_type": "stream",
          "text": [
            "Batches: 100%|██████████| 1/1 [00:02<00:00,  2.23s/it]\n"
          ]
        },
        {
          "name": "stdout",
          "output_type": "stream",
          "text": [
            "'wiki_07_line_58' dosyasından 15 adet semantic chunk üretildi.\n",
            "Uyarı: 'wiki_07_line_59' dosyası boş veya sadece boşluk içeriyor.\n",
            "'wiki_07_line_60' dosyasından 1 adet semantic chunk üretildi.\n"
          ]
        },
        {
          "name": "stderr",
          "output_type": "stream",
          "text": [
            "Batches: 100%|██████████| 1/1 [00:00<00:00,  4.91it/s]\n"
          ]
        },
        {
          "name": "stdout",
          "output_type": "stream",
          "text": [
            "'wiki_07_line_61' dosyasından 2 adet semantic chunk üretildi.\n",
            "'wiki_07_line_62' dosyasından 1 adet semantic chunk üretildi.\n"
          ]
        },
        {
          "name": "stderr",
          "output_type": "stream",
          "text": [
            "Batches: 100%|██████████| 1/1 [00:00<00:00,  5.07it/s]\n"
          ]
        },
        {
          "name": "stdout",
          "output_type": "stream",
          "text": [
            "'wiki_07_line_63' dosyasından 1 adet semantic chunk üretildi.\n",
            "Uyarı: 'wiki_07_line_64' dosyası boş veya sadece boşluk içeriyor.\n"
          ]
        },
        {
          "name": "stderr",
          "output_type": "stream",
          "text": [
            "Batches: 100%|██████████| 1/1 [00:00<00:00,  1.89it/s]\n"
          ]
        },
        {
          "name": "stdout",
          "output_type": "stream",
          "text": [
            "'wiki_07_line_65' dosyasından 4 adet semantic chunk üretildi.\n"
          ]
        },
        {
          "name": "stderr",
          "output_type": "stream",
          "text": [
            "Batches: 100%|██████████| 1/1 [00:00<00:00,  5.42it/s]\n"
          ]
        },
        {
          "name": "stdout",
          "output_type": "stream",
          "text": [
            "'wiki_07_line_66' dosyasından 2 adet semantic chunk üretildi.\n"
          ]
        },
        {
          "name": "stderr",
          "output_type": "stream",
          "text": [
            "Batches: 100%|██████████| 1/1 [00:00<00:00,  1.74it/s]\n"
          ]
        },
        {
          "name": "stdout",
          "output_type": "stream",
          "text": [
            "'wiki_07_line_67' dosyasından 4 adet semantic chunk üretildi.\n"
          ]
        },
        {
          "name": "stderr",
          "output_type": "stream",
          "text": [
            "Batches: 100%|██████████| 3/3 [00:07<00:00,  2.63s/it]\n"
          ]
        },
        {
          "name": "stdout",
          "output_type": "stream",
          "text": [
            "'wiki_07_line_68' dosyasından 41 adet semantic chunk üretildi.\n"
          ]
        },
        {
          "name": "stderr",
          "output_type": "stream",
          "text": [
            "Batches: 100%|██████████| 2/2 [00:06<00:00,  3.35s/it]\n"
          ]
        },
        {
          "name": "stdout",
          "output_type": "stream",
          "text": [
            "'wiki_07_line_69' dosyasından 19 adet semantic chunk üretildi.\n"
          ]
        },
        {
          "name": "stderr",
          "output_type": "stream",
          "text": [
            "Batches: 100%|██████████| 1/1 [00:00<00:00,  1.59it/s]\n"
          ]
        },
        {
          "name": "stdout",
          "output_type": "stream",
          "text": [
            "'wiki_07_line_70' dosyasından 4 adet semantic chunk üretildi.\n"
          ]
        },
        {
          "name": "stderr",
          "output_type": "stream",
          "text": [
            "Batches: 100%|██████████| 1/1 [00:01<00:00,  1.73s/it]\n"
          ]
        },
        {
          "name": "stdout",
          "output_type": "stream",
          "text": [
            "'wiki_07_line_71' dosyasından 8 adet semantic chunk üretildi.\n"
          ]
        },
        {
          "name": "stderr",
          "output_type": "stream",
          "text": [
            "Batches: 100%|██████████| 2/2 [00:02<00:00,  1.43s/it]\n"
          ]
        },
        {
          "name": "stdout",
          "output_type": "stream",
          "text": [
            "'wiki_07_line_72' dosyasından 12 adet semantic chunk üretildi.\n"
          ]
        },
        {
          "name": "stderr",
          "output_type": "stream",
          "text": [
            "Batches: 100%|██████████| 1/1 [00:00<00:00,  4.01it/s]\n"
          ]
        },
        {
          "name": "stdout",
          "output_type": "stream",
          "text": [
            "'wiki_07_line_73' dosyasından 1 adet semantic chunk üretildi.\n"
          ]
        },
        {
          "name": "stderr",
          "output_type": "stream",
          "text": [
            "Batches: 100%|██████████| 1/1 [00:01<00:00,  1.07s/it]\n"
          ]
        },
        {
          "name": "stdout",
          "output_type": "stream",
          "text": [
            "'wiki_07_line_74' dosyasından 9 adet semantic chunk üretildi.\n"
          ]
        },
        {
          "name": "stderr",
          "output_type": "stream",
          "text": [
            "Batches: 100%|██████████| 6/6 [00:12<00:00,  2.07s/it]\n"
          ]
        },
        {
          "name": "stdout",
          "output_type": "stream",
          "text": [
            "'wiki_08_line_0' dosyasından 43 adet semantic chunk üretildi.\n",
            "'wiki_08_line_1' dosyasından 1 adet semantic chunk üretildi.\n"
          ]
        },
        {
          "name": "stderr",
          "output_type": "stream",
          "text": [
            "Batches: 100%|██████████| 1/1 [00:01<00:00,  1.29s/it]\n"
          ]
        },
        {
          "name": "stdout",
          "output_type": "stream",
          "text": [
            "'wiki_08_line_2' dosyasından 6 adet semantic chunk üretildi.\n"
          ]
        },
        {
          "name": "stderr",
          "output_type": "stream",
          "text": [
            "Batches: 100%|██████████| 1/1 [00:00<00:00,  1.37it/s]\n"
          ]
        },
        {
          "name": "stdout",
          "output_type": "stream",
          "text": [
            "'wiki_08_line_3' dosyasından 2 adet semantic chunk üretildi.\n"
          ]
        },
        {
          "name": "stderr",
          "output_type": "stream",
          "text": [
            "Batches: 100%|██████████| 3/3 [00:06<00:00,  2.25s/it]\n"
          ]
        },
        {
          "name": "stdout",
          "output_type": "stream",
          "text": [
            "'wiki_08_line_4' dosyasından 27 adet semantic chunk üretildi.\n"
          ]
        },
        {
          "name": "stderr",
          "output_type": "stream",
          "text": [
            "Batches: 100%|██████████| 1/1 [00:00<00:00,  2.54it/s]\n"
          ]
        },
        {
          "name": "stdout",
          "output_type": "stream",
          "text": [
            "'wiki_08_line_5' dosyasından 2 adet semantic chunk üretildi.\n"
          ]
        },
        {
          "name": "stderr",
          "output_type": "stream",
          "text": [
            "Batches: 100%|██████████| 1/1 [00:00<00:00,  1.57it/s]\n"
          ]
        },
        {
          "name": "stdout",
          "output_type": "stream",
          "text": [
            "'wiki_08_line_6' dosyasından 2 adet semantic chunk üretildi.\n",
            "Uyarı: 'wiki_08_line_7' dosyası boş veya sadece boşluk içeriyor.\n",
            "'wiki_08_line_8' dosyasından 1 adet semantic chunk üretildi.\n",
            "'wiki_08_line_9' dosyasından 1 adet semantic chunk üretildi.\n",
            "'wiki_08_line_10' dosyasından 1 adet semantic chunk üretildi.\n",
            "'wiki_08_line_11' dosyasından 1 adet semantic chunk üretildi.\n",
            "'wiki_08_line_12' dosyasından 1 adet semantic chunk üretildi.\n"
          ]
        },
        {
          "name": "stderr",
          "output_type": "stream",
          "text": [
            "Batches: 100%|██████████| 1/1 [00:00<00:00,  1.28it/s]\n"
          ]
        },
        {
          "name": "stdout",
          "output_type": "stream",
          "text": [
            "'wiki_08_line_13' dosyasından 2 adet semantic chunk üretildi.\n",
            "Uyarı: 'wiki_08_line_14' dosyası boş veya sadece boşluk içeriyor.\n"
          ]
        },
        {
          "name": "stderr",
          "output_type": "stream",
          "text": [
            "Batches: 100%|██████████| 1/1 [00:01<00:00,  1.47s/it]\n"
          ]
        },
        {
          "name": "stdout",
          "output_type": "stream",
          "text": [
            "'wiki_08_line_15' dosyasından 9 adet semantic chunk üretildi.\n"
          ]
        },
        {
          "name": "stderr",
          "output_type": "stream",
          "text": [
            "Batches: 100%|██████████| 1/1 [00:00<00:00,  1.94it/s]\n"
          ]
        },
        {
          "name": "stdout",
          "output_type": "stream",
          "text": [
            "'wiki_08_line_16' dosyasından 2 adet semantic chunk üretildi.\n"
          ]
        },
        {
          "name": "stderr",
          "output_type": "stream",
          "text": [
            "Batches: 100%|██████████| 2/2 [00:04<00:00,  2.43s/it]\n"
          ]
        },
        {
          "name": "stdout",
          "output_type": "stream",
          "text": [
            "'wiki_08_line_17' dosyasından 27 adet semantic chunk üretildi.\n"
          ]
        },
        {
          "name": "stderr",
          "output_type": "stream",
          "text": [
            "Batches: 100%|██████████| 1/1 [00:00<00:00,  5.23it/s]\n"
          ]
        },
        {
          "name": "stdout",
          "output_type": "stream",
          "text": [
            "'wiki_08_line_18' dosyasından 1 adet semantic chunk üretildi.\n"
          ]
        },
        {
          "name": "stderr",
          "output_type": "stream",
          "text": [
            "Batches: 100%|██████████| 1/1 [00:00<00:00,  1.82it/s]\n"
          ]
        },
        {
          "name": "stdout",
          "output_type": "stream",
          "text": [
            "'wiki_08_line_19' dosyasından 3 adet semantic chunk üretildi.\n",
            "Uyarı: 'wiki_08_line_20' dosyası boş veya sadece boşluk içeriyor.\n",
            "'wiki_08_line_21' dosyasından 1 adet semantic chunk üretildi.\n",
            "Uyarı: 'wiki_08_line_22' dosyası boş veya sadece boşluk içeriyor.\n"
          ]
        },
        {
          "name": "stderr",
          "output_type": "stream",
          "text": [
            "Batches: 100%|██████████| 1/1 [00:01<00:00,  1.47s/it]\n"
          ]
        },
        {
          "name": "stdout",
          "output_type": "stream",
          "text": [
            "'wiki_08_line_23' dosyasından 5 adet semantic chunk üretildi.\n"
          ]
        },
        {
          "name": "stderr",
          "output_type": "stream",
          "text": [
            "Batches: 100%|██████████| 3/3 [00:05<00:00,  1.90s/it]\n"
          ]
        },
        {
          "name": "stdout",
          "output_type": "stream",
          "text": [
            "'wiki_08_line_24' dosyasından 21 adet semantic chunk üretildi.\n"
          ]
        },
        {
          "name": "stderr",
          "output_type": "stream",
          "text": [
            "Batches: 100%|██████████| 1/1 [00:00<00:00,  1.49it/s]\n"
          ]
        },
        {
          "name": "stdout",
          "output_type": "stream",
          "text": [
            "'wiki_08_line_25' dosyasından 3 adet semantic chunk üretildi.\n"
          ]
        },
        {
          "name": "stderr",
          "output_type": "stream",
          "text": [
            "Batches: 100%|██████████| 1/1 [00:00<00:00,  3.86it/s]\n"
          ]
        },
        {
          "name": "stdout",
          "output_type": "stream",
          "text": [
            "'wiki_08_line_26' dosyasından 2 adet semantic chunk üretildi.\n"
          ]
        },
        {
          "name": "stderr",
          "output_type": "stream",
          "text": [
            "Batches: 100%|██████████| 2/2 [00:03<00:00,  1.56s/it]\n"
          ]
        },
        {
          "name": "stdout",
          "output_type": "stream",
          "text": [
            "'wiki_08_line_27' dosyasından 23 adet semantic chunk üretildi.\n",
            "'wiki_08_line_28' dosyasından 1 adet semantic chunk üretildi.\n"
          ]
        },
        {
          "name": "stderr",
          "output_type": "stream",
          "text": [
            "Batches: 100%|██████████| 1/1 [00:01<00:00,  1.11s/it]\n"
          ]
        },
        {
          "name": "stdout",
          "output_type": "stream",
          "text": [
            "'wiki_08_line_29' dosyasından 4 adet semantic chunk üretildi.\n",
            "Uyarı: 'wiki_08_line_30' dosyası boş veya sadece boşluk içeriyor.\n",
            "Uyarı: 'wiki_08_line_31' dosyası boş veya sadece boşluk içeriyor.\n"
          ]
        },
        {
          "name": "stderr",
          "output_type": "stream",
          "text": [
            "Batches: 100%|██████████| 1/1 [00:01<00:00,  1.46s/it]\n"
          ]
        },
        {
          "name": "stdout",
          "output_type": "stream",
          "text": [
            "'wiki_08_line_32' dosyasından 5 adet semantic chunk üretildi.\n",
            "'wiki_08_line_33' dosyasından 1 adet semantic chunk üretildi.\n"
          ]
        },
        {
          "name": "stderr",
          "output_type": "stream",
          "text": [
            "Batches: 100%|██████████| 1/1 [00:00<00:00,  1.34it/s]\n"
          ]
        },
        {
          "name": "stdout",
          "output_type": "stream",
          "text": [
            "'wiki_08_line_34' dosyasından 5 adet semantic chunk üretildi.\n",
            "Uyarı: 'wiki_08_line_35' dosyası boş veya sadece boşluk içeriyor.\n"
          ]
        },
        {
          "name": "stderr",
          "output_type": "stream",
          "text": [
            "Batches: 100%|██████████| 1/1 [00:00<00:00,  6.46it/s]\n"
          ]
        },
        {
          "name": "stdout",
          "output_type": "stream",
          "text": [
            "'wiki_08_line_36' dosyasından 1 adet semantic chunk üretildi.\n"
          ]
        },
        {
          "name": "stderr",
          "output_type": "stream",
          "text": [
            "Batches: 100%|██████████| 2/2 [00:03<00:00,  1.82s/it]\n"
          ]
        },
        {
          "name": "stdout",
          "output_type": "stream",
          "text": [
            "'wiki_08_line_37' dosyasından 11 adet semantic chunk üretildi.\n"
          ]
        },
        {
          "name": "stderr",
          "output_type": "stream",
          "text": [
            "Batches: 100%|██████████| 1/1 [00:00<00:00,  3.35it/s]\n"
          ]
        },
        {
          "name": "stdout",
          "output_type": "stream",
          "text": [
            "'wiki_08_line_38' dosyasından 1 adet semantic chunk üretildi.\n"
          ]
        },
        {
          "name": "stderr",
          "output_type": "stream",
          "text": [
            "Batches: 100%|██████████| 2/2 [00:02<00:00,  1.33s/it]\n"
          ]
        },
        {
          "name": "stdout",
          "output_type": "stream",
          "text": [
            "'wiki_08_line_39' dosyasından 14 adet semantic chunk üretildi.\n"
          ]
        },
        {
          "name": "stderr",
          "output_type": "stream",
          "text": [
            "Batches: 100%|██████████| 1/1 [00:00<00:00,  3.11it/s]\n"
          ]
        },
        {
          "name": "stdout",
          "output_type": "stream",
          "text": [
            "'wiki_08_line_40' dosyasından 3 adet semantic chunk üretildi.\n"
          ]
        },
        {
          "name": "stderr",
          "output_type": "stream",
          "text": [
            "Batches: 100%|██████████| 2/2 [00:02<00:00,  1.43s/it]\n"
          ]
        },
        {
          "name": "stdout",
          "output_type": "stream",
          "text": [
            "'wiki_08_line_41' dosyasından 21 adet semantic chunk üretildi.\n"
          ]
        },
        {
          "name": "stderr",
          "output_type": "stream",
          "text": [
            "Batches: 100%|██████████| 1/1 [00:00<00:00,  5.32it/s]\n"
          ]
        },
        {
          "name": "stdout",
          "output_type": "stream",
          "text": [
            "'wiki_08_line_42' dosyasından 1 adet semantic chunk üretildi.\n"
          ]
        },
        {
          "name": "stderr",
          "output_type": "stream",
          "text": [
            "Batches: 100%|██████████| 1/1 [00:02<00:00,  2.34s/it]\n"
          ]
        },
        {
          "name": "stdout",
          "output_type": "stream",
          "text": [
            "'wiki_08_line_43' dosyasından 8 adet semantic chunk üretildi.\n",
            "'wiki_08_line_44' dosyasından 1 adet semantic chunk üretildi.\n"
          ]
        },
        {
          "name": "stderr",
          "output_type": "stream",
          "text": [
            "Batches: 100%|██████████| 1/1 [00:02<00:00,  2.25s/it]\n"
          ]
        },
        {
          "name": "stdout",
          "output_type": "stream",
          "text": [
            "'wiki_08_line_45' dosyasından 9 adet semantic chunk üretildi.\n"
          ]
        },
        {
          "name": "stderr",
          "output_type": "stream",
          "text": [
            "Batches: 100%|██████████| 1/1 [00:00<00:00,  2.44it/s]\n"
          ]
        },
        {
          "name": "stdout",
          "output_type": "stream",
          "text": [
            "'wiki_08_line_46' dosyasından 3 adet semantic chunk üretildi.\n"
          ]
        },
        {
          "name": "stderr",
          "output_type": "stream",
          "text": [
            "Batches: 100%|██████████| 1/1 [00:00<00:00,  2.35it/s]\n"
          ]
        },
        {
          "name": "stdout",
          "output_type": "stream",
          "text": [
            "'wiki_08_line_47' dosyasından 3 adet semantic chunk üretildi.\n",
            "Uyarı: 'wiki_08_line_48' dosyası boş veya sadece boşluk içeriyor.\n"
          ]
        },
        {
          "name": "stderr",
          "output_type": "stream",
          "text": [
            "Batches: 100%|██████████| 2/2 [00:03<00:00,  1.91s/it]\n"
          ]
        },
        {
          "name": "stdout",
          "output_type": "stream",
          "text": [
            "'wiki_08_line_49' dosyasından 17 adet semantic chunk üretildi.\n"
          ]
        },
        {
          "name": "stderr",
          "output_type": "stream",
          "text": [
            "Batches: 100%|██████████| 1/1 [00:01<00:00,  1.93s/it]\n"
          ]
        },
        {
          "name": "stdout",
          "output_type": "stream",
          "text": [
            "'wiki_08_line_50' dosyasından 12 adet semantic chunk üretildi.\n"
          ]
        },
        {
          "name": "stderr",
          "output_type": "stream",
          "text": [
            "Batches: 100%|██████████| 1/1 [00:01<00:00,  1.25s/it]\n"
          ]
        },
        {
          "name": "stdout",
          "output_type": "stream",
          "text": [
            "'wiki_08_line_51' dosyasından 5 adet semantic chunk üretildi.\n"
          ]
        },
        {
          "name": "stderr",
          "output_type": "stream",
          "text": [
            "Batches: 100%|██████████| 2/2 [00:02<00:00,  1.34s/it]\n"
          ]
        },
        {
          "name": "stdout",
          "output_type": "stream",
          "text": [
            "'wiki_08_line_52' dosyasından 9 adet semantic chunk üretildi.\n",
            "'wiki_08_line_53' dosyasından 1 adet semantic chunk üretildi.\n"
          ]
        },
        {
          "name": "stderr",
          "output_type": "stream",
          "text": [
            "Batches: 100%|██████████| 1/1 [00:00<00:00,  6.43it/s]\n"
          ]
        },
        {
          "name": "stdout",
          "output_type": "stream",
          "text": [
            "'wiki_08_line_54' dosyasından 2 adet semantic chunk üretildi.\n"
          ]
        },
        {
          "name": "stderr",
          "output_type": "stream",
          "text": [
            "Batches: 100%|██████████| 1/1 [00:00<00:00,  1.05it/s]\n"
          ]
        },
        {
          "name": "stdout",
          "output_type": "stream",
          "text": [
            "'wiki_08_line_55' dosyasından 7 adet semantic chunk üretildi.\n"
          ]
        },
        {
          "name": "stderr",
          "output_type": "stream",
          "text": [
            "Batches: 100%|██████████| 1/1 [00:00<00:00,  1.53it/s]\n"
          ]
        },
        {
          "name": "stdout",
          "output_type": "stream",
          "text": [
            "'wiki_08_line_56' dosyasından 2 adet semantic chunk üretildi.\n"
          ]
        },
        {
          "name": "stderr",
          "output_type": "stream",
          "text": [
            "Batches: 100%|██████████| 1/1 [00:02<00:00,  2.45s/it]\n"
          ]
        },
        {
          "name": "stdout",
          "output_type": "stream",
          "text": [
            "'wiki_08_line_57' dosyasından 10 adet semantic chunk üretildi.\n"
          ]
        },
        {
          "name": "stderr",
          "output_type": "stream",
          "text": [
            "Batches: 100%|██████████| 1/1 [00:00<00:00,  1.17it/s]\n"
          ]
        },
        {
          "name": "stdout",
          "output_type": "stream",
          "text": [
            "'wiki_08_line_58' dosyasından 3 adet semantic chunk üretildi.\n"
          ]
        },
        {
          "name": "stderr",
          "output_type": "stream",
          "text": [
            "Batches: 100%|██████████| 1/1 [00:00<00:00,  2.44it/s]\n"
          ]
        },
        {
          "name": "stdout",
          "output_type": "stream",
          "text": [
            "'wiki_08_line_59' dosyasından 1 adet semantic chunk üretildi.\n"
          ]
        },
        {
          "name": "stderr",
          "output_type": "stream",
          "text": [
            "Batches: 100%|██████████| 1/1 [00:01<00:00,  1.13s/it]\n"
          ]
        },
        {
          "name": "stdout",
          "output_type": "stream",
          "text": [
            "'wiki_08_line_60' dosyasından 4 adet semantic chunk üretildi.\n"
          ]
        },
        {
          "name": "stderr",
          "output_type": "stream",
          "text": [
            "Batches: 100%|██████████| 1/1 [00:01<00:00,  1.92s/it]\n"
          ]
        },
        {
          "name": "stdout",
          "output_type": "stream",
          "text": [
            "'wiki_08_line_61' dosyasından 10 adet semantic chunk üretildi.\n"
          ]
        },
        {
          "name": "stderr",
          "output_type": "stream",
          "text": [
            "Batches: 100%|██████████| 1/1 [00:01<00:00,  1.47s/it]\n"
          ]
        },
        {
          "name": "stdout",
          "output_type": "stream",
          "text": [
            "'wiki_08_line_62' dosyasından 5 adet semantic chunk üretildi.\n",
            "Uyarı: 'wiki_08_line_63' dosyası boş veya sadece boşluk içeriyor.\n",
            "Uyarı: 'wiki_08_line_64' dosyası boş veya sadece boşluk içeriyor.\n"
          ]
        },
        {
          "name": "stderr",
          "output_type": "stream",
          "text": [
            "Batches: 100%|██████████| 1/1 [00:00<00:00,  3.66it/s]\n"
          ]
        },
        {
          "name": "stdout",
          "output_type": "stream",
          "text": [
            "'wiki_08_line_65' dosyasından 2 adet semantic chunk üretildi.\n",
            "Uyarı: 'wiki_08_line_66' dosyası boş veya sadece boşluk içeriyor.\n"
          ]
        },
        {
          "name": "stderr",
          "output_type": "stream",
          "text": [
            "Batches: 100%|██████████| 2/2 [00:02<00:00,  1.30s/it]\n"
          ]
        },
        {
          "name": "stdout",
          "output_type": "stream",
          "text": [
            "'wiki_08_line_67' dosyasından 12 adet semantic chunk üretildi.\n"
          ]
        },
        {
          "name": "stderr",
          "output_type": "stream",
          "text": [
            "Batches: 100%|██████████| 1/1 [00:00<00:00,  4.31it/s]\n"
          ]
        },
        {
          "name": "stdout",
          "output_type": "stream",
          "text": [
            "'wiki_08_line_68' dosyasından 1 adet semantic chunk üretildi.\n",
            "'wiki_08_line_69' dosyasından 1 adet semantic chunk üretildi.\n"
          ]
        },
        {
          "name": "stderr",
          "output_type": "stream",
          "text": [
            "Batches: 100%|██████████| 1/1 [00:00<00:00,  2.77it/s]\n"
          ]
        },
        {
          "name": "stdout",
          "output_type": "stream",
          "text": [
            "'wiki_08_line_70' dosyasından 1 adet semantic chunk üretildi.\n",
            "'wiki_08_line_71' dosyasından 1 adet semantic chunk üretildi.\n",
            "Uyarı: 'wiki_08_line_72' dosyası boş veya sadece boşluk içeriyor.\n"
          ]
        },
        {
          "name": "stderr",
          "output_type": "stream",
          "text": [
            "Batches: 100%|██████████| 1/1 [00:00<00:00,  1.13it/s]\n"
          ]
        },
        {
          "name": "stdout",
          "output_type": "stream",
          "text": [
            "'wiki_08_line_73' dosyasından 5 adet semantic chunk üretildi.\n"
          ]
        },
        {
          "name": "stderr",
          "output_type": "stream",
          "text": [
            "Batches: 100%|██████████| 4/4 [00:07<00:00,  1.96s/it]\n"
          ]
        },
        {
          "name": "stdout",
          "output_type": "stream",
          "text": [
            "'wiki_08_line_74' dosyasından 43 adet semantic chunk üretildi.\n"
          ]
        },
        {
          "name": "stderr",
          "output_type": "stream",
          "text": [
            "Batches: 100%|██████████| 1/1 [00:00<00:00,  1.62it/s]\n"
          ]
        },
        {
          "name": "stdout",
          "output_type": "stream",
          "text": [
            "'wiki_08_line_75' dosyasından 2 adet semantic chunk üretildi.\n",
            "'wiki_08_line_76' dosyasından 1 adet semantic chunk üretildi.\n"
          ]
        },
        {
          "name": "stderr",
          "output_type": "stream",
          "text": [
            "Batches: 100%|██████████| 1/1 [00:00<00:00,  1.25it/s]\n"
          ]
        },
        {
          "name": "stdout",
          "output_type": "stream",
          "text": [
            "'wiki_08_line_77' dosyasından 3 adet semantic chunk üretildi.\n"
          ]
        },
        {
          "name": "stderr",
          "output_type": "stream",
          "text": [
            "Batches: 100%|██████████| 1/1 [00:00<00:00,  4.67it/s]\n"
          ]
        },
        {
          "name": "stdout",
          "output_type": "stream",
          "text": [
            "'wiki_08_line_78' dosyasından 1 adet semantic chunk üretildi.\n"
          ]
        },
        {
          "name": "stderr",
          "output_type": "stream",
          "text": [
            "Batches: 100%|██████████| 4/4 [00:08<00:00,  2.02s/it]\n"
          ]
        },
        {
          "name": "stdout",
          "output_type": "stream",
          "text": [
            "'wiki_08_line_79' dosyasından 27 adet semantic chunk üretildi.\n"
          ]
        },
        {
          "name": "stderr",
          "output_type": "stream",
          "text": [
            "Batches: 100%|██████████| 2/2 [00:03<00:00,  1.70s/it]\n"
          ]
        },
        {
          "name": "stdout",
          "output_type": "stream",
          "text": [
            "'wiki_08_line_80' dosyasından 15 adet semantic chunk üretildi.\n"
          ]
        },
        {
          "name": "stderr",
          "output_type": "stream",
          "text": [
            "Batches: 100%|██████████| 1/1 [00:00<00:00,  1.95it/s]\n"
          ]
        },
        {
          "name": "stdout",
          "output_type": "stream",
          "text": [
            "'wiki_08_line_81' dosyasından 1 adet semantic chunk üretildi.\n"
          ]
        },
        {
          "name": "stderr",
          "output_type": "stream",
          "text": [
            "Batches: 100%|██████████| 1/1 [00:00<00:00,  6.17it/s]\n"
          ]
        },
        {
          "name": "stdout",
          "output_type": "stream",
          "text": [
            "'wiki_08_line_82' dosyasından 1 adet semantic chunk üretildi.\n"
          ]
        },
        {
          "name": "stderr",
          "output_type": "stream",
          "text": [
            "Batches: 100%|██████████| 1/1 [00:00<00:00,  2.58it/s]\n"
          ]
        },
        {
          "name": "stdout",
          "output_type": "stream",
          "text": [
            "'wiki_08_line_83' dosyasından 2 adet semantic chunk üretildi.\n",
            "Uyarı: 'wiki_08_line_84' dosyası boş veya sadece boşluk içeriyor.\n"
          ]
        },
        {
          "name": "stderr",
          "output_type": "stream",
          "text": [
            "Batches: 100%|██████████| 1/1 [00:00<00:00,  3.07it/s]\n"
          ]
        },
        {
          "name": "stdout",
          "output_type": "stream",
          "text": [
            "'wiki_08_line_85' dosyasından 2 adet semantic chunk üretildi.\n"
          ]
        },
        {
          "name": "stderr",
          "output_type": "stream",
          "text": [
            "Batches: 100%|██████████| 1/1 [00:00<00:00,  6.63it/s]\n"
          ]
        },
        {
          "name": "stdout",
          "output_type": "stream",
          "text": [
            "'wiki_08_line_86' dosyasından 2 adet semantic chunk üretildi.\n",
            "'wiki_08_line_87' dosyasından 1 adet semantic chunk üretildi.\n",
            "'wiki_08_line_88' dosyasından 1 adet semantic chunk üretildi.\n"
          ]
        },
        {
          "name": "stderr",
          "output_type": "stream",
          "text": [
            "Batches: 100%|██████████| 1/1 [00:01<00:00,  1.33s/it]\n"
          ]
        },
        {
          "name": "stdout",
          "output_type": "stream",
          "text": [
            "'wiki_08_line_89' dosyasından 6 adet semantic chunk üretildi.\n"
          ]
        },
        {
          "name": "stderr",
          "output_type": "stream",
          "text": [
            "Batches: 100%|██████████| 1/1 [00:00<00:00,  1.96it/s]\n"
          ]
        },
        {
          "name": "stdout",
          "output_type": "stream",
          "text": [
            "'wiki_08_line_90' dosyasından 3 adet semantic chunk üretildi.\n"
          ]
        },
        {
          "name": "stderr",
          "output_type": "stream",
          "text": [
            "Batches: 100%|██████████| 1/1 [00:00<00:00,  2.64it/s]\n"
          ]
        },
        {
          "name": "stdout",
          "output_type": "stream",
          "text": [
            "'wiki_08_line_91' dosyasından 4 adet semantic chunk üretildi.\n"
          ]
        },
        {
          "name": "stderr",
          "output_type": "stream",
          "text": [
            "Batches: 100%|██████████| 1/1 [00:00<00:00,  1.48it/s]\n"
          ]
        },
        {
          "name": "stdout",
          "output_type": "stream",
          "text": [
            "'wiki_08_line_92' dosyasından 4 adet semantic chunk üretildi.\n"
          ]
        },
        {
          "name": "stderr",
          "output_type": "stream",
          "text": [
            "Batches: 100%|██████████| 1/1 [00:01<00:00,  1.20s/it]\n"
          ]
        },
        {
          "name": "stdout",
          "output_type": "stream",
          "text": [
            "'wiki_08_line_93' dosyasından 4 adet semantic chunk üretildi.\n"
          ]
        },
        {
          "name": "stderr",
          "output_type": "stream",
          "text": [
            "Batches: 100%|██████████| 1/1 [00:00<00:00,  1.31it/s]\n"
          ]
        },
        {
          "name": "stdout",
          "output_type": "stream",
          "text": [
            "'wiki_08_line_94' dosyasından 3 adet semantic chunk üretildi.\n"
          ]
        },
        {
          "name": "stderr",
          "output_type": "stream",
          "text": [
            "Batches: 100%|██████████| 1/1 [00:01<00:00,  1.06s/it]\n"
          ]
        },
        {
          "name": "stdout",
          "output_type": "stream",
          "text": [
            "'wiki_08_line_95' dosyasından 7 adet semantic chunk üretildi.\n",
            "'wiki_08_line_96' dosyasından 1 adet semantic chunk üretildi.\n"
          ]
        },
        {
          "name": "stderr",
          "output_type": "stream",
          "text": [
            "Batches: 100%|██████████| 1/1 [00:01<00:00,  1.16s/it]\n"
          ]
        },
        {
          "name": "stdout",
          "output_type": "stream",
          "text": [
            "'wiki_08_line_97' dosyasından 7 adet semantic chunk üretildi.\n",
            "'wiki_08_line_98' dosyasından 1 adet semantic chunk üretildi.\n"
          ]
        },
        {
          "name": "stderr",
          "output_type": "stream",
          "text": [
            "Batches: 100%|██████████| 1/1 [00:00<00:00,  1.17it/s]\n"
          ]
        },
        {
          "name": "stdout",
          "output_type": "stream",
          "text": [
            "'wiki_08_line_99' dosyasından 3 adet semantic chunk üretildi.\n"
          ]
        },
        {
          "name": "stderr",
          "output_type": "stream",
          "text": [
            "Batches: 100%|██████████| 1/1 [00:01<00:00,  1.28s/it]\n"
          ]
        },
        {
          "name": "stdout",
          "output_type": "stream",
          "text": [
            "'wiki_09_line_0' dosyasından 5 adet semantic chunk üretildi.\n"
          ]
        },
        {
          "name": "stderr",
          "output_type": "stream",
          "text": [
            "Batches: 100%|██████████| 2/2 [00:02<00:00,  1.21s/it]\n"
          ]
        },
        {
          "name": "stdout",
          "output_type": "stream",
          "text": [
            "'wiki_09_line_1' dosyasından 14 adet semantic chunk üretildi.\n"
          ]
        },
        {
          "name": "stderr",
          "output_type": "stream",
          "text": [
            "Batches: 100%|██████████| 1/1 [00:01<00:00,  1.35s/it]\n"
          ]
        },
        {
          "name": "stdout",
          "output_type": "stream",
          "text": [
            "'wiki_09_line_2' dosyasından 5 adet semantic chunk üretildi.\n"
          ]
        },
        {
          "name": "stderr",
          "output_type": "stream",
          "text": [
            "Batches: 100%|██████████| 1/1 [00:00<00:00,  1.64it/s]\n"
          ]
        },
        {
          "name": "stdout",
          "output_type": "stream",
          "text": [
            "'wiki_09_line_3' dosyasından 4 adet semantic chunk üretildi.\n"
          ]
        },
        {
          "name": "stderr",
          "output_type": "stream",
          "text": [
            "Batches: 100%|██████████| 2/2 [00:03<00:00,  1.64s/it]\n"
          ]
        },
        {
          "name": "stdout",
          "output_type": "stream",
          "text": [
            "'wiki_09_line_4' dosyasından 16 adet semantic chunk üretildi.\n"
          ]
        },
        {
          "name": "stderr",
          "output_type": "stream",
          "text": [
            "Batches: 100%|██████████| 1/1 [00:01<00:00,  1.37s/it]\n"
          ]
        },
        {
          "name": "stdout",
          "output_type": "stream",
          "text": [
            "'wiki_09_line_5' dosyasından 5 adet semantic chunk üretildi.\n"
          ]
        },
        {
          "name": "stderr",
          "output_type": "stream",
          "text": [
            "Batches: 100%|██████████| 1/1 [00:00<00:00,  1.45it/s]\n"
          ]
        },
        {
          "name": "stdout",
          "output_type": "stream",
          "text": [
            "'wiki_09_line_6' dosyasından 4 adet semantic chunk üretildi.\n"
          ]
        },
        {
          "name": "stderr",
          "output_type": "stream",
          "text": [
            "Batches: 100%|██████████| 1/1 [00:01<00:00,  1.87s/it]\n"
          ]
        },
        {
          "name": "stdout",
          "output_type": "stream",
          "text": [
            "'wiki_09_line_7' dosyasından 8 adet semantic chunk üretildi.\n"
          ]
        },
        {
          "name": "stderr",
          "output_type": "stream",
          "text": [
            "Batches: 100%|██████████| 1/1 [00:01<00:00,  1.83s/it]\n"
          ]
        },
        {
          "name": "stdout",
          "output_type": "stream",
          "text": [
            "'wiki_09_line_8' dosyasından 12 adet semantic chunk üretildi.\n"
          ]
        },
        {
          "name": "stderr",
          "output_type": "stream",
          "text": [
            "Batches: 100%|██████████| 1/1 [00:01<00:00,  1.19s/it]\n"
          ]
        },
        {
          "name": "stdout",
          "output_type": "stream",
          "text": [
            "'wiki_09_line_9' dosyasından 7 adet semantic chunk üretildi.\n"
          ]
        },
        {
          "name": "stderr",
          "output_type": "stream",
          "text": [
            "Batches: 100%|██████████| 1/1 [00:01<00:00,  1.57s/it]\n"
          ]
        },
        {
          "name": "stdout",
          "output_type": "stream",
          "text": [
            "'wiki_09_line_10' dosyasından 8 adet semantic chunk üretildi.\n"
          ]
        },
        {
          "name": "stderr",
          "output_type": "stream",
          "text": [
            "Batches: 100%|██████████| 1/1 [00:01<00:00,  1.19s/it]\n"
          ]
        },
        {
          "name": "stdout",
          "output_type": "stream",
          "text": [
            "'wiki_09_line_11' dosyasından 6 adet semantic chunk üretildi.\n"
          ]
        },
        {
          "name": "stderr",
          "output_type": "stream",
          "text": [
            "Batches: 100%|██████████| 1/1 [00:01<00:00,  1.14s/it]\n"
          ]
        },
        {
          "name": "stdout",
          "output_type": "stream",
          "text": [
            "'wiki_09_line_12' dosyasından 5 adet semantic chunk üretildi.\n"
          ]
        },
        {
          "name": "stderr",
          "output_type": "stream",
          "text": [
            "Batches: 100%|██████████| 1/1 [00:00<00:00,  1.34it/s]\n"
          ]
        },
        {
          "name": "stdout",
          "output_type": "stream",
          "text": [
            "'wiki_09_line_13' dosyasından 7 adet semantic chunk üretildi.\n"
          ]
        },
        {
          "name": "stderr",
          "output_type": "stream",
          "text": [
            "Batches: 100%|██████████| 1/1 [00:02<00:00,  2.08s/it]\n"
          ]
        },
        {
          "name": "stdout",
          "output_type": "stream",
          "text": [
            "'wiki_09_line_14' dosyasından 8 adet semantic chunk üretildi.\n"
          ]
        },
        {
          "name": "stderr",
          "output_type": "stream",
          "text": [
            "Batches: 100%|██████████| 1/1 [00:01<00:00,  1.98s/it]\n"
          ]
        },
        {
          "name": "stdout",
          "output_type": "stream",
          "text": [
            "'wiki_09_line_15' dosyasından 12 adet semantic chunk üretildi.\n"
          ]
        },
        {
          "name": "stderr",
          "output_type": "stream",
          "text": [
            "Batches: 100%|██████████| 1/1 [00:00<00:00,  1.08it/s]\n"
          ]
        },
        {
          "name": "stdout",
          "output_type": "stream",
          "text": [
            "'wiki_09_line_16' dosyasından 8 adet semantic chunk üretildi.\n"
          ]
        },
        {
          "name": "stderr",
          "output_type": "stream",
          "text": [
            "Batches: 100%|██████████| 3/3 [00:05<00:00,  1.74s/it]\n"
          ]
        },
        {
          "name": "stdout",
          "output_type": "stream",
          "text": [
            "'wiki_09_line_17' dosyasından 20 adet semantic chunk üretildi.\n",
            "'wiki_09_line_18' dosyasından 1 adet semantic chunk üretildi.\n"
          ]
        },
        {
          "name": "stderr",
          "output_type": "stream",
          "text": [
            "Batches: 100%|██████████| 1/1 [00:01<00:00,  1.73s/it]\n"
          ]
        },
        {
          "name": "stdout",
          "output_type": "stream",
          "text": [
            "'wiki_09_line_19' dosyasından 7 adet semantic chunk üretildi.\n"
          ]
        },
        {
          "name": "stderr",
          "output_type": "stream",
          "text": [
            "Batches: 100%|██████████| 1/1 [00:01<00:00,  1.56s/it]\n"
          ]
        },
        {
          "name": "stdout",
          "output_type": "stream",
          "text": [
            "'wiki_09_line_20' dosyasından 8 adet semantic chunk üretildi.\n"
          ]
        },
        {
          "name": "stderr",
          "output_type": "stream",
          "text": [
            "Batches: 100%|██████████| 3/3 [00:06<00:00,  2.27s/it]\n"
          ]
        },
        {
          "name": "stdout",
          "output_type": "stream",
          "text": [
            "'wiki_09_line_21' dosyasından 37 adet semantic chunk üretildi.\n"
          ]
        },
        {
          "name": "stderr",
          "output_type": "stream",
          "text": [
            "Batches: 100%|██████████| 1/1 [00:01<00:00,  1.82s/it]\n"
          ]
        },
        {
          "name": "stdout",
          "output_type": "stream",
          "text": [
            "'wiki_09_line_22' dosyasından 14 adet semantic chunk üretildi.\n"
          ]
        },
        {
          "name": "stderr",
          "output_type": "stream",
          "text": [
            "Batches: 100%|██████████| 1/1 [00:01<00:00,  1.80s/it]\n"
          ]
        },
        {
          "name": "stdout",
          "output_type": "stream",
          "text": [
            "'wiki_09_line_23' dosyasından 12 adet semantic chunk üretildi.\n"
          ]
        },
        {
          "name": "stderr",
          "output_type": "stream",
          "text": [
            "Batches: 100%|██████████| 1/1 [00:01<00:00,  1.90s/it]\n"
          ]
        },
        {
          "name": "stdout",
          "output_type": "stream",
          "text": [
            "'wiki_09_line_24' dosyasından 9 adet semantic chunk üretildi.\n"
          ]
        },
        {
          "name": "stderr",
          "output_type": "stream",
          "text": [
            "Batches: 100%|██████████| 1/1 [00:00<00:00,  5.43it/s]\n"
          ]
        },
        {
          "name": "stdout",
          "output_type": "stream",
          "text": [
            "'wiki_09_line_25' dosyasından 2 adet semantic chunk üretildi.\n"
          ]
        },
        {
          "name": "stderr",
          "output_type": "stream",
          "text": [
            "Batches: 100%|██████████| 1/1 [00:01<00:00,  1.41s/it]\n"
          ]
        },
        {
          "name": "stdout",
          "output_type": "stream",
          "text": [
            "'wiki_09_line_26' dosyasından 6 adet semantic chunk üretildi.\n"
          ]
        },
        {
          "name": "stderr",
          "output_type": "stream",
          "text": [
            "Batches: 100%|██████████| 1/1 [00:00<00:00,  3.80it/s]\n"
          ]
        },
        {
          "name": "stdout",
          "output_type": "stream",
          "text": [
            "'wiki_09_line_27' dosyasından 2 adet semantic chunk üretildi.\n"
          ]
        },
        {
          "name": "stderr",
          "output_type": "stream",
          "text": [
            "Batches: 100%|██████████| 1/1 [00:00<00:00,  2.40it/s]\n"
          ]
        },
        {
          "name": "stdout",
          "output_type": "stream",
          "text": [
            "'wiki_09_line_28' dosyasından 4 adet semantic chunk üretildi.\n"
          ]
        },
        {
          "name": "stderr",
          "output_type": "stream",
          "text": [
            "Batches: 100%|██████████| 1/1 [00:02<00:00,  2.14s/it]\n"
          ]
        },
        {
          "name": "stdout",
          "output_type": "stream",
          "text": [
            "'wiki_09_line_29' dosyasından 10 adet semantic chunk üretildi.\n"
          ]
        },
        {
          "name": "stderr",
          "output_type": "stream",
          "text": [
            "Batches: 100%|██████████| 2/2 [00:03<00:00,  1.69s/it]\n"
          ]
        },
        {
          "name": "stdout",
          "output_type": "stream",
          "text": [
            "'wiki_09_line_30' dosyasından 18 adet semantic chunk üretildi.\n"
          ]
        },
        {
          "name": "stderr",
          "output_type": "stream",
          "text": [
            "Batches: 100%|██████████| 1/1 [00:00<00:00,  1.03it/s]\n"
          ]
        },
        {
          "name": "stdout",
          "output_type": "stream",
          "text": [
            "'wiki_09_line_31' dosyasından 9 adet semantic chunk üretildi.\n",
            "'wiki_09_line_32' dosyasından 1 adet semantic chunk üretildi.\n"
          ]
        },
        {
          "name": "stderr",
          "output_type": "stream",
          "text": [
            "Batches: 100%|██████████| 1/1 [00:00<00:00,  2.32it/s]\n"
          ]
        },
        {
          "name": "stdout",
          "output_type": "stream",
          "text": [
            "'wiki_09_line_33' dosyasından 4 adet semantic chunk üretildi.\n"
          ]
        },
        {
          "name": "stderr",
          "output_type": "stream",
          "text": [
            "Batches: 100%|██████████| 2/2 [00:02<00:00,  1.40s/it]\n"
          ]
        },
        {
          "name": "stdout",
          "output_type": "stream",
          "text": [
            "'wiki_09_line_34' dosyasından 11 adet semantic chunk üretildi.\n"
          ]
        },
        {
          "name": "stderr",
          "output_type": "stream",
          "text": [
            "Batches: 100%|██████████| 1/1 [00:00<00:00,  1.13it/s]\n"
          ]
        },
        {
          "name": "stdout",
          "output_type": "stream",
          "text": [
            "'wiki_09_line_35' dosyasından 4 adet semantic chunk üretildi.\n"
          ]
        },
        {
          "name": "stderr",
          "output_type": "stream",
          "text": [
            "Batches: 100%|██████████| 1/1 [00:01<00:00,  1.48s/it]\n"
          ]
        },
        {
          "name": "stdout",
          "output_type": "stream",
          "text": [
            "'wiki_09_line_36' dosyasından 8 adet semantic chunk üretildi.\n"
          ]
        },
        {
          "name": "stderr",
          "output_type": "stream",
          "text": [
            "Batches: 100%|██████████| 3/3 [00:06<00:00,  2.06s/it]\n"
          ]
        },
        {
          "name": "stdout",
          "output_type": "stream",
          "text": [
            "'wiki_09_line_37' dosyasından 27 adet semantic chunk üretildi.\n"
          ]
        },
        {
          "name": "stderr",
          "output_type": "stream",
          "text": [
            "Batches: 100%|██████████| 3/3 [00:05<00:00,  1.88s/it]\n"
          ]
        },
        {
          "name": "stdout",
          "output_type": "stream",
          "text": [
            "'wiki_09_line_38' dosyasından 20 adet semantic chunk üretildi.\n"
          ]
        },
        {
          "name": "stderr",
          "output_type": "stream",
          "text": [
            "Batches: 100%|██████████| 1/1 [00:00<00:00,  2.31it/s]\n"
          ]
        },
        {
          "name": "stdout",
          "output_type": "stream",
          "text": [
            "'wiki_09_line_39' dosyasından 3 adet semantic chunk üretildi.\n",
            "'wiki_09_line_40' dosyasından 1 adet semantic chunk üretildi.\n",
            "Uyarı: 'wiki_09_line_41' dosyası boş veya sadece boşluk içeriyor.\n"
          ]
        },
        {
          "name": "stderr",
          "output_type": "stream",
          "text": [
            "Batches: 100%|██████████| 1/1 [00:01<00:00,  1.76s/it]\n"
          ]
        },
        {
          "name": "stdout",
          "output_type": "stream",
          "text": [
            "'wiki_09_line_42' dosyasından 11 adet semantic chunk üretildi.\n"
          ]
        },
        {
          "name": "stderr",
          "output_type": "stream",
          "text": [
            "Batches: 100%|██████████| 1/1 [00:00<00:00,  1.02it/s]\n"
          ]
        },
        {
          "name": "stdout",
          "output_type": "stream",
          "text": [
            "'wiki_09_line_43' dosyasından 4 adet semantic chunk üretildi.\n"
          ]
        },
        {
          "name": "stderr",
          "output_type": "stream",
          "text": [
            "Batches: 100%|██████████| 2/2 [00:04<00:00,  2.21s/it]\n"
          ]
        },
        {
          "name": "stdout",
          "output_type": "stream",
          "text": [
            "'wiki_09_line_44' dosyasından 24 adet semantic chunk üretildi.\n"
          ]
        },
        {
          "name": "stderr",
          "output_type": "stream",
          "text": [
            "Batches: 100%|██████████| 1/1 [00:02<00:00,  2.12s/it]\n"
          ]
        },
        {
          "name": "stdout",
          "output_type": "stream",
          "text": [
            "'wiki_09_line_45' dosyasından 11 adet semantic chunk üretildi.\n"
          ]
        },
        {
          "name": "stderr",
          "output_type": "stream",
          "text": [
            "Batches: 100%|██████████| 3/3 [00:06<00:00,  2.07s/it]\n"
          ]
        },
        {
          "name": "stdout",
          "output_type": "stream",
          "text": [
            "'wiki_09_line_46' dosyasından 31 adet semantic chunk üretildi.\n"
          ]
        },
        {
          "name": "stderr",
          "output_type": "stream",
          "text": [
            "Batches: 100%|██████████| 1/1 [00:00<00:00,  1.07it/s]\n"
          ]
        },
        {
          "name": "stdout",
          "output_type": "stream",
          "text": [
            "'wiki_09_line_47' dosyasından 4 adet semantic chunk üretildi.\n",
            "'wiki_09_line_48' dosyasından 1 adet semantic chunk üretildi.\n"
          ]
        },
        {
          "name": "stderr",
          "output_type": "stream",
          "text": [
            "Batches: 100%|██████████| 3/3 [00:05<00:00,  1.67s/it]\n"
          ]
        },
        {
          "name": "stdout",
          "output_type": "stream",
          "text": [
            "'wiki_09_line_49' dosyasından 25 adet semantic chunk üretildi.\n"
          ]
        },
        {
          "name": "stderr",
          "output_type": "stream",
          "text": [
            "Batches: 100%|██████████| 1/1 [00:01<00:00,  1.12s/it]\n"
          ]
        },
        {
          "name": "stdout",
          "output_type": "stream",
          "text": [
            "'wiki_09_line_50' dosyasından 7 adet semantic chunk üretildi.\n"
          ]
        },
        {
          "name": "stderr",
          "output_type": "stream",
          "text": [
            "Batches: 100%|██████████| 2/2 [00:03<00:00,  1.97s/it]\n"
          ]
        },
        {
          "name": "stdout",
          "output_type": "stream",
          "text": [
            "'wiki_09_line_51' dosyasından 21 adet semantic chunk üretildi.\n"
          ]
        },
        {
          "name": "stderr",
          "output_type": "stream",
          "text": [
            "Batches: 100%|██████████| 2/2 [00:02<00:00,  1.23s/it]\n"
          ]
        },
        {
          "name": "stdout",
          "output_type": "stream",
          "text": [
            "'wiki_09_line_52' dosyasından 13 adet semantic chunk üretildi.\n"
          ]
        },
        {
          "name": "stderr",
          "output_type": "stream",
          "text": [
            "Batches: 100%|██████████| 2/2 [00:02<00:00,  1.34s/it]\n"
          ]
        },
        {
          "name": "stdout",
          "output_type": "stream",
          "text": [
            "'wiki_09_line_53' dosyasından 14 adet semantic chunk üretildi.\n"
          ]
        },
        {
          "name": "stderr",
          "output_type": "stream",
          "text": [
            "Batches: 100%|██████████| 4/4 [00:08<00:00,  2.20s/it]"
          ]
        },
        {
          "name": "stdout",
          "output_type": "stream",
          "text": [
            "'wiki_09_line_54' dosyasından 40 adet semantic chunk üretildi.\n",
            "Toplam 5573 adet chunk metni oluşturuldu.\n"
          ]
        },
        {
          "name": "stderr",
          "output_type": "stream",
          "text": [
            "\n"
          ]
        }
      ],
      "source": [
        "\"\"\"# --- 2. Semantic Chunking ---\n",
        "chunks_text_list = []\n",
        "metadata_for_qdrant = []\n",
        "global_chunk_id_counter = 1\n",
        "\n",
        "for path, text_content in all_documents.items():\n",
        "    text = text_content.get(\"text\", \"\")\n",
        "    if not text or not text.strip():\n",
        "        print(f\"Uyarı: '{path}' dosyası boş veya sadece boşluk içeriyor.\")\n",
        "        continue\n",
        "\n",
        "    if nlp_tr is None: \n",
        "        print(f\"Stanza modeli yüklenemediği için '{path}' üzerinde semantic chunking atlanıyor.\")\n",
        "        continue\n",
        "\n",
        "    current_doc_chunks = create_semantic_chunks_stanza(\n",
        "        text_content=text,\n",
        "        embed_model_instance=embed_model,\n",
        "        stanza_nlp_model=nlp_tr,\n",
        "        pre_segment_max_chars=600,\n",
        "        pre_segment_max_sentences=6,\n",
        "        similarity_threshold=0.40,\n",
        "        final_chunk_min_pre_segments=1,\n",
        "        final_chunk_max_pre_segments=6\n",
        "    )\n",
        "\n",
        "    if not current_doc_chunks:\n",
        "        print(f\"Uyarı: '{path}' dosyasından semantic chunking ile hiç chunk üretilemedi.\")\n",
        "        continue\n",
        "\n",
        "    print(f\"'{path}' dosyasından {len(current_doc_chunks)} adet semantic chunk üretildi.\")\n",
        "\n",
        "    chunk_id_in_file_counter = 0\n",
        "    for chunk_text in current_doc_chunks:\n",
        "        if not chunk_text or not chunk_text.strip():\n",
        "            continue\n",
        "\n",
        "        chunks_text_list.append(chunk_text)\n",
        "        metadata_for_qdrant.append({\n",
        "            \"source\": path,\n",
        "            \"chunk_id_in_file\": chunk_id_in_file_counter,\n",
        "            \"original_text\": chunk_text,\n",
        "            \"title\": text_content.get(\"title\", \"\"),\n",
        "            \"url\": text_content.get(\"url\", \"\")\n",
        "        })\n",
        "        global_chunk_id_counter += 1\n",
        "        chunk_id_in_file_counter += 1\n",
        "\n",
        "\n",
        "if not chunks_text_list:\n",
        "    print(\"Hiç chunk üretilemedi. İşlem durduruluyor.\")\n",
        "    exit()\n",
        "\n",
        "print(f\"Toplam {len(chunks_text_list)} adet chunk metni oluşturuldu.\")\"\"\""
      ]
    },
    {
      "cell_type": "code",
      "execution_count": 17,
      "id": "46rR7BhVFSOx",
      "metadata": {
        "colab": {
          "base_uri": "https://localhost:8080/",
          "height": 49,
          "referenced_widgets": [
            "3af4039db2ae49d7bfb8955d4974e7fa",
            "291a7ef42d4f4e9a8829d83e745a2959",
            "15ea29391a674d4595782259a66465f1",
            "68ce06c3b38c4f34aabee60f1f0346f8",
            "8395709e9fda4182886e288dce75feca",
            "c15310c69c014eebae475dc1d96944e1",
            "9465afdd41614e5691dac7ac2dcb2e76",
            "8d4e2cc5b01d47ed821d3ba9e0f92712",
            "05ca20479faf44e8a188bf049f8a9578",
            "d0aafa718cd44d04993a100c813c3e40",
            "02249c63a5c247dc868431f536e45110"
          ]
        },
        "id": "46rR7BhVFSOx",
        "outputId": "fbcb46a4-b7a0-4b74-aa50-726baa7137ce"
      },
      "outputs": [
        {
          "name": "stderr",
          "output_type": "stream",
          "text": [
            "Batches: 100%|██████████| 175/175 [07:02<00:00,  2.41s/it]\n"
          ]
        }
      ],
      "source": [
        "# Tüm chunk’lar için embedding üret\n",
        "embeddings = embed_model.encode(chunks_text_list, show_progress_bar=True, convert_to_numpy=True)"
      ]
    },
    {
      "cell_type": "code",
      "execution_count": 18,
      "id": "65b81c5d",
      "metadata": {
        "id": "65b81c5d"
      },
      "outputs": [],
      "source": [
        "#!pip uninstall -y tensorflow tensorflow-cpu tensorflow-gpu tensorboard tb-nightly tensorflow-estimator tensorflow-io tensorflow-io-gcs-filesystem tf-keras keras"
      ]
    },
    {
      "cell_type": "code",
      "execution_count": 20,
      "id": "LVkMpvIoz0o_",
      "metadata": {
        "colab": {
          "base_uri": "https://localhost:8080/"
        },
        "id": "LVkMpvIoz0o_",
        "outputId": "cc892d3f-f108-4eb0-f133-1e97bbabcf9b"
      },
      "outputs": [
        {
          "name": "stderr",
          "output_type": "stream",
          "text": [
            "2025-07-20 18:35:28,776 - INFO - HTTP Request: GET http://localhost:6333 \"HTTP/1.1 200 OK\"\n",
            "C:\\Users\\memo_\\AppData\\Local\\Temp\\ipykernel_11916\\4231166172.py:11: UserWarning: Qdrant client version 1.14.3 is incompatible with server version 1.12.6. Major versions should match and minor version difference must not exceed 1. Set check_compatibility=False to skip version check.\n",
            "  client = QdrantClient(\n",
            "2025-07-20 18:35:28,839 - INFO - HTTP Request: GET http://localhost:6333/collections \"HTTP/1.1 200 OK\"\n"
          ]
        },
        {
          "name": "stdout",
          "output_type": "stream",
          "text": [
            "collections=[CollectionDescription(name='semantic-rake-LLM-data_collection'), CollectionDescription(name='hybrid-2-pdf-4_data_collection'), CollectionDescription(name='jotform-pdf-syllabus_data_collection'), CollectionDescription(name='semantic-jotform-LLM_data_collection'), CollectionDescription(name='hybrid-2-pdf-3_data_collection'), CollectionDescription(name='hybrid-2-pdf-semant-scipy_data_collection'), CollectionDescription(name='hybrid-2-pdf-LLM-scipy_data_collection'), CollectionDescription(name='TBF-temsilci'), CollectionDescription(name='TBF-temsilci-2'), CollectionDescription(name='semantic-tfidf-LLM-data_collection'), CollectionDescription(name='Dynamic-jotform-pdf_data_collection'), CollectionDescription(name='hybrid-2-pdf-english-scipy_data_collection'), CollectionDescription(name='wiki_99'), CollectionDescription(name='jotform-pdf-english_data_collection'), CollectionDescription(name='jotform-pdf-LLM_data_collection'), CollectionDescription(name='jotform-ML-pdf_data_collection'), CollectionDescription(name='jotform-DL-pdf_data_collection'), CollectionDescription(name='Dynamic-ML-jotform-pdf_data_collection'), CollectionDescription(name='llmfao_collection'), CollectionDescription(name='hybrid-2-pdf-4-scipy_data_collection'), CollectionDescription(name='hybrid-2-pdf-syllabus-scipy_data_collection'), CollectionDescription(name='SemanticChunking-Support-Jotform-data_collection'), CollectionDescription(name='hybrid-2-pdf_data_collection'), CollectionDescription(name='Dynamic-DL-jotform-pdf_data_collection'), CollectionDescription(name='jotform-pdf-semant_data_collection'), CollectionDescription(name='hybrid-DL-pdf_data_collection'), CollectionDescription(name='hybrid-2-pdf-2_data_collection'), CollectionDescription(name='csv_data_collection'), CollectionDescription(name='jotform-pdf_data_collection'), CollectionDescription(name='custom-pdf_data_collection'), CollectionDescription(name='jotform-pdf-gelecek_data_collection'), CollectionDescription(name='hybrid-2-pdf-bitcoin-scipy_data_collection'), CollectionDescription(name='semantic-LLM-data_collection'), CollectionDescription(name='hybrid-2-pdf-gelecek-scipy_data_collection'), CollectionDescription(name='SemanticChunking-Support-data_collection'), CollectionDescription(name='custom-clustering-pdf_data_collection'), CollectionDescription(name='hybrid-2-DL-pdf_data_collection')]\n"
          ]
        }
      ],
      "source": [
        "from qdrant_client import QdrantClient\n",
        "from qdrant_client.http.models import Distance, VectorParams\n",
        "\n",
        "# Qdrant Cloud endpoint ve API key\n",
        "\n",
        "# --- Qdrant Bağlantısı ---\n",
        "def connect_qdrant_local():\n",
        "    \"\"\"\n",
        "    Lokal Docker Qdrant container'ına bağlanır.\n",
        "    \"\"\"\n",
        "    client = QdrantClient(\n",
        "        url=\"http://localhost:6333\",  # Cloud URL yerine lokal\n",
        "        prefer_grpc=False,\n",
        "        timeout=60.0\n",
        "    )\n",
        "    return client\n",
        "\n",
        "# Bağlantıyı kur\n",
        "qdrant_client = connect_qdrant_local()\n",
        "\n",
        "# Test: Mevcut koleksiyonları listele\n",
        "print(qdrant_client.get_collections())"
      ]
    },
    {
      "cell_type": "code",
      "execution_count": 21,
      "id": "d9933e03",
      "metadata": {
        "colab": {
          "base_uri": "https://localhost:8080/"
        },
        "id": "d9933e03",
        "outputId": "6b7ed223-1f02-4898-83bc-50fe75d50585"
      },
      "outputs": [
        {
          "name": "stderr",
          "output_type": "stream",
          "text": [
            "2025-07-20 18:35:32,744 - INFO - HTTP Request: DELETE http://localhost:6333/collections/wiki_09 \"HTTP/1.1 200 OK\"\n"
          ]
        },
        {
          "name": "stdout",
          "output_type": "stream",
          "text": [
            "'wiki_09' koleksiyonu silindi.\n"
          ]
        },
        {
          "name": "stderr",
          "output_type": "stream",
          "text": [
            "2025-07-20 18:35:33,273 - INFO - HTTP Request: PUT http://localhost:6333/collections/wiki_09 \"HTTP/1.1 200 OK\"\n"
          ]
        },
        {
          "name": "stdout",
          "output_type": "stream",
          "text": [
            "'wiki_09' koleksiyonu oluşturuldu/yeniden oluşturuldu.\n"
          ]
        },
        {
          "name": "stderr",
          "output_type": "stream",
          "text": [
            "Uploading to Qdrant:   0%|          | 0/56 [00:00<?, ?it/s]2025-07-20 18:35:34,313 - INFO - HTTP Request: PUT http://localhost:6333/collections/wiki_09/points?wait=true \"HTTP/1.1 200 OK\"\n",
            "Uploading to Qdrant:   2%|▏         | 1/56 [00:00<00:13,  4.01it/s]2025-07-20 18:35:34,447 - INFO - HTTP Request: PUT http://localhost:6333/collections/wiki_09/points?wait=true \"HTTP/1.1 200 OK\"\n",
            "Uploading to Qdrant:   4%|▎         | 2/56 [00:00<00:09,  5.75it/s]2025-07-20 18:35:34,583 - INFO - HTTP Request: PUT http://localhost:6333/collections/wiki_09/points?wait=true \"HTTP/1.1 200 OK\"\n",
            "Uploading to Qdrant:   5%|▌         | 3/56 [00:00<00:08,  6.38it/s]2025-07-20 18:35:34,737 - INFO - HTTP Request: PUT http://localhost:6333/collections/wiki_09/points?wait=true \"HTTP/1.1 200 OK\"\n",
            "Uploading to Qdrant:   7%|▋         | 4/56 [00:00<00:08,  6.40it/s]2025-07-20 18:35:34,869 - INFO - HTTP Request: PUT http://localhost:6333/collections/wiki_09/points?wait=true \"HTTP/1.1 200 OK\"\n",
            "Uploading to Qdrant:   9%|▉         | 5/56 [00:00<00:07,  6.84it/s]2025-07-20 18:35:34,992 - INFO - HTTP Request: PUT http://localhost:6333/collections/wiki_09/points?wait=true \"HTTP/1.1 200 OK\"\n",
            "Uploading to Qdrant:  11%|█         | 6/56 [00:00<00:06,  7.21it/s]2025-07-20 18:35:35,089 - INFO - HTTP Request: PUT http://localhost:6333/collections/wiki_09/points?wait=true \"HTTP/1.1 200 OK\"\n",
            "2025-07-20 18:35:35,223 - INFO - HTTP Request: PUT http://localhost:6333/collections/wiki_09/points?wait=true \"HTTP/1.1 200 OK\"\n",
            "Uploading to Qdrant:  14%|█▍        | 8/56 [00:01<00:06,  7.84it/s]2025-07-20 18:35:35,336 - INFO - HTTP Request: PUT http://localhost:6333/collections/wiki_09/points?wait=true \"HTTP/1.1 200 OK\"\n",
            "Uploading to Qdrant:  16%|█▌        | 9/56 [00:01<00:05,  8.09it/s]2025-07-20 18:35:35,460 - INFO - HTTP Request: PUT http://localhost:6333/collections/wiki_09/points?wait=true \"HTTP/1.1 200 OK\"\n",
            "Uploading to Qdrant:  18%|█▊        | 10/56 [00:01<00:05,  8.07it/s]2025-07-20 18:35:35,600 - INFO - HTTP Request: PUT http://localhost:6333/collections/wiki_09/points?wait=true \"HTTP/1.1 200 OK\"\n",
            "Uploading to Qdrant:  20%|█▉        | 11/56 [00:01<00:05,  7.77it/s]2025-07-20 18:35:35,743 - INFO - HTTP Request: PUT http://localhost:6333/collections/wiki_09/points?wait=true \"HTTP/1.1 200 OK\"\n",
            "Uploading to Qdrant:  21%|██▏       | 12/56 [00:01<00:05,  7.55it/s]2025-07-20 18:35:35,878 - INFO - HTTP Request: PUT http://localhost:6333/collections/wiki_09/points?wait=true \"HTTP/1.1 200 OK\"\n",
            "Uploading to Qdrant:  23%|██▎       | 13/56 [00:01<00:05,  7.44it/s]2025-07-20 18:35:35,988 - INFO - HTTP Request: PUT http://localhost:6333/collections/wiki_09/points?wait=true \"HTTP/1.1 200 OK\"\n",
            "Uploading to Qdrant:  25%|██▌       | 14/56 [00:01<00:05,  7.94it/s]2025-07-20 18:35:36,092 - INFO - HTTP Request: PUT http://localhost:6333/collections/wiki_09/points?wait=true \"HTTP/1.1 200 OK\"\n",
            "Uploading to Qdrant:  27%|██▋       | 15/56 [00:02<00:04,  8.40it/s]2025-07-20 18:35:36,210 - INFO - HTTP Request: PUT http://localhost:6333/collections/wiki_09/points?wait=true \"HTTP/1.1 200 OK\"\n",
            "Uploading to Qdrant:  29%|██▊       | 16/56 [00:02<00:04,  8.41it/s]2025-07-20 18:35:36,328 - INFO - HTTP Request: PUT http://localhost:6333/collections/wiki_09/points?wait=true \"HTTP/1.1 200 OK\"\n",
            "Uploading to Qdrant:  30%|███       | 17/56 [00:02<00:04,  8.06it/s]2025-07-20 18:35:36,490 - INFO - HTTP Request: PUT http://localhost:6333/collections/wiki_09/points?wait=true \"HTTP/1.1 200 OK\"\n",
            "Uploading to Qdrant:  32%|███▏      | 18/56 [00:02<00:04,  7.65it/s]2025-07-20 18:35:36,630 - INFO - HTTP Request: PUT http://localhost:6333/collections/wiki_09/points?wait=true \"HTTP/1.1 200 OK\"\n",
            "Uploading to Qdrant:  34%|███▍      | 19/56 [00:02<00:04,  7.53it/s]2025-07-20 18:35:36,743 - INFO - HTTP Request: PUT http://localhost:6333/collections/wiki_09/points?wait=true \"HTTP/1.1 200 OK\"\n",
            "Uploading to Qdrant:  36%|███▌      | 20/56 [00:02<00:04,  7.86it/s]2025-07-20 18:35:36,869 - INFO - HTTP Request: PUT http://localhost:6333/collections/wiki_09/points?wait=true \"HTTP/1.1 200 OK\"\n",
            "Uploading to Qdrant:  38%|███▊      | 21/56 [00:02<00:04,  7.88it/s]2025-07-20 18:35:37,049 - INFO - HTTP Request: PUT http://localhost:6333/collections/wiki_09/points?wait=true \"HTTP/1.1 200 OK\"\n",
            "Uploading to Qdrant:  39%|███▉      | 22/56 [00:02<00:04,  6.95it/s]2025-07-20 18:35:37,226 - INFO - HTTP Request: PUT http://localhost:6333/collections/wiki_09/points?wait=true \"HTTP/1.1 200 OK\"\n",
            "Uploading to Qdrant:  41%|████      | 23/56 [00:03<00:05,  6.56it/s]2025-07-20 18:35:37,340 - INFO - HTTP Request: PUT http://localhost:6333/collections/wiki_09/points?wait=true \"HTTP/1.1 200 OK\"\n",
            "Uploading to Qdrant:  43%|████▎     | 24/56 [00:03<00:04,  7.10it/s]2025-07-20 18:35:37,437 - INFO - HTTP Request: PUT http://localhost:6333/collections/wiki_09/points?wait=true \"HTTP/1.1 200 OK\"\n",
            "2025-07-20 18:35:37,553 - INFO - HTTP Request: PUT http://localhost:6333/collections/wiki_09/points?wait=true \"HTTP/1.1 200 OK\"\n",
            "Uploading to Qdrant:  46%|████▋     | 26/56 [00:03<00:03,  7.99it/s]2025-07-20 18:35:37,793 - INFO - HTTP Request: PUT http://localhost:6333/collections/wiki_09/points?wait=true \"HTTP/1.1 200 OK\"\n",
            "Uploading to Qdrant:  48%|████▊     | 27/56 [00:03<00:04,  6.50it/s]2025-07-20 18:35:37,977 - INFO - HTTP Request: PUT http://localhost:6333/collections/wiki_09/points?wait=true \"HTTP/1.1 200 OK\"\n",
            "Uploading to Qdrant:  50%|█████     | 28/56 [00:03<00:04,  6.19it/s]2025-07-20 18:35:38,107 - INFO - HTTP Request: PUT http://localhost:6333/collections/wiki_09/points?wait=true \"HTTP/1.1 200 OK\"\n",
            "Uploading to Qdrant:  52%|█████▏    | 29/56 [00:04<00:04,  6.52it/s]2025-07-20 18:35:38,215 - INFO - HTTP Request: PUT http://localhost:6333/collections/wiki_09/points?wait=true \"HTTP/1.1 200 OK\"\n",
            "Uploading to Qdrant:  54%|█████▎    | 30/56 [00:04<00:03,  7.11it/s]2025-07-20 18:35:38,360 - INFO - HTTP Request: PUT http://localhost:6333/collections/wiki_09/points?wait=true \"HTTP/1.1 200 OK\"\n",
            "Uploading to Qdrant:  55%|█████▌    | 31/56 [00:04<00:03,  7.08it/s]2025-07-20 18:35:38,477 - INFO - HTTP Request: PUT http://localhost:6333/collections/wiki_09/points?wait=true \"HTTP/1.1 200 OK\"\n",
            "Uploading to Qdrant:  57%|█████▋    | 32/56 [00:04<00:03,  7.45it/s]2025-07-20 18:35:38,591 - INFO - HTTP Request: PUT http://localhost:6333/collections/wiki_09/points?wait=true \"HTTP/1.1 200 OK\"\n",
            "Uploading to Qdrant:  59%|█████▉    | 33/56 [00:04<00:02,  7.78it/s]2025-07-20 18:35:38,708 - INFO - HTTP Request: PUT http://localhost:6333/collections/wiki_09/points?wait=true \"HTTP/1.1 200 OK\"\n",
            "Uploading to Qdrant:  61%|██████    | 34/56 [00:04<00:02,  7.99it/s]2025-07-20 18:35:38,869 - INFO - HTTP Request: PUT http://localhost:6333/collections/wiki_09/points?wait=true \"HTTP/1.1 200 OK\"\n",
            "Uploading to Qdrant:  62%|██████▎   | 35/56 [00:04<00:02,  7.38it/s]2025-07-20 18:35:38,990 - INFO - HTTP Request: PUT http://localhost:6333/collections/wiki_09/points?wait=true \"HTTP/1.1 200 OK\"\n",
            "Uploading to Qdrant:  64%|██████▍   | 36/56 [00:04<00:02,  7.59it/s]2025-07-20 18:35:39,158 - INFO - HTTP Request: PUT http://localhost:6333/collections/wiki_09/points?wait=true \"HTTP/1.1 200 OK\"\n",
            "Uploading to Qdrant:  66%|██████▌   | 37/56 [00:05<00:02,  7.00it/s]2025-07-20 18:35:39,348 - INFO - HTTP Request: PUT http://localhost:6333/collections/wiki_09/points?wait=true \"HTTP/1.1 200 OK\"\n",
            "Uploading to Qdrant:  68%|██████▊   | 38/56 [00:05<00:02,  6.40it/s]2025-07-20 18:35:39,484 - INFO - HTTP Request: PUT http://localhost:6333/collections/wiki_09/points?wait=true \"HTTP/1.1 200 OK\"\n",
            "Uploading to Qdrant:  70%|██████▉   | 39/56 [00:05<00:02,  6.65it/s]2025-07-20 18:35:39,605 - INFO - HTTP Request: PUT http://localhost:6333/collections/wiki_09/points?wait=true \"HTTP/1.1 200 OK\"\n",
            "Uploading to Qdrant:  71%|███████▏  | 40/56 [00:05<00:02,  7.07it/s]2025-07-20 18:35:39,718 - INFO - HTTP Request: PUT http://localhost:6333/collections/wiki_09/points?wait=true \"HTTP/1.1 200 OK\"\n",
            "Uploading to Qdrant:  73%|███████▎  | 41/56 [00:05<00:01,  7.51it/s]2025-07-20 18:35:39,839 - INFO - HTTP Request: PUT http://localhost:6333/collections/wiki_09/points?wait=true \"HTTP/1.1 200 OK\"\n",
            "Uploading to Qdrant:  75%|███████▌  | 42/56 [00:05<00:01,  7.73it/s]2025-07-20 18:35:39,960 - INFO - HTTP Request: PUT http://localhost:6333/collections/wiki_09/points?wait=true \"HTTP/1.1 200 OK\"\n",
            "Uploading to Qdrant:  77%|███████▋  | 43/56 [00:05<00:01,  7.93it/s]2025-07-20 18:35:40,058 - INFO - HTTP Request: PUT http://localhost:6333/collections/wiki_09/points?wait=true \"HTTP/1.1 200 OK\"\n",
            "Uploading to Qdrant:  79%|███████▊  | 44/56 [00:05<00:01,  8.42it/s]2025-07-20 18:35:40,169 - INFO - HTTP Request: PUT http://localhost:6333/collections/wiki_09/points?wait=true \"HTTP/1.1 200 OK\"\n",
            "Uploading to Qdrant:  80%|████████  | 45/56 [00:06<00:01,  8.61it/s]2025-07-20 18:35:40,265 - INFO - HTTP Request: PUT http://localhost:6333/collections/wiki_09/points?wait=true \"HTTP/1.1 200 OK\"\n",
            "2025-07-20 18:35:40,377 - INFO - HTTP Request: PUT http://localhost:6333/collections/wiki_09/points?wait=true \"HTTP/1.1 200 OK\"\n",
            "Uploading to Qdrant:  84%|████████▍ | 47/56 [00:06<00:00,  9.07it/s]2025-07-20 18:35:40,464 - INFO - HTTP Request: PUT http://localhost:6333/collections/wiki_09/points?wait=true \"HTTP/1.1 200 OK\"\n",
            "2025-07-20 18:35:40,567 - INFO - HTTP Request: PUT http://localhost:6333/collections/wiki_09/points?wait=true \"HTTP/1.1 200 OK\"\n",
            "Uploading to Qdrant:  88%|████████▊ | 49/56 [00:06<00:00,  9.58it/s]2025-07-20 18:35:40,688 - INFO - HTTP Request: PUT http://localhost:6333/collections/wiki_09/points?wait=true \"HTTP/1.1 200 OK\"\n",
            "Uploading to Qdrant:  89%|████████▉ | 50/56 [00:06<00:00,  9.29it/s]2025-07-20 18:35:40,778 - INFO - HTTP Request: PUT http://localhost:6333/collections/wiki_09/points?wait=true \"HTTP/1.1 200 OK\"\n",
            "2025-07-20 18:35:40,915 - INFO - HTTP Request: PUT http://localhost:6333/collections/wiki_09/points?wait=true \"HTTP/1.1 200 OK\"\n",
            "Uploading to Qdrant:  93%|█████████▎| 52/56 [00:06<00:00,  9.07it/s]2025-07-20 18:35:41,007 - INFO - HTTP Request: PUT http://localhost:6333/collections/wiki_09/points?wait=true \"HTTP/1.1 200 OK\"\n",
            "2025-07-20 18:35:41,103 - INFO - HTTP Request: PUT http://localhost:6333/collections/wiki_09/points?wait=true \"HTTP/1.1 200 OK\"\n",
            "Uploading to Qdrant:  96%|█████████▋| 54/56 [00:07<00:00,  9.54it/s]2025-07-20 18:35:41,247 - INFO - HTTP Request: PUT http://localhost:6333/collections/wiki_09/points?wait=true \"HTTP/1.1 200 OK\"\n",
            "Uploading to Qdrant:  98%|█████████▊| 55/56 [00:07<00:00,  8.92it/s]2025-07-20 18:35:41,385 - INFO - HTTP Request: PUT http://localhost:6333/collections/wiki_09/points?wait=true \"HTTP/1.1 200 OK\"\n",
            "Uploading to Qdrant: 100%|██████████| 56/56 [00:07<00:00,  7.66it/s]"
          ]
        },
        {
          "name": "stdout",
          "output_type": "stream",
          "text": [
            "5573 nokta başarıyla Qdrant'taki 'wiki_09' koleksiyonuna yüklendi.\n"
          ]
        },
        {
          "name": "stderr",
          "output_type": "stream",
          "text": [
            "\n"
          ]
        }
      ],
      "source": [
        "# --- Qdrant Koleksiyon Oluşturma ve Upsert ---\n",
        "vector_size = embeddings.shape[1]\n",
        "\n",
        "try:\n",
        "    qdrant_client.delete_collection(collection_name=collection_name)\n",
        "    print(f\"'{collection_name}' koleksiyonu silindi.\")\n",
        "except Exception:\n",
        "    print(f\"'{collection_name}' koleksiyonu silinemedi veya zaten yoktu.\")\n",
        "\n",
        "qdrant_client.create_collection(\n",
        "    collection_name=collection_name,\n",
        "    vectors_config=VectorParams(size=vector_size, distance=Distance.COSINE),\n",
        ")\n",
        "print(f\"'{collection_name}' koleksiyonu oluşturuldu/yeniden oluşturuldu.\")\n",
        "\n",
        "# Upsert işlemi\n",
        "points = [\n",
        "    {\n",
        "        \"id\": idx,\n",
        "        \"vector\": embeddings[idx].tolist(),\n",
        "        \"payload\": metadata_for_qdrant[idx]\n",
        "    }\n",
        "    for idx in range(len(embeddings))\n",
        "]\n",
        "\n",
        "BATCH_SIZE = 100\n",
        "uploaded_total = 0\n",
        "\n",
        "for i in tqdm(range(0, len(points), BATCH_SIZE), desc=\"Uploading to Qdrant\"):\n",
        "    batch = points[i:i + BATCH_SIZE]\n",
        "    try:\n",
        "        qdrant_client.upsert(collection_name=collection_name, points=batch)\n",
        "        uploaded_total += len(batch)\n",
        "    except Exception as e:\n",
        "        print(f\"[!] Batch {i}-{i + BATCH_SIZE} yüklenemedi: {e}\")\n",
        "        time.sleep(2)\n",
        "\n",
        "print(f\"{uploaded_total} nokta başarıyla Qdrant'taki '{collection_name}' koleksiyonuna yüklendi.\")"
      ]
    },
    {
      "cell_type": "code",
      "execution_count": 12,
      "id": "3248208b",
      "metadata": {},
      "outputs": [
        {
          "name": "stderr",
          "output_type": "stream",
          "text": [
            "2025-07-30 10:59:12,869 - INFO - HTTP Request: GET http://localhost:6333 \"HTTP/1.1 200 OK\"\n",
            "C:\\Users\\memo_\\AppData\\Local\\Temp\\ipykernel_15268\\200918423.py:12: UserWarning: Qdrant client version 1.14.3 is incompatible with server version 1.12.6. Major versions should match and minor version difference must not exceed 1. Set check_compatibility=False to skip version check.\n",
            "  client = QdrantClient(\n",
            "2025-07-30 10:59:12,956 - INFO - HTTP Request: GET http://localhost:6333/collections \"HTTP/1.1 200 OK\"\n",
            "2025-07-30 10:59:13,024 - INFO - HTTP Request: GET http://localhost:6333/collections \"HTTP/1.1 200 OK\"\n"
          ]
        },
        {
          "name": "stdout",
          "output_type": "stream",
          "text": [
            "Qdrant'a başarıyla bağlanıldı.\n",
            "Mevcut koleksiyonlar bulundu: {'wiki_29trendyol', 'wiki_04', 'wiki_24trendyol', 'wiki_15', 'wiki_32', 'wiki_14', 'wiki_11', 'wiki_38', 'wiki_16trendyol', 'wiki_07trendyol', 'wiki_27trendyol', 'wiki_01', 'wiki_03', 'wiki_16', 'wiki_34', 'wiki_24', 'wiki_22trendyol', 'wiki_20', 'wiki_03trendyol', 'wiki_11trendyol', 'wiki_05trendyol', 'wiki_04trendyol', 'wiki_00', 'wiki_10trendyol', 'wiki_06trendyol', 'bahaddin_eravci', 'wiki_18', 'wiki_08trendyol', 'wiki_14trendyol', 'wiki_22', 'wiki_06', 'wiki_36', 'wiki_31', 'wiki_25trendyol', 'wiki_30', 'wiki_10', 'bahaddin_eravci 1', 'wiki_12trendyol', 'wiki_18trendyol', 'wiki_13', 'wiki_37', 'wiki_09trendyol', 'wiki_39', 'wiki_05', 'wiki_21', 'wiki_44', 'llmfao_collection', 'wiki_42', 'wiki_20trendyol', 'wiki_19trendyol', 'wiki_41', 'wiki_13trendyol', 'wiki_23trendyol', 'wiki_21trendyol', 'wiki_02', 'wiki_17', 'wiki_15trendyol', 'wiki_combined', 'wiki_07', 'wiki_35', 'wiki_17trendyol', 'wiki_29', 'wiki_01trendyol', 'wiki_43', 'wiki_19', 'wiki_23', 'wiki_02trendyol', 'wiki_08', 'wiki_33', 'wiki_28trendyol', 'wiki_40', 'wiki_00trendyol', 'wiki_26trendyol', 'wiki_12', 'wiki_27', 'wiki_09', 'wiki_28', 'bahaddin_eravci 2', 'wiki_25', 'wiki_26'}\n",
            "\n",
            "[✓] Koleksiyon 'wiki_20trendyol' zaten mevcut. Atlanıyor: wiki_20\n",
            "\n",
            "[✓] Koleksiyon 'wiki_21trendyol' zaten mevcut. Atlanıyor: wiki_21\n",
            "\n",
            "[✓] Koleksiyon 'wiki_22trendyol' zaten mevcut. Atlanıyor: wiki_22\n",
            "\n",
            "[✓] Koleksiyon 'wiki_23trendyol' zaten mevcut. Atlanıyor: wiki_23\n",
            "\n",
            "[✓] Koleksiyon 'wiki_24trendyol' zaten mevcut. Atlanıyor: wiki_24\n",
            "\n",
            "[✓] Koleksiyon 'wiki_25trendyol' zaten mevcut. Atlanıyor: wiki_25\n",
            "\n",
            "[✓] Koleksiyon 'wiki_26trendyol' zaten mevcut. Atlanıyor: wiki_26\n",
            "\n",
            "[✓] Koleksiyon 'wiki_27trendyol' zaten mevcut. Atlanıyor: wiki_27\n",
            "\n",
            "[✓] Koleksiyon 'wiki_28trendyol' zaten mevcut. Atlanıyor: wiki_28\n",
            "\n",
            "[✓] Koleksiyon 'wiki_29trendyol' zaten mevcut. Atlanıyor: wiki_29\n",
            "\n",
            "Tüm dosyaların işlenmesi tamamlandı.\n"
          ]
        }
      ],
      "source": [
        "import json\n",
        "import os\n",
        "import time\n",
        "from qdrant_client import QdrantClient, models\n",
        "from tqdm import tqdm\n",
        "\n",
        "\n",
        "# --- 1. Qdrant Bağlantısı (Döngüden önce bir kez yapılır) ---\n",
        "def connect_qdrant_local():\n",
        "    \"\"\"Lokal Docker Qdrant container'ına bağlanır.\"\"\"\n",
        "    try:\n",
        "        client = QdrantClient(\n",
        "            url=\"http://localhost:6333\",\n",
        "            prefer_grpc=False,\n",
        "            timeout=60.0\n",
        "        )\n",
        "        client.get_collections()\n",
        "        print(\"Qdrant'a başarıyla bağlanıldı.\")\n",
        "        return client\n",
        "    except Exception as e:\n",
        "        print(f\"Qdrant'a bağlanılamadı: {e}\")\n",
        "        return None\n",
        "\n",
        "qdrant_client = connect_qdrant_local()\n",
        "\n",
        "if qdrant_client is None:\n",
        "    exit()\n",
        "\n",
        "\n",
        "try:\n",
        "    existing_collections_response = qdrant_client.get_collections()\n",
        "    existing_collections = {col.name for col in existing_collections_response.collections}\n",
        "    print(f\"Mevcut koleksiyonlar bulundu: {existing_collections}\")\n",
        "except Exception as e:\n",
        "    print(f\"Mevcut koleksiyonlar alınamadı: {e}\")\n",
        "    existing_collections = set()\n",
        "\n",
        "\n",
        "for filename in sorted(os.listdir(DATA_FOLDER))[20:30]:\n",
        "    if not filename.startswith(\"wiki_\"):\n",
        "        continue\n",
        "\n",
        "    collection_name = os.path.splitext(filename+\"trendyol\")[0]\n",
        "    \n",
        "\n",
        "    if collection_name in existing_collections:\n",
        "        print(f\"\\n[✓] Koleksiyon '{collection_name}' zaten mevcut. Atlanıyor: {filename}\")\n",
        "        continue\n",
        "\n",
        "\n",
        "    file_path = os.path.join(DATA_FOLDER, filename)\n",
        "    print(f\"\\n{'='*50}\\n[+] İşleniyor: {filename} → Koleksiyon: {collection_name}\\n{'='*50}\")\n",
        "\n",
        "    chunks_text_list = []\n",
        "    metadata_for_qdrant = []\n",
        "    \n",
        "    with open(file_path, \"r\", encoding=\"utf-8\") as file:\n",
        "        for line_idx, line in enumerate(file):\n",
        "            try:\n",
        "                data = json.loads(line)\n",
        "                text = data.get(\"text\", \"\")\n",
        "                \n",
        "                if not text or not text.strip():\n",
        "                    continue\n",
        "\n",
        "                if nlp_tr is None: \n",
        "                    print(f\"Stanza modeli yüklenemediği için semantic chunking atlanıyor.\")\n",
        "                    break\n",
        "\n",
        "                current_doc_chunks = create_semantic_chunks_stanza(\n",
        "                    text_content=text,\n",
        "                    embed_model_instance=embed_model,\n",
        "                    stanza_nlp_model=nlp_tr,\n",
        "                    pre_segment_max_chars=600,\n",
        "                    pre_segment_max_sentences=6,\n",
        "                    similarity_threshold=0.40,\n",
        "                    final_chunk_min_pre_segments=1,\n",
        "                    final_chunk_max_pre_segments=6\n",
        "                )\n",
        "\n",
        "                if not current_doc_chunks:\n",
        "                    continue\n",
        "\n",
        "                for chunk_text in current_doc_chunks:\n",
        "                    if not chunk_text or not chunk_text.strip():\n",
        "                        continue\n",
        "                    chunks_text_list.append(chunk_text)\n",
        "                    metadata_for_qdrant.append({\n",
        "                        \"source\": f\"{filename}_line_{line_idx}\",\n",
        "                        \"original_text\": chunk_text,\n",
        "                        \"title\": data.get(\"title\", \"\"),\n",
        "                        \"url\": data.get(\"url\", \"\")\n",
        "                    })\n",
        "\n",
        "            except Exception as e:\n",
        "                print(f\"[!] {filename} - Satır {line_idx} işlenemedi: {e}\")\n",
        "\n",
        "    if not chunks_text_list:\n",
        "        print(f\"'{filename}' dosyasından hiç chunk üretilemedi. Sonraki dosyaya geçiliyor.\")\n",
        "        continue\n",
        "\n",
        "    print(f\"'{filename}' için toplam {len(chunks_text_list)} adet chunk oluşturuldu. Embedding'ler üretiliyor...\")\n",
        "\n",
        "    embeddings = embed_model.encode(chunks_text_list, show_progress_bar=True, convert_to_numpy=True)\n",
        "    vector_size = embeddings.shape[1]\n",
        "\n",
        "    # Koleksiyonu silme komutu artık gerekli değil, çünkü zaten var olmadığını biliyoruz.\n",
        "    # try:\n",
        "    #     qdrant_client.delete_collection(collection_name=collection_name)\n",
        "    # except Exception:\n",
        "    #     pass\n",
        "\n",
        "    qdrant_client.create_collection(\n",
        "        collection_name=collection_name,\n",
        "        vectors_config=models.VectorParams(size=vector_size, distance=models.Distance.COSINE),\n",
        "    )\n",
        "    print(f\"'{collection_name}' koleksiyonu oluşturuldu.\")\n",
        "\n",
        "    points = [\n",
        "        models.PointStruct(\n",
        "            id=idx,\n",
        "            vector=embeddings[idx].tolist(),\n",
        "            payload=metadata_for_qdrant[idx]\n",
        "        )\n",
        "        for idx in range(len(embeddings))\n",
        "    ]\n",
        "\n",
        "    print(f\"'{collection_name}' koleksiyonuna {len(points)} nokta yükleniyor...\")\n",
        "    qdrant_client.upsert(\n",
        "        collection_name=collection_name,\n",
        "        points=points,\n",
        "        wait=True\n",
        "    )\n",
        "\n",
        "    print(f\"'{filename}' dosyasından gelen {len(points)} nokta başarıyla '{collection_name}' koleksiyonuna yüklendi.\")\n",
        "\n",
        "print(\"\\nTüm dosyaların işlenmesi tamamlandı.\")"
      ]
    },
    {
      "cell_type": "code",
      "execution_count": 2,
      "id": "f0e92357",
      "metadata": {},
      "outputs": [
        {
          "name": "stderr",
          "output_type": "stream",
          "text": [
            "C:\\Users\\memo_\\AppData\\Local\\Temp\\ipykernel_5728\\442279460.py:9: UserWarning: Qdrant client version 1.14.3 is incompatible with server version 1.12.6. Major versions should match and minor version difference must not exceed 1. Set check_compatibility=False to skip version check.\n",
            "  client = QdrantClient(\"http://localhost:6333\")\n"
          ]
        },
        {
          "name": "stdout",
          "output_type": "stream",
          "text": [
            "[✓] 'wiki_combined_trendyol' koleksiyonu zaten mevcut. Veri eklenmeye devam edilecek.\n"
          ]
        },
        {
          "name": "stderr",
          "output_type": "stream",
          "text": [
            "Koleksiyonlar Aktarılıyor: 100%|██████████| 30/30 [01:17<00:00,  2.60s/it]"
          ]
        },
        {
          "name": "stdout",
          "output_type": "stream",
          "text": [
            "\n",
            "✅ Tüm koleksiyonlar, metadata'larıyla birlikte başarıyla 'wiki_combined' içine kopyalandı.\n"
          ]
        },
        {
          "name": "stderr",
          "output_type": "stream",
          "text": [
            "\n"
          ]
        }
      ],
      "source": [
        "from qdrant_client import QdrantClient, models\n",
        "from tqdm import tqdm\n",
        "from uuid import uuid4\n",
        "\n",
        "# -------------------- Ayarlar --------------------\n",
        "SOURCE_COLLECTIONS = [f\"wiki_{str(i).zfill(2)}trendyol\" for i in range(30)]\n",
        "TARGET_COLLECTION = \"wiki_combined_trendyol\"\n",
        "\n",
        "client = QdrantClient(\"http://localhost:6333\")\n",
        "\n",
        "# --- Eğer hedef koleksiyon yoksa oluştur ---\n",
        "existing = client.get_collections().collections\n",
        "existing_names = [col.name for col in existing]\n",
        "\n",
        "if TARGET_COLLECTION not in existing_names:\n",
        "    sample_info = client.get_collection(collection_name=SOURCE_COLLECTIONS[0])\n",
        "    vector_size = sample_info.config.params.vectors.size\n",
        "\n",
        "    client.create_collection(\n",
        "        collection_name=TARGET_COLLECTION,\n",
        "        vectors_config=models.VectorParams(size=vector_size, distance=models.Distance.COSINE),\n",
        "    )\n",
        "    print(f\"[+] '{TARGET_COLLECTION}' adlı birleşik koleksiyon oluşturuldu.\")\n",
        "else:\n",
        "    print(f\"[✓] '{TARGET_COLLECTION}' koleksiyonu zaten mevcut. Veri eklenmeye devam edilecek.\")\n",
        "\n",
        "# -------------------- Kopyalama Döngüsü --------------------\n",
        "for col in tqdm(SOURCE_COLLECTIONS, desc=\"Koleksiyonlar Aktarılıyor\"):\n",
        "    offset = 0\n",
        "    limit = 100\n",
        "    \n",
        "    while True:\n",
        "        response = client.scroll(\n",
        "            collection_name=col,\n",
        "            offset=offset,\n",
        "            limit=limit,\n",
        "            with_vectors=True,\n",
        "            with_payload=True\n",
        "        )\n",
        "\n",
        "        if not response[0]:\n",
        "            break  # Daha fazla veri yok\n",
        "\n",
        "        points = [\n",
        "            models.PointStruct(\n",
        "                id=str(uuid4()),  # benzersiz ID\n",
        "                vector=point.vector,\n",
        "                payload={\n",
        "                    **point.payload,  # tüm orijinal metadata'lar (title, url, text vs.)\n",
        "                    \"source_collection\": col  # İsteğe bağlı: hangi koleksiyondan geldi\n",
        "                }\n",
        "            )\n",
        "            for point in response[0]\n",
        "        ]\n",
        "\n",
        "        client.upsert(\n",
        "            collection_name=TARGET_COLLECTION,\n",
        "            points=points,\n",
        "            wait=True\n",
        "        )\n",
        "\n",
        "        offset += len(points)\n",
        "\n",
        "print(\"\\n✅ Tüm koleksiyonlar, metadata'larıyla birlikte başarıyla 'wiki_combined' içine kopyalandı.\")\n"
      ]
    },
    {
      "cell_type": "code",
      "execution_count": 1,
      "id": "oqqGLfHEWP9P",
      "metadata": {
        "colab": {
          "base_uri": "https://localhost:8080/"
        },
        "id": "oqqGLfHEWP9P",
        "outputId": "a43d5900-6b1e-4a09-f20f-9e56900ab802"
      },
      "outputs": [
        {
          "name": "stdout",
          "output_type": "stream",
          "text": [
            "Koleksiyon bilgileri alınırken hata oluştu: name 'qdrant_client' is not defined\n"
          ]
        }
      ],
      "source": [
        "try:\n",
        "    collection_info = qdrant_client.get_collection(collection_name=collection_name)\n",
        "    print(f\"Koleksiyon Bilgileri '{collection_name}':\")\n",
        "    print(f\"  Durum: {collection_info.status}\")\n",
        "    print(f\"  Nokta Sayısı: {collection_info.points_count}\")\n",
        "    print(f\"  Vektör Boyutu: {collection_info.config.params.vectors.size}\")\n",
        "    print(f\"  Uzaklık Metriği: {collection_info.config.params.vectors.distance}\")\n",
        "except Exception as e:\n",
        "    print(f\"Koleksiyon bilgileri alınırken hata oluştu: {e}\")"
      ]
    },
    {
      "cell_type": "code",
      "execution_count": null,
      "id": "eH1ESLgRWSgB",
      "metadata": {
        "colab": {
          "base_uri": "https://localhost:8080/"
        },
        "id": "eH1ESLgRWSgB",
        "outputId": "7abe5529-9487-42ee-ffe5-f2413a96c9a0"
      },
      "outputs": [
        {
          "name": "stderr",
          "output_type": "stream",
          "text": [
            "2025-07-08 15:30:25,421 - INFO - HTTP Request: POST https://d8f9c106-88a7-4933-bb28-d6b7b23bdc02.us-east4-0.gcp.cloud.qdrant.io:6333/collections/llmfao_collection/points/scroll \"HTTP/1.1 200 OK\"\n"
          ]
        },
        {
          "name": "stdout",
          "output_type": "stream",
          "text": [
            "\n",
            "'llmfao_collection' koleksiyonundaki noktalar (chunk'lar) çekiliyor...\n"
          ]
        },
        {
          "name": "stderr",
          "output_type": "stream",
          "text": [
            "2025-07-08 15:30:25,873 - INFO - HTTP Request: POST https://d8f9c106-88a7-4933-bb28-d6b7b23bdc02.us-east4-0.gcp.cloud.qdrant.io:6333/collections/llmfao_collection/points/scroll \"HTTP/1.1 200 OK\"\n",
            "2025-07-08 15:30:26,038 - INFO - HTTP Request: POST https://d8f9c106-88a7-4933-bb28-d6b7b23bdc02.us-east4-0.gcp.cloud.qdrant.io:6333/collections/llmfao_collection/points/scroll \"HTTP/1.1 200 OK\"\n",
            "2025-07-08 15:30:26,224 - INFO - HTTP Request: POST https://d8f9c106-88a7-4933-bb28-d6b7b23bdc02.us-east4-0.gcp.cloud.qdrant.io:6333/collections/llmfao_collection/points/scroll \"HTTP/1.1 200 OK\"\n",
            "2025-07-08 15:30:26,427 - INFO - HTTP Request: POST https://d8f9c106-88a7-4933-bb28-d6b7b23bdc02.us-east4-0.gcp.cloud.qdrant.io:6333/collections/llmfao_collection/points/scroll \"HTTP/1.1 200 OK\"\n",
            "2025-07-08 15:30:26,622 - INFO - HTTP Request: POST https://d8f9c106-88a7-4933-bb28-d6b7b23bdc02.us-east4-0.gcp.cloud.qdrant.io:6333/collections/llmfao_collection/points/scroll \"HTTP/1.1 200 OK\"\n",
            "2025-07-08 15:30:26,809 - INFO - HTTP Request: POST https://d8f9c106-88a7-4933-bb28-d6b7b23bdc02.us-east4-0.gcp.cloud.qdrant.io:6333/collections/llmfao_collection/points/scroll \"HTTP/1.1 200 OK\"\n",
            "2025-07-08 15:30:27,004 - INFO - HTTP Request: POST https://d8f9c106-88a7-4933-bb28-d6b7b23bdc02.us-east4-0.gcp.cloud.qdrant.io:6333/collections/llmfao_collection/points/scroll \"HTTP/1.1 200 OK\"\n",
            "2025-07-08 15:30:27,221 - INFO - HTTP Request: POST https://d8f9c106-88a7-4933-bb28-d6b7b23bdc02.us-east4-0.gcp.cloud.qdrant.io:6333/collections/llmfao_collection/points/scroll \"HTTP/1.1 200 OK\"\n",
            "2025-07-08 15:30:27,404 - INFO - HTTP Request: POST https://d8f9c106-88a7-4933-bb28-d6b7b23bdc02.us-east4-0.gcp.cloud.qdrant.io:6333/collections/llmfao_collection/points/scroll \"HTTP/1.1 200 OK\"\n"
          ]
        },
        {
          "name": "stdout",
          "output_type": "stream",
          "text": [
            "Toplam 939 nokta (chunk) çekildi.\n",
            "\n",
            "--- Chunk 1 (ID: 0) ---\n",
            "  Kaynak: wikipedia_documents/wikipedia_500.docx\n",
            "  Dosya İçi Chunk ID: 0\n",
            "  Orijinal Metin: Henry Edwards ( entomolog ) \" Harry\" olarak bilinen Henry Edwards ( 27 Ağustos 1827 - 9 Haziran 1891 ) , tiyatro çalışmalarıyla Avustralya , San Francisco ve New York'ta ün kazanan bir İngiliz tiyatro...\n",
            "\n",
            "--- Chunk 2 (ID: 1) ---\n",
            "  Kaynak: wikipedia_documents/wikipedia_500.docx\n",
            "  Dosya İçi Chunk ID: 1\n",
            "  Orijinal Metin: Avustralya'ya yelken açtıktan sonra Edwards , özellikle Melbourne ve Sidney'de Shakespeare oyunlarında ve hafif komedilerde profesyonel olarak rol aldı . İngiltere'de ki çocukluğu ve Avustrala'da ki o...\n",
            "\n",
            "--- Chunk 3 (ID: 2) ---\n",
            "  Kaynak: wikipedia_documents/wikipedia_500.docx\n",
            "  Dosya İçi Chunk ID: 2\n",
            "  Orijinal Metin: Edwards , San Francisco'da Bohemian Club'ın kurucu üyelerinden biri ydi ve kendisinin onuruna düzenlenen bir etkinlik sonrası , kulübün Bohemian Grove'da ki geleneksel yaz kampını hayata geçirildi . B...\n",
            "\n",
            "--- Chunk 4 (ID: 3) ---\n",
            "  Kaynak: wikipedia_documents/wikipedia_500.docx\n",
            "  Dosya İçi Chunk ID: 3\n",
            "  Orijinal Metin: Doğu Kıyısı'na taşınan Edwards , Boston tiyatrosunda kısa bir süre geçirdi . Bu sürede , Wallack's Theatre ile bir bağlantı kurdu ve New York City'de daha fazla tanındı . Orada , Edwards \" Papilio\" de...\n",
            "\n",
            "--- Chunk 5 (ID: 4) ---\n",
            "  Kaynak: wikipedia_documents/wikipedia_500.docx\n",
            "  Dosya İçi Chunk ID: 4\n",
            "  Orijinal Metin: Kelebekleri hobi olarak topladı ve onları Edward Doubleday'in vesayeti altında inceledi . Avukat olan babası , oğlu için bir hukuk kariyeri planladı , ancak kısa bir başarısız çalışma döneminin ardınd...\n",
            "\n",
            "--- Chunk 6 (ID: 5) ---\n",
            "  Kaynak: wikipedia_documents/wikipedia_500.docx\n",
            "  Dosya İçi Chunk ID: 5\n",
            "  Orijinal Metin: Daha sonra Avustralya'ya , Melbourne'un kuzey - batısında , Merri Creek kıyısı boyunca , o zamanlar Merrivale olarak adlandırılan bir yere yerleşmiş olan kardeşi William'ın yanına gitmek üzere yola çı...\n",
            "\n",
            "--- Chunk 7 (ID: 6) ---\n",
            "  Kaynak: wikipedia_documents/wikipedia_500.docx\n",
            "  Dosya İçi Chunk ID: 6\n",
            "  Orijinal Metin: Shakespeare'in \" The Taming of the Shrew' ad lı oyununda\" erkek başrol karakteri olan Petruchio rolü , Kasım 1859'da Sidney'de ki Princess's Theatre'da Edwards tarafından oynandı . O yılın Aralık ayın...\n",
            "\n",
            "--- Chunk 8 (ID: 7) ---\n",
            "  Kaynak: wikipedia_documents/wikipedia_500.docx\n",
            "  Dosya İçi Chunk ID: 7\n",
            "  Orijinal Metin: Brooke , Edwards ve Rowe altında oynamaya devam etti : Nisan 1860'ta Dion Boucicault'un aynı adlı oyununda XILouis olarak en önem li performansını gerçekleştirken , Nemours Dükü Jacques d'Armagnac'ı o...\n",
            "\n",
            "--- Chunk 9 (ID: 8) ---\n",
            "  Kaynak: wikipedia_documents/wikipedia_500.docx\n",
            "  Dosya İçi Chunk ID: 8\n",
            "  Orijinal Metin: Ağustos ayında yeniden sahneyi paylaşan Brooke ve Edwards , Melbourne'da Shakespeare'in \" The Comedy of Errors\" ad lı oyununda ki ikiz erkek kardeşleri canlandırdılar ve bu eserin Avustrala'da ki ilk ...\n",
            "\n",
            "--- Chunk 10 (ID: 9) ---\n",
            "  Kaynak: wikipedia_documents/wikipedia_500.docx\n",
            "  Dosya İçi Chunk ID: 9\n",
            "  Orijinal Metin: Bununla birlikte , Edwards'ın tüm performansları başarılı olmadı : Shakespeare'in \" Measure for Measure\"'da ki Angelo rolü , drama eleştirmeni William John Lawrence tarafından \"omurgasız\" olarak adlan...\n"
          ]
        }
      ],
      "source": [
        "all_points = []\n",
        "next_page_offset = None  # Başlangıçta offset yok\n",
        "\n",
        "print(f\"\\n'{collection_name}' koleksiyonundaki noktalar (chunk'lar) çekiliyor...\")\n",
        "\n",
        "try:\n",
        "    while True:\n",
        "        # Scroll ile bir sonraki sayfayı al\n",
        "        # limit: Her seferinde kaç nokta çekileceği\n",
        "        # with_payload=True: Payload'ı da al (metin ve metadata burada)\n",
        "        # with_vectors=False: Vektörleri çekmek istemiyorsanız (daha hızlı olabilir)\n",
        "        records, next_page_offset = qdrant_client.scroll(\n",
        "            collection_name=collection_name,\n",
        "            limit=100,  # Her seferinde 100 nokta çek\n",
        "            offset=next_page_offset,\n",
        "            with_payload=True,\n",
        "            with_vectors=False # Vektörlere ihtiyacınız yoksa False yapın\n",
        "        )\n",
        "\n",
        "        if not records:\n",
        "            # Daha fazla nokta kalmadıysa döngüden çık\n",
        "            break\n",
        "\n",
        "        all_points.extend(records)\n",
        "\n",
        "        # Eğer bir sonraki sayfa için offset None ise (son sayfa demek olabilir)\n",
        "        if next_page_offset is None:\n",
        "            break\n",
        "\n",
        "    print(f\"Toplam {len(all_points)} nokta (chunk) çekildi.\")\n",
        "\n",
        "    # İlk birkaç chunk'ı (payload'ını) yazdıralım\n",
        "    for i, point in enumerate(all_points[:10]): # İlk 5 tanesini göster\n",
        "        print(f\"\\n--- Chunk {i+1} (ID: {point.id}) ---\")\n",
        "        if point.payload:\n",
        "            print(f\"  Kaynak: {point.payload.get('source', 'N/A')}\")\n",
        "            print(f\"  Dosya İçi Chunk ID: {point.payload.get('chunk_id_in_file', 'N/A')}\")\n",
        "            print(f\"  Orijinal Metin: {point.payload.get('original_text', 'N/A')[:200]}...\") # Metnin ilk 200 karakteri\n",
        "        else:\n",
        "            print(\"  Payload bulunamadı.\")\n",
        "\n",
        "except Exception as e:\n",
        "    print(f\"Noktalar çekilirken hata oluştu: {e}\")\n",
        "    import traceback\n",
        "    traceback.print_exc()"
      ]
    },
    {
      "cell_type": "code",
      "execution_count": 23,
      "id": "f77ec33d",
      "metadata": {
        "id": "f77ec33d"
      },
      "outputs": [],
      "source": [
        "# --- 5. Retrieve Fonksiyonu ---\n",
        "def retrieve_top_k(query: str, k: int = 5):\n",
        "    q_emb = embed_model.encode([query], convert_to_numpy=True)[0]\n",
        "    search_result = qdrant_client.search(\n",
        "        collection_name=collection_name,\n",
        "        query_vector=q_emb.tolist(),\n",
        "        limit=k,\n",
        "        with_payload=True\n",
        "    )\n",
        "    results = []\n",
        "    for hit in search_result:\n",
        "        payload = hit.payload\n",
        "        score = hit.score\n",
        "        # idx = hit.id # Bu ID, Qdrant'a yüklerken verdiğiniz ID (0, 1, 2...)\n",
        "\n",
        "        src = payload.get(\"source\", \"<unknown_source>\")\n",
        "        # chunk_id_in_file, payload'da sakladığınız isimle eşleşmeli\n",
        "        chunk_id_file = payload.get(\"chunk_id_in_file\", -1)\n",
        "\n",
        "        # En önemlisi: Metni payload'dan alıyoruz!\n",
        "        text = payload.get(\"original_text\", \"<text_not_found_in_payload>\")\n",
        "\n",
        "        results.append({\n",
        "            \"source\": src,\n",
        "            \"chunk_id_in_file\": chunk_id_file,\n",
        "            \"score\": score,\n",
        "            \"text\": text  # Payload'dan gelen metin\n",
        "        })\n",
        "    return results"
      ]
    },
    {
      "cell_type": "code",
      "execution_count": null,
      "id": "ec25c3c4",
      "metadata": {
        "colab": {
          "base_uri": "https://localhost:8080/",
          "height": 66,
          "referenced_widgets": [
            "51d7e6c1feba422f825d20fb3c3e9005",
            "0fbeb77f85384b8cb62e64d124f2f103",
            "de3fb491d2e34b0b8c9cae6a92df39e4",
            "ddd8027bc1904b9a9911a94f7eddbf61",
            "d06d6257c96c49679f8123d0bf769ae2",
            "12ff8bef7c5945e095118c9c5caa5124",
            "17d9eefdc61a49b9925ce25f0cba4d9c",
            "3e77d7589bae490e92b99f50510c132e",
            "257e219cabf14e4387a9e468f1fddd99",
            "892c8dd6a8604c918cd983566c47f817",
            "c8181c0611584e458d9140d498707492"
          ]
        },
        "id": "ec25c3c4",
        "outputId": "9161a9f5-7a60-4116-ef09-2446e8f6c0b1"
      },
      "outputs": [
        {
          "data": {
            "application/vnd.jupyter.widget-view+json": {
              "model_id": "51d7e6c1feba422f825d20fb3c3e9005",
              "version_major": 2,
              "version_minor": 0
            },
            "text/plain": [
              "Loading checkpoint shards:   0%|          | 0/4 [00:00<?, ?it/s]"
            ]
          },
          "metadata": {},
          "output_type": "display_data"
        },
        {
          "name": "stderr",
          "output_type": "stream",
          "text": [
            "Device set to use cuda:0\n"
          ]
        }
      ],
      "source": [
        "\"\"\"# --- 6. Hugging Face LLM Entegrasyonu ---\n",
        "\n",
        "model_id = \"ytu-ce-cosmos/Turkish-Gemma-9b-v0.1\"\n",
        "\n",
        "quantization_config = BitsAndBytesConfig(\n",
        "    load_in_8bit=True,\n",
        ")\n",
        "\n",
        "# 1) Tokenizer\n",
        "tokenizer = AutoTokenizer.from_pretrained(model_id)\n",
        "\n",
        "# 2) Model\n",
        "model = AutoModelForCausalLM.from_pretrained(\n",
        "    model_id,\n",
        "    quantization_config=quantization_config,\n",
        "    device_map=\"auto\",\n",
        "    max_memory={\n",
        "        0: \"20GB\",    # GPU: 20 GB\n",
        "        \"cpu\": \"48GB\" # CPU: geri kalan\n",
        "    },\n",
        ")\n",
        "\n",
        "# 3) Pipeline – mutlaka burada tanımla\n",
        "text_generator = pipeline(\n",
        "    \"text-generation\",\n",
        "    model=model,\n",
        "    tokenizer=tokenizer\n",
        ")\n",
        "\"\"\""
      ]
    },
    {
      "cell_type": "code",
      "execution_count": 24,
      "id": "eb07d92c",
      "metadata": {},
      "outputs": [],
      "source": [
        "import requests\n",
        "\n",
        "def ollama_generate(prompt, model=\"gemma:2b\", max_tokens=1024, temperature=0.6):\n",
        "    try:\n",
        "        response = requests.post(\n",
        "            \"http://localhost:11434/api/generate\",\n",
        "            json={\n",
        "                \"model\": model,\n",
        "                \"prompt\": prompt,\n",
        "                \"stream\": False,\n",
        "                \"options\": {\n",
        "                    \"temperature\": temperature,\n",
        "                    \"num_predict\": max_tokens,\n",
        "                    \"top_p\": 0.9\n",
        "                }\n",
        "            }\n",
        "        )\n",
        "\n",
        "        if response.status_code == 200:\n",
        "            json_data = response.json()\n",
        "            return json_data.get(\"response\", \"[cevap bulunamadı]\")\n",
        "        else:\n",
        "            print(\"Hata:\", response.text)\n",
        "            return \"[API Hatası]\"\n",
        "\n",
        "    except Exception as e:\n",
        "        print(\"İstisna oluştu:\", e)\n",
        "        return \"[HATA]\"\n"
      ]
    },
    {
      "cell_type": "code",
      "execution_count": 25,
      "id": "208af205",
      "metadata": {},
      "outputs": [],
      "source": [
        "def rag_answer(query: str):\n",
        "    # Retrieve (aynı kalıyor)\n",
        "    results = retrieve_top_k(query, k=5)\n",
        "    print(\"Toplam bulunan kaynak sayısı:\", len(results)) \n",
        "    if not results:\n",
        "        print(\"Uyarı: Qdrant veri tabanı bu sorguya sonuç döndürmedi.\")\n",
        "        return \"[Bilgi bulunamadı]\"\n",
        "    # Kaynak metinleri oluştur\n",
        "    sources_text = \"\\n\\n\".join(\n",
        "        f\"[{i+1}] Skor: {r['score']:.4f}\\n{r['text']}\"\n",
        "        for i, r in enumerate(results)\n",
        "    )\n",
        "\n",
        "    # Prompt\n",
        "    prompt = (\n",
        "        \"Sen bir Türkçe NLP uzmanısın. Aşağıdaki kaynaklara dayanarak soruyu yanıtla:\\n\\n\"\n",
        "        f\"Soru: {query}\\n\\n\"\n",
        "        f\"Kaynaklar:\\n{sources_text}\\n\\n\"\n",
        "        \"Cevabı açıkla:\"\n",
        "    )\n",
        "    print(\"Oluşan prompt:\\n\", prompt)\n",
        "\n",
        "    answer = ollama_generate(prompt)\n",
        "    \n",
        "    return answer\n"
      ]
    },
    {
      "cell_type": "code",
      "execution_count": null,
      "id": "f3dccd6c",
      "metadata": {
        "id": "f3dccd6c"
      },
      "outputs": [],
      "source": [
        "\"\"\"#gemma 9b için\n",
        "\n",
        "def rag_answer(query: str):\n",
        "    # Retrieve\n",
        "    results = retrieve_top_k(query, k=5)\n",
        "    # Kaynak metinleri oluştur\n",
        "    sources_text = \"\\n\\n\".join(\n",
        "        f\"[{i+1}] Skor: {r['score']:.4f}\\n{r['text']}\"\n",
        "        for i, r in enumerate(results)\n",
        "    )\n",
        "    # Prompt\n",
        "    prompt = (\n",
        "        \"Sen Türkçe NLP uzmanısın. Aşağıdaki kaynaklara dayanarak soruyu yanıtla:\\n\\n\"\n",
        "        f\"Soru: {query}\\n\\n\"\n",
        "        f\"Kaynaklar:\\n{sources_text}\\n\\n\"\n",
        "        \"Cevabı açıkla:\"\n",
        "    )\n",
        "\n",
        "    # Cevap üret\n",
        "    output = text_generator(\n",
        "        prompt,\n",
        "        max_new_tokens=512,\n",
        "        do_sample=True,\n",
        "        temperature=0.6,\n",
        "        top_p=0.9\n",
        "    )\n",
        "    return output[0][\"generated_text\"]\"\"\""
      ]
    },
    {
      "cell_type": "code",
      "execution_count": 26,
      "id": "bbbb1483",
      "metadata": {
        "colab": {
          "base_uri": "https://localhost:8080/"
        },
        "id": "bbbb1483",
        "outputId": "594ede75-f070-48b2-ceed-db0dd3dbc70e"
      },
      "outputs": [
        {
          "name": "stderr",
          "output_type": "stream",
          "text": [
            "Batches: 100%|██████████| 1/1 [00:01<00:00,  1.19s/it]\n",
            "C:\\Users\\memo_\\AppData\\Local\\Temp\\ipykernel_11916\\3056576069.py:4: DeprecationWarning: `search` method is deprecated and will be removed in the future. Use `query_points` instead.\n",
            "  search_result = qdrant_client.search(\n",
            "2025-07-20 18:36:55,778 - INFO - HTTP Request: POST http://localhost:6333/collections/wiki_09/points/search \"HTTP/1.1 200 OK\"\n"
          ]
        },
        {
          "name": "stdout",
          "output_type": "stream",
          "text": [
            "Toplam bulunan kaynak sayısı: 5\n",
            "Oluşan prompt:\n",
            " Sen bir Türkçe NLP uzmanısın. Aşağıdaki kaynaklara dayanarak soruyu yanıtla:\n",
            "\n",
            "Soru: Henry Edwards kimdir?\n",
            "\n",
            "Kaynaklar:\n",
            "[1] Skor: 0.4825\n",
            "John Reid Edwards ( 10 Haziran 1953 ) , Kuzey Karolina eski senatörü . 2004'te ki başkanlık seçimlerinde John Kerry'nin başkan yardımcısı adayı idi . İlk yılları . John Edwards Güney Karolina eyaletinin Seneca ilinde doğdu , sonra Kuzey Karolina eyaletinde Robbins'te yaşadı . Babası bir tekstil çalışanı ydı , annesi ise postanede çalışıyordu . Ailesinde üniversiteye giden ilk kişi ydi . Güney Karolina'da Clemson University'de Amerikan Futbolu bursu ile okudu , ardından da North Carolina State University'ye geçti . Tekstil teknolojisi branşında 1974'te mezun olan Edwards , University of North Carolina at Chapel Hill'de hukuk eğitimi aldı . Bu son iki üniversitede üstün başarı ile şeref listesine girdi . Hukuk okurken hukuk öğrencisi Elizabeth Anania ile tanıştı ve evlendi . Hukuk kariyeri . Politikaya atılmadan önce , Edwards oldukça başarılı bir avukattı ve haksızca sakatlanmış aile ve çocukların haklarını savunuyordu . Bu süre içerisinde de oldukça başarılı ve zengin oldu . Kariyeri'nin en önem li davası Sta - Rite aleyhinde kazandığı dava ydı , şirket kanalizasyon havuzu açarken Valerie Lakey isim li bir kız çocuğunun sakatlanmasına sebebiyet vermişti . Şirketin bütün tekliflerini reddeden Edwards , 25 milyon dolarlık bir dava kazanmış oldu . Bu da kişisel sakatlanma davalarında , Kuzey Karolina tarihinin en büyük ödülünü temsil ediyordu . Avukatlar ve hukuk öğrencileri , Edwards'ın notlarına bakmadan yaptığı 2 saat süren kapanış konuşmasını ayakta alkışladılar . Tecrübeleri , kişisel sakatlanma davalarında olan Edwards ; kendini \" küçük adam\"'ı savunan insan olarak sundu . Eleştirenler ise , Edwards'ın sadece kazanacağından emin olduğu davalara baktığını , bir avukat'ın herkesi savunmaya çalışması gerekir diyerek karşısında bulundular . Edwards ve eşi Elizabeth'in dört çocuğu oldu . İlk ikisi , Wade ve Catherine , evlendiklerinden kısa bir süre sonra doğmuştu . 1996'da Lakey davasından sadece 1 ay önce , Edwards oğlu Wade'i bir otomobil kazasında kaybetti . Onun anısına Edwards , Wade'in oğlunun Outward Bound rozetini taşımakta dır . Wade öldükten sonra , Edwards ve eşi iki çocuk daha yapmaya karar verdiler ; Emma Claire ( 1999 ) ve Jack ( 2001 ) ailelerine katıldı . Edwards ailesi halen Raleigh , Kuzey Karolina ve Washington'da yaşamakta dır ; ayrıca Wilmington , Kuzey Karolina'da denize yakın bir evi bulunmakta dır . Kasım 2003'te , başkanlık tanıtımlarında Edwards ( John Auchard ile ) Four Trials isim li otobiyografi kitabını yayınladı . Senato yılları .\n",
            "\n",
            "[2] Skor: 0.4191\n",
            "William Jefferson Clinton veya bilinen adıyla Bill Clinton ( d. 19 Ağustos 1946 ) , 1993'ten 2001'e kadar 42 . Amerika Birleşik Devletleri başkanı olarak görev yapan Amerikalı siyaset çi ve hukuk çu . Demokrat Parti üyesi olan Clinton , daha önce 1979 ile 1981 yılları arasında ve 1983 ile 1992 yılları arasında Arkansas valisi olarak görev yaptı . Politikaları merkezci bir \" Üçüncü Yol\" siyasi felsefesini yansıtan Clinton , Yeni Demokrat olarak tanındı . Clinton , Arkansas'ta doğdu ve büyüdü . Georgetown Üniversitesi'nden 1968 yılında mezun oldu ve daha sonra gelecekte ki eşi Hillary Rodham ile tanıştığı Yale Hukuk Fakültesi'nden mezun oldu . Hukuk fakültesinden mezun olduktan sonra Arkansas'a dönen Clinton , eyalet başsavcısı olarak seçildi ve ardından Arkansas valisi olarak arka arkaya iki dönem görev yaptı . Vali olarak eyaletin eğitim sistemini elden geçirdi ve Ulusal Valiler Birliği'nin başkanlığını yaptı . Clinton , 1992 seçimlerinde görevde ki Cumhuriyetçi Parti başkanı George H . W . Bush ve bağımsız işadamı Ross Perot'u yenerek başkan seçildi . Baby Boomers kuşağında doğan ilk başkan oldu . Clinton , Amerikan tarihinde ki en uzun barış zamanı ekonomik genişleme dönemine başkanlık etti . Kuzey Amerika Serbest Ticaret Anlaşması'nı ve Şiddet Suçlarının Kontrolü ve Kanun Uygulama Yasası'nı imzaladı , ancak ulusal sağlık reformu planını geçiremedi . 1990'ların ortalarından itibaren , iç politikada çok daha muhafazakâr hale gelerek ideolojik bir evrim geçirmeye başladı ve Kişisel Sorumluluk ve İş Fırsatı Yasası , Eyalet Çocukları Sağlık Sigortası Programı ve mali deregülasyon önlemlerini savundu ve imzaladı . ABD Yüce Mahkemesi'ne Ruth Bader Ginsburg ve Stephen Breyer'i atadı . Dış politikada Clinton , Bosna ve Kosova savaşlarına ABD'nin askeri müdahalesini emretti ve sonunda Dayton Barış anlaşmasını imzaladı . Ayrıca NATO'nun Doğu Avrupa'da genişlemesi için çağrıda bulundu ve birçok eski Varşova Paktı üyesi onun başkanlığı sırasında NATO'ya katıldı . Clinton'ın Orta Doğu'da ki dış politikası , Saddam Hüseyin'e karşı gruplara yardım sağlayan Irak'ı Özgürleştirme Yasası'nı imzalamasına tanık oldu .\n",
            "\n",
            "[3] Skor: 0.3515\n",
            "İlk ön seçimler olan Iowa ön seçimleri oldukça şaşırtıcı bir şekilde sonuçlanmış ; John Kerry % 38 ile birinci , John Edwards % 32 ile ikinci , Howard Dean % 18 ile üçüncü , Dick Gephardt ise % 11 ile dördüncü sırada yer almıştır . Bu sonuçlar karşısında Dick Gephardt yarıştan çekildiğini açıklamıştır . Bundan sonra yapılan iki ön seçimden de yenik olarak ayrılan Howard Dean adaylıktan çekildiğini açıklamış , John Kerry ve John Edwards iki önde gelen aday adayı olarak kalmış lardır . John Edwards , ancak 2004 yılının Mart ayı sonlarında adaylığı elde edemeyeceği kesinleşince çekildiğini açıklamıştır . 6 Temmuz 2004'te John Kerry Başkan Yardımcısı adayı olarak John Edwards'ı seçtiğini açıklamış , bu ikilinin resmî adaylar olarak belirlenmesi aynı ayın sonlarında Boston'da düzenlenen Demokrat Parti Genel Kurulunda karara bağlanmıştır . Bu Genel Kurul , aynı zamanda Barack Obama'nin oldukça etkile yici bir konuşma yaptığı ve pek çok gözlemciye göre geleceğin başkan adaylarından biri olarak belirdiği ilk olay dır . Sonuçlar .\n",
            "\n",
            "[4] Skor: 0.3440\n",
            "Emerson , R . L. van Nice , P . A . Underwood , T . Whittemore , E . Hawkins , R.\n",
            "\n",
            "[5] Skor: 0.3347\n",
            "Amerika’nın ilk bestecileri arasında , Boston’da doğan ve 1770’lerde vatansever ilahiler besteleyen William Billings yer almakta dır . Billings , ilk dönemlerinde Amerikan müziğine hakim olan Birinci New England Okulu'nun bir parçası ydı . Anthony Heinrich , İç Savaş'tan önce en önde gelen besteci ydi . Geç Romantik dönem bestecilerinden John Philip Sousa , özellikle marş türünde yaptığı eserlerle tanınmış ve Amerika’nın en büyük bestecilerinden biri kabul edilmiştir . Afro - Amerikan müziğinin ritmik ve lirik tarzları , Amerikan müziğini Avrupa ve Afrika geleneklerinden ayırarak önem li ölçüde etkilemiştir . Blues ve \"old - time music\" olarak bilinen halk müziği öğeleri , zamanla benimsenmiş ve dünya çapında dinle yici kitlesine sahip popüler türlere dönüşmüştür . Caz , 20. yüzyılın başlarında Louis Armstrong ve Duke Ellington gibi yenilikçiler tarafından geliştirilmiştir . Country müzik 1920'lerde , ritim ve blues ise 1940'larda gelişmiştir . 1990’larda Tupac Shakur , Nas ve Eminem gibi sanatçılarla öne çıkan hip hop türü , 2010’lar ve 2020’lerde Kanye West , Kendrick Lamar , Lil Wayne ve Nicki Minaj gibi isimlerle popülerliğini sürdürmüştür . Elvis Presley ve Chuck Berry 1950'lerin ortalarında rock and roll'un öncüleri arasında yer almıştır . Metallica , The Eagles ve Aerosmith gibi rock grupları dünya çapında en çok satış yapan gruplar arasında yer almakta dır . 1960'larda Bob Dylan , folk uyanışının içinden çıkarak Amerika'nın en ünlü şarkı yazarlarından biri haline geldi . Bing Crosby , Frank Sinatra ve Elvis Presley gibi 20. yüzyıl ortası Amerikan pop yıldızları , Michael Jackson , Madonna , Barbra Streisand , Whitney Houston , Mariah Carey , Bruce Springsteen ve Prince gibi 20. yüzyıl sonu sanatçıları gibi küresel ünlüler haline gelmiştir . Medya . ABD'de ki dört büyük yayıncı kuruluş National Broadcasting Company ( NBC ) , Columbia Broadcasting System ( CBS ) , American Broadcasting Company ( ABC ) ve Fox Broadcasting Compan y'dir ( FOX ) . Yayın yapan dört büyük televizyon ağının hepsi ticari kuruluştur .\n",
            "\n",
            "Cevabı açıkla:\n",
            "Henry Edwards , John Edwards'ın eşi ve politikacıdır.\n"
          ]
        }
      ],
      "source": [
        "# --- 7. Örnek Kullanım ---\n",
        "if __name__ == \"__main__\":\n",
        "    question = \"Henry Edwards kimdir?\"\n",
        "    answer = rag_answer(question)\n",
        "    print(answer)\n"
      ]
    }
  ],
  "metadata": {
    "accelerator": "GPU",
    "colab": {
      "gpuType": "L4",
      "provenance": []
    },
    "kernelspec": {
      "display_name": "Python 3",
      "name": "python3"
    },
    "language_info": {
      "codemirror_mode": {
        "name": "ipython",
        "version": 3
      },
      "file_extension": ".py",
      "mimetype": "text/x-python",
      "name": "python",
      "nbconvert_exporter": "python",
      "pygments_lexer": "ipython3",
      "version": "3.10.11"
    },
    "widgets": {
      "application/vnd.jupyter.widget-state+json": {
        "02249c63a5c247dc868431f536e45110": {
          "model_module": "@jupyter-widgets/controls",
          "model_module_version": "1.5.0",
          "model_name": "DescriptionStyleModel",
          "state": {
            "_model_module": "@jupyter-widgets/controls",
            "_model_module_version": "1.5.0",
            "_model_name": "DescriptionStyleModel",
            "_view_count": null,
            "_view_module": "@jupyter-widgets/base",
            "_view_module_version": "1.2.0",
            "_view_name": "StyleView",
            "description_width": ""
          }
        },
        "04fc34a016dd47bcbb816fa2e2b9b65e": {
          "model_module": "@jupyter-widgets/controls",
          "model_module_version": "1.5.0",
          "model_name": "DescriptionStyleModel",
          "state": {
            "_model_module": "@jupyter-widgets/controls",
            "_model_module_version": "1.5.0",
            "_model_name": "DescriptionStyleModel",
            "_view_count": null,
            "_view_module": "@jupyter-widgets/base",
            "_view_module_version": "1.2.0",
            "_view_name": "StyleView",
            "description_width": ""
          }
        },
        "05ca20479faf44e8a188bf049f8a9578": {
          "model_module": "@jupyter-widgets/controls",
          "model_module_version": "1.5.0",
          "model_name": "ProgressStyleModel",
          "state": {
            "_model_module": "@jupyter-widgets/controls",
            "_model_module_version": "1.5.0",
            "_model_name": "ProgressStyleModel",
            "_view_count": null,
            "_view_module": "@jupyter-widgets/base",
            "_view_module_version": "1.2.0",
            "_view_name": "StyleView",
            "bar_color": null,
            "description_width": ""
          }
        },
        "0944a7ef799d47d0b42297e8cdba67b8": {
          "model_module": "@jupyter-widgets/controls",
          "model_module_version": "1.5.0",
          "model_name": "ProgressStyleModel",
          "state": {
            "_model_module": "@jupyter-widgets/controls",
            "_model_module_version": "1.5.0",
            "_model_name": "ProgressStyleModel",
            "_view_count": null,
            "_view_module": "@jupyter-widgets/base",
            "_view_module_version": "1.2.0",
            "_view_name": "StyleView",
            "bar_color": null,
            "description_width": ""
          }
        },
        "0d031768ecb244a1adf1df99e2bff2bd": {
          "model_module": "@jupyter-widgets/base",
          "model_module_version": "1.2.0",
          "model_name": "LayoutModel",
          "state": {
            "_model_module": "@jupyter-widgets/base",
            "_model_module_version": "1.2.0",
            "_model_name": "LayoutModel",
            "_view_count": null,
            "_view_module": "@jupyter-widgets/base",
            "_view_module_version": "1.2.0",
            "_view_name": "LayoutView",
            "align_content": null,
            "align_items": null,
            "align_self": null,
            "border": null,
            "bottom": null,
            "display": null,
            "flex": null,
            "flex_flow": null,
            "grid_area": null,
            "grid_auto_columns": null,
            "grid_auto_flow": null,
            "grid_auto_rows": null,
            "grid_column": null,
            "grid_gap": null,
            "grid_row": null,
            "grid_template_areas": null,
            "grid_template_columns": null,
            "grid_template_rows": null,
            "height": null,
            "justify_content": null,
            "justify_items": null,
            "left": null,
            "margin": null,
            "max_height": null,
            "max_width": null,
            "min_height": null,
            "min_width": null,
            "object_fit": null,
            "object_position": null,
            "order": null,
            "overflow": null,
            "overflow_x": null,
            "overflow_y": null,
            "padding": null,
            "right": null,
            "top": null,
            "visibility": null,
            "width": null
          }
        },
        "0f1ccd22962d42fd9d8bc5680ec6fdb3": {
          "model_module": "@jupyter-widgets/controls",
          "model_module_version": "1.5.0",
          "model_name": "HTMLModel",
          "state": {
            "_dom_classes": [],
            "_model_module": "@jupyter-widgets/controls",
            "_model_module_version": "1.5.0",
            "_model_name": "HTMLModel",
            "_view_count": null,
            "_view_module": "@jupyter-widgets/controls",
            "_view_module_version": "1.5.0",
            "_view_name": "HTMLView",
            "description": "",
            "description_tooltip": null,
            "layout": "IPY_MODEL_29cc1457fd9b4f13982185370f13bf40",
            "placeholder": "​",
            "style": "IPY_MODEL_04fc34a016dd47bcbb816fa2e2b9b65e",
            "value": "Downloading https://raw.githubusercontent.com/stanfordnlp/stanza-resources/main/resources_1.10.0.json: "
          }
        },
        "0fbeb77f85384b8cb62e64d124f2f103": {
          "model_module": "@jupyter-widgets/controls",
          "model_module_version": "1.5.0",
          "model_name": "HTMLModel",
          "state": {
            "_dom_classes": [],
            "_model_module": "@jupyter-widgets/controls",
            "_model_module_version": "1.5.0",
            "_model_name": "HTMLModel",
            "_view_count": null,
            "_view_module": "@jupyter-widgets/controls",
            "_view_module_version": "1.5.0",
            "_view_name": "HTMLView",
            "description": "",
            "description_tooltip": null,
            "layout": "IPY_MODEL_12ff8bef7c5945e095118c9c5caa5124",
            "placeholder": "​",
            "style": "IPY_MODEL_17d9eefdc61a49b9925ce25f0cba4d9c",
            "value": "Loading checkpoint shards: 100%"
          }
        },
        "12ff8bef7c5945e095118c9c5caa5124": {
          "model_module": "@jupyter-widgets/base",
          "model_module_version": "1.2.0",
          "model_name": "LayoutModel",
          "state": {
            "_model_module": "@jupyter-widgets/base",
            "_model_module_version": "1.2.0",
            "_model_name": "LayoutModel",
            "_view_count": null,
            "_view_module": "@jupyter-widgets/base",
            "_view_module_version": "1.2.0",
            "_view_name": "LayoutView",
            "align_content": null,
            "align_items": null,
            "align_self": null,
            "border": null,
            "bottom": null,
            "display": null,
            "flex": null,
            "flex_flow": null,
            "grid_area": null,
            "grid_auto_columns": null,
            "grid_auto_flow": null,
            "grid_auto_rows": null,
            "grid_column": null,
            "grid_gap": null,
            "grid_row": null,
            "grid_template_areas": null,
            "grid_template_columns": null,
            "grid_template_rows": null,
            "height": null,
            "justify_content": null,
            "justify_items": null,
            "left": null,
            "margin": null,
            "max_height": null,
            "max_width": null,
            "min_height": null,
            "min_width": null,
            "object_fit": null,
            "object_position": null,
            "order": null,
            "overflow": null,
            "overflow_x": null,
            "overflow_y": null,
            "padding": null,
            "right": null,
            "top": null,
            "visibility": null,
            "width": null
          }
        },
        "15ea29391a674d4595782259a66465f1": {
          "model_module": "@jupyter-widgets/controls",
          "model_module_version": "1.5.0",
          "model_name": "FloatProgressModel",
          "state": {
            "_dom_classes": [],
            "_model_module": "@jupyter-widgets/controls",
            "_model_module_version": "1.5.0",
            "_model_name": "FloatProgressModel",
            "_view_count": null,
            "_view_module": "@jupyter-widgets/controls",
            "_view_module_version": "1.5.0",
            "_view_name": "ProgressView",
            "bar_style": "success",
            "description": "",
            "description_tooltip": null,
            "layout": "IPY_MODEL_8d4e2cc5b01d47ed821d3ba9e0f92712",
            "max": 30,
            "min": 0,
            "orientation": "horizontal",
            "style": "IPY_MODEL_05ca20479faf44e8a188bf049f8a9578",
            "value": 30
          }
        },
        "17d9eefdc61a49b9925ce25f0cba4d9c": {
          "model_module": "@jupyter-widgets/controls",
          "model_module_version": "1.5.0",
          "model_name": "DescriptionStyleModel",
          "state": {
            "_model_module": "@jupyter-widgets/controls",
            "_model_module_version": "1.5.0",
            "_model_name": "DescriptionStyleModel",
            "_view_count": null,
            "_view_module": "@jupyter-widgets/base",
            "_view_module_version": "1.2.0",
            "_view_name": "StyleView",
            "description_width": ""
          }
        },
        "257e219cabf14e4387a9e468f1fddd99": {
          "model_module": "@jupyter-widgets/controls",
          "model_module_version": "1.5.0",
          "model_name": "ProgressStyleModel",
          "state": {
            "_model_module": "@jupyter-widgets/controls",
            "_model_module_version": "1.5.0",
            "_model_name": "ProgressStyleModel",
            "_view_count": null,
            "_view_module": "@jupyter-widgets/base",
            "_view_module_version": "1.2.0",
            "_view_name": "StyleView",
            "bar_color": null,
            "description_width": ""
          }
        },
        "28f5251c6da84c82b495a7d9728e0123": {
          "model_module": "@jupyter-widgets/controls",
          "model_module_version": "1.5.0",
          "model_name": "DescriptionStyleModel",
          "state": {
            "_model_module": "@jupyter-widgets/controls",
            "_model_module_version": "1.5.0",
            "_model_name": "DescriptionStyleModel",
            "_view_count": null,
            "_view_module": "@jupyter-widgets/base",
            "_view_module_version": "1.2.0",
            "_view_name": "StyleView",
            "description_width": ""
          }
        },
        "291a7ef42d4f4e9a8829d83e745a2959": {
          "model_module": "@jupyter-widgets/controls",
          "model_module_version": "1.5.0",
          "model_name": "HTMLModel",
          "state": {
            "_dom_classes": [],
            "_model_module": "@jupyter-widgets/controls",
            "_model_module_version": "1.5.0",
            "_model_name": "HTMLModel",
            "_view_count": null,
            "_view_module": "@jupyter-widgets/controls",
            "_view_module_version": "1.5.0",
            "_view_name": "HTMLView",
            "description": "",
            "description_tooltip": null,
            "layout": "IPY_MODEL_c15310c69c014eebae475dc1d96944e1",
            "placeholder": "​",
            "style": "IPY_MODEL_9465afdd41614e5691dac7ac2dcb2e76",
            "value": "Batches: 100%"
          }
        },
        "29cc1457fd9b4f13982185370f13bf40": {
          "model_module": "@jupyter-widgets/base",
          "model_module_version": "1.2.0",
          "model_name": "LayoutModel",
          "state": {
            "_model_module": "@jupyter-widgets/base",
            "_model_module_version": "1.2.0",
            "_model_name": "LayoutModel",
            "_view_count": null,
            "_view_module": "@jupyter-widgets/base",
            "_view_module_version": "1.2.0",
            "_view_name": "LayoutView",
            "align_content": null,
            "align_items": null,
            "align_self": null,
            "border": null,
            "bottom": null,
            "display": null,
            "flex": null,
            "flex_flow": null,
            "grid_area": null,
            "grid_auto_columns": null,
            "grid_auto_flow": null,
            "grid_auto_rows": null,
            "grid_column": null,
            "grid_gap": null,
            "grid_row": null,
            "grid_template_areas": null,
            "grid_template_columns": null,
            "grid_template_rows": null,
            "height": null,
            "justify_content": null,
            "justify_items": null,
            "left": null,
            "margin": null,
            "max_height": null,
            "max_width": null,
            "min_height": null,
            "min_width": null,
            "object_fit": null,
            "object_position": null,
            "order": null,
            "overflow": null,
            "overflow_x": null,
            "overflow_y": null,
            "padding": null,
            "right": null,
            "top": null,
            "visibility": null,
            "width": null
          }
        },
        "3257c1eb566a43748b0603b8510b4ec4": {
          "model_module": "@jupyter-widgets/controls",
          "model_module_version": "1.5.0",
          "model_name": "DescriptionStyleModel",
          "state": {
            "_model_module": "@jupyter-widgets/controls",
            "_model_module_version": "1.5.0",
            "_model_name": "DescriptionStyleModel",
            "_view_count": null,
            "_view_module": "@jupyter-widgets/base",
            "_view_module_version": "1.2.0",
            "_view_name": "StyleView",
            "description_width": ""
          }
        },
        "3af4039db2ae49d7bfb8955d4974e7fa": {
          "model_module": "@jupyter-widgets/controls",
          "model_module_version": "1.5.0",
          "model_name": "HBoxModel",
          "state": {
            "_dom_classes": [],
            "_model_module": "@jupyter-widgets/controls",
            "_model_module_version": "1.5.0",
            "_model_name": "HBoxModel",
            "_view_count": null,
            "_view_module": "@jupyter-widgets/controls",
            "_view_module_version": "1.5.0",
            "_view_name": "HBoxView",
            "box_style": "",
            "children": [
              "IPY_MODEL_291a7ef42d4f4e9a8829d83e745a2959",
              "IPY_MODEL_15ea29391a674d4595782259a66465f1",
              "IPY_MODEL_68ce06c3b38c4f34aabee60f1f0346f8"
            ],
            "layout": "IPY_MODEL_8395709e9fda4182886e288dce75feca"
          }
        },
        "3e77d7589bae490e92b99f50510c132e": {
          "model_module": "@jupyter-widgets/base",
          "model_module_version": "1.2.0",
          "model_name": "LayoutModel",
          "state": {
            "_model_module": "@jupyter-widgets/base",
            "_model_module_version": "1.2.0",
            "_model_name": "LayoutModel",
            "_view_count": null,
            "_view_module": "@jupyter-widgets/base",
            "_view_module_version": "1.2.0",
            "_view_name": "LayoutView",
            "align_content": null,
            "align_items": null,
            "align_self": null,
            "border": null,
            "bottom": null,
            "display": null,
            "flex": null,
            "flex_flow": null,
            "grid_area": null,
            "grid_auto_columns": null,
            "grid_auto_flow": null,
            "grid_auto_rows": null,
            "grid_column": null,
            "grid_gap": null,
            "grid_row": null,
            "grid_template_areas": null,
            "grid_template_columns": null,
            "grid_template_rows": null,
            "height": null,
            "justify_content": null,
            "justify_items": null,
            "left": null,
            "margin": null,
            "max_height": null,
            "max_width": null,
            "min_height": null,
            "min_width": null,
            "object_fit": null,
            "object_position": null,
            "order": null,
            "overflow": null,
            "overflow_x": null,
            "overflow_y": null,
            "padding": null,
            "right": null,
            "top": null,
            "visibility": null,
            "width": null
          }
        },
        "470f0c8e0923421bb9c3fa5353ef3810": {
          "model_module": "@jupyter-widgets/controls",
          "model_module_version": "1.5.0",
          "model_name": "FloatProgressModel",
          "state": {
            "_dom_classes": [],
            "_model_module": "@jupyter-widgets/controls",
            "_model_module_version": "1.5.0",
            "_model_name": "FloatProgressModel",
            "_view_count": null,
            "_view_module": "@jupyter-widgets/controls",
            "_view_module_version": "1.5.0",
            "_view_name": "ProgressView",
            "bar_style": "success",
            "description": "",
            "description_tooltip": null,
            "layout": "IPY_MODEL_5615aa3599954a85ad67aa5aa1cc9a21",
            "max": 53429,
            "min": 0,
            "orientation": "horizontal",
            "style": "IPY_MODEL_0944a7ef799d47d0b42297e8cdba67b8",
            "value": 53429
          }
        },
        "51d7e6c1feba422f825d20fb3c3e9005": {
          "model_module": "@jupyter-widgets/controls",
          "model_module_version": "1.5.0",
          "model_name": "HBoxModel",
          "state": {
            "_dom_classes": [],
            "_model_module": "@jupyter-widgets/controls",
            "_model_module_version": "1.5.0",
            "_model_name": "HBoxModel",
            "_view_count": null,
            "_view_module": "@jupyter-widgets/controls",
            "_view_module_version": "1.5.0",
            "_view_name": "HBoxView",
            "box_style": "",
            "children": [
              "IPY_MODEL_0fbeb77f85384b8cb62e64d124f2f103",
              "IPY_MODEL_de3fb491d2e34b0b8c9cae6a92df39e4",
              "IPY_MODEL_ddd8027bc1904b9a9911a94f7eddbf61"
            ],
            "layout": "IPY_MODEL_d06d6257c96c49679f8123d0bf769ae2"
          }
        },
        "5615aa3599954a85ad67aa5aa1cc9a21": {
          "model_module": "@jupyter-widgets/base",
          "model_module_version": "1.2.0",
          "model_name": "LayoutModel",
          "state": {
            "_model_module": "@jupyter-widgets/base",
            "_model_module_version": "1.2.0",
            "_model_name": "LayoutModel",
            "_view_count": null,
            "_view_module": "@jupyter-widgets/base",
            "_view_module_version": "1.2.0",
            "_view_name": "LayoutView",
            "align_content": null,
            "align_items": null,
            "align_self": null,
            "border": null,
            "bottom": null,
            "display": null,
            "flex": null,
            "flex_flow": null,
            "grid_area": null,
            "grid_auto_columns": null,
            "grid_auto_flow": null,
            "grid_auto_rows": null,
            "grid_column": null,
            "grid_gap": null,
            "grid_row": null,
            "grid_template_areas": null,
            "grid_template_columns": null,
            "grid_template_rows": null,
            "height": null,
            "justify_content": null,
            "justify_items": null,
            "left": null,
            "margin": null,
            "max_height": null,
            "max_width": null,
            "min_height": null,
            "min_width": null,
            "object_fit": null,
            "object_position": null,
            "order": null,
            "overflow": null,
            "overflow_x": null,
            "overflow_y": null,
            "padding": null,
            "right": null,
            "top": null,
            "visibility": null,
            "width": null
          }
        },
        "65ca1b015691427b8f63108e9b5b55fb": {
          "model_module": "@jupyter-widgets/controls",
          "model_module_version": "1.5.0",
          "model_name": "HTMLModel",
          "state": {
            "_dom_classes": [],
            "_model_module": "@jupyter-widgets/controls",
            "_model_module_version": "1.5.0",
            "_model_name": "HTMLModel",
            "_view_count": null,
            "_view_module": "@jupyter-widgets/controls",
            "_view_module_version": "1.5.0",
            "_view_name": "HTMLView",
            "description": "",
            "description_tooltip": null,
            "layout": "IPY_MODEL_ff3b7be8f84a40d0a8352cb4379b0c4a",
            "placeholder": "​",
            "style": "IPY_MODEL_28f5251c6da84c82b495a7d9728e0123",
            "value": " 432k/? [00:00&lt;00:00, 43.6MB/s]"
          }
        },
        "68ce06c3b38c4f34aabee60f1f0346f8": {
          "model_module": "@jupyter-widgets/controls",
          "model_module_version": "1.5.0",
          "model_name": "HTMLModel",
          "state": {
            "_dom_classes": [],
            "_model_module": "@jupyter-widgets/controls",
            "_model_module_version": "1.5.0",
            "_model_name": "HTMLModel",
            "_view_count": null,
            "_view_module": "@jupyter-widgets/controls",
            "_view_module_version": "1.5.0",
            "_view_name": "HTMLView",
            "description": "",
            "description_tooltip": null,
            "layout": "IPY_MODEL_d0aafa718cd44d04993a100c813c3e40",
            "placeholder": "​",
            "style": "IPY_MODEL_02249c63a5c247dc868431f536e45110",
            "value": " 30/30 [00:02&lt;00:00, 10.98it/s]"
          }
        },
        "74d4e51a28b647c3a9a576ffbce9c3d5": {
          "model_module": "@jupyter-widgets/base",
          "model_module_version": "1.2.0",
          "model_name": "LayoutModel",
          "state": {
            "_model_module": "@jupyter-widgets/base",
            "_model_module_version": "1.2.0",
            "_model_name": "LayoutModel",
            "_view_count": null,
            "_view_module": "@jupyter-widgets/base",
            "_view_module_version": "1.2.0",
            "_view_name": "LayoutView",
            "align_content": null,
            "align_items": null,
            "align_self": null,
            "border": null,
            "bottom": null,
            "display": null,
            "flex": null,
            "flex_flow": null,
            "grid_area": null,
            "grid_auto_columns": null,
            "grid_auto_flow": null,
            "grid_auto_rows": null,
            "grid_column": null,
            "grid_gap": null,
            "grid_row": null,
            "grid_template_areas": null,
            "grid_template_columns": null,
            "grid_template_rows": null,
            "height": null,
            "justify_content": null,
            "justify_items": null,
            "left": null,
            "margin": null,
            "max_height": null,
            "max_width": null,
            "min_height": null,
            "min_width": null,
            "object_fit": null,
            "object_position": null,
            "order": null,
            "overflow": null,
            "overflow_x": null,
            "overflow_y": null,
            "padding": null,
            "right": null,
            "top": null,
            "visibility": null,
            "width": null
          }
        },
        "8395709e9fda4182886e288dce75feca": {
          "model_module": "@jupyter-widgets/base",
          "model_module_version": "1.2.0",
          "model_name": "LayoutModel",
          "state": {
            "_model_module": "@jupyter-widgets/base",
            "_model_module_version": "1.2.0",
            "_model_name": "LayoutModel",
            "_view_count": null,
            "_view_module": "@jupyter-widgets/base",
            "_view_module_version": "1.2.0",
            "_view_name": "LayoutView",
            "align_content": null,
            "align_items": null,
            "align_self": null,
            "border": null,
            "bottom": null,
            "display": null,
            "flex": null,
            "flex_flow": null,
            "grid_area": null,
            "grid_auto_columns": null,
            "grid_auto_flow": null,
            "grid_auto_rows": null,
            "grid_column": null,
            "grid_gap": null,
            "grid_row": null,
            "grid_template_areas": null,
            "grid_template_columns": null,
            "grid_template_rows": null,
            "height": null,
            "justify_content": null,
            "justify_items": null,
            "left": null,
            "margin": null,
            "max_height": null,
            "max_width": null,
            "min_height": null,
            "min_width": null,
            "object_fit": null,
            "object_position": null,
            "order": null,
            "overflow": null,
            "overflow_x": null,
            "overflow_y": null,
            "padding": null,
            "right": null,
            "top": null,
            "visibility": null,
            "width": null
          }
        },
        "892c8dd6a8604c918cd983566c47f817": {
          "model_module": "@jupyter-widgets/base",
          "model_module_version": "1.2.0",
          "model_name": "LayoutModel",
          "state": {
            "_model_module": "@jupyter-widgets/base",
            "_model_module_version": "1.2.0",
            "_model_name": "LayoutModel",
            "_view_count": null,
            "_view_module": "@jupyter-widgets/base",
            "_view_module_version": "1.2.0",
            "_view_name": "LayoutView",
            "align_content": null,
            "align_items": null,
            "align_self": null,
            "border": null,
            "bottom": null,
            "display": null,
            "flex": null,
            "flex_flow": null,
            "grid_area": null,
            "grid_auto_columns": null,
            "grid_auto_flow": null,
            "grid_auto_rows": null,
            "grid_column": null,
            "grid_gap": null,
            "grid_row": null,
            "grid_template_areas": null,
            "grid_template_columns": null,
            "grid_template_rows": null,
            "height": null,
            "justify_content": null,
            "justify_items": null,
            "left": null,
            "margin": null,
            "max_height": null,
            "max_width": null,
            "min_height": null,
            "min_width": null,
            "object_fit": null,
            "object_position": null,
            "order": null,
            "overflow": null,
            "overflow_x": null,
            "overflow_y": null,
            "padding": null,
            "right": null,
            "top": null,
            "visibility": null,
            "width": null
          }
        },
        "8d4e2cc5b01d47ed821d3ba9e0f92712": {
          "model_module": "@jupyter-widgets/base",
          "model_module_version": "1.2.0",
          "model_name": "LayoutModel",
          "state": {
            "_model_module": "@jupyter-widgets/base",
            "_model_module_version": "1.2.0",
            "_model_name": "LayoutModel",
            "_view_count": null,
            "_view_module": "@jupyter-widgets/base",
            "_view_module_version": "1.2.0",
            "_view_name": "LayoutView",
            "align_content": null,
            "align_items": null,
            "align_self": null,
            "border": null,
            "bottom": null,
            "display": null,
            "flex": null,
            "flex_flow": null,
            "grid_area": null,
            "grid_auto_columns": null,
            "grid_auto_flow": null,
            "grid_auto_rows": null,
            "grid_column": null,
            "grid_gap": null,
            "grid_row": null,
            "grid_template_areas": null,
            "grid_template_columns": null,
            "grid_template_rows": null,
            "height": null,
            "justify_content": null,
            "justify_items": null,
            "left": null,
            "margin": null,
            "max_height": null,
            "max_width": null,
            "min_height": null,
            "min_width": null,
            "object_fit": null,
            "object_position": null,
            "order": null,
            "overflow": null,
            "overflow_x": null,
            "overflow_y": null,
            "padding": null,
            "right": null,
            "top": null,
            "visibility": null,
            "width": null
          }
        },
        "9465afdd41614e5691dac7ac2dcb2e76": {
          "model_module": "@jupyter-widgets/controls",
          "model_module_version": "1.5.0",
          "model_name": "DescriptionStyleModel",
          "state": {
            "_model_module": "@jupyter-widgets/controls",
            "_model_module_version": "1.5.0",
            "_model_name": "DescriptionStyleModel",
            "_view_count": null,
            "_view_module": "@jupyter-widgets/base",
            "_view_module_version": "1.2.0",
            "_view_name": "StyleView",
            "description_width": ""
          }
        },
        "a5251e366bac4550be8ddb5e29a4e7cd": {
          "model_module": "@jupyter-widgets/base",
          "model_module_version": "1.2.0",
          "model_name": "LayoutModel",
          "state": {
            "_model_module": "@jupyter-widgets/base",
            "_model_module_version": "1.2.0",
            "_model_name": "LayoutModel",
            "_view_count": null,
            "_view_module": "@jupyter-widgets/base",
            "_view_module_version": "1.2.0",
            "_view_name": "LayoutView",
            "align_content": null,
            "align_items": null,
            "align_self": null,
            "border": null,
            "bottom": null,
            "display": null,
            "flex": null,
            "flex_flow": null,
            "grid_area": null,
            "grid_auto_columns": null,
            "grid_auto_flow": null,
            "grid_auto_rows": null,
            "grid_column": null,
            "grid_gap": null,
            "grid_row": null,
            "grid_template_areas": null,
            "grid_template_columns": null,
            "grid_template_rows": null,
            "height": null,
            "justify_content": null,
            "justify_items": null,
            "left": null,
            "margin": null,
            "max_height": null,
            "max_width": null,
            "min_height": null,
            "min_width": null,
            "object_fit": null,
            "object_position": null,
            "order": null,
            "overflow": null,
            "overflow_x": null,
            "overflow_y": null,
            "padding": null,
            "right": null,
            "top": null,
            "visibility": null,
            "width": null
          }
        },
        "aab05d61550a4f028ca78b24c162643a": {
          "model_module": "@jupyter-widgets/base",
          "model_module_version": "1.2.0",
          "model_name": "LayoutModel",
          "state": {
            "_model_module": "@jupyter-widgets/base",
            "_model_module_version": "1.2.0",
            "_model_name": "LayoutModel",
            "_view_count": null,
            "_view_module": "@jupyter-widgets/base",
            "_view_module_version": "1.2.0",
            "_view_name": "LayoutView",
            "align_content": null,
            "align_items": null,
            "align_self": null,
            "border": null,
            "bottom": null,
            "display": null,
            "flex": null,
            "flex_flow": null,
            "grid_area": null,
            "grid_auto_columns": null,
            "grid_auto_flow": null,
            "grid_auto_rows": null,
            "grid_column": null,
            "grid_gap": null,
            "grid_row": null,
            "grid_template_areas": null,
            "grid_template_columns": null,
            "grid_template_rows": null,
            "height": null,
            "justify_content": null,
            "justify_items": null,
            "left": null,
            "margin": null,
            "max_height": null,
            "max_width": null,
            "min_height": null,
            "min_width": null,
            "object_fit": null,
            "object_position": null,
            "order": null,
            "overflow": null,
            "overflow_x": null,
            "overflow_y": null,
            "padding": null,
            "right": null,
            "top": null,
            "visibility": null,
            "width": null
          }
        },
        "c15310c69c014eebae475dc1d96944e1": {
          "model_module": "@jupyter-widgets/base",
          "model_module_version": "1.2.0",
          "model_name": "LayoutModel",
          "state": {
            "_model_module": "@jupyter-widgets/base",
            "_model_module_version": "1.2.0",
            "_model_name": "LayoutModel",
            "_view_count": null,
            "_view_module": "@jupyter-widgets/base",
            "_view_module_version": "1.2.0",
            "_view_name": "LayoutView",
            "align_content": null,
            "align_items": null,
            "align_self": null,
            "border": null,
            "bottom": null,
            "display": null,
            "flex": null,
            "flex_flow": null,
            "grid_area": null,
            "grid_auto_columns": null,
            "grid_auto_flow": null,
            "grid_auto_rows": null,
            "grid_column": null,
            "grid_gap": null,
            "grid_row": null,
            "grid_template_areas": null,
            "grid_template_columns": null,
            "grid_template_rows": null,
            "height": null,
            "justify_content": null,
            "justify_items": null,
            "left": null,
            "margin": null,
            "max_height": null,
            "max_width": null,
            "min_height": null,
            "min_width": null,
            "object_fit": null,
            "object_position": null,
            "order": null,
            "overflow": null,
            "overflow_x": null,
            "overflow_y": null,
            "padding": null,
            "right": null,
            "top": null,
            "visibility": null,
            "width": null
          }
        },
        "c8181c0611584e458d9140d498707492": {
          "model_module": "@jupyter-widgets/controls",
          "model_module_version": "1.5.0",
          "model_name": "DescriptionStyleModel",
          "state": {
            "_model_module": "@jupyter-widgets/controls",
            "_model_module_version": "1.5.0",
            "_model_name": "DescriptionStyleModel",
            "_view_count": null,
            "_view_module": "@jupyter-widgets/base",
            "_view_module_version": "1.2.0",
            "_view_name": "StyleView",
            "description_width": ""
          }
        },
        "d06d6257c96c49679f8123d0bf769ae2": {
          "model_module": "@jupyter-widgets/base",
          "model_module_version": "1.2.0",
          "model_name": "LayoutModel",
          "state": {
            "_model_module": "@jupyter-widgets/base",
            "_model_module_version": "1.2.0",
            "_model_name": "LayoutModel",
            "_view_count": null,
            "_view_module": "@jupyter-widgets/base",
            "_view_module_version": "1.2.0",
            "_view_name": "LayoutView",
            "align_content": null,
            "align_items": null,
            "align_self": null,
            "border": null,
            "bottom": null,
            "display": null,
            "flex": null,
            "flex_flow": null,
            "grid_area": null,
            "grid_auto_columns": null,
            "grid_auto_flow": null,
            "grid_auto_rows": null,
            "grid_column": null,
            "grid_gap": null,
            "grid_row": null,
            "grid_template_areas": null,
            "grid_template_columns": null,
            "grid_template_rows": null,
            "height": null,
            "justify_content": null,
            "justify_items": null,
            "left": null,
            "margin": null,
            "max_height": null,
            "max_width": null,
            "min_height": null,
            "min_width": null,
            "object_fit": null,
            "object_position": null,
            "order": null,
            "overflow": null,
            "overflow_x": null,
            "overflow_y": null,
            "padding": null,
            "right": null,
            "top": null,
            "visibility": null,
            "width": null
          }
        },
        "d0aafa718cd44d04993a100c813c3e40": {
          "model_module": "@jupyter-widgets/base",
          "model_module_version": "1.2.0",
          "model_name": "LayoutModel",
          "state": {
            "_model_module": "@jupyter-widgets/base",
            "_model_module_version": "1.2.0",
            "_model_name": "LayoutModel",
            "_view_count": null,
            "_view_module": "@jupyter-widgets/base",
            "_view_module_version": "1.2.0",
            "_view_name": "LayoutView",
            "align_content": null,
            "align_items": null,
            "align_self": null,
            "border": null,
            "bottom": null,
            "display": null,
            "flex": null,
            "flex_flow": null,
            "grid_area": null,
            "grid_auto_columns": null,
            "grid_auto_flow": null,
            "grid_auto_rows": null,
            "grid_column": null,
            "grid_gap": null,
            "grid_row": null,
            "grid_template_areas": null,
            "grid_template_columns": null,
            "grid_template_rows": null,
            "height": null,
            "justify_content": null,
            "justify_items": null,
            "left": null,
            "margin": null,
            "max_height": null,
            "max_width": null,
            "min_height": null,
            "min_width": null,
            "object_fit": null,
            "object_position": null,
            "order": null,
            "overflow": null,
            "overflow_x": null,
            "overflow_y": null,
            "padding": null,
            "right": null,
            "top": null,
            "visibility": null,
            "width": null
          }
        },
        "d2014651641c4f05b3632e31a149883f": {
          "model_module": "@jupyter-widgets/controls",
          "model_module_version": "1.5.0",
          "model_name": "DescriptionStyleModel",
          "state": {
            "_model_module": "@jupyter-widgets/controls",
            "_model_module_version": "1.5.0",
            "_model_name": "DescriptionStyleModel",
            "_view_count": null,
            "_view_module": "@jupyter-widgets/base",
            "_view_module_version": "1.2.0",
            "_view_name": "StyleView",
            "description_width": ""
          }
        },
        "dd25ba84aca04b4b927eadd8708a9195": {
          "model_module": "@jupyter-widgets/controls",
          "model_module_version": "1.5.0",
          "model_name": "HBoxModel",
          "state": {
            "_dom_classes": [],
            "_model_module": "@jupyter-widgets/controls",
            "_model_module_version": "1.5.0",
            "_model_name": "HBoxModel",
            "_view_count": null,
            "_view_module": "@jupyter-widgets/controls",
            "_view_module_version": "1.5.0",
            "_view_name": "HBoxView",
            "box_style": "",
            "children": [
              "IPY_MODEL_dd558c7095254a5e841d34d092c234e3",
              "IPY_MODEL_f27e447c96ea4ce4b6a15fef69421643",
              "IPY_MODEL_65ca1b015691427b8f63108e9b5b55fb"
            ],
            "layout": "IPY_MODEL_0d031768ecb244a1adf1df99e2bff2bd"
          }
        },
        "dd558c7095254a5e841d34d092c234e3": {
          "model_module": "@jupyter-widgets/controls",
          "model_module_version": "1.5.0",
          "model_name": "HTMLModel",
          "state": {
            "_dom_classes": [],
            "_model_module": "@jupyter-widgets/controls",
            "_model_module_version": "1.5.0",
            "_model_name": "HTMLModel",
            "_view_count": null,
            "_view_module": "@jupyter-widgets/controls",
            "_view_module_version": "1.5.0",
            "_view_name": "HTMLView",
            "description": "",
            "description_tooltip": null,
            "layout": "IPY_MODEL_aab05d61550a4f028ca78b24c162643a",
            "placeholder": "​",
            "style": "IPY_MODEL_d2014651641c4f05b3632e31a149883f",
            "value": "Downloading https://raw.githubusercontent.com/stanfordnlp/stanza-resources/main/resources_1.10.0.json: "
          }
        },
        "ddd8027bc1904b9a9911a94f7eddbf61": {
          "model_module": "@jupyter-widgets/controls",
          "model_module_version": "1.5.0",
          "model_name": "HTMLModel",
          "state": {
            "_dom_classes": [],
            "_model_module": "@jupyter-widgets/controls",
            "_model_module_version": "1.5.0",
            "_model_name": "HTMLModel",
            "_view_count": null,
            "_view_module": "@jupyter-widgets/controls",
            "_view_module_version": "1.5.0",
            "_view_name": "HTMLView",
            "description": "",
            "description_tooltip": null,
            "layout": "IPY_MODEL_892c8dd6a8604c918cd983566c47f817",
            "placeholder": "​",
            "style": "IPY_MODEL_c8181c0611584e458d9140d498707492",
            "value": " 4/4 [00:20&lt;00:00,  5.01s/it]"
          }
        },
        "de3fb491d2e34b0b8c9cae6a92df39e4": {
          "model_module": "@jupyter-widgets/controls",
          "model_module_version": "1.5.0",
          "model_name": "FloatProgressModel",
          "state": {
            "_dom_classes": [],
            "_model_module": "@jupyter-widgets/controls",
            "_model_module_version": "1.5.0",
            "_model_name": "FloatProgressModel",
            "_view_count": null,
            "_view_module": "@jupyter-widgets/controls",
            "_view_module_version": "1.5.0",
            "_view_name": "ProgressView",
            "bar_style": "success",
            "description": "",
            "description_tooltip": null,
            "layout": "IPY_MODEL_3e77d7589bae490e92b99f50510c132e",
            "max": 4,
            "min": 0,
            "orientation": "horizontal",
            "style": "IPY_MODEL_257e219cabf14e4387a9e468f1fddd99",
            "value": 4
          }
        },
        "e39501ce6495439d862651f1bef8db8f": {
          "model_module": "@jupyter-widgets/base",
          "model_module_version": "1.2.0",
          "model_name": "LayoutModel",
          "state": {
            "_model_module": "@jupyter-widgets/base",
            "_model_module_version": "1.2.0",
            "_model_name": "LayoutModel",
            "_view_count": null,
            "_view_module": "@jupyter-widgets/base",
            "_view_module_version": "1.2.0",
            "_view_name": "LayoutView",
            "align_content": null,
            "align_items": null,
            "align_self": null,
            "border": null,
            "bottom": null,
            "display": null,
            "flex": null,
            "flex_flow": null,
            "grid_area": null,
            "grid_auto_columns": null,
            "grid_auto_flow": null,
            "grid_auto_rows": null,
            "grid_column": null,
            "grid_gap": null,
            "grid_row": null,
            "grid_template_areas": null,
            "grid_template_columns": null,
            "grid_template_rows": null,
            "height": null,
            "justify_content": null,
            "justify_items": null,
            "left": null,
            "margin": null,
            "max_height": null,
            "max_width": null,
            "min_height": null,
            "min_width": null,
            "object_fit": null,
            "object_position": null,
            "order": null,
            "overflow": null,
            "overflow_x": null,
            "overflow_y": null,
            "padding": null,
            "right": null,
            "top": null,
            "visibility": null,
            "width": null
          }
        },
        "ebc7901d953e43fdacecb47bc9d62a60": {
          "model_module": "@jupyter-widgets/controls",
          "model_module_version": "1.5.0",
          "model_name": "ProgressStyleModel",
          "state": {
            "_model_module": "@jupyter-widgets/controls",
            "_model_module_version": "1.5.0",
            "_model_name": "ProgressStyleModel",
            "_view_count": null,
            "_view_module": "@jupyter-widgets/base",
            "_view_module_version": "1.2.0",
            "_view_name": "StyleView",
            "bar_color": null,
            "description_width": ""
          }
        },
        "f27e447c96ea4ce4b6a15fef69421643": {
          "model_module": "@jupyter-widgets/controls",
          "model_module_version": "1.5.0",
          "model_name": "FloatProgressModel",
          "state": {
            "_dom_classes": [],
            "_model_module": "@jupyter-widgets/controls",
            "_model_module_version": "1.5.0",
            "_model_name": "FloatProgressModel",
            "_view_count": null,
            "_view_module": "@jupyter-widgets/controls",
            "_view_module_version": "1.5.0",
            "_view_name": "ProgressView",
            "bar_style": "success",
            "description": "",
            "description_tooltip": null,
            "layout": "IPY_MODEL_74d4e51a28b647c3a9a576ffbce9c3d5",
            "max": 53429,
            "min": 0,
            "orientation": "horizontal",
            "style": "IPY_MODEL_ebc7901d953e43fdacecb47bc9d62a60",
            "value": 53429
          }
        },
        "f37674d0883e4d7d8b4b8035e14c64e5": {
          "model_module": "@jupyter-widgets/controls",
          "model_module_version": "1.5.0",
          "model_name": "HTMLModel",
          "state": {
            "_dom_classes": [],
            "_model_module": "@jupyter-widgets/controls",
            "_model_module_version": "1.5.0",
            "_model_name": "HTMLModel",
            "_view_count": null,
            "_view_module": "@jupyter-widgets/controls",
            "_view_module_version": "1.5.0",
            "_view_name": "HTMLView",
            "description": "",
            "description_tooltip": null,
            "layout": "IPY_MODEL_a5251e366bac4550be8ddb5e29a4e7cd",
            "placeholder": "​",
            "style": "IPY_MODEL_3257c1eb566a43748b0603b8510b4ec4",
            "value": " 432k/? [00:00&lt;00:00, 32.3MB/s]"
          }
        },
        "fb3f35f847a74c348ac4b12b7bfdc0b2": {
          "model_module": "@jupyter-widgets/controls",
          "model_module_version": "1.5.0",
          "model_name": "HBoxModel",
          "state": {
            "_dom_classes": [],
            "_model_module": "@jupyter-widgets/controls",
            "_model_module_version": "1.5.0",
            "_model_name": "HBoxModel",
            "_view_count": null,
            "_view_module": "@jupyter-widgets/controls",
            "_view_module_version": "1.5.0",
            "_view_name": "HBoxView",
            "box_style": "",
            "children": [
              "IPY_MODEL_0f1ccd22962d42fd9d8bc5680ec6fdb3",
              "IPY_MODEL_470f0c8e0923421bb9c3fa5353ef3810",
              "IPY_MODEL_f37674d0883e4d7d8b4b8035e14c64e5"
            ],
            "layout": "IPY_MODEL_e39501ce6495439d862651f1bef8db8f"
          }
        },
        "ff3b7be8f84a40d0a8352cb4379b0c4a": {
          "model_module": "@jupyter-widgets/base",
          "model_module_version": "1.2.0",
          "model_name": "LayoutModel",
          "state": {
            "_model_module": "@jupyter-widgets/base",
            "_model_module_version": "1.2.0",
            "_model_name": "LayoutModel",
            "_view_count": null,
            "_view_module": "@jupyter-widgets/base",
            "_view_module_version": "1.2.0",
            "_view_name": "LayoutView",
            "align_content": null,
            "align_items": null,
            "align_self": null,
            "border": null,
            "bottom": null,
            "display": null,
            "flex": null,
            "flex_flow": null,
            "grid_area": null,
            "grid_auto_columns": null,
            "grid_auto_flow": null,
            "grid_auto_rows": null,
            "grid_column": null,
            "grid_gap": null,
            "grid_row": null,
            "grid_template_areas": null,
            "grid_template_columns": null,
            "grid_template_rows": null,
            "height": null,
            "justify_content": null,
            "justify_items": null,
            "left": null,
            "margin": null,
            "max_height": null,
            "max_width": null,
            "min_height": null,
            "min_width": null,
            "object_fit": null,
            "object_position": null,
            "order": null,
            "overflow": null,
            "overflow_x": null,
            "overflow_y": null,
            "padding": null,
            "right": null,
            "top": null,
            "visibility": null,
            "width": null
          }
        }
      }
    }
  },
  "nbformat": 4,
  "nbformat_minor": 5
}
